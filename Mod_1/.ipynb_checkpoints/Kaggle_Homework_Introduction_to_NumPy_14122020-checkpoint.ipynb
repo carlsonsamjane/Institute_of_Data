{
 "cells": [
  {
   "cell_type": "markdown",
   "metadata": {},
   "source": [
    "# Introduction to Numpy\n",
    "\n",
    "#### NumPy is a package for scientific computing. It is a Python language implementation which includes: The powerful N-dimensional array structure, sophisticated functions, Tools that can be integrated into C/C++ and Fortran code, Linear algebra, Fourier transform and random number features. In addition to being used for scientific computing, NumPy also can be used as an efficient multi-dimensional container for general data. Because it can work with any type of data, NumPy can be integrated into multiple types of databases seamlessly and efficiently."
   ]
  },
  {
   "cell_type": "code",
   "execution_count": 1,
   "metadata": {},
   "outputs": [
    {
     "name": "stdout",
     "output_type": "stream",
     "text": [
      "Basic NumPy array:\n",
      "a:  [1 2 3]\n",
      "b:  [[1 2 3]\n",
      " [4 5 6]]\n",
      "Note: Numpy arrays require square brackets\n"
     ]
    }
   ],
   "source": [
    "#First we need to import the packages that we will be using (NumPy)\n",
    "import numpy as np\n",
    "\n",
    "print(\"Basic NumPy array:\")\n",
    "a = np.array([1, 2, 3])\n",
    "b = np.array([(1,2,3), (4,5,6)])\n",
    "\n",
    "print(\"a: \",a)\n",
    "print(\"b: \",b)\n",
    "print(\"Note: Numpy arrays require square brackets\")"
   ]
  },
  {
   "cell_type": "code",
   "execution_count": 20,
   "metadata": {},
   "outputs": [
    {
     "name": "stdout",
     "output_type": "stream",
     "text": [
      "ndarray: NumPy's array class is ndarray, the features of ndarray are as follows:\n",
      "a=\n",
      "[1 2 3]\n",
      "a's ndim 1\n",
      "a's shape (3,)\n",
      "a's size 3\n",
      "a's dtype int32\n",
      "a's itemsize 4\n",
      "\n",
      "b=\n",
      "[[1 2 3]\n",
      " [4 5 6]]\n",
      "b's ndim 2\n",
      "b's shape (2, 3)\n",
      "b's size 6\n",
      "b's dtype int32\n",
      "b's itemsize 4\n"
     ]
    }
   ],
   "source": [
    "print(\"ndarray: NumPy's array class is ndarray, the features of ndarray are as follows:\")\n",
    "a = np.array([1, 2, 3])\n",
    "b = np.array([(1,2,3), (4,5,6)])\n",
    "\n",
    "print('a=')\n",
    "print(a)\n",
    "print(\"a's ndim {}\".format(a.ndim))\n",
    "print(\"a's shape {}\".format(a.shape))\n",
    "print(\"a's size {}\".format(a.size))\n",
    "print(\"a's dtype {}\".format(a.dtype))\n",
    "print(\"a's itemsize {}\".format(a.itemsize))\n",
    "\n",
    "print('')\n",
    "\n",
    "print('b=')\n",
    "print(b)\n",
    "print(\"b's ndim {}\".format(b.ndim))\n",
    "print(\"b's shape {}\".format(b.shape))\n",
    "print(\"b's size {}\".format(b.size))\n",
    "print(\"b's dtype {}\".format(b.dtype))\n",
    "print(\"b's itemsize {}\".format(b.itemsize))"
   ]
  },
  {
   "cell_type": "code",
   "execution_count": 22,
   "metadata": {},
   "outputs": [
    {
     "name": "stdout",
     "output_type": "stream",
     "text": [
      "Create a specific array\n",
      "Often in projects we will need some specific data, and some helper functions are provided in NumPy:\n",
      "zeros: used to create an array whose elements are all 0\n",
      "ones: used to create an array whose elements are all 1\n",
      "empty: used to create uninitialized data. so the content is undefined.\n",
      "arange: used to create an array by specifying the scope and step-length\n",
      "linespace: used to create an array by specifying the range and the number of elements\n",
      "random: used to generate random numbers\n"
     ]
    }
   ],
   "source": [
    "print(\"Create a specific array\")\n",
    "print(\"Often in projects we will need some specific data, and some helper functions are provided in NumPy:\")\n",
    "print(\"zeros: used to create an array whose elements are all 0\")\n",
    "print(\"ones: used to create an array whose elements are all 1\")\n",
    "print(\"empty: used to create uninitialized data. so the content is undefined.\")\n",
    "print(\"arange: used to create an array by specifying the scope and step-length\")\n",
    "print(\"linespace: used to create an array by specifying the range and the number of elements\")\n",
    "print(\"random: used to generate random numbers\")"
   ]
  },
  {
   "cell_type": "code",
   "execution_count": 23,
   "metadata": {},
   "outputs": [
    {
     "name": "stdout",
     "output_type": "stream",
     "text": [
      "for example:\n",
      "np.zeros((2,3)= \n",
      "[[0. 0. 0.]\n",
      " [0. 0. 0.]]\n",
      "\n",
      "np.ones((2,3))= \n",
      "[[1. 1. 1.]\n",
      " [1. 1. 1.]]\n",
      "\n",
      "np.empty((2,3))= \n",
      "[[1. 1. 1.]\n",
      " [1. 1. 1.]]\n",
      "\n",
      "np.arange(1, 2, 0.3)= \n",
      "[1.  1.3 1.6 1.9]\n",
      "\n",
      "np.linspace(1, 2, 7)= \n",
      "[1.         1.16666667 1.33333333 1.5        1.66666667 1.83333333\n",
      " 2.        ]\n",
      "\n",
      "np.random.random((2,3))= \n",
      "[[0.07799209 0.91873138 0.79410587]\n",
      " [0.9575347  0.29200715 0.53315633]]\n",
      "\n"
     ]
    }
   ],
   "source": [
    "print(\"for example:\")\n",
    "a = np.zeros((2,3))\n",
    "print('np.zeros((2,3)= \\n{}\\n'.format(a))\n",
    "\n",
    "b = np.ones((2,3))\n",
    "print('np.ones((2,3))= \\n{}\\n'.format(b))\n",
    "\n",
    "c = np.empty((2,3))\n",
    "print('np.empty((2,3))= \\n{}\\n'.format(c))\n",
    "\n",
    "d = np.arange(1, 2, 0.3)\n",
    "print('np.arange(1, 2, 0.3)= \\n{}\\n'.format(d))\n",
    "\n",
    "e = np.linspace(1, 2, 7)\n",
    "print('np.linspace(1, 2, 7)= \\n{}\\n'.format(e))\n",
    "\n",
    "f = np.random.random((2,3))\n",
    "print('np.random.random((2,3))= \\n{}\\n'.format(f))"
   ]
  },
  {
   "cell_type": "code",
   "execution_count": 24,
   "metadata": {},
   "outputs": [
    {
     "name": "stdout",
     "output_type": "stream",
     "text": [
      "NumPy shape and operation\n",
      "In addition to generating an array, after we have held some data, we may need to generate some new data structures based on the existing array.\n",
      "For example:\n",
      "zero_line = \n",
      "[[0. 0. 0.]]\n",
      "\n",
      "one_column = \n",
      "[[1.]\n",
      " [1.]\n",
      " [1.]]\n",
      "\n",
      "a = \n",
      "[[1 2 3]\n",
      " [4 5 6]]\n",
      "\n",
      "b = \n",
      "[11 12 13 14 15 16 17 18 19]\n",
      "\n"
     ]
    }
   ],
   "source": [
    "print(\"NumPy shape and operation\")\n",
    "print(\"In addition to generating an array, after we have held some data, we may need to generate some new data structures based on the existing array.\")\n",
    "print(\"For example:\")\n",
    "zero_line = np.zeros((1,3))\n",
    "one_column = np.ones((3,1))\n",
    "print(\"zero_line = \\n{}\\n\".format(zero_line))\n",
    "print(\"one_column = \\n{}\\n\".format(one_column))\n",
    "\n",
    "a = np.array([(1,2,3), (4,5,6)])\n",
    "b = np.arange(11, 20)\n",
    "print(\"a = \\n{}\\n\".format(a))\n",
    "print(\"b = \\n{}\\n\".format(b))"
   ]
  },
  {
   "cell_type": "code",
   "execution_count": 29,
   "metadata": {},
   "outputs": [
    {
     "name": "stdout",
     "output_type": "stream",
     "text": [
      "The array b is a one-dimensional array originally, and we resize it into a matrix of 3 rows and 3 columns by the reshape method:\n",
      "b.reshape(3, -1) = \n",
      "[[11 12 13]\n",
      " [14 15 16]\n",
      " [17 18 19]]\n",
      "\n",
      "The second parameter here is set to -1, which means that it'll be determined based on actual conditions automatically. Since the array has 9 elements originally, the matrix after being resized is 3X3. The code output is as follows:\n"
     ]
    },
    {
     "data": {
      "text/plain": [
       "array([[11, 12, 13],\n",
       "       [14, 15, 16],\n",
       "       [17, 18, 19]])"
      ]
     },
     "execution_count": 29,
     "metadata": {},
     "output_type": "execute_result"
    }
   ],
   "source": [
    "print(\"The array b is a one-dimensional array originally, and we resize it into a matrix of 3 rows and 3 columns by the reshape method:\")\n",
    "b = b.reshape(3, -1)\n",
    "print(\"b.reshape(3, -1) = \\n{}\\n\".format(b))\n",
    "print(\"The second parameter here is set to -1, which means that it'll be determined based on actual conditions automatically. Since the array has 9 elements originally, the matrix after being resized is 3X3. The code output is as follows:\")\n",
    "b.reshape(3, -1)"
   ]
  },
  {
   "cell_type": "code",
   "execution_count": 30,
   "metadata": {},
   "outputs": [
    {
     "name": "stdout",
     "output_type": "stream",
     "text": [
      "Stacking arrays vertically with vsatck:\n",
      "c = np.vstack((a,b, zero_line)) = \n",
      "[[ 1.  2.  3.]\n",
      " [ 4.  5.  6.]\n",
      " [11. 12. 13.]\n",
      " [14. 15. 16.]\n",
      " [17. 18. 19.]\n",
      " [ 0.  0.  0.]]\n",
      "\n"
     ]
    }
   ],
   "source": [
    "print(\"Stacking arrays vertically with vsatck:\")\n",
    "c = np.vstack((a, b, zero_line))\n",
    "print(\"c = np.vstack((a,b, zero_line)) = \\n{}\\n\".format(c))"
   ]
  },
  {
   "cell_type": "code",
   "execution_count": 31,
   "metadata": {},
   "outputs": [
    {
     "name": "stdout",
     "output_type": "stream",
     "text": [
      "Stacking arrays horizontally with hstack:\n",
      "hstack first requires a restructure of the data:\n",
      "a.reshape(3, 2) = \n",
      "[[1 2]\n",
      " [3 4]\n",
      " [5 6]]\n",
      "\n",
      "d = np.hstack((a,b, one_column)) = \n",
      "[[ 1.  2. 11. 12. 13.  1.]\n",
      " [ 3.  4. 14. 15. 16.  1.]\n",
      " [ 5.  6. 17. 18. 19.  1.]]\n",
      "\n"
     ]
    }
   ],
   "source": [
    "print(\"Stacking arrays horizontally with hstack:\")\n",
    "print(\"hstack first requires a restructure of the data:\")\n",
    "a = a.reshape(3, 2)\n",
    "print(\"a.reshape(3, 2) = \\n{}\\n\".format(a))\n",
    "\n",
    "d = np.hstack((a, b, one_column))\n",
    "print(\"d = np.hstack((a,b, one_column)) = \\n{}\\n\".format(d))"
   ]
  },
  {
   "cell_type": "code",
   "execution_count": 32,
   "metadata": {},
   "outputs": [
    {
     "name": "stdout",
     "output_type": "stream",
     "text": [
      "Splitting the array into three horizontal arrays\n",
      "e = np.hsplit(d, 3) = \n",
      "[array([[1., 2.],\n",
      "       [3., 4.],\n",
      "       [5., 6.]]), array([[11., 12.],\n",
      "       [14., 15.],\n",
      "       [17., 18.]]), array([[13.,  1.],\n",
      "       [16.,  1.],\n",
      "       [19.,  1.]])]\n",
      "\n",
      "e[1] = \n",
      "[[11. 12.]\n",
      " [14. 15.]\n",
      " [17. 18.]]\n",
      "\n"
     ]
    }
   ],
   "source": [
    "print(\"Splitting the array into three horizontal arrays\")\n",
    "e = np.hsplit(d, 3) # Split a into 3\n",
    "print(\"e = np.hsplit(d, 3) = \\n{}\\n\".format(e))\n",
    "print(\"e[1] = \\n{}\\n\".format(e[1]))"
   ]
  },
  {
   "cell_type": "code",
   "execution_count": 33,
   "metadata": {},
   "outputs": [
    {
     "name": "stdout",
     "output_type": "stream",
     "text": [
      "In addition to specifying number to split the array evenly, we can also specify the number of columns to split. The following is to split the array d from the first column and the third column:\n",
      "f = np.hsplit(d, (1, 3)) = \n",
      "[array([[1.],\n",
      "       [3.],\n",
      "       [5.]]), array([[ 2., 11.],\n",
      "       [ 4., 14.],\n",
      "       [ 6., 17.]]), array([[12., 13.,  1.],\n",
      "       [15., 16.,  1.],\n",
      "       [18., 19.,  1.]])]\n",
      "\n"
     ]
    }
   ],
   "source": [
    "print(\"In addition to specifying number to split the array evenly, we can also specify the number of columns to split. The following is to split the array d from the first column and the third column:\")\n",
    "f = np.hsplit(d, (1, 3)) # # Split a after the 1st and the 3rd column\n",
    "print(\"f = np.hsplit(d, (1, 3)) = \\n{}\\n\".format(f))"
   ]
  },
  {
   "cell_type": "code",
   "execution_count": 35,
   "metadata": {},
   "outputs": [
    {
     "name": "stdout",
     "output_type": "stream",
     "text": [
      "Finally, we split the array d in the vertical direction. Similarly, if the specified number cannot make the array be split evenly, it will fail:\n",
      "np.hsplit(d, 2) = \n",
      "[array([[ 1.,  2., 11., 12., 13.,  1.]]), array([[ 3.,  4., 14., 15., 16.,  1.]]), array([[ 5.,  6., 17., 18., 19.,  1.]])]\n",
      "\n"
     ]
    }
   ],
   "source": [
    "print(\"Finally, we split the array d in the vertical direction. Similarly, if the specified number cannot make the array be split evenly, it will fail:\")\n",
    "g = np.vsplit(d, 3)\n",
    "print(\"np.hsplit(d, 2) = \\n{}\\n\".format(g))"
   ]
  },
  {
   "cell_type": "code",
   "execution_count": 37,
   "metadata": {},
   "outputs": [
    {
     "name": "stdout",
     "output_type": "stream",
     "text": [
      "Index: accessing data in the array\n",
      "Basically, we can specify the subscripts by array[index] to access the elements of the array.\n",
      "base_data\n",
      "=[100 101 102 103 104 105 106 107 108 109 110 111 112 113 114 115 116 117\n",
      " 118 119 120 121 122 123 124 125 126 127 128 129 130 131 132 133 134 135\n",
      " 136 137 138 139 140 141 142 143 144 145 146 147 148 149 150 151 152 153\n",
      " 154 155 156 157 158 159 160 161 162 163 164 165 166 167 168 169 170 171\n",
      " 172 173 174 175 176 177 178 179 180 181 182 183 184 185 186 187 188 189\n",
      " 190 191 192 193 194 195 196 197 198 199]\n",
      "\n",
      "base_data[10] = 110\n",
      "\n",
      "Remember: index numbers start at zero\n"
     ]
    }
   ],
   "source": [
    "print(\"Index: accessing data in the array\")\n",
    "print(\"Basically, we can specify the subscripts by array[index] to access the elements of the array.\")\n",
    "base_data = np.arange(100, 200)\n",
    "print(\"base_data\\n={}\\n\".format(base_data))\n",
    "\n",
    "print(\"base_data[10] = {}\\n\".format(base_data[10]))\n",
    "print(\"Remember: index numbers start at zero\")"
   ]
  },
  {
   "cell_type": "code",
   "execution_count": 38,
   "metadata": {},
   "outputs": [
    {
     "name": "stdout",
     "output_type": "stream",
     "text": [
      "In NumPy, we can create an array containing several subscripts to get the elements in the target array. For example:\n",
      "base_data[every_five] = \n",
      "[100 105 110 115 120 125 130 135 140 145 150 155 160 165 170 175 180 185\n",
      " 190 195]\n",
      "\n"
     ]
    }
   ],
   "source": [
    "print(\"In NumPy, we can create an array containing several subscripts to get the elements in the target array. For example:\")\n",
    "every_five = np.arange(0, 100, 5)\n",
    "print(\"base_data[every_five] = \\n{}\\n\".format(\n",
    "    base_data[every_five]))"
   ]
  },
  {
   "cell_type": "code",
   "execution_count": 39,
   "metadata": {},
   "outputs": [
    {
     "name": "stdout",
     "output_type": "stream",
     "text": [
      "The subscript array can be one-dimensional, or multi-dimensional. Let's suppose that we want to get a 2X2 matrix whose content comes from the four subscripts of 1, 2, 10, and 20 in the target array, so the code can be written:\n",
      "a = \n",
      "[[ 1  2]\n",
      " [10 20]]\n",
      "\n",
      "base_data[a] = \n",
      "[[101 102]\n",
      " [110 120]]\n",
      "\n"
     ]
    }
   ],
   "source": [
    "print(\"The subscript array can be one-dimensional, or multi-dimensional. Let's suppose that we want to get a 2X2 matrix whose content comes from the four subscripts of 1, 2, 10, and 20 in the target array, so the code can be written:\")\n",
    "a = np.array([(1,2), (10,20)])\n",
    "print(\"a = \\n{}\\n\".format(a))\n",
    "print(\"base_data[a] = \\n{}\\n\".format(base_data[a]))"
   ]
  },
  {
   "cell_type": "code",
   "execution_count": 40,
   "metadata": {},
   "outputs": [
    {
     "name": "stdout",
     "output_type": "stream",
     "text": [
      "The above we see is the case where the target array is one-dimensional. Let's convert the following array into a 10X10 two-dimensional array.\n",
      "base_data2 = np.reshape(base_data, (10, -1)) = \n",
      "[[100 101 102 103 104 105 106 107 108 109]\n",
      " [110 111 112 113 114 115 116 117 118 119]\n",
      " [120 121 122 123 124 125 126 127 128 129]\n",
      " [130 131 132 133 134 135 136 137 138 139]\n",
      " [140 141 142 143 144 145 146 147 148 149]\n",
      " [150 151 152 153 154 155 156 157 158 159]\n",
      " [160 161 162 163 164 165 166 167 168 169]\n",
      " [170 171 172 173 174 175 176 177 178 179]\n",
      " [180 181 182 183 184 185 186 187 188 189]\n",
      " [190 191 192 193 194 195 196 197 198 199]]\n",
      "\n"
     ]
    }
   ],
   "source": [
    "print(\"The above we see is the case where the target array is one-dimensional. Let's convert the following array into a 10X10 two-dimensional array.\")\n",
    "base_data2 = base_data.reshape(10, -1)\n",
    "print(\"base_data2 = np.reshape(base_data, (10, -1)) = \\n{}\\n\".format(base_data2))"
   ]
  },
  {
   "cell_type": "code",
   "execution_count": 42,
   "metadata": {},
   "outputs": [
    {
     "name": "stdout",
     "output_type": "stream",
     "text": [
      "For a two-dimensional array, if we only specify one subscript, the result of the access is still an array, if we specify two subscripts, the result of the access is the elements inside, we can also specify the last element by -1.\n",
      "base_data2[2] = \n",
      "[120 121 122 123 124 125 126 127 128 129]\n",
      "\n",
      "base_data2[2, 3] = \n",
      "123\n",
      "\n",
      "base_data2[-1, -1] = \n",
      "199\n",
      "\n"
     ]
    }
   ],
   "source": [
    "print(\"For a two-dimensional array, if we only specify one subscript, the result of the access is still an array, if we specify two subscripts, the result of the access is the elements inside, we can also specify the last element by -1.\")\n",
    "print(\"base_data2[2] = \\n{}\\n\".format(base_data2[2]))\n",
    "print(\"base_data2[2, 3] = \\n{}\\n\".format(base_data2[2, 3]))\n",
    "print(\"base_data2[-1, -1] = \\n{}\\n\".format(base_data2[-1, -1]))"
   ]
  },
  {
   "cell_type": "code",
   "execution_count": 43,
   "metadata": {},
   "outputs": [
    {
     "ename": "SyntaxError",
     "evalue": "invalid syntax (<ipython-input-43-8e8188910981>, line 1)",
     "output_type": "error",
     "traceback": [
      "\u001b[1;36m  File \u001b[1;32m\"<ipython-input-43-8e8188910981>\"\u001b[1;36m, line \u001b[1;32m1\u001b[0m\n\u001b[1;33m    print(\"In addition, we can also specify the scope by \":\", such as: 2:5 . Only \":\" indicates the full scope.\")\u001b[0m\n\u001b[1;37m                                                          ^\u001b[0m\n\u001b[1;31mSyntaxError\u001b[0m\u001b[1;31m:\u001b[0m invalid syntax\n"
     ]
    }
   ],
   "source": [
    "print(\"In addition, we can also specify the scope by \":\", such as: 2:5 . Only \":\" indicates the full scope.\")\n",
    "print(\"base_data2[2, :]] = \\n{}\\n\".format(base_data2[2, :]))\n",
    "print(\"base_data2[:, 3]] = \\n{}\\n\".format(base_data2[:, 3]))\n",
    "print(\"base_data2[2:5, 2:4]] = \\n{}\\n\".format(base_data2[2:5, 2:4]))"
   ]
  },
  {
   "cell_type": "code",
   "execution_count": 46,
   "metadata": {},
   "outputs": [
    {
     "name": "stdout",
     "output_type": "stream",
     "text": [
      "Mathematics\n",
      "There are also a lot of mathematical functions in NumPy. Here are some examples:\n",
      "base_data = \n",
      "[[ 30.88158204  -1.79856339 -37.76328995  -2.66516499  38.256915  ]\n",
      " [-19.71919813  29.6826023  -22.58955334   5.30047691   1.57455968]\n",
      " [ 45.21037466  30.07584614  10.07002059  29.83487826 -36.94038225]\n",
      " [-42.12252076 -34.08621652 -34.79234016 -28.67550394 -27.19018879]\n",
      " [ 45.46093206  12.73819637 -10.27090119  35.40775075  16.29628246]]\n",
      "\n",
      "np.amin(base_data) = -42.12252076065024\n",
      "np.amax(base_data) = 45.460932063472825\n",
      "np.average(base_data) = 1.2870637523781792\n",
      "np.sum(base_data) = 32.17659380945448\n",
      "np.sin(base_data) = \n",
      "[[-0.50927702 -0.97417303 -0.06413406 -0.45860759  0.52932363]\n",
      " [-0.76409818 -0.98682139  0.56332515 -0.83200296  0.99999292]\n",
      " [ 0.94184449 -0.97350293 -0.60139231 -0.99994745  0.68800005]\n",
      " [ 0.95853503 -0.45404732  0.23266888  0.39049577 -0.88390393]\n",
      " [ 0.99575614  0.17098151  0.74871616 -0.75143321 -0.55496358]]\n",
      "Multpiles:  [  1   4   9  16  25  36  49  64  81 100 121 144 169 196 225 256 289 324\n",
      " 361]\n",
      "Substracts:  [0 0 0 0 0 0 0 0 0 0 0 0 0 0 0 0 0 0 0]\n",
      "Add:  [ 2  4  6  8 10 12 14 16 18 20 22 24 26 28 30 32 34 36 38]\n",
      "Divide:  [1. 1. 1. 1. 1. 1. 1. 1. 1. 1. 1. 1. 1. 1. 1. 1. 1. 1. 1.]\n",
      "Add +50:  [51 52 53 54 55 56 57 58 59 60 61 62 63 64 65 66 67 68 69]\n",
      "Sqrt:  [7.14142843 7.21110255 7.28010989 7.34846923 7.41619849 7.48331477\n",
      " 7.54983444 7.61577311 7.68114575 7.74596669 7.81024968 7.87400787\n",
      " 7.93725393 8.         8.06225775 8.1240384  8.18535277 8.24621125\n",
      " 8.30662386]\n",
      "Exp:  [1.40934908e+22 3.83100800e+22 1.04137594e+23 2.83075330e+23\n",
      " 7.69478527e+23 2.09165950e+24 5.68572000e+24 1.54553894e+25\n",
      " 4.20121040e+25 1.14200739e+26 3.10429794e+26 8.43835667e+26\n",
      " 2.29378316e+27 6.23514908e+27 1.69488924e+28 4.60718663e+28\n",
      " 1.25236317e+29 3.40427605e+29 9.25378173e+29]\n",
      "Sin:  [ 0.67022918  0.98662759  0.39592515 -0.55878905 -0.99975517 -0.521551\n",
      "  0.43616476  0.99287265  0.63673801 -0.30481062 -0.96611777 -0.7391807\n",
      "  0.1673557   0.92002604  0.82682868 -0.02655115 -0.85551998 -0.89792768\n",
      " -0.11478481]\n",
      "Cos:  [ 0.7421542  -0.16299078 -0.91828279 -0.82930983  0.02212676  0.85322011\n",
      "  0.89986683  0.11918014 -0.77108022 -0.95241298 -0.25810164  0.67350716\n",
      "  0.98589658  0.39185723 -0.56245385 -0.99964746 -0.5177698   0.44014302\n",
      "  0.99339038]\n",
      "Log:  [3.93182563 3.95124372 3.97029191 3.98898405 4.00733319 4.02535169\n",
      " 4.04305127 4.06044301 4.07753744 4.09434456 4.11087386 4.12713439\n",
      " 4.14313473 4.15888308 4.17438727 4.18965474 4.20469262 4.21950771\n",
      " 4.2341065 ]\n",
      "Sum:  1140\n",
      "Std:  5.477225575051661\n"
     ]
    }
   ],
   "source": [
    "print(\"Mathematics\")\n",
    "print(\"There are also a lot of mathematical functions in NumPy. Here are some examples:\")\n",
    "base_data = (np.random.random((5, 5)) - 0.5) * 100\n",
    "print(\"base_data = \\n{}\\n\".format(base_data))\n",
    "\n",
    "print(\"np.amin(base_data) = {}\".format(np.amin(base_data)))\n",
    "print(\"np.amax(base_data) = {}\".format(np.amax(base_data)))\n",
    "print(\"np.average(base_data) = {}\".format(np.average(base_data)))\n",
    "print(\"np.sum(base_data) = {}\".format(np.sum(base_data)))\n",
    "print(\"np.sin(base_data) = \\n{}\".format(np.sin(base_data)))\n",
    "\n",
    "arr = np.arange(1,20)\n",
    "arr = arr * arr              #Multiplies each element by itself \n",
    "print(\"Multpiles: \",arr)\n",
    "arr = arr - arr              #Subtracts each element from itself\n",
    "print(\"Substracts: \",arr)\n",
    "arr = np.arange(1,20)\n",
    "arr = arr + arr              #Adds each element to itself\n",
    "print(\"Add: \",arr)\n",
    "arr = arr / arr              #Divides each element by itself\n",
    "print(\"Divide: \",arr)\n",
    "arr = np.arange(1,20)\n",
    "arr = arr + 50\n",
    "print(\"Add +50: \",arr)\n",
    "print(\"Sqrt: \",np.sqrt(arr))#Returns the square root of each element \n",
    "print(\"Exp: \",np.exp(arr))     #Returns the exponentials of each element\n",
    "print(\"Sin: \",np.sin(arr))     #Returns the sin of each element\n",
    "print(\"Cos: \",np.cos(arr))     #Returns the cosine of each element\n",
    "print(\"Log: \",np.log(arr))     #Returns the logarithm of each element\n",
    "print(\"Sum: \",np.sum(arr))     #Returns the sum total of elements in the array\n",
    "print(\"Std: \",np.std(arr))     #Returns the standard deviation of in the array"
   ]
  },
  {
   "cell_type": "code",
   "execution_count": 47,
   "metadata": {},
   "outputs": [
    {
     "name": "stdout",
     "output_type": "stream",
     "text": [
      "Matrix\n",
      "First, let's create a 5X5 random integer matrix. There are two ways to get the transpose of a matrix: .T or transpose function. In addition, the matrix can be multiplied through the dot function. The sample code is as follows:\n",
      "base_data = \n",
      "[[-12. -31.  28.  27.  34.]\n",
      " [-31. -23.  37. -50.  -8.]\n",
      " [ 26.  27.  37.  28.  -1.]\n",
      " [-13.  11. -28.  -3. -33.]\n",
      " [-28. -32.  35.  -2. -26.]]\n",
      "\n",
      "base_data.T = \n",
      "[[-12. -31.  26. -13. -28.]\n",
      " [-31. -23.  27.  11. -32.]\n",
      " [ 28.  37.  37. -28.  35.]\n",
      " [ 27. -50.  28.  -3.  -2.]\n",
      " [ 34.  -8.  -1. -33. -26.]]\n",
      "\n",
      "base_data.transpose() = \n",
      "[[-12. -31.  26. -13. -28.]\n",
      " [-31. -23.  27.  11. -32.]\n",
      " [ 28.  37.  37. -28.  35.]\n",
      " [ 27. -50.  28.  -3.  -2.]\n",
      " [ 34.  -8.  -1. -33. -26.]]\n",
      "\n",
      "matrix_one = \n",
      "[[1. 1. 1. 1. 1.]\n",
      " [1. 1. 1. 1. 1.]\n",
      " [1. 1. 1. 1. 1.]\n",
      " [1. 1. 1. 1. 1.]\n",
      " [1. 1. 1. 1. 1.]]\n",
      "\n",
      "minus_one = \n",
      "[[-1. -1. -1. -1. -1.]\n",
      " [-1. -1. -1. -1. -1.]\n",
      " [-1. -1. -1. -1. -1.]\n",
      " [-1. -1. -1. -1. -1.]\n",
      " [-1. -1. -1. -1. -1.]]\n",
      "\n",
      "np.dot(base_data, minus_one) = \n",
      "[[ -46.  -46.  -46.  -46.  -46.]\n",
      " [  75.   75.   75.   75.   75.]\n",
      " [-117. -117. -117. -117. -117.]\n",
      " [  66.   66.   66.   66.   66.]\n",
      " [  53.   53.   53.   53.   53.]]\n",
      "\n"
     ]
    }
   ],
   "source": [
    "print(\"Matrix\")\n",
    "print(\"First, let's create a 5X5 random integer matrix. There are two ways to get the transpose of a matrix: .T or transpose function. In addition, the matrix can be multiplied through the dot function. The sample code is as follows:\")\n",
    "base_data = np.floor((np.random.random((5, 5)) - 0.5) * 100)\n",
    "print(\"base_data = \\n{}\\n\".format(base_data))\n",
    "\n",
    "print(\"base_data.T = \\n{}\\n\".format(base_data.T))\n",
    "print(\"base_data.transpose() = \\n{}\\n\".format(base_data.transpose()))\n",
    "\n",
    "matrix_one = np.ones((5, 5))\n",
    "print(\"matrix_one = \\n{}\\n\".format(matrix_one))\n",
    "\n",
    "minus_one = np.dot(matrix_one, -1)\n",
    "print(\"minus_one = \\n{}\\n\".format(minus_one))\n",
    "\n",
    "print(\"np.dot(base_data, minus_one) = \\n{}\\n\".format(\n",
    "    np.dot(base_data, minus_one)))"
   ]
  },
  {
   "cell_type": "code",
   "execution_count": 49,
   "metadata": {},
   "outputs": [
    {
     "name": "stdout",
     "output_type": "stream",
     "text": [
      "Random number\n",
      "Random numbers are a feature we use very often during the programming process, such as generating demo data, or disordering existing data sequence randomly to segment the modeling data and the verification data.\n",
      "The numpy.random package contains a number of algorithms for random numbers. Here we list the four most common usage:\n",
      "The four usages are:\n",
      "to generate 20 random numbers, each of which is between [0.0, 1.0)\n",
      "to generate a random number based on the specified shape\n",
      "to generate a specified number (such as 20) of random integers within the specified range (such as [0, 100)\n",
      "to disorder the sequence of the existing data ([0, 1, 2, ..., 19]) randomly The output is as follows:\n",
      "random: [0.59687683 0.7852772  0.78361711 0.760866   0.77870263 0.32073813\n",
      " 0.71671909 0.43081378 0.08788477 0.57338698 0.71458695 0.91130369\n",
      " 0.43336302 0.42163921 0.23276934 0.03106021 0.69203093 0.91305542\n",
      " 0.63465107 0.66831697]\n",
      "\n",
      "rand: [[0.58426561 0.35754845 0.06016304 0.39736495]\n",
      " [0.0832402  0.57447137 0.6880268  0.60223017]\n",
      " [0.54567007 0.4173495  0.17888135 0.65506022]]\n",
      "\n",
      "randint: [65 92 25  7 14 21 81 95 70 25 43 72  1 47 72 89 26 21 42  6]\n",
      "\n",
      "permutation: [16  2  0 11 14 15 18 12  4  7 13  8  9  6 19  3 10  1 17  5]\n",
      "\n"
     ]
    }
   ],
   "source": [
    "print(\"Random number\")\n",
    "print(\"Random numbers are a feature we use very often during the programming process, such as generating demo data, or disordering existing data sequence randomly to segment the modeling data and the verification data.\")\n",
    "print(\"The numpy.random package contains a number of algorithms for random numbers. Here we list the four most common usage:\")\n",
    "print(\"The four usages are:\")\n",
    "print(\"to generate 20 random numbers, each of which is between [0.0, 1.0)\")\n",
    "print(\"to generate a random number based on the specified shape\")\n",
    "print(\"to generate a specified number (such as 20) of random integers within the specified range (such as [0, 100)\")\n",
    "print(\"to disorder the sequence of the existing data ([0, 1, 2, ..., 19]) randomly The output is as follows:\")\n",
    "\n",
    "print(\"random: {}\\n\".format(np.random.random(20)));\n",
    "print(\"rand: {}\\n\".format(np.random.rand(3, 4)));\n",
    "print(\"randint: {}\\n\".format(np.random.randint(0, 100, 20)));\n",
    "print(\"permutation: {}\\n\".format(np.random.permutation(np.arange(20))));"
   ]
  },
  {
   "cell_type": "code",
   "execution_count": null,
   "metadata": {},
   "outputs": [],
   "source": []
  }
 ],
 "metadata": {
  "kernelspec": {
   "display_name": "Python 3",
   "language": "python",
   "name": "python3"
  },
  "language_info": {
   "codemirror_mode": {
    "name": "ipython",
    "version": 3
   },
   "file_extension": ".py",
   "mimetype": "text/x-python",
   "name": "python",
   "nbconvert_exporter": "python",
   "pygments_lexer": "ipython3",
   "version": "3.8.5"
  }
 },
 "nbformat": 4,
 "nbformat_minor": 4
}
