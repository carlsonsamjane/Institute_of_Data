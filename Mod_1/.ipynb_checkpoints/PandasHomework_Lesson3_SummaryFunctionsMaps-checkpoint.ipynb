{
 "cells": [
  {
   "cell_type": "markdown",
   "metadata": {},
   "source": [
    "# Pandas - Summary Functions and Maps\n",
    "Formatting data to suit the task at hand"
   ]
  },
  {
   "cell_type": "code",
   "execution_count": 1,
   "metadata": {},
   "outputs": [],
   "source": [
    "import pandas as pd"
   ]
  },
  {
   "cell_type": "code",
   "execution_count": 3,
   "metadata": {},
   "outputs": [],
   "source": [
    "data = pd.read_csv('Employee-attrition for Module 1.csv')"
   ]
  },
  {
   "cell_type": "code",
   "execution_count": 4,
   "metadata": {},
   "outputs": [
    {
     "name": "stdout",
     "output_type": "stream",
     "text": [
      "       EmployeeID   recorddate_key birthdate_key orighiredate_key  \\\n",
      "0            1318  12/31/2006 0:00      1/3/1954        8/28/1989   \n",
      "1            1318  12/31/2007 0:00      1/3/1954        8/28/1989   \n",
      "2            1318  12/31/2008 0:00      1/3/1954        8/28/1989   \n",
      "3            1318  12/31/2009 0:00      1/3/1954        8/28/1989   \n",
      "4            1318  12/31/2010 0:00      1/3/1954        8/28/1989   \n",
      "...           ...              ...           ...              ...   \n",
      "49648        8258   12/1/2015 0:00     5/28/1994        8/19/2013   \n",
      "49649        8264    8/1/2013 0:00     6/13/1994        8/27/2013   \n",
      "49650        8279   12/1/2015 0:00     7/18/1994        9/15/2013   \n",
      "49651        8296   12/1/2013 0:00      9/2/1994        10/9/2013   \n",
      "49652        8321   12/1/2014 0:00    11/28/1994       11/24/2013   \n",
      "\n",
      "      terminationdate_key  age  length_of_service    city_name  \\\n",
      "0                1/1/1900   52                 17    Vancouver   \n",
      "1                1/1/1900   53                 18    Vancouver   \n",
      "2                1/1/1900   54                 19    Vancouver   \n",
      "3                1/1/1900   55                 20    Vancouver   \n",
      "4                1/1/1900   56                 21    Vancouver   \n",
      "...                   ...  ...                ...          ...   \n",
      "49648          12/30/2015   21                  2    Valemount   \n",
      "49649           8/30/2013   19                  0    Vancouver   \n",
      "49650          12/30/2015   21                  2   White Rock   \n",
      "49651          12/31/2013   19                  0      Kelowna   \n",
      "49652          12/30/2014   20                  1  Grand Forks   \n",
      "\n",
      "        department_name     job_title  store_name gender_short gender_full  \\\n",
      "0             Executive           CEO          35            M        Male   \n",
      "1             Executive           CEO          35            M        Male   \n",
      "2             Executive           CEO          35            M        Male   \n",
      "3             Executive           CEO          35            M        Male   \n",
      "4             Executive           CEO          35            M        Male   \n",
      "...                 ...           ...         ...          ...         ...   \n",
      "49648             Dairy  Dairy Person          34            M        Male   \n",
      "49649  Customer Service       Cashier          44            F      Female   \n",
      "49650  Customer Service       Cashier          39            F      Female   \n",
      "49651  Customer Service       Cashier          16            F      Female   \n",
      "49652  Customer Service       Cashier          13            F      Female   \n",
      "\n",
      "      termreason_desc   termtype_desc  STATUS_YEAR      STATUS BUSINESS_UNIT  \n",
      "0      Not Applicable  Not Applicable         2006      ACTIVE    HEADOFFICE  \n",
      "1      Not Applicable  Not Applicable         2007      ACTIVE    HEADOFFICE  \n",
      "2      Not Applicable  Not Applicable         2008      ACTIVE    HEADOFFICE  \n",
      "3      Not Applicable  Not Applicable         2009      ACTIVE    HEADOFFICE  \n",
      "4      Not Applicable  Not Applicable         2010      ACTIVE    HEADOFFICE  \n",
      "...               ...             ...          ...         ...           ...  \n",
      "49648          Layoff     Involuntary         2015  TERMINATED        STORES  \n",
      "49649      Resignaton       Voluntary         2013  TERMINATED        STORES  \n",
      "49650          Layoff     Involuntary         2015  TERMINATED        STORES  \n",
      "49651      Resignaton       Voluntary         2013  TERMINATED        STORES  \n",
      "49652          Layoff     Involuntary         2014  TERMINATED        STORES  \n",
      "\n",
      "[49653 rows x 18 columns]\n"
     ]
    }
   ],
   "source": [
    "print(data)"
   ]
  },
  {
   "cell_type": "markdown",
   "metadata": {},
   "source": [
    "## Summary functions\n",
    "To restructure data in useful ways"
   ]
  },
  {
   "cell_type": "markdown",
   "metadata": {},
   "source": [
    "### decsribe()\n",
    "This method produces a high-level summary of the attributes of a given column. note - it is type-aware; the output will vary depending on the data type. Below is an example of the description of the column 'EmployeeID'. This description shows us the mean, minimum, and percentiles, etc. of the column. "
   ]
  },
  {
   "cell_type": "code",
   "execution_count": 6,
   "metadata": {},
   "outputs": [
    {
     "data": {
      "text/plain": [
       "count    49653.000000\n",
       "mean      4859.495740\n",
       "std       1826.571142\n",
       "min       1318.000000\n",
       "25%       3360.000000\n",
       "50%       5031.000000\n",
       "75%       6335.000000\n",
       "max       8336.000000\n",
       "Name: EmployeeID, dtype: float64"
      ]
     },
     "execution_count": 6,
     "metadata": {},
     "output_type": "execute_result"
    }
   ],
   "source": [
    "data.EmployeeID.describe()"
   ]
  },
  {
   "cell_type": "markdown",
   "metadata": {},
   "source": [
    "The above function works well for numerical data (floats or integers) but if we run this function on string data, we get a different result:"
   ]
  },
  {
   "cell_type": "code",
   "execution_count": 7,
   "metadata": {},
   "outputs": [
    {
     "data": {
      "text/plain": [
       "count         49653\n",
       "unique           40\n",
       "top       Vancouver\n",
       "freq          11211\n",
       "Name: city_name, dtype: object"
      ]
     },
     "execution_count": 7,
     "metadata": {},
     "output_type": "execute_result"
    }
   ],
   "source": [
    "data.city_name.describe()"
   ]
  },
  {
   "cell_type": "markdown",
   "metadata": {},
   "source": [
    "To get around this odd result (above), we can use specific summary statistics to find the data that we need, e.g. mean() to find the average, unique() to find the number of unique values, etc. "
   ]
  },
  {
   "cell_type": "code",
   "execution_count": 9,
   "metadata": {},
   "outputs": [
    {
     "data": {
      "text/plain": [
       "10.434596096912573"
      ]
     },
     "execution_count": 9,
     "metadata": {},
     "output_type": "execute_result"
    }
   ],
   "source": [
    "data.length_of_service.mean()"
   ]
  },
  {
   "cell_type": "code",
   "execution_count": 10,
   "metadata": {},
   "outputs": [
    {
     "data": {
      "text/plain": [
       "array([17, 18, 19, 20, 21, 22, 23, 24, 25, 26, 16, 15, 14, 13, 12, 11, 10,\n",
       "        9,  8,  7,  6,  5,  4,  3,  2,  1,  0], dtype=int64)"
      ]
     },
     "execution_count": 10,
     "metadata": {},
     "output_type": "execute_result"
    }
   ],
   "source": [
    "data.length_of_service.unique()"
   ]
  },
  {
   "cell_type": "markdown",
   "metadata": {},
   "source": [
    "To see a list of unique values AND how often they occur, we can use value_counts()"
   ]
  },
  {
   "cell_type": "code",
   "execution_count": 11,
   "metadata": {},
   "outputs": [
    {
     "data": {
      "text/plain": [
       "13    2885\n",
       "12    2567\n",
       "8     2559\n",
       "11    2482\n",
       "10    2432\n",
       "9     2381\n",
       "7     2341\n",
       "6     2294\n",
       "3     2270\n",
       "4     2262\n",
       "5     2258\n",
       "2     2257\n",
       "1     2222\n",
       "14    2203\n",
       "15    2192\n",
       "16    2160\n",
       "17    2066\n",
       "0     1962\n",
       "18    1829\n",
       "19    1656\n",
       "20    1322\n",
       "21    1047\n",
       "22     830\n",
       "23     608\n",
       "24     433\n",
       "25     121\n",
       "26      14\n",
       "Name: length_of_service, dtype: int64"
      ]
     },
     "execution_count": 11,
     "metadata": {},
     "output_type": "execute_result"
    }
   ],
   "source": [
    "data.length_of_service.value_counts()"
   ]
  },
  {
   "cell_type": "markdown",
   "metadata": {},
   "source": [
    "From this result, we can determine that more people stayed at the company for 13 years, than 8 years, and that while 26 years is the longest length of service, only 14 employees ever lasted that long. "
   ]
  },
  {
   "cell_type": "code",
   "execution_count": 13,
   "metadata": {},
   "outputs": [
    {
     "data": {
      "text/plain": [
       "2047    10\n",
       "3148    10\n",
       "2924    10\n",
       "3020    10\n",
       "3052    10\n",
       "        ..\n",
       "2419     1\n",
       "2579     1\n",
       "5245     1\n",
       "4265     1\n",
       "4408     1\n",
       "Name: EmployeeID, Length: 6284, dtype: int64"
      ]
     },
     "execution_count": 13,
     "metadata": {},
     "output_type": "execute_result"
    }
   ],
   "source": [
    "data.EmployeeID.value_counts()"
   ]
  },
  {
   "cell_type": "markdown",
   "metadata": {},
   "source": [
    "This second value count shows us that there are a number of Employee IDs that have been used more than once. If I were to draw conclusions from this data, I would seek to understand why this occurs and whether the duplicate uses of the ID are valid."
   ]
  },
  {
   "cell_type": "markdown",
   "metadata": {},
   "source": [
    "## Maps "
   ]
  },
  {
   "cell_type": "markdown",
   "metadata": {},
   "source": [
    "A map is a term, borrowed from mathematics, for a function that takes one set of values and \"maps\" them to another set of values. In data science we often have a need for creating new representations from existing data, or for transforming data from the format it is in now to the format that we want it to be in later. \n",
    "There are two mapping methods that you will use often.\n",
    "(1) map() is the first, and slightly simpler one. \n",
    "(2) apply() is the equivalent method if we want to transform a whole DataFrame by calling a custom method on each row."
   ]
  },
  {
   "cell_type": "markdown",
   "metadata": {},
   "source": [
    "### map() "
   ]
  },
  {
   "cell_type": "markdown",
   "metadata": {},
   "source": [
    "In this example, we will remean the length_of_service (LOS) to 0."
   ]
  },
  {
   "cell_type": "code",
   "execution_count": 18,
   "metadata": {},
   "outputs": [
    {
     "data": {
      "text/plain": [
       "0         6.565404\n",
       "1         7.565404\n",
       "2         8.565404\n",
       "3         9.565404\n",
       "4        10.565404\n",
       "           ...    \n",
       "49648    -8.434596\n",
       "49649   -10.434596\n",
       "49650    -8.434596\n",
       "49651   -10.434596\n",
       "49652    -9.434596\n",
       "Name: length_of_service, Length: 49653, dtype: float64"
      ]
     },
     "execution_count": 18,
     "metadata": {},
     "output_type": "execute_result"
    }
   ],
   "source": [
    "LOS_data_mean = data.length_of_service.mean()\n",
    "data.length_of_service.map(lambda p: p - LOS_data_mean)"
   ]
  },
  {
   "cell_type": "markdown",
   "metadata": {},
   "source": [
    "The function you pass to map() should expect a single value and return a transformed version of that value. \n",
    "\n",
    "map() returns a new Series where all the values have been transformed by your function."
   ]
  },
  {
   "cell_type": "markdown",
   "metadata": {},
   "source": [
    "### apply() "
   ]
  },
  {
   "cell_type": "markdown",
   "metadata": {},
   "source": [
    "apply() is the equivalent method if we want to transform a whole DataFrame by calling a custom method on each row."
   ]
  },
  {
   "cell_type": "code",
   "execution_count": 20,
   "metadata": {},
   "outputs": [
    {
     "data": {
      "text/html": [
       "<div>\n",
       "<style scoped>\n",
       "    .dataframe tbody tr th:only-of-type {\n",
       "        vertical-align: middle;\n",
       "    }\n",
       "\n",
       "    .dataframe tbody tr th {\n",
       "        vertical-align: top;\n",
       "    }\n",
       "\n",
       "    .dataframe thead th {\n",
       "        text-align: right;\n",
       "    }\n",
       "</style>\n",
       "<table border=\"1\" class=\"dataframe\">\n",
       "  <thead>\n",
       "    <tr style=\"text-align: right;\">\n",
       "      <th></th>\n",
       "      <th>EmployeeID</th>\n",
       "      <th>recorddate_key</th>\n",
       "      <th>birthdate_key</th>\n",
       "      <th>orighiredate_key</th>\n",
       "      <th>terminationdate_key</th>\n",
       "      <th>age</th>\n",
       "      <th>length_of_service</th>\n",
       "      <th>city_name</th>\n",
       "      <th>department_name</th>\n",
       "      <th>job_title</th>\n",
       "      <th>store_name</th>\n",
       "      <th>gender_short</th>\n",
       "      <th>gender_full</th>\n",
       "      <th>termreason_desc</th>\n",
       "      <th>termtype_desc</th>\n",
       "      <th>STATUS_YEAR</th>\n",
       "      <th>STATUS</th>\n",
       "      <th>BUSINESS_UNIT</th>\n",
       "    </tr>\n",
       "  </thead>\n",
       "  <tbody>\n",
       "    <tr>\n",
       "      <th>0</th>\n",
       "      <td>1318</td>\n",
       "      <td>12/31/2006 0:00</td>\n",
       "      <td>1/3/1954</td>\n",
       "      <td>8/28/1989</td>\n",
       "      <td>1/1/1900</td>\n",
       "      <td>52</td>\n",
       "      <td>10.434596</td>\n",
       "      <td>Vancouver</td>\n",
       "      <td>Executive</td>\n",
       "      <td>CEO</td>\n",
       "      <td>35</td>\n",
       "      <td>M</td>\n",
       "      <td>Male</td>\n",
       "      <td>Not Applicable</td>\n",
       "      <td>Not Applicable</td>\n",
       "      <td>2006</td>\n",
       "      <td>ACTIVE</td>\n",
       "      <td>HEADOFFICE</td>\n",
       "    </tr>\n",
       "    <tr>\n",
       "      <th>1</th>\n",
       "      <td>1318</td>\n",
       "      <td>12/31/2007 0:00</td>\n",
       "      <td>1/3/1954</td>\n",
       "      <td>8/28/1989</td>\n",
       "      <td>1/1/1900</td>\n",
       "      <td>53</td>\n",
       "      <td>10.434596</td>\n",
       "      <td>Vancouver</td>\n",
       "      <td>Executive</td>\n",
       "      <td>CEO</td>\n",
       "      <td>35</td>\n",
       "      <td>M</td>\n",
       "      <td>Male</td>\n",
       "      <td>Not Applicable</td>\n",
       "      <td>Not Applicable</td>\n",
       "      <td>2007</td>\n",
       "      <td>ACTIVE</td>\n",
       "      <td>HEADOFFICE</td>\n",
       "    </tr>\n",
       "    <tr>\n",
       "      <th>2</th>\n",
       "      <td>1318</td>\n",
       "      <td>12/31/2008 0:00</td>\n",
       "      <td>1/3/1954</td>\n",
       "      <td>8/28/1989</td>\n",
       "      <td>1/1/1900</td>\n",
       "      <td>54</td>\n",
       "      <td>10.434596</td>\n",
       "      <td>Vancouver</td>\n",
       "      <td>Executive</td>\n",
       "      <td>CEO</td>\n",
       "      <td>35</td>\n",
       "      <td>M</td>\n",
       "      <td>Male</td>\n",
       "      <td>Not Applicable</td>\n",
       "      <td>Not Applicable</td>\n",
       "      <td>2008</td>\n",
       "      <td>ACTIVE</td>\n",
       "      <td>HEADOFFICE</td>\n",
       "    </tr>\n",
       "    <tr>\n",
       "      <th>3</th>\n",
       "      <td>1318</td>\n",
       "      <td>12/31/2009 0:00</td>\n",
       "      <td>1/3/1954</td>\n",
       "      <td>8/28/1989</td>\n",
       "      <td>1/1/1900</td>\n",
       "      <td>55</td>\n",
       "      <td>10.434596</td>\n",
       "      <td>Vancouver</td>\n",
       "      <td>Executive</td>\n",
       "      <td>CEO</td>\n",
       "      <td>35</td>\n",
       "      <td>M</td>\n",
       "      <td>Male</td>\n",
       "      <td>Not Applicable</td>\n",
       "      <td>Not Applicable</td>\n",
       "      <td>2009</td>\n",
       "      <td>ACTIVE</td>\n",
       "      <td>HEADOFFICE</td>\n",
       "    </tr>\n",
       "    <tr>\n",
       "      <th>4</th>\n",
       "      <td>1318</td>\n",
       "      <td>12/31/2010 0:00</td>\n",
       "      <td>1/3/1954</td>\n",
       "      <td>8/28/1989</td>\n",
       "      <td>1/1/1900</td>\n",
       "      <td>56</td>\n",
       "      <td>10.434596</td>\n",
       "      <td>Vancouver</td>\n",
       "      <td>Executive</td>\n",
       "      <td>CEO</td>\n",
       "      <td>35</td>\n",
       "      <td>M</td>\n",
       "      <td>Male</td>\n",
       "      <td>Not Applicable</td>\n",
       "      <td>Not Applicable</td>\n",
       "      <td>2010</td>\n",
       "      <td>ACTIVE</td>\n",
       "      <td>HEADOFFICE</td>\n",
       "    </tr>\n",
       "    <tr>\n",
       "      <th>...</th>\n",
       "      <td>...</td>\n",
       "      <td>...</td>\n",
       "      <td>...</td>\n",
       "      <td>...</td>\n",
       "      <td>...</td>\n",
       "      <td>...</td>\n",
       "      <td>...</td>\n",
       "      <td>...</td>\n",
       "      <td>...</td>\n",
       "      <td>...</td>\n",
       "      <td>...</td>\n",
       "      <td>...</td>\n",
       "      <td>...</td>\n",
       "      <td>...</td>\n",
       "      <td>...</td>\n",
       "      <td>...</td>\n",
       "      <td>...</td>\n",
       "      <td>...</td>\n",
       "    </tr>\n",
       "    <tr>\n",
       "      <th>49648</th>\n",
       "      <td>8258</td>\n",
       "      <td>12/1/2015 0:00</td>\n",
       "      <td>5/28/1994</td>\n",
       "      <td>8/19/2013</td>\n",
       "      <td>12/30/2015</td>\n",
       "      <td>21</td>\n",
       "      <td>10.434596</td>\n",
       "      <td>Valemount</td>\n",
       "      <td>Dairy</td>\n",
       "      <td>Dairy Person</td>\n",
       "      <td>34</td>\n",
       "      <td>M</td>\n",
       "      <td>Male</td>\n",
       "      <td>Layoff</td>\n",
       "      <td>Involuntary</td>\n",
       "      <td>2015</td>\n",
       "      <td>TERMINATED</td>\n",
       "      <td>STORES</td>\n",
       "    </tr>\n",
       "    <tr>\n",
       "      <th>49649</th>\n",
       "      <td>8264</td>\n",
       "      <td>8/1/2013 0:00</td>\n",
       "      <td>6/13/1994</td>\n",
       "      <td>8/27/2013</td>\n",
       "      <td>8/30/2013</td>\n",
       "      <td>19</td>\n",
       "      <td>10.434596</td>\n",
       "      <td>Vancouver</td>\n",
       "      <td>Customer Service</td>\n",
       "      <td>Cashier</td>\n",
       "      <td>44</td>\n",
       "      <td>F</td>\n",
       "      <td>Female</td>\n",
       "      <td>Resignaton</td>\n",
       "      <td>Voluntary</td>\n",
       "      <td>2013</td>\n",
       "      <td>TERMINATED</td>\n",
       "      <td>STORES</td>\n",
       "    </tr>\n",
       "    <tr>\n",
       "      <th>49650</th>\n",
       "      <td>8279</td>\n",
       "      <td>12/1/2015 0:00</td>\n",
       "      <td>7/18/1994</td>\n",
       "      <td>9/15/2013</td>\n",
       "      <td>12/30/2015</td>\n",
       "      <td>21</td>\n",
       "      <td>10.434596</td>\n",
       "      <td>White Rock</td>\n",
       "      <td>Customer Service</td>\n",
       "      <td>Cashier</td>\n",
       "      <td>39</td>\n",
       "      <td>F</td>\n",
       "      <td>Female</td>\n",
       "      <td>Layoff</td>\n",
       "      <td>Involuntary</td>\n",
       "      <td>2015</td>\n",
       "      <td>TERMINATED</td>\n",
       "      <td>STORES</td>\n",
       "    </tr>\n",
       "    <tr>\n",
       "      <th>49651</th>\n",
       "      <td>8296</td>\n",
       "      <td>12/1/2013 0:00</td>\n",
       "      <td>9/2/1994</td>\n",
       "      <td>10/9/2013</td>\n",
       "      <td>12/31/2013</td>\n",
       "      <td>19</td>\n",
       "      <td>10.434596</td>\n",
       "      <td>Kelowna</td>\n",
       "      <td>Customer Service</td>\n",
       "      <td>Cashier</td>\n",
       "      <td>16</td>\n",
       "      <td>F</td>\n",
       "      <td>Female</td>\n",
       "      <td>Resignaton</td>\n",
       "      <td>Voluntary</td>\n",
       "      <td>2013</td>\n",
       "      <td>TERMINATED</td>\n",
       "      <td>STORES</td>\n",
       "    </tr>\n",
       "    <tr>\n",
       "      <th>49652</th>\n",
       "      <td>8321</td>\n",
       "      <td>12/1/2014 0:00</td>\n",
       "      <td>11/28/1994</td>\n",
       "      <td>11/24/2013</td>\n",
       "      <td>12/30/2014</td>\n",
       "      <td>20</td>\n",
       "      <td>10.434596</td>\n",
       "      <td>Grand Forks</td>\n",
       "      <td>Customer Service</td>\n",
       "      <td>Cashier</td>\n",
       "      <td>13</td>\n",
       "      <td>F</td>\n",
       "      <td>Female</td>\n",
       "      <td>Layoff</td>\n",
       "      <td>Involuntary</td>\n",
       "      <td>2014</td>\n",
       "      <td>TERMINATED</td>\n",
       "      <td>STORES</td>\n",
       "    </tr>\n",
       "  </tbody>\n",
       "</table>\n",
       "<p>49653 rows × 18 columns</p>\n",
       "</div>"
      ],
      "text/plain": [
       "       EmployeeID   recorddate_key birthdate_key orighiredate_key  \\\n",
       "0            1318  12/31/2006 0:00      1/3/1954        8/28/1989   \n",
       "1            1318  12/31/2007 0:00      1/3/1954        8/28/1989   \n",
       "2            1318  12/31/2008 0:00      1/3/1954        8/28/1989   \n",
       "3            1318  12/31/2009 0:00      1/3/1954        8/28/1989   \n",
       "4            1318  12/31/2010 0:00      1/3/1954        8/28/1989   \n",
       "...           ...              ...           ...              ...   \n",
       "49648        8258   12/1/2015 0:00     5/28/1994        8/19/2013   \n",
       "49649        8264    8/1/2013 0:00     6/13/1994        8/27/2013   \n",
       "49650        8279   12/1/2015 0:00     7/18/1994        9/15/2013   \n",
       "49651        8296   12/1/2013 0:00      9/2/1994        10/9/2013   \n",
       "49652        8321   12/1/2014 0:00    11/28/1994       11/24/2013   \n",
       "\n",
       "      terminationdate_key  age  length_of_service    city_name  \\\n",
       "0                1/1/1900   52          10.434596    Vancouver   \n",
       "1                1/1/1900   53          10.434596    Vancouver   \n",
       "2                1/1/1900   54          10.434596    Vancouver   \n",
       "3                1/1/1900   55          10.434596    Vancouver   \n",
       "4                1/1/1900   56          10.434596    Vancouver   \n",
       "...                   ...  ...                ...          ...   \n",
       "49648          12/30/2015   21          10.434596    Valemount   \n",
       "49649           8/30/2013   19          10.434596    Vancouver   \n",
       "49650          12/30/2015   21          10.434596   White Rock   \n",
       "49651          12/31/2013   19          10.434596      Kelowna   \n",
       "49652          12/30/2014   20          10.434596  Grand Forks   \n",
       "\n",
       "        department_name     job_title  store_name gender_short gender_full  \\\n",
       "0             Executive           CEO          35            M        Male   \n",
       "1             Executive           CEO          35            M        Male   \n",
       "2             Executive           CEO          35            M        Male   \n",
       "3             Executive           CEO          35            M        Male   \n",
       "4             Executive           CEO          35            M        Male   \n",
       "...                 ...           ...         ...          ...         ...   \n",
       "49648             Dairy  Dairy Person          34            M        Male   \n",
       "49649  Customer Service       Cashier          44            F      Female   \n",
       "49650  Customer Service       Cashier          39            F      Female   \n",
       "49651  Customer Service       Cashier          16            F      Female   \n",
       "49652  Customer Service       Cashier          13            F      Female   \n",
       "\n",
       "      termreason_desc   termtype_desc  STATUS_YEAR      STATUS BUSINESS_UNIT  \n",
       "0      Not Applicable  Not Applicable         2006      ACTIVE    HEADOFFICE  \n",
       "1      Not Applicable  Not Applicable         2007      ACTIVE    HEADOFFICE  \n",
       "2      Not Applicable  Not Applicable         2008      ACTIVE    HEADOFFICE  \n",
       "3      Not Applicable  Not Applicable         2009      ACTIVE    HEADOFFICE  \n",
       "4      Not Applicable  Not Applicable         2010      ACTIVE    HEADOFFICE  \n",
       "...               ...             ...          ...         ...           ...  \n",
       "49648          Layoff     Involuntary         2015  TERMINATED        STORES  \n",
       "49649      Resignaton       Voluntary         2013  TERMINATED        STORES  \n",
       "49650          Layoff     Involuntary         2015  TERMINATED        STORES  \n",
       "49651      Resignaton       Voluntary         2013  TERMINATED        STORES  \n",
       "49652          Layoff     Involuntary         2014  TERMINATED        STORES  \n",
       "\n",
       "[49653 rows x 18 columns]"
      ]
     },
     "execution_count": 20,
     "metadata": {},
     "output_type": "execute_result"
    }
   ],
   "source": [
    "def remean_length_of_service(row):\n",
    "    row.length_of_service = LOS_data_mean\n",
    "    return row\n",
    "data.apply(remean_length_of_service, axis = 'columns')"
   ]
  },
  {
   "cell_type": "markdown",
   "metadata": {},
   "source": [
    "If we had called data.apply() with axis='index', then instead of passing a function to transform each row, we would need to give a function to transform each column.\n",
    "\n",
    "Note that map() and apply() return new, transformed Series and DataFrames, respectively. They don't modify the original data they're called on. If we look at the first row of reviews, we can see that it still has its original length_of_service value."
   ]
  },
  {
   "cell_type": "markdown",
   "metadata": {},
   "source": [
    "## Pandas built-in operations "
   ]
  },
  {
   "cell_type": "markdown",
   "metadata": {},
   "source": [
    "Here is an example of a faster way to remean our length_of_service column:"
   ]
  },
  {
   "cell_type": "code",
   "execution_count": 21,
   "metadata": {},
   "outputs": [
    {
     "data": {
      "text/plain": [
       "0         6.565404\n",
       "1         7.565404\n",
       "2         8.565404\n",
       "3         9.565404\n",
       "4        10.565404\n",
       "           ...    \n",
       "49648    -8.434596\n",
       "49649   -10.434596\n",
       "49650    -8.434596\n",
       "49651   -10.434596\n",
       "49652    -9.434596\n",
       "Name: length_of_service, Length: 49653, dtype: float64"
      ]
     },
     "execution_count": 21,
     "metadata": {},
     "output_type": "execute_result"
    }
   ],
   "source": [
    "data.length_of_service_mean = data.length_of_service.mean()\n",
    "data.length_of_service - data.length_of_service_mean"
   ]
  },
  {
   "cell_type": "markdown",
   "metadata": {},
   "source": [
    "In this example, we are performing an operation between a lot of values on the left-hand side (everything in the Series) and a single value on the right-hand side (the mean value). Pandas looks at this expression and figures out that we must mean to subtract that mean value from every value in the dataset."
   ]
  },
  {
   "cell_type": "markdown",
   "metadata": {},
   "source": [
    "Pandas will also understand what to do if we perform these operations between Series of equal length. For example, an easy way of combining country and region information in the dataset would be to do the following:"
   ]
  },
  {
   "cell_type": "code",
   "execution_count": 28,
   "metadata": {},
   "outputs": [
    {
     "data": {
      "text/plain": [
       "0                 Vancouver - CEO\n",
       "1                 Vancouver - CEO\n",
       "2                 Vancouver - CEO\n",
       "3                 Vancouver - CEO\n",
       "4                 Vancouver - CEO\n",
       "                   ...           \n",
       "49648    Valemount - Dairy Person\n",
       "49649         Vancouver - Cashier\n",
       "49650        White Rock - Cashier\n",
       "49651           Kelowna - Cashier\n",
       "49652       Grand Forks - Cashier\n",
       "Length: 49653, dtype: object"
      ]
     },
     "execution_count": 28,
     "metadata": {},
     "output_type": "execute_result"
    }
   ],
   "source": [
    "data.city_name + \" - \" + data.job_title"
   ]
  },
  {
   "cell_type": "markdown",
   "metadata": {},
   "source": [
    "NOTE: With this example, I received errors when using float or integer data (e.g. the column, EmployeeID). However, with string type data this code worked well. "
   ]
  },
  {
   "cell_type": "code",
   "execution_count": null,
   "metadata": {},
   "outputs": [],
   "source": []
  }
 ],
 "metadata": {
  "kernelspec": {
   "display_name": "Python 3",
   "language": "python",
   "name": "python3"
  },
  "language_info": {
   "codemirror_mode": {
    "name": "ipython",
    "version": 3
   },
   "file_extension": ".py",
   "mimetype": "text/x-python",
   "name": "python",
   "nbconvert_exporter": "python",
   "pygments_lexer": "ipython3",
   "version": "3.8.5"
  }
 },
 "nbformat": 4,
 "nbformat_minor": 4
}
