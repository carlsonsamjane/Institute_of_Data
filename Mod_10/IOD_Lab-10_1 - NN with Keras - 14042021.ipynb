{
 "cells": [
  {
   "cell_type": "markdown",
   "metadata": {
    "colab_type": "text",
    "id": "gn3SG1yo1KdV"
   },
   "source": [
    "<div>\n",
    "<img src=https://www.institutedata.com/wp-content/uploads/2019/10/iod_h_tp_primary_c.svg width=\"300\">\n",
    "</div>"
   ]
  },
  {
   "cell_type": "markdown",
   "metadata": {
    "colab_type": "text",
    "id": "g-SD7a9X1KdY"
   },
   "source": [
    "# Lab 10.1: NN with Keras\n",
    "INSTRUCTIONS:\n",
    "- Read the guides and hints, then create the necessary analysis and code to find an answer and conclusion for the task below.\n",
    "- **NOTE**: This is a Regression problem. Consider the appropriate:\n",
    "    - Activation function\n",
    "    - Loss/Cost Function\n",
    "    - Metrics"
   ]
  },
  {
   "cell_type": "markdown",
   "metadata": {
    "colab_type": "text",
    "id": "ENgfRnvL1Kdc"
   },
   "source": [
    "### Import libraries"
   ]
  },
  {
   "cell_type": "code",
   "execution_count": 42,
   "metadata": {
    "colab": {},
    "colab_type": "code",
    "id": "Z9H465X-1Kde"
   },
   "outputs": [],
   "source": [
    "import numpy as np\n",
    "from numpy import loadtxt\n",
    "\n",
    "from sklearn import datasets\n",
    "from sklearn.datasets import load_diabetes\n",
    "\n",
    "from sklearn.preprocessing import StandardScaler\n",
    "from sklearn.model_selection import train_test_split\n",
    "from sklearn.metrics import r2_score\n",
    "\n",
    "import tensorflow as tf\n",
    "from tensorflow import keras\n",
    "\n",
    "from tensorflow.keras.models import Sequential\n",
    "from tensorflow.keras.layers import Dense\n",
    "\n",
    "import matplotlib.pyplot as plt"
   ]
  },
  {
   "cell_type": "markdown",
   "metadata": {
    "colab_type": "text",
    "id": "5FHh910J1Kdm"
   },
   "source": [
    "### Load data\n",
    "Load the Diabetes dataset from **SciKit-Learn**."
   ]
  },
  {
   "cell_type": "code",
   "execution_count": 3,
   "metadata": {
    "colab": {},
    "colab_type": "code",
    "id": "MWu8SlQF1Kdo"
   },
   "outputs": [],
   "source": [
    "diabetes = load_diabetes(return_X_y=False)"
   ]
  },
  {
   "cell_type": "code",
   "execution_count": 4,
   "metadata": {},
   "outputs": [
    {
     "name": "stdout",
     "output_type": "stream",
     "text": [
      ".. _diabetes_dataset:\n",
      "\n",
      "Diabetes dataset\n",
      "----------------\n",
      "\n",
      "Ten baseline variables, age, sex, body mass index, average blood\n",
      "pressure, and six blood serum measurements were obtained for each of n =\n",
      "442 diabetes patients, as well as the response of interest, a\n",
      "quantitative measure of disease progression one year after baseline.\n",
      "\n",
      "**Data Set Characteristics:**\n",
      "\n",
      "  :Number of Instances: 442\n",
      "\n",
      "  :Number of Attributes: First 10 columns are numeric predictive values\n",
      "\n",
      "  :Target: Column 11 is a quantitative measure of disease progression one year after baseline\n",
      "\n",
      "  :Attribute Information:\n",
      "      - age     age in years\n",
      "      - sex\n",
      "      - bmi     body mass index\n",
      "      - bp      average blood pressure\n",
      "      - s1      tc, T-Cells (a type of white blood cells)\n",
      "      - s2      ldl, low-density lipoproteins\n",
      "      - s3      hdl, high-density lipoproteins\n",
      "      - s4      tch, thyroid stimulating hormone\n",
      "      - s5      ltg, lamotrigine\n",
      "      - s6      glu, blood sugar level\n",
      "\n",
      "Note: Each of these 10 feature variables have been mean centered and scaled by the standard deviation times `n_samples` (i.e. the sum of squares of each column totals 1).\n",
      "\n",
      "Source URL:\n",
      "https://www4.stat.ncsu.edu/~boos/var.select/diabetes.html\n",
      "\n",
      "For more information see:\n",
      "Bradley Efron, Trevor Hastie, Iain Johnstone and Robert Tibshirani (2004) \"Least Angle Regression,\" Annals of Statistics (with discussion), 407-499.\n",
      "(https://web.stanford.edu/~hastie/Papers/LARS/LeastAngle_2002.pdf)\n"
     ]
    }
   ],
   "source": [
    "print(diabetes.DESCR)"
   ]
  },
  {
   "cell_type": "markdown",
   "metadata": {
    "colab_type": "text",
    "id": "xR_yLpR01Kdr"
   },
   "source": [
    "### Prepare input data"
   ]
  },
  {
   "cell_type": "code",
   "execution_count": 5,
   "metadata": {
    "colab": {},
    "colab_type": "code",
    "id": "Sp2mf2bB1Kds"
   },
   "outputs": [],
   "source": [
    "X = diabetes.data"
   ]
  },
  {
   "cell_type": "code",
   "execution_count": 7,
   "metadata": {},
   "outputs": [],
   "source": [
    "y = diabetes.target"
   ]
  },
  {
   "cell_type": "code",
   "execution_count": 8,
   "metadata": {},
   "outputs": [
    {
     "data": {
      "text/plain": [
       "442"
      ]
     },
     "execution_count": 8,
     "metadata": {},
     "output_type": "execute_result"
    }
   ],
   "source": [
    "len(y)"
   ]
  },
  {
   "cell_type": "markdown",
   "metadata": {
    "colab_type": "text",
    "id": "j1Vsh6cm1Kdv"
   },
   "source": [
    "### Split the data (training/test)"
   ]
  },
  {
   "cell_type": "code",
   "execution_count": 9,
   "metadata": {
    "colab": {},
    "colab_type": "code",
    "id": "O341llJz1Kdw"
   },
   "outputs": [],
   "source": [
    "X_train, X_test, y_train, y_test = train_test_split(X, y, test_size = 0.3, random_state = 50)"
   ]
  },
  {
   "cell_type": "markdown",
   "metadata": {
    "colab_type": "text",
    "id": "o4dJViJD1Kd0"
   },
   "source": [
    "### Create the model's architecture"
   ]
  },
  {
   "cell_type": "code",
   "execution_count": 25,
   "metadata": {
    "colab": {},
    "colab_type": "code",
    "id": "Tkgf_BLl1Kd1"
   },
   "outputs": [],
   "source": [
    "model = Sequential()"
   ]
  },
  {
   "cell_type": "code",
   "execution_count": 26,
   "metadata": {},
   "outputs": [
    {
     "data": {
      "text/plain": [
       "<tensorflow.python.keras.engine.sequential.Sequential at 0x1fe437f2c70>"
      ]
     },
     "execution_count": 26,
     "metadata": {},
     "output_type": "execute_result"
    }
   ],
   "source": [
    "model"
   ]
  },
  {
   "cell_type": "code",
   "execution_count": 28,
   "metadata": {},
   "outputs": [],
   "source": [
    "#1 layer\n",
    "model.add(Dense(15, activation = 'relu'))\n",
    "# 2 layer\n",
    "model.add(Dense(5, activation = 'relu'))\n",
    "# output\n",
    "model.add(Dense(1, activation = 'linear'))"
   ]
  },
  {
   "cell_type": "markdown",
   "metadata": {
    "colab_type": "text",
    "id": "5hQTS42V1Kd4"
   },
   "source": [
    "### Compile the model"
   ]
  },
  {
   "cell_type": "code",
   "execution_count": 30,
   "metadata": {
    "colab": {},
    "colab_type": "code",
    "id": "BvLsoanF1Kd5"
   },
   "outputs": [],
   "source": [
    "model.compile(\n",
    "    optimizer = 'adam',\n",
    "    loss = 'mse',\n",
    "    metrics = ['mse'])"
   ]
  },
  {
   "cell_type": "markdown",
   "metadata": {
    "colab_type": "text",
    "id": "6KPQbnEj1Kd7"
   },
   "source": [
    "### Fit the training data"
   ]
  },
  {
   "cell_type": "code",
   "execution_count": 31,
   "metadata": {
    "colab": {},
    "colab_type": "code",
    "id": "-oiuHjEj1Kd8"
   },
   "outputs": [],
   "source": [
    "from sklearn.utils import shuffle\n",
    "X_train2, y_train2 = shuffle(X_train, y_train, random_state=50)"
   ]
  },
  {
   "cell_type": "code",
   "execution_count": 34,
   "metadata": {},
   "outputs": [
    {
     "name": "stdout",
     "output_type": "stream",
     "text": [
      "Epoch 1/100\n",
      "24/24 [==============================] - 0s 4ms/step - loss: 2869.5359 - mse: 2869.5359 - val_loss: 3195.4148 - val_mse: 3195.4148\n",
      "Epoch 2/100\n",
      "24/24 [==============================] - 0s 2ms/step - loss: 2864.7256 - mse: 2864.7256 - val_loss: 3195.3494 - val_mse: 3195.3494\n",
      "Epoch 3/100\n",
      "24/24 [==============================] - 0s 2ms/step - loss: 2867.8584 - mse: 2867.8584 - val_loss: 3190.2375 - val_mse: 3190.2375\n",
      "Epoch 4/100\n",
      "24/24 [==============================] - 0s 2ms/step - loss: 2866.8696 - mse: 2866.8696 - val_loss: 3197.0581 - val_mse: 3197.0586\n",
      "Epoch 5/100\n",
      "24/24 [==============================] - 0s 2ms/step - loss: 2865.2346 - mse: 2865.2346 - val_loss: 3189.1465 - val_mse: 3189.1465\n",
      "Epoch 6/100\n",
      "24/24 [==============================] - 0s 2ms/step - loss: 2866.6130 - mse: 2866.6130 - val_loss: 3191.9358 - val_mse: 3191.9358\n",
      "Epoch 7/100\n",
      "24/24 [==============================] - 0s 2ms/step - loss: 2867.0728 - mse: 2867.0728 - val_loss: 3187.6487 - val_mse: 3187.6487\n",
      "Epoch 8/100\n",
      "24/24 [==============================] - 0s 2ms/step - loss: 2868.1941 - mse: 2868.1941 - val_loss: 3191.6094 - val_mse: 3191.6094\n",
      "Epoch 9/100\n",
      "24/24 [==============================] - 0s 2ms/step - loss: 2867.0376 - mse: 2867.0374 - val_loss: 3196.1277 - val_mse: 3196.1277\n",
      "Epoch 10/100\n",
      "24/24 [==============================] - 0s 2ms/step - loss: 2864.8367 - mse: 2864.8367 - val_loss: 3195.6907 - val_mse: 3195.6907\n",
      "Epoch 11/100\n",
      "24/24 [==============================] - 0s 2ms/step - loss: 2864.7517 - mse: 2864.7517 - val_loss: 3194.2244 - val_mse: 3194.2244\n",
      "Epoch 12/100\n",
      "24/24 [==============================] - 0s 2ms/step - loss: 2864.4766 - mse: 2864.4766 - val_loss: 3197.8135 - val_mse: 3197.8132\n",
      "Epoch 13/100\n",
      "24/24 [==============================] - 0s 2ms/step - loss: 2864.6445 - mse: 2864.6445 - val_loss: 3197.3811 - val_mse: 3197.3811\n",
      "Epoch 14/100\n",
      "24/24 [==============================] - 0s 2ms/step - loss: 2864.6221 - mse: 2864.6221 - val_loss: 3197.5220 - val_mse: 3197.5220\n",
      "Epoch 15/100\n",
      "24/24 [==============================] - 0s 2ms/step - loss: 2865.8010 - mse: 2865.8010 - val_loss: 3199.6958 - val_mse: 3199.6958\n",
      "Epoch 16/100\n",
      "24/24 [==============================] - 0s 2ms/step - loss: 2864.8135 - mse: 2864.8135 - val_loss: 3199.1831 - val_mse: 3199.1831\n",
      "Epoch 17/100\n",
      "24/24 [==============================] - 0s 2ms/step - loss: 2864.0059 - mse: 2864.0059 - val_loss: 3195.5381 - val_mse: 3195.5381\n",
      "Epoch 18/100\n",
      "24/24 [==============================] - 0s 2ms/step - loss: 2866.3208 - mse: 2866.3208 - val_loss: 3183.5288 - val_mse: 3183.5288\n",
      "Epoch 19/100\n",
      "24/24 [==============================] - 0s 2ms/step - loss: 2864.0051 - mse: 2864.0051 - val_loss: 3180.9546 - val_mse: 3180.9546\n",
      "Epoch 20/100\n",
      "24/24 [==============================] - 0s 2ms/step - loss: 2865.6606 - mse: 2865.6606 - val_loss: 3177.2695 - val_mse: 3177.2695\n",
      "Epoch 21/100\n",
      "24/24 [==============================] - 0s 2ms/step - loss: 2870.9717 - mse: 2870.9717 - val_loss: 3176.1150 - val_mse: 3176.1150\n",
      "Epoch 22/100\n",
      "24/24 [==============================] - 0s 2ms/step - loss: 2868.8394 - mse: 2868.8394 - val_loss: 3177.3735 - val_mse: 3177.3735\n",
      "Epoch 23/100\n",
      "24/24 [==============================] - 0s 2ms/step - loss: 2871.1670 - mse: 2871.1670 - val_loss: 3174.3398 - val_mse: 3174.3398\n",
      "Epoch 24/100\n",
      "24/24 [==============================] - 0s 2ms/step - loss: 2876.2043 - mse: 2876.2043 - val_loss: 3170.7668 - val_mse: 3170.7668\n",
      "Epoch 25/100\n",
      "24/24 [==============================] - 0s 2ms/step - loss: 2872.9846 - mse: 2872.9846 - val_loss: 3176.5227 - val_mse: 3176.5227\n",
      "Epoch 26/100\n",
      "24/24 [==============================] - 0s 2ms/step - loss: 2869.2827 - mse: 2869.2827 - val_loss: 3175.3811 - val_mse: 3175.3811\n",
      "Epoch 27/100\n",
      "24/24 [==============================] - 0s 2ms/step - loss: 2866.4023 - mse: 2866.4023 - val_loss: 3181.2593 - val_mse: 3181.2593\n",
      "Epoch 28/100\n",
      "24/24 [==============================] - 0s 2ms/step - loss: 2871.3352 - mse: 2871.3352 - val_loss: 3174.9124 - val_mse: 3174.9124\n",
      "Epoch 29/100\n",
      "24/24 [==============================] - 0s 2ms/step - loss: 2869.3745 - mse: 2869.3745 - val_loss: 3174.3989 - val_mse: 3174.3989\n",
      "Epoch 30/100\n",
      "24/24 [==============================] - 0s 2ms/step - loss: 2866.9353 - mse: 2866.9353 - val_loss: 3177.2949 - val_mse: 3177.2949\n",
      "Epoch 31/100\n",
      "24/24 [==============================] - 0s 2ms/step - loss: 2860.9810 - mse: 2860.9810 - val_loss: 3186.4197 - val_mse: 3186.4197\n",
      "Epoch 32/100\n",
      "24/24 [==============================] - 0s 2ms/step - loss: 2864.9951 - mse: 2864.9951 - val_loss: 3187.4402 - val_mse: 3187.4402\n",
      "Epoch 33/100\n",
      "24/24 [==============================] - 0s 2ms/step - loss: 2863.8542 - mse: 2863.8542 - val_loss: 3186.9138 - val_mse: 3186.9138\n",
      "Epoch 34/100\n",
      "24/24 [==============================] - 0s 2ms/step - loss: 2861.7756 - mse: 2861.7756 - val_loss: 3191.0605 - val_mse: 3191.0605\n",
      "Epoch 35/100\n",
      "24/24 [==============================] - 0s 2ms/step - loss: 2863.7173 - mse: 2863.7170 - val_loss: 3187.5024 - val_mse: 3187.5024\n",
      "Epoch 36/100\n",
      "24/24 [==============================] - 0s 2ms/step - loss: 2860.9346 - mse: 2860.9346 - val_loss: 3185.6338 - val_mse: 3185.6338\n",
      "Epoch 37/100\n",
      "24/24 [==============================] - 0s 2ms/step - loss: 2861.3291 - mse: 2861.3291 - val_loss: 3186.8069 - val_mse: 3186.8069\n",
      "Epoch 38/100\n",
      "24/24 [==============================] - 0s 2ms/step - loss: 2872.9858 - mse: 2872.9858 - val_loss: 3175.3440 - val_mse: 3175.3440\n",
      "Epoch 39/100\n",
      "24/24 [==============================] - 0s 2ms/step - loss: 2862.5745 - mse: 2862.5745 - val_loss: 3192.7771 - val_mse: 3192.7769\n",
      "Epoch 40/100\n",
      "24/24 [==============================] - 0s 2ms/step - loss: 2864.6467 - mse: 2864.6467 - val_loss: 3209.3354 - val_mse: 3209.3354\n",
      "Epoch 41/100\n",
      "24/24 [==============================] - 0s 2ms/step - loss: 2863.1292 - mse: 2863.1292 - val_loss: 3199.2996 - val_mse: 3199.2996\n",
      "Epoch 42/100\n",
      "24/24 [==============================] - 0s 2ms/step - loss: 2862.9421 - mse: 2862.9421 - val_loss: 3197.9226 - val_mse: 3197.9231\n",
      "Epoch 43/100\n",
      "24/24 [==============================] - 0s 2ms/step - loss: 2865.8252 - mse: 2865.8252 - val_loss: 3191.9351 - val_mse: 3191.9351\n",
      "Epoch 44/100\n",
      "24/24 [==============================] - 0s 2ms/step - loss: 2862.3027 - mse: 2862.3027 - val_loss: 3201.7236 - val_mse: 3201.7236\n",
      "Epoch 45/100\n",
      "24/24 [==============================] - 0s 2ms/step - loss: 2861.8965 - mse: 2861.8965 - val_loss: 3199.3899 - val_mse: 3199.3899\n",
      "Epoch 46/100\n",
      "24/24 [==============================] - 0s 2ms/step - loss: 2862.3906 - mse: 2862.3906 - val_loss: 3192.3618 - val_mse: 3192.3618\n",
      "Epoch 47/100\n",
      "24/24 [==============================] - 0s 2ms/step - loss: 2865.4221 - mse: 2865.4224 - val_loss: 3194.2446 - val_mse: 3194.2446\n",
      "Epoch 48/100\n",
      "24/24 [==============================] - 0s 2ms/step - loss: 2864.5686 - mse: 2864.5686 - val_loss: 3193.0320 - val_mse: 3193.0320\n",
      "Epoch 49/100\n",
      "24/24 [==============================] - 0s 2ms/step - loss: 2867.3579 - mse: 2867.3579 - val_loss: 3202.6606 - val_mse: 3202.6609\n",
      "Epoch 50/100\n",
      "24/24 [==============================] - 0s 2ms/step - loss: 2863.6230 - mse: 2863.6230 - val_loss: 3197.4695 - val_mse: 3197.4695\n",
      "Epoch 51/100\n",
      "24/24 [==============================] - 0s 2ms/step - loss: 2861.9023 - mse: 2861.9023 - val_loss: 3200.3855 - val_mse: 3200.3853\n",
      "Epoch 52/100\n",
      "24/24 [==============================] - 0s 2ms/step - loss: 2863.6997 - mse: 2863.6997 - val_loss: 3205.4089 - val_mse: 3205.4089\n",
      "Epoch 53/100\n",
      "24/24 [==============================] - 0s 2ms/step - loss: 2859.1707 - mse: 2859.1707 - val_loss: 3193.3176 - val_mse: 3193.3176\n",
      "Epoch 54/100\n",
      "24/24 [==============================] - 0s 2ms/step - loss: 2863.1519 - mse: 2863.1519 - val_loss: 3185.5762 - val_mse: 3185.5762\n",
      "Epoch 55/100\n",
      "24/24 [==============================] - 0s 2ms/step - loss: 2862.6348 - mse: 2862.6348 - val_loss: 3184.4170 - val_mse: 3184.4170\n",
      "Epoch 56/100\n",
      "24/24 [==============================] - 0s 2ms/step - loss: 2862.1377 - mse: 2862.1377 - val_loss: 3187.5674 - val_mse: 3187.5674\n",
      "Epoch 57/100\n",
      "24/24 [==============================] - 0s 2ms/step - loss: 2862.4529 - mse: 2862.4529 - val_loss: 3198.2610 - val_mse: 3198.2612\n"
     ]
    },
    {
     "name": "stdout",
     "output_type": "stream",
     "text": [
      "Epoch 58/100\n",
      "24/24 [==============================] - 0s 2ms/step - loss: 2867.8743 - mse: 2867.8743 - val_loss: 3214.3242 - val_mse: 3214.3242\n",
      "Epoch 59/100\n",
      "24/24 [==============================] - 0s 2ms/step - loss: 2863.0742 - mse: 2863.0742 - val_loss: 3204.5574 - val_mse: 3204.5574\n",
      "Epoch 60/100\n",
      "24/24 [==============================] - 0s 2ms/step - loss: 2862.2600 - mse: 2862.2600 - val_loss: 3193.3645 - val_mse: 3193.3645\n",
      "Epoch 61/100\n",
      "24/24 [==============================] - 0s 2ms/step - loss: 2864.0686 - mse: 2864.0686 - val_loss: 3187.8167 - val_mse: 3187.8167\n",
      "Epoch 62/100\n",
      "24/24 [==============================] - 0s 2ms/step - loss: 2864.1309 - mse: 2864.1309 - val_loss: 3190.1611 - val_mse: 3190.1614\n",
      "Epoch 63/100\n",
      "24/24 [==============================] - 0s 2ms/step - loss: 2863.0442 - mse: 2863.0442 - val_loss: 3184.9832 - val_mse: 3184.9832\n",
      "Epoch 64/100\n",
      "24/24 [==============================] - 0s 2ms/step - loss: 2862.2742 - mse: 2862.2742 - val_loss: 3190.1011 - val_mse: 3190.1011\n",
      "Epoch 65/100\n",
      "24/24 [==============================] - 0s 2ms/step - loss: 2861.0623 - mse: 2861.0623 - val_loss: 3186.9302 - val_mse: 3186.9302\n",
      "Epoch 66/100\n",
      "24/24 [==============================] - 0s 2ms/step - loss: 2861.2083 - mse: 2861.2083 - val_loss: 3187.6980 - val_mse: 3187.6982\n",
      "Epoch 67/100\n",
      "24/24 [==============================] - 0s 2ms/step - loss: 2859.7908 - mse: 2859.7908 - val_loss: 3197.9856 - val_mse: 3197.9861\n",
      "Epoch 68/100\n",
      "24/24 [==============================] - 0s 2ms/step - loss: 2860.3843 - mse: 2860.3843 - val_loss: 3218.0898 - val_mse: 3218.0898\n",
      "Epoch 69/100\n",
      "24/24 [==============================] - 0s 2ms/step - loss: 2868.2332 - mse: 2868.2332 - val_loss: 3216.6887 - val_mse: 3216.6887\n",
      "Epoch 70/100\n",
      "24/24 [==============================] - 0s 2ms/step - loss: 2863.8650 - mse: 2863.8647 - val_loss: 3207.0193 - val_mse: 3207.0193\n",
      "Epoch 71/100\n",
      "24/24 [==============================] - 0s 2ms/step - loss: 2861.8142 - mse: 2861.8142 - val_loss: 3202.8035 - val_mse: 3202.8032\n",
      "Epoch 72/100\n",
      "24/24 [==============================] - 0s 2ms/step - loss: 2861.0581 - mse: 2861.0581 - val_loss: 3203.0386 - val_mse: 3203.0386\n",
      "Epoch 73/100\n",
      "24/24 [==============================] - 0s 2ms/step - loss: 2861.5791 - mse: 2861.5791 - val_loss: 3203.2864 - val_mse: 3203.2864\n",
      "Epoch 74/100\n",
      "24/24 [==============================] - 0s 2ms/step - loss: 2859.4265 - mse: 2859.4265 - val_loss: 3198.3169 - val_mse: 3198.3169\n",
      "Epoch 75/100\n",
      "24/24 [==============================] - 0s 2ms/step - loss: 2861.4316 - mse: 2861.4316 - val_loss: 3206.9385 - val_mse: 3206.9385\n",
      "Epoch 76/100\n",
      "24/24 [==============================] - 0s 2ms/step - loss: 2864.0996 - mse: 2864.0996 - val_loss: 3196.7559 - val_mse: 3196.7559\n",
      "Epoch 77/100\n",
      "24/24 [==============================] - 0s 2ms/step - loss: 2860.1172 - mse: 2860.1172 - val_loss: 3201.6362 - val_mse: 3201.6362\n",
      "Epoch 78/100\n",
      "24/24 [==============================] - 0s 2ms/step - loss: 2861.3220 - mse: 2861.3220 - val_loss: 3190.8599 - val_mse: 3190.8599\n",
      "Epoch 79/100\n",
      "24/24 [==============================] - 0s 2ms/step - loss: 2859.7114 - mse: 2859.7114 - val_loss: 3196.2114 - val_mse: 3196.2114\n",
      "Epoch 80/100\n",
      "24/24 [==============================] - 0s 2ms/step - loss: 2861.1060 - mse: 2861.1060 - val_loss: 3193.9895 - val_mse: 3193.9895\n",
      "Epoch 81/100\n",
      "24/24 [==============================] - 0s 2ms/step - loss: 2860.3193 - mse: 2860.3193 - val_loss: 3187.8425 - val_mse: 3187.8428\n",
      "Epoch 82/100\n",
      "24/24 [==============================] - 0s 2ms/step - loss: 2860.4719 - mse: 2860.4717 - val_loss: 3186.6458 - val_mse: 3186.6458\n",
      "Epoch 83/100\n",
      "24/24 [==============================] - 0s 2ms/step - loss: 2861.2283 - mse: 2861.2283 - val_loss: 3194.9849 - val_mse: 3194.9849\n",
      "Epoch 84/100\n",
      "24/24 [==============================] - 0s 2ms/step - loss: 2859.8821 - mse: 2859.8821 - val_loss: 3193.2314 - val_mse: 3193.2314\n",
      "Epoch 85/100\n",
      "24/24 [==============================] - 0s 2ms/step - loss: 2869.0017 - mse: 2869.0017 - val_loss: 3178.9792 - val_mse: 3178.9792\n",
      "Epoch 86/100\n",
      "24/24 [==============================] - 0s 2ms/step - loss: 2861.4170 - mse: 2861.4170 - val_loss: 3193.0112 - val_mse: 3193.0112\n",
      "Epoch 87/100\n",
      "24/24 [==============================] - 0s 2ms/step - loss: 2858.0728 - mse: 2858.0728 - val_loss: 3199.4524 - val_mse: 3199.4524\n",
      "Epoch 88/100\n",
      "24/24 [==============================] - 0s 2ms/step - loss: 2860.7693 - mse: 2860.7693 - val_loss: 3192.9243 - val_mse: 3192.9243\n",
      "Epoch 89/100\n",
      "24/24 [==============================] - 0s 2ms/step - loss: 2858.5000 - mse: 2858.5000 - val_loss: 3192.2793 - val_mse: 3192.2793\n",
      "Epoch 90/100\n",
      "24/24 [==============================] - 0s 2ms/step - loss: 2862.6301 - mse: 2862.6301 - val_loss: 3196.0425 - val_mse: 3196.0425\n",
      "Epoch 91/100\n",
      "24/24 [==============================] - 0s 2ms/step - loss: 2859.1721 - mse: 2859.1721 - val_loss: 3187.3699 - val_mse: 3187.3699\n",
      "Epoch 92/100\n",
      "24/24 [==============================] - 0s 2ms/step - loss: 2862.5564 - mse: 2862.5564 - val_loss: 3183.3220 - val_mse: 3183.3220\n",
      "Epoch 93/100\n",
      "24/24 [==============================] - 0s 2ms/step - loss: 2861.9878 - mse: 2861.9878 - val_loss: 3188.0627 - val_mse: 3188.0627\n",
      "Epoch 94/100\n",
      "24/24 [==============================] - 0s 2ms/step - loss: 2858.2808 - mse: 2858.2808 - val_loss: 3187.5308 - val_mse: 3187.5308\n",
      "Epoch 95/100\n",
      "24/24 [==============================] - 0s 2ms/step - loss: 2858.1621 - mse: 2858.1621 - val_loss: 3191.1667 - val_mse: 3191.1667\n",
      "Epoch 96/100\n",
      "24/24 [==============================] - 0s 2ms/step - loss: 2859.3206 - mse: 2859.3206 - val_loss: 3190.5586 - val_mse: 3190.5586\n",
      "Epoch 97/100\n",
      "24/24 [==============================] - 0s 2ms/step - loss: 2858.7046 - mse: 2858.7046 - val_loss: 3182.3291 - val_mse: 3182.3291\n",
      "Epoch 98/100\n",
      "24/24 [==============================] - 0s 2ms/step - loss: 2857.9133 - mse: 2857.9133 - val_loss: 3183.2305 - val_mse: 3183.2305\n",
      "Epoch 99/100\n",
      "24/24 [==============================] - 0s 2ms/step - loss: 2861.2029 - mse: 2861.2029 - val_loss: 3179.6440 - val_mse: 3179.6440\n",
      "Epoch 100/100\n",
      "24/24 [==============================] - 0s 2ms/step - loss: 2862.5283 - mse: 2862.5283 - val_loss: 3193.6594 - val_mse: 3193.6594\n"
     ]
    }
   ],
   "source": [
    "modelfit = model.fit(\n",
    "    X_train,\n",
    "    y_train,\n",
    "    validation_split = 0.25,\n",
    "    batch_size = 10,\n",
    "    epochs = 100,\n",
    "    verbose = 1)"
   ]
  },
  {
   "cell_type": "markdown",
   "metadata": {
    "colab_type": "text",
    "id": "CR-kCu3c1Kd-"
   },
   "source": [
    "### Create predictions"
   ]
  },
  {
   "cell_type": "code",
   "execution_count": 35,
   "metadata": {
    "colab": {},
    "colab_type": "code",
    "id": "wkywKqPg1Kd-"
   },
   "outputs": [],
   "source": [
    "predictions = model.predict(X_test)"
   ]
  },
  {
   "cell_type": "code",
   "execution_count": 37,
   "metadata": {},
   "outputs": [
    {
     "data": {
      "text/plain": [
       "array([[ 75.45079 ],\n",
       "       [ 77.35835 ],\n",
       "       [269.61392 ],\n",
       "       [ 84.235176],\n",
       "       [ 68.25436 ],\n",
       "       [ 63.194168],\n",
       "       [146.51437 ],\n",
       "       [183.39177 ],\n",
       "       [ 93.16322 ],\n",
       "       [130.12567 ],\n",
       "       [144.35133 ],\n",
       "       [ 86.25201 ],\n",
       "       [106.854866],\n",
       "       [ 76.827   ],\n",
       "       [132.39503 ],\n",
       "       [ 88.93239 ],\n",
       "       [ 81.32101 ],\n",
       "       [149.36528 ],\n",
       "       [158.5101  ],\n",
       "       [ 91.34667 ],\n",
       "       [163.9419  ],\n",
       "       [153.1282  ],\n",
       "       [168.70618 ],\n",
       "       [118.46567 ],\n",
       "       [207.27676 ],\n",
       "       [151.40863 ],\n",
       "       [164.90329 ],\n",
       "       [107.57863 ],\n",
       "       [131.7752  ],\n",
       "       [252.1403  ],\n",
       "       [228.45247 ],\n",
       "       [202.80396 ],\n",
       "       [ 51.198746],\n",
       "       [ 43.479164],\n",
       "       [ 67.20653 ],\n",
       "       [ 44.81658 ],\n",
       "       [152.21068 ],\n",
       "       [124.43879 ],\n",
       "       [173.79654 ],\n",
       "       [137.20981 ],\n",
       "       [181.73303 ],\n",
       "       [164.94229 ],\n",
       "       [159.95593 ],\n",
       "       [137.48631 ],\n",
       "       [194.02873 ],\n",
       "       [175.00137 ],\n",
       "       [134.39273 ],\n",
       "       [179.99193 ],\n",
       "       [159.50461 ],\n",
       "       [ 64.59065 ],\n",
       "       [125.08616 ],\n",
       "       [108.717384],\n",
       "       [198.45164 ],\n",
       "       [153.78896 ],\n",
       "       [ 89.64812 ],\n",
       "       [153.81668 ],\n",
       "       [127.07778 ],\n",
       "       [226.83461 ],\n",
       "       [114.1702  ],\n",
       "       [236.92322 ],\n",
       "       [191.39624 ],\n",
       "       [140.08475 ],\n",
       "       [ 47.594185],\n",
       "       [102.64339 ],\n",
       "       [108.26658 ],\n",
       "       [150.93109 ],\n",
       "       [151.74605 ],\n",
       "       [160.88    ],\n",
       "       [ 65.09184 ],\n",
       "       [ 61.713684],\n",
       "       [192.51    ],\n",
       "       [180.74316 ],\n",
       "       [ 71.724   ],\n",
       "       [266.83167 ],\n",
       "       [239.20502 ],\n",
       "       [135.30551 ],\n",
       "       [202.24405 ],\n",
       "       [285.42728 ],\n",
       "       [194.3265  ],\n",
       "       [116.567635],\n",
       "       [176.00287 ],\n",
       "       [166.08667 ],\n",
       "       [140.72205 ],\n",
       "       [221.9497  ],\n",
       "       [133.45367 ],\n",
       "       [197.57437 ],\n",
       "       [137.82129 ],\n",
       "       [231.10205 ],\n",
       "       [ 84.947784],\n",
       "       [134.98499 ],\n",
       "       [212.35298 ],\n",
       "       [173.40265 ],\n",
       "       [104.75703 ],\n",
       "       [234.53197 ],\n",
       "       [135.6823  ],\n",
       "       [130.06836 ],\n",
       "       [194.82083 ],\n",
       "       [123.068146],\n",
       "       [141.03372 ],\n",
       "       [131.79424 ],\n",
       "       [209.40051 ],\n",
       "       [165.43155 ],\n",
       "       [129.17422 ],\n",
       "       [196.77545 ],\n",
       "       [136.7795  ],\n",
       "       [229.26451 ],\n",
       "       [215.67319 ],\n",
       "       [143.14609 ],\n",
       "       [120.80501 ],\n",
       "       [ 96.64834 ],\n",
       "       [143.45366 ],\n",
       "       [ 67.033646],\n",
       "       [186.49097 ],\n",
       "       [204.09879 ],\n",
       "       [185.48692 ],\n",
       "       [186.2094  ],\n",
       "       [ 87.04491 ],\n",
       "       [181.16194 ],\n",
       "       [ 95.24149 ],\n",
       "       [154.8773  ],\n",
       "       [146.52846 ],\n",
       "       [203.16833 ],\n",
       "       [136.85515 ],\n",
       "       [ 88.0045  ],\n",
       "       [119.19566 ],\n",
       "       [230.09462 ],\n",
       "       [ 96.88078 ],\n",
       "       [ 74.29565 ],\n",
       "       [163.83694 ],\n",
       "       [177.2894  ],\n",
       "       [192.39806 ],\n",
       "       [124.91072 ],\n",
       "       [109.02109 ]], dtype=float32)"
      ]
     },
     "execution_count": 37,
     "metadata": {},
     "output_type": "execute_result"
    }
   ],
   "source": [
    "predictions"
   ]
  },
  {
   "cell_type": "markdown",
   "metadata": {
    "colab_type": "text",
    "id": "-unEmrGo1KeA"
   },
   "source": [
    "### Evaluate the model"
   ]
  },
  {
   "cell_type": "code",
   "execution_count": 38,
   "metadata": {
    "colab": {},
    "colab_type": "code",
    "id": "QCIVpVrG1KeB"
   },
   "outputs": [
    {
     "name": "stdout",
     "output_type": "stream",
     "text": [
      "5/5 [==============================] - 0s 997us/step - loss: 2940.9185 - mse: 2940.9185\n"
     ]
    }
   ],
   "source": [
    "score = model.evaluate(X_test, y_test)"
   ]
  },
  {
   "cell_type": "code",
   "execution_count": 39,
   "metadata": {},
   "outputs": [
    {
     "data": {
      "text/plain": [
       "[2940.91845703125, 2940.91845703125]"
      ]
     },
     "execution_count": 39,
     "metadata": {},
     "output_type": "execute_result"
    }
   ],
   "source": [
    "score"
   ]
  },
  {
   "cell_type": "markdown",
   "metadata": {
    "colab_type": "text",
    "id": "sSlqjs7e1KeD"
   },
   "source": [
    "### Visualisation of cost"
   ]
  },
  {
   "cell_type": "code",
   "execution_count": 47,
   "metadata": {
    "colab": {},
    "colab_type": "code",
    "id": "1F6hYpNh1KeE",
    "scrolled": true
   },
   "outputs": [
    {
     "data": {
      "image/png": "[encoded data removed]",
      "text/plain": [
       "<Figure size 1296x432 with 2 Axes>"
      ]
     },
     "metadata": {
      "needs_background": "light"
     },
     "output_type": "display_data"
    }
   ],
   "source": [
    "# Plot training & validation accuracy values\n",
    "fig, ax = plt.subplots(1, 2, figsize = (18, 6))\n",
    "fig.subplots_adjust(left = 0.02, right = 0.98, wspace = 0.2)\n",
    "\n",
    "plt.rcParams.update({'font.size': 14})\n",
    "\n",
    "# Plot training & validation accuracy values\n",
    "ax[0].plot(modelfit.history['mse'], label = 'Training')\n",
    "ax[0].plot(modelfit.history['val_mse'], label = 'Validation')\n",
    "ax[0].set_title('Model MSE')\n",
    "ax[0].set_ylabel('MSE')\n",
    "ax[0].set_xlabel('Epoch')\n",
    "ax[0].legend()\n",
    "\n",
    "# Plot training & validation loss values\n",
    "ax[1].plot(modelfit.history['loss'], label = 'Training')\n",
    "ax[1].plot(modelfit.history['val_loss'], label = 'Validation')\n",
    "ax[1].set_title('Model loss')\n",
    "ax[1].set_ylabel('Loss')\n",
    "ax[1].set_xlabel('Epoch')\n",
    "ax[1].legend()\n",
    "\n",
    "plt.show()"
   ]
  },
  {
   "cell_type": "markdown",
   "metadata": {
    "colab_type": "text",
    "id": "vQLzMZTM1KeG"
   },
   "source": [
    "### Visualisation of residuals"
   ]
  },
  {
   "cell_type": "code",
   "execution_count": 48,
   "metadata": {
    "colab": {},
    "colab_type": "code",
    "id": "opIulVSw1KeH"
   },
   "outputs": [],
   "source": [
    "r2 = r2_score(y_test, predictions)\n",
    "n, p = X.shape # sample size, number of explanatory variables\n",
    "adjusted_r2 = 1 - (1 - r2) * ((n - 1) / (n - p - 1))"
   ]
  },
  {
   "cell_type": "code",
   "execution_count": 49,
   "metadata": {},
   "outputs": [
    {
     "data": {
      "image/png": "[encoded data removed]",
      "text/plain": [
       "<Figure size 1080x432 with 1 Axes>"
      ]
     },
     "metadata": {
      "needs_background": "light"
     },
     "output_type": "display_data"
    }
   ],
   "source": [
    "difference = predictions.flatten() - y_test\n",
    "d_mean = difference.mean()\n",
    "d_std = difference.std()\n",
    "n_pred = len(predictions)\n",
    "plt.figure(figsize = (15, 6))\n",
    "plt.scatter(range(n_pred), difference, s = 15)\n",
    "plt.hlines(d_mean + d_std, 0, n_pred, 'r', lw = 1, label = '$\\pm \\: std$')\n",
    "plt.hlines(d_mean, 0, n_pred, label = '$mean$')\n",
    "plt.hlines(d_mean - d_std, 0, n_pred, 'r', lw = 1)\n",
    "plt.xlabel('Prediction')\n",
    "plt.ylabel('$\\hat y - y$')\n",
    "plt.legend()\n",
    "plt.text(0, difference.max() * 0.95,\n",
    "         '$R^2: %.2f, \\: Adjusted \\: R^2: %.2f$' % (r2, adjusted_r2),\n",
    "         fontsize = 12)\n",
    "plt.show()"
   ]
  },
  {
   "cell_type": "markdown",
   "metadata": {
    "colab_type": "text",
    "id": "RERADKgNFq9T"
   },
   "source": [
    "\n",
    "\n",
    "---\n",
    "\n",
    "\n",
    "\n",
    "---\n",
    "\n",
    "\n",
    "\n",
    "> > > > > > > > > © 2021 Institute of Data\n",
    "\n",
    "\n",
    "---\n",
    "\n",
    "\n",
    "\n",
    "---\n",
    "\n",
    "\n",
    "\n"
   ]
  }
 ],
 "metadata": {
  "colab": {
   "collapsed_sections": [],
   "name": "DSIA Lab-10_1.ipynb",
   "provenance": []
  },
  "kernelspec": {
   "display_name": "Python 3",
   "language": "python",
   "name": "python3"
  },
  "language_info": {
   "codemirror_mode": {
    "name": "ipython",
    "version": 3
   },
   "file_extension": ".py",
   "mimetype": "text/x-python",
   "name": "python",
   "nbconvert_exporter": "python",
   "pygments_lexer": "ipython3",
   "version": "3.8.5"
  }
 },
 "nbformat": 4,
 "nbformat_minor": 1
}
