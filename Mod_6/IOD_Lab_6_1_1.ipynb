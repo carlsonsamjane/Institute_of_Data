{
 "cells": [
  {
   "cell_type": "markdown",
   "metadata": {
    "colab_type": "text",
    "id": "9buSDVQSZdoN"
   },
   "source": [
    "<div>\n",
    "<img src=https://www.institutedata.com/wp-content/uploads/2019/10/iod_h_tp_primary_c.svg width=\"300\">\n",
    "</div>"
   ]
  },
  {
   "cell_type": "markdown",
   "metadata": {
    "colab_type": "text",
    "id": "o59uK883ZdoO"
   },
   "source": [
    "# Lab 6.1.1: K-Means by the algorithm\n",
    "\n",
    "### Australian athletes data set\n",
    "\n",
    "##### Description\n",
    "These data were collected in a study of how data on various characteristics of the bloood varied with sport body size and sex of the athlete.\n",
    "\n",
    "Usage\n",
    "data(ais)\n",
    "Format\n",
    "A data frame with 202 observations on the following 13 variables.\n",
    "\n",
    "rcc\n",
    "red blood cell count, in\n",
    "\n",
    "wcc\n",
    "while blood cell count, in per liter\n",
    "\n",
    "hc\n",
    "hematocrit, percent\n",
    "\n",
    "hg\n",
    "hemaglobin concentration, in g per decaliter\n",
    "\n",
    "ferr\n",
    "plasma ferritins, ng\n",
    "\n",
    "bmi\n",
    "Body mass index, kg\n",
    "\n",
    "ssf\n",
    "sum of skin folds\n",
    "\n",
    "pcBfat\n",
    "percent Body fat\n",
    "\n",
    "lbm\n",
    "lean body mass, kg\n",
    "\n",
    "ht\n",
    "height, cm\n",
    "\n",
    "wt\n",
    "weight, kg\n",
    "\n",
    "sex\n",
    "a factor with levels f m\n",
    "\n",
    "sport\n",
    "a factor with levels B_Ball Field Gym Netball Row Swim T_400m T_Sprnt Tennis W_Polo\n",
    "\n",
    "Details\n",
    "Do blood hemoglobin concentrations of athletes in endurance-related events differ from those in power-related events?\n",
    "\n",
    "Source\n",
    "These data were the basis for the analyses that are reported in Telford and Cunningham (1991).\n",
    "\n",
    "References\n",
    "Telford, R.D. and Cunningham, R.B. 1991. Sex, sport and body-size dependency of hematology in highly trained athletes. Medicine and Science in Sports and Exercise 23: 788-794.\n",
    "\n",
    "**References**\n",
    "\n",
    "[Data](http://vincentarelbundock.github.io/Rdatasets/csv/DAAG/ais.csv)\n",
    "\n",
    "[Data Dictionary](http://vincentarelbundock.github.io/Rdatasets/doc/DAAG/ais.html)"
   ]
  },
  {
   "cell_type": "code",
   "execution_count": 2,
   "metadata": {
    "colab": {},
    "colab_type": "code",
    "id": "I5rfFoKjZdoP"
   },
   "outputs": [],
   "source": [
    "import numpy as np\n",
    "import pandas as pd\n",
    "\n",
    "import matplotlib.pyplot as plt\n",
    "import seaborn as sns\n",
    "\n",
    "from sklearn.preprocessing import StandardScaler\n",
    "\n",
    "from sklearn.cluster import KMeans\n",
    "from sklearn import metrics\n",
    "from scipy.spatial.distance import cdist"
   ]
  },
  {
   "cell_type": "markdown",
   "metadata": {
    "colab_type": "text",
    "id": "PSGo77oGZdoT"
   },
   "source": [
    "### 1. Import the data"
   ]
  },
  {
   "cell_type": "code",
   "execution_count": 3,
   "metadata": {
    "colab": {},
    "colab_type": "code",
    "id": "94YMO8LbZdoU"
   },
   "outputs": [],
   "source": [
    "data = pd.read_csv ('C:/Users/carls/OneDrive/Desktop/IOD/Data/ais.csv', index_col = 'Unnamed: 0')"
   ]
  },
  {
   "cell_type": "markdown",
   "metadata": {
    "colab_type": "text",
    "id": "_OnASLbbZdoW"
   },
   "source": [
    "### 2. Do some EDA of relationships between features."
   ]
  },
  {
   "cell_type": "code",
   "execution_count": 4,
   "metadata": {},
   "outputs": [
    {
     "data": {
      "text/html": [
       "<div>\n",
       "<style scoped>\n",
       "    .dataframe tbody tr th:only-of-type {\n",
       "        vertical-align: middle;\n",
       "    }\n",
       "\n",
       "    .dataframe tbody tr th {\n",
       "        vertical-align: top;\n",
       "    }\n",
       "\n",
       "    .dataframe thead th {\n",
       "        text-align: right;\n",
       "    }\n",
       "</style>\n",
       "<table border=\"1\" class=\"dataframe\">\n",
       "  <thead>\n",
       "    <tr style=\"text-align: right;\">\n",
       "      <th></th>\n",
       "      <th>rcc</th>\n",
       "      <th>wcc</th>\n",
       "      <th>hc</th>\n",
       "      <th>hg</th>\n",
       "      <th>ferr</th>\n",
       "      <th>bmi</th>\n",
       "      <th>ssf</th>\n",
       "      <th>pcBfat</th>\n",
       "      <th>lbm</th>\n",
       "      <th>ht</th>\n",
       "      <th>wt</th>\n",
       "      <th>sex</th>\n",
       "      <th>sport</th>\n",
       "    </tr>\n",
       "  </thead>\n",
       "  <tbody>\n",
       "    <tr>\n",
       "      <th>1</th>\n",
       "      <td>3.96</td>\n",
       "      <td>7.5</td>\n",
       "      <td>37.5</td>\n",
       "      <td>12.3</td>\n",
       "      <td>60</td>\n",
       "      <td>20.56</td>\n",
       "      <td>109.1</td>\n",
       "      <td>19.75</td>\n",
       "      <td>63.32</td>\n",
       "      <td>195.9</td>\n",
       "      <td>78.9</td>\n",
       "      <td>f</td>\n",
       "      <td>B_Ball</td>\n",
       "    </tr>\n",
       "    <tr>\n",
       "      <th>2</th>\n",
       "      <td>4.41</td>\n",
       "      <td>8.3</td>\n",
       "      <td>38.2</td>\n",
       "      <td>12.7</td>\n",
       "      <td>68</td>\n",
       "      <td>20.67</td>\n",
       "      <td>102.8</td>\n",
       "      <td>21.30</td>\n",
       "      <td>58.55</td>\n",
       "      <td>189.7</td>\n",
       "      <td>74.4</td>\n",
       "      <td>f</td>\n",
       "      <td>B_Ball</td>\n",
       "    </tr>\n",
       "    <tr>\n",
       "      <th>3</th>\n",
       "      <td>4.14</td>\n",
       "      <td>5.0</td>\n",
       "      <td>36.4</td>\n",
       "      <td>11.6</td>\n",
       "      <td>21</td>\n",
       "      <td>21.86</td>\n",
       "      <td>104.6</td>\n",
       "      <td>19.88</td>\n",
       "      <td>55.36</td>\n",
       "      <td>177.8</td>\n",
       "      <td>69.1</td>\n",
       "      <td>f</td>\n",
       "      <td>B_Ball</td>\n",
       "    </tr>\n",
       "    <tr>\n",
       "      <th>4</th>\n",
       "      <td>4.11</td>\n",
       "      <td>5.3</td>\n",
       "      <td>37.3</td>\n",
       "      <td>12.6</td>\n",
       "      <td>69</td>\n",
       "      <td>21.88</td>\n",
       "      <td>126.4</td>\n",
       "      <td>23.66</td>\n",
       "      <td>57.18</td>\n",
       "      <td>185.0</td>\n",
       "      <td>74.9</td>\n",
       "      <td>f</td>\n",
       "      <td>B_Ball</td>\n",
       "    </tr>\n",
       "    <tr>\n",
       "      <th>5</th>\n",
       "      <td>4.45</td>\n",
       "      <td>6.8</td>\n",
       "      <td>41.5</td>\n",
       "      <td>14.0</td>\n",
       "      <td>29</td>\n",
       "      <td>18.96</td>\n",
       "      <td>80.3</td>\n",
       "      <td>17.64</td>\n",
       "      <td>53.20</td>\n",
       "      <td>184.6</td>\n",
       "      <td>64.6</td>\n",
       "      <td>f</td>\n",
       "      <td>B_Ball</td>\n",
       "    </tr>\n",
       "  </tbody>\n",
       "</table>\n",
       "</div>"
      ],
      "text/plain": [
       "    rcc  wcc    hc    hg  ferr    bmi    ssf  pcBfat    lbm     ht    wt sex  \\\n",
       "1  3.96  7.5  37.5  12.3    60  20.56  109.1   19.75  63.32  195.9  78.9   f   \n",
       "2  4.41  8.3  38.2  12.7    68  20.67  102.8   21.30  58.55  189.7  74.4   f   \n",
       "3  4.14  5.0  36.4  11.6    21  21.86  104.6   19.88  55.36  177.8  69.1   f   \n",
       "4  4.11  5.3  37.3  12.6    69  21.88  126.4   23.66  57.18  185.0  74.9   f   \n",
       "5  4.45  6.8  41.5  14.0    29  18.96   80.3   17.64  53.20  184.6  64.6   f   \n",
       "\n",
       "    sport  \n",
       "1  B_Ball  \n",
       "2  B_Ball  \n",
       "3  B_Ball  \n",
       "4  B_Ball  \n",
       "5  B_Ball  "
      ]
     },
     "execution_count": 4,
     "metadata": {},
     "output_type": "execute_result"
    }
   ],
   "source": [
    "data.head()"
   ]
  },
  {
   "cell_type": "code",
   "execution_count": 5,
   "metadata": {},
   "outputs": [
    {
     "data": {
      "text/html": [
       "<div>\n",
       "<style scoped>\n",
       "    .dataframe tbody tr th:only-of-type {\n",
       "        vertical-align: middle;\n",
       "    }\n",
       "\n",
       "    .dataframe tbody tr th {\n",
       "        vertical-align: top;\n",
       "    }\n",
       "\n",
       "    .dataframe thead th {\n",
       "        text-align: right;\n",
       "    }\n",
       "</style>\n",
       "<table border=\"1\" class=\"dataframe\">\n",
       "  <thead>\n",
       "    <tr style=\"text-align: right;\">\n",
       "      <th></th>\n",
       "      <th>rcc</th>\n",
       "      <th>wcc</th>\n",
       "      <th>hc</th>\n",
       "      <th>hg</th>\n",
       "      <th>ferr</th>\n",
       "      <th>bmi</th>\n",
       "      <th>ssf</th>\n",
       "      <th>pcBfat</th>\n",
       "      <th>lbm</th>\n",
       "      <th>ht</th>\n",
       "      <th>wt</th>\n",
       "      <th>sex</th>\n",
       "      <th>sport</th>\n",
       "    </tr>\n",
       "  </thead>\n",
       "  <tbody>\n",
       "    <tr>\n",
       "      <th>198</th>\n",
       "      <td>4.90</td>\n",
       "      <td>7.6</td>\n",
       "      <td>45.6</td>\n",
       "      <td>16.0</td>\n",
       "      <td>90</td>\n",
       "      <td>27.56</td>\n",
       "      <td>67.2</td>\n",
       "      <td>11.79</td>\n",
       "      <td>82.0</td>\n",
       "      <td>183.9</td>\n",
       "      <td>93.2</td>\n",
       "      <td>m</td>\n",
       "      <td>W_Polo</td>\n",
       "    </tr>\n",
       "    <tr>\n",
       "      <th>199</th>\n",
       "      <td>5.66</td>\n",
       "      <td>8.3</td>\n",
       "      <td>50.2</td>\n",
       "      <td>17.7</td>\n",
       "      <td>38</td>\n",
       "      <td>23.76</td>\n",
       "      <td>56.5</td>\n",
       "      <td>10.05</td>\n",
       "      <td>72.0</td>\n",
       "      <td>183.5</td>\n",
       "      <td>80.0</td>\n",
       "      <td>m</td>\n",
       "      <td>Tennis</td>\n",
       "    </tr>\n",
       "    <tr>\n",
       "      <th>200</th>\n",
       "      <td>5.03</td>\n",
       "      <td>6.4</td>\n",
       "      <td>42.7</td>\n",
       "      <td>14.3</td>\n",
       "      <td>122</td>\n",
       "      <td>22.01</td>\n",
       "      <td>47.6</td>\n",
       "      <td>8.51</td>\n",
       "      <td>68.0</td>\n",
       "      <td>183.1</td>\n",
       "      <td>73.8</td>\n",
       "      <td>m</td>\n",
       "      <td>Tennis</td>\n",
       "    </tr>\n",
       "    <tr>\n",
       "      <th>201</th>\n",
       "      <td>4.97</td>\n",
       "      <td>8.8</td>\n",
       "      <td>43.0</td>\n",
       "      <td>14.9</td>\n",
       "      <td>233</td>\n",
       "      <td>22.34</td>\n",
       "      <td>60.4</td>\n",
       "      <td>11.50</td>\n",
       "      <td>63.0</td>\n",
       "      <td>178.4</td>\n",
       "      <td>71.1</td>\n",
       "      <td>m</td>\n",
       "      <td>Tennis</td>\n",
       "    </tr>\n",
       "    <tr>\n",
       "      <th>202</th>\n",
       "      <td>5.38</td>\n",
       "      <td>6.3</td>\n",
       "      <td>46.0</td>\n",
       "      <td>15.7</td>\n",
       "      <td>32</td>\n",
       "      <td>21.07</td>\n",
       "      <td>34.9</td>\n",
       "      <td>6.26</td>\n",
       "      <td>72.0</td>\n",
       "      <td>190.8</td>\n",
       "      <td>76.7</td>\n",
       "      <td>m</td>\n",
       "      <td>Tennis</td>\n",
       "    </tr>\n",
       "  </tbody>\n",
       "</table>\n",
       "</div>"
      ],
      "text/plain": [
       "      rcc  wcc    hc    hg  ferr    bmi   ssf  pcBfat   lbm     ht    wt sex  \\\n",
       "198  4.90  7.6  45.6  16.0    90  27.56  67.2   11.79  82.0  183.9  93.2   m   \n",
       "199  5.66  8.3  50.2  17.7    38  23.76  56.5   10.05  72.0  183.5  80.0   m   \n",
       "200  5.03  6.4  42.7  14.3   122  22.01  47.6    8.51  68.0  183.1  73.8   m   \n",
       "201  4.97  8.8  43.0  14.9   233  22.34  60.4   11.50  63.0  178.4  71.1   m   \n",
       "202  5.38  6.3  46.0  15.7    32  21.07  34.9    6.26  72.0  190.8  76.7   m   \n",
       "\n",
       "      sport  \n",
       "198  W_Polo  \n",
       "199  Tennis  \n",
       "200  Tennis  \n",
       "201  Tennis  \n",
       "202  Tennis  "
      ]
     },
     "execution_count": 5,
     "metadata": {},
     "output_type": "execute_result"
    }
   ],
   "source": [
    "data.tail()"
   ]
  },
  {
   "cell_type": "code",
   "execution_count": 6,
   "metadata": {},
   "outputs": [
    {
     "name": "stdout",
     "output_type": "stream",
     "text": [
      "<class 'pandas.core.frame.DataFrame'>\n",
      "Int64Index: 202 entries, 1 to 202\n",
      "Data columns (total 13 columns):\n",
      " #   Column  Non-Null Count  Dtype  \n",
      "---  ------  --------------  -----  \n",
      " 0   rcc     202 non-null    float64\n",
      " 1   wcc     202 non-null    float64\n",
      " 2   hc      202 non-null    float64\n",
      " 3   hg      202 non-null    float64\n",
      " 4   ferr    202 non-null    int64  \n",
      " 5   bmi     202 non-null    float64\n",
      " 6   ssf     202 non-null    float64\n",
      " 7   pcBfat  202 non-null    float64\n",
      " 8   lbm     202 non-null    float64\n",
      " 9   ht      202 non-null    float64\n",
      " 10  wt      202 non-null    float64\n",
      " 11  sex     202 non-null    object \n",
      " 12  sport   202 non-null    object \n",
      "dtypes: float64(10), int64(1), object(2)\n",
      "memory usage: 22.1+ KB\n"
     ]
    }
   ],
   "source": [
    "data.info()"
   ]
  },
  {
   "cell_type": "code",
   "execution_count": 7,
   "metadata": {
    "scrolled": true
   },
   "outputs": [
    {
     "data": {
      "text/html": [
       "<div>\n",
       "<style scoped>\n",
       "    .dataframe tbody tr th:only-of-type {\n",
       "        vertical-align: middle;\n",
       "    }\n",
       "\n",
       "    .dataframe tbody tr th {\n",
       "        vertical-align: top;\n",
       "    }\n",
       "\n",
       "    .dataframe thead th {\n",
       "        text-align: right;\n",
       "    }\n",
       "</style>\n",
       "<table border=\"1\" class=\"dataframe\">\n",
       "  <thead>\n",
       "    <tr style=\"text-align: right;\">\n",
       "      <th></th>\n",
       "      <th>rcc</th>\n",
       "      <th>wcc</th>\n",
       "      <th>hc</th>\n",
       "      <th>hg</th>\n",
       "      <th>ferr</th>\n",
       "      <th>bmi</th>\n",
       "      <th>ssf</th>\n",
       "      <th>pcBfat</th>\n",
       "      <th>lbm</th>\n",
       "      <th>ht</th>\n",
       "      <th>wt</th>\n",
       "    </tr>\n",
       "  </thead>\n",
       "  <tbody>\n",
       "    <tr>\n",
       "      <th>count</th>\n",
       "      <td>202.000000</td>\n",
       "      <td>202.000000</td>\n",
       "      <td>202.000000</td>\n",
       "      <td>202.000000</td>\n",
       "      <td>202.000000</td>\n",
       "      <td>202.000000</td>\n",
       "      <td>202.000000</td>\n",
       "      <td>202.000000</td>\n",
       "      <td>202.000000</td>\n",
       "      <td>202.000000</td>\n",
       "      <td>202.000000</td>\n",
       "    </tr>\n",
       "    <tr>\n",
       "      <th>mean</th>\n",
       "      <td>4.718614</td>\n",
       "      <td>7.108911</td>\n",
       "      <td>43.091584</td>\n",
       "      <td>14.566337</td>\n",
       "      <td>76.876238</td>\n",
       "      <td>22.955891</td>\n",
       "      <td>69.021782</td>\n",
       "      <td>13.507426</td>\n",
       "      <td>64.873713</td>\n",
       "      <td>180.103960</td>\n",
       "      <td>75.007921</td>\n",
       "    </tr>\n",
       "    <tr>\n",
       "      <th>std</th>\n",
       "      <td>0.457976</td>\n",
       "      <td>1.800337</td>\n",
       "      <td>3.662989</td>\n",
       "      <td>1.362451</td>\n",
       "      <td>47.501239</td>\n",
       "      <td>2.863933</td>\n",
       "      <td>32.565333</td>\n",
       "      <td>6.189826</td>\n",
       "      <td>13.070197</td>\n",
       "      <td>9.734494</td>\n",
       "      <td>13.925199</td>\n",
       "    </tr>\n",
       "    <tr>\n",
       "      <th>min</th>\n",
       "      <td>3.800000</td>\n",
       "      <td>3.300000</td>\n",
       "      <td>35.900000</td>\n",
       "      <td>11.600000</td>\n",
       "      <td>8.000000</td>\n",
       "      <td>16.750000</td>\n",
       "      <td>28.000000</td>\n",
       "      <td>5.630000</td>\n",
       "      <td>34.360000</td>\n",
       "      <td>148.900000</td>\n",
       "      <td>37.800000</td>\n",
       "    </tr>\n",
       "    <tr>\n",
       "      <th>25%</th>\n",
       "      <td>4.372500</td>\n",
       "      <td>5.900000</td>\n",
       "      <td>40.600000</td>\n",
       "      <td>13.500000</td>\n",
       "      <td>41.250000</td>\n",
       "      <td>21.082500</td>\n",
       "      <td>43.850000</td>\n",
       "      <td>8.545000</td>\n",
       "      <td>54.667500</td>\n",
       "      <td>174.000000</td>\n",
       "      <td>66.525000</td>\n",
       "    </tr>\n",
       "    <tr>\n",
       "      <th>50%</th>\n",
       "      <td>4.755000</td>\n",
       "      <td>6.850000</td>\n",
       "      <td>43.500000</td>\n",
       "      <td>14.700000</td>\n",
       "      <td>65.500000</td>\n",
       "      <td>22.720000</td>\n",
       "      <td>58.600000</td>\n",
       "      <td>11.650000</td>\n",
       "      <td>63.035000</td>\n",
       "      <td>179.700000</td>\n",
       "      <td>74.400000</td>\n",
       "    </tr>\n",
       "    <tr>\n",
       "      <th>75%</th>\n",
       "      <td>5.030000</td>\n",
       "      <td>8.275000</td>\n",
       "      <td>45.575000</td>\n",
       "      <td>15.575000</td>\n",
       "      <td>97.000000</td>\n",
       "      <td>24.465000</td>\n",
       "      <td>90.350000</td>\n",
       "      <td>18.080000</td>\n",
       "      <td>74.750000</td>\n",
       "      <td>186.175000</td>\n",
       "      <td>84.125000</td>\n",
       "    </tr>\n",
       "    <tr>\n",
       "      <th>max</th>\n",
       "      <td>6.720000</td>\n",
       "      <td>14.300000</td>\n",
       "      <td>59.700000</td>\n",
       "      <td>19.200000</td>\n",
       "      <td>234.000000</td>\n",
       "      <td>34.420000</td>\n",
       "      <td>200.800000</td>\n",
       "      <td>35.520000</td>\n",
       "      <td>106.000000</td>\n",
       "      <td>209.400000</td>\n",
       "      <td>123.200000</td>\n",
       "    </tr>\n",
       "  </tbody>\n",
       "</table>\n",
       "</div>"
      ],
      "text/plain": [
       "              rcc         wcc          hc          hg        ferr         bmi  \\\n",
       "count  202.000000  202.000000  202.000000  202.000000  202.000000  202.000000   \n",
       "mean     4.718614    7.108911   43.091584   14.566337   76.876238   22.955891   \n",
       "std      0.457976    1.800337    3.662989    1.362451   47.501239    2.863933   \n",
       "min      3.800000    3.300000   35.900000   11.600000    8.000000   16.750000   \n",
       "25%      4.372500    5.900000   40.600000   13.500000   41.250000   21.082500   \n",
       "50%      4.755000    6.850000   43.500000   14.700000   65.500000   22.720000   \n",
       "75%      5.030000    8.275000   45.575000   15.575000   97.000000   24.465000   \n",
       "max      6.720000   14.300000   59.700000   19.200000  234.000000   34.420000   \n",
       "\n",
       "              ssf      pcBfat         lbm          ht          wt  \n",
       "count  202.000000  202.000000  202.000000  202.000000  202.000000  \n",
       "mean    69.021782   13.507426   64.873713  180.103960   75.007921  \n",
       "std     32.565333    6.189826   13.070197    9.734494   13.925199  \n",
       "min     28.000000    5.630000   34.360000  148.900000   37.800000  \n",
       "25%     43.850000    8.545000   54.667500  174.000000   66.525000  \n",
       "50%     58.600000   11.650000   63.035000  179.700000   74.400000  \n",
       "75%     90.350000   18.080000   74.750000  186.175000   84.125000  \n",
       "max    200.800000   35.520000  106.000000  209.400000  123.200000  "
      ]
     },
     "execution_count": 7,
     "metadata": {},
     "output_type": "execute_result"
    }
   ],
   "source": [
    "data.describe()"
   ]
  },
  {
   "cell_type": "code",
   "execution_count": 8,
   "metadata": {},
   "outputs": [
    {
     "data": {
      "text/plain": [
       "rcc       0\n",
       "wcc       0\n",
       "hc        0\n",
       "hg        0\n",
       "ferr      0\n",
       "bmi       0\n",
       "ssf       0\n",
       "pcBfat    0\n",
       "lbm       0\n",
       "ht        0\n",
       "wt        0\n",
       "sex       0\n",
       "sport     0\n",
       "dtype: int64"
      ]
     },
     "execution_count": 8,
     "metadata": {},
     "output_type": "execute_result"
    }
   ],
   "source": [
    "data.isnull().sum()"
   ]
  },
  {
   "cell_type": "code",
   "execution_count": 9,
   "metadata": {},
   "outputs": [
    {
     "data": {
      "text/html": [
       "<div>\n",
       "<style scoped>\n",
       "    .dataframe tbody tr th:only-of-type {\n",
       "        vertical-align: middle;\n",
       "    }\n",
       "\n",
       "    .dataframe tbody tr th {\n",
       "        vertical-align: top;\n",
       "    }\n",
       "\n",
       "    .dataframe thead th {\n",
       "        text-align: right;\n",
       "    }\n",
       "</style>\n",
       "<table border=\"1\" class=\"dataframe\">\n",
       "  <thead>\n",
       "    <tr style=\"text-align: right;\">\n",
       "      <th></th>\n",
       "      <th>rcc</th>\n",
       "      <th>wcc</th>\n",
       "      <th>hc</th>\n",
       "      <th>hg</th>\n",
       "      <th>ferr</th>\n",
       "      <th>bmi</th>\n",
       "      <th>ssf</th>\n",
       "      <th>pcBfat</th>\n",
       "      <th>lbm</th>\n",
       "      <th>ht</th>\n",
       "      <th>wt</th>\n",
       "    </tr>\n",
       "  </thead>\n",
       "  <tbody>\n",
       "    <tr>\n",
       "      <th>rcc</th>\n",
       "      <td>1.000000</td>\n",
       "      <td>0.147064</td>\n",
       "      <td>0.924964</td>\n",
       "      <td>0.888800</td>\n",
       "      <td>0.250865</td>\n",
       "      <td>0.299471</td>\n",
       "      <td>-0.403004</td>\n",
       "      <td>-0.493512</td>\n",
       "      <td>0.550975</td>\n",
       "      <td>0.358854</td>\n",
       "      <td>0.403763</td>\n",
       "    </tr>\n",
       "    <tr>\n",
       "      <th>wcc</th>\n",
       "      <td>0.147064</td>\n",
       "      <td>1.000000</td>\n",
       "      <td>0.153333</td>\n",
       "      <td>0.134720</td>\n",
       "      <td>0.132073</td>\n",
       "      <td>0.176968</td>\n",
       "      <td>0.136999</td>\n",
       "      <td>0.107960</td>\n",
       "      <td>0.102663</td>\n",
       "      <td>0.076811</td>\n",
       "      <td>0.155662</td>\n",
       "    </tr>\n",
       "    <tr>\n",
       "      <th>hc</th>\n",
       "      <td>0.924964</td>\n",
       "      <td>0.153333</td>\n",
       "      <td>1.000000</td>\n",
       "      <td>0.950757</td>\n",
       "      <td>0.258240</td>\n",
       "      <td>0.320527</td>\n",
       "      <td>-0.449135</td>\n",
       "      <td>-0.532449</td>\n",
       "      <td>0.583375</td>\n",
       "      <td>0.371192</td>\n",
       "      <td>0.423711</td>\n",
       "    </tr>\n",
       "    <tr>\n",
       "      <th>hg</th>\n",
       "      <td>0.888800</td>\n",
       "      <td>0.134720</td>\n",
       "      <td>0.950757</td>\n",
       "      <td>1.000000</td>\n",
       "      <td>0.308391</td>\n",
       "      <td>0.382524</td>\n",
       "      <td>-0.435429</td>\n",
       "      <td>-0.531522</td>\n",
       "      <td>0.610986</td>\n",
       "      <td>0.352322</td>\n",
       "      <td>0.455263</td>\n",
       "    </tr>\n",
       "    <tr>\n",
       "      <th>ferr</th>\n",
       "      <td>0.250865</td>\n",
       "      <td>0.132073</td>\n",
       "      <td>0.258240</td>\n",
       "      <td>0.308391</td>\n",
       "      <td>1.000000</td>\n",
       "      <td>0.302556</td>\n",
       "      <td>-0.108243</td>\n",
       "      <td>-0.183386</td>\n",
       "      <td>0.317581</td>\n",
       "      <td>0.123255</td>\n",
       "      <td>0.273702</td>\n",
       "    </tr>\n",
       "    <tr>\n",
       "      <th>bmi</th>\n",
       "      <td>0.299471</td>\n",
       "      <td>0.176968</td>\n",
       "      <td>0.320527</td>\n",
       "      <td>0.382524</td>\n",
       "      <td>0.302556</td>\n",
       "      <td>1.000000</td>\n",
       "      <td>0.321116</td>\n",
       "      <td>0.187558</td>\n",
       "      <td>0.713858</td>\n",
       "      <td>0.337097</td>\n",
       "      <td>0.845934</td>\n",
       "    </tr>\n",
       "    <tr>\n",
       "      <th>ssf</th>\n",
       "      <td>-0.403004</td>\n",
       "      <td>0.136999</td>\n",
       "      <td>-0.449135</td>\n",
       "      <td>-0.435429</td>\n",
       "      <td>-0.108243</td>\n",
       "      <td>0.321116</td>\n",
       "      <td>1.000000</td>\n",
       "      <td>0.963017</td>\n",
       "      <td>-0.207749</td>\n",
       "      <td>-0.071253</td>\n",
       "      <td>0.154196</td>\n",
       "    </tr>\n",
       "    <tr>\n",
       "      <th>pcBfat</th>\n",
       "      <td>-0.493512</td>\n",
       "      <td>0.107960</td>\n",
       "      <td>-0.532449</td>\n",
       "      <td>-0.531522</td>\n",
       "      <td>-0.183386</td>\n",
       "      <td>0.187558</td>\n",
       "      <td>0.963017</td>\n",
       "      <td>1.000000</td>\n",
       "      <td>-0.361850</td>\n",
       "      <td>-0.188022</td>\n",
       "      <td>-0.000193</td>\n",
       "    </tr>\n",
       "    <tr>\n",
       "      <th>lbm</th>\n",
       "      <td>0.550975</td>\n",
       "      <td>0.102663</td>\n",
       "      <td>0.583375</td>\n",
       "      <td>0.610986</td>\n",
       "      <td>0.317581</td>\n",
       "      <td>0.713858</td>\n",
       "      <td>-0.207749</td>\n",
       "      <td>-0.361850</td>\n",
       "      <td>1.000000</td>\n",
       "      <td>0.802119</td>\n",
       "      <td>0.930913</td>\n",
       "    </tr>\n",
       "    <tr>\n",
       "      <th>ht</th>\n",
       "      <td>0.358854</td>\n",
       "      <td>0.076811</td>\n",
       "      <td>0.371192</td>\n",
       "      <td>0.352322</td>\n",
       "      <td>0.123255</td>\n",
       "      <td>0.337097</td>\n",
       "      <td>-0.071253</td>\n",
       "      <td>-0.188022</td>\n",
       "      <td>0.802119</td>\n",
       "      <td>1.000000</td>\n",
       "      <td>0.780932</td>\n",
       "    </tr>\n",
       "    <tr>\n",
       "      <th>wt</th>\n",
       "      <td>0.403763</td>\n",
       "      <td>0.155662</td>\n",
       "      <td>0.423711</td>\n",
       "      <td>0.455263</td>\n",
       "      <td>0.273702</td>\n",
       "      <td>0.845934</td>\n",
       "      <td>0.154196</td>\n",
       "      <td>-0.000193</td>\n",
       "      <td>0.930913</td>\n",
       "      <td>0.780932</td>\n",
       "      <td>1.000000</td>\n",
       "    </tr>\n",
       "  </tbody>\n",
       "</table>\n",
       "</div>"
      ],
      "text/plain": [
       "             rcc       wcc        hc        hg      ferr       bmi       ssf  \\\n",
       "rcc     1.000000  0.147064  0.924964  0.888800  0.250865  0.299471 -0.403004   \n",
       "wcc     0.147064  1.000000  0.153333  0.134720  0.132073  0.176968  0.136999   \n",
       "hc      0.924964  0.153333  1.000000  0.950757  0.258240  0.320527 -0.449135   \n",
       "hg      0.888800  0.134720  0.950757  1.000000  0.308391  0.382524 -0.435429   \n",
       "ferr    0.250865  0.132073  0.258240  0.308391  1.000000  0.302556 -0.108243   \n",
       "bmi     0.299471  0.176968  0.320527  0.382524  0.302556  1.000000  0.321116   \n",
       "ssf    -0.403004  0.136999 -0.449135 -0.435429 -0.108243  0.321116  1.000000   \n",
       "pcBfat -0.493512  0.107960 -0.532449 -0.531522 -0.183386  0.187558  0.963017   \n",
       "lbm     0.550975  0.102663  0.583375  0.610986  0.317581  0.713858 -0.207749   \n",
       "ht      0.358854  0.076811  0.371192  0.352322  0.123255  0.337097 -0.071253   \n",
       "wt      0.403763  0.155662  0.423711  0.455263  0.273702  0.845934  0.154196   \n",
       "\n",
       "          pcBfat       lbm        ht        wt  \n",
       "rcc    -0.493512  0.550975  0.358854  0.403763  \n",
       "wcc     0.107960  0.102663  0.076811  0.155662  \n",
       "hc     -0.532449  0.583375  0.371192  0.423711  \n",
       "hg     -0.531522  0.610986  0.352322  0.455263  \n",
       "ferr   -0.183386  0.317581  0.123255  0.273702  \n",
       "bmi     0.187558  0.713858  0.337097  0.845934  \n",
       "ssf     0.963017 -0.207749 -0.071253  0.154196  \n",
       "pcBfat  1.000000 -0.361850 -0.188022 -0.000193  \n",
       "lbm    -0.361850  1.000000  0.802119  0.930913  \n",
       "ht     -0.188022  0.802119  1.000000  0.780932  \n",
       "wt     -0.000193  0.930913  0.780932  1.000000  "
      ]
     },
     "execution_count": 9,
     "metadata": {},
     "output_type": "execute_result"
    }
   ],
   "source": [
    "corr = data.corr()\n",
    "corr"
   ]
  },
  {
   "cell_type": "code",
   "execution_count": 28,
   "metadata": {
    "scrolled": false
   },
   "outputs": [
    {
     "data": {
      "text/plain": [
       "<AxesSubplot:>"
      ]
     },
     "execution_count": 28,
     "metadata": {},
     "output_type": "execute_result"
    },
    {
     "data": {
      "image/png": "[encoded data removed]",
      "text/plain": [
       "<Figure size 1080x720 with 2 Axes>"
      ]
     },
     "metadata": {
      "needs_background": "light"
     },
     "output_type": "display_data"
    }
   ],
   "source": [
    "mask = np.zeros_like(corr, dtype=np.bool)\n",
    "mask[np.triu_indices_from(mask)] = True\n",
    "plt.figure(figsize=(15,10))\n",
    "sns.heatmap(corr, mask = mask, linewidths=2, annot = True)"
   ]
  },
  {
   "cell_type": "markdown",
   "metadata": {
    "colab_type": "text",
    "id": "NyMRchAMZdoX"
   },
   "source": [
    "### 3. Prepare the data for clustering\n",
    "\n",
    "1. Remove the `sex`, `sport` column. We will see if the clusters from K-Means end up like the actual sex.\n",
    "2. Put the features on the same scale."
   ]
  },
  {
   "cell_type": "code",
   "execution_count": 11,
   "metadata": {},
   "outputs": [
    {
     "data": {
      "text/html": [
       "<div>\n",
       "<style scoped>\n",
       "    .dataframe tbody tr th:only-of-type {\n",
       "        vertical-align: middle;\n",
       "    }\n",
       "\n",
       "    .dataframe tbody tr th {\n",
       "        vertical-align: top;\n",
       "    }\n",
       "\n",
       "    .dataframe thead th {\n",
       "        text-align: right;\n",
       "    }\n",
       "</style>\n",
       "<table border=\"1\" class=\"dataframe\">\n",
       "  <thead>\n",
       "    <tr style=\"text-align: right;\">\n",
       "      <th></th>\n",
       "      <th>rcc</th>\n",
       "      <th>wcc</th>\n",
       "      <th>hc</th>\n",
       "      <th>hg</th>\n",
       "      <th>ferr</th>\n",
       "      <th>bmi</th>\n",
       "      <th>ssf</th>\n",
       "      <th>pcBfat</th>\n",
       "      <th>lbm</th>\n",
       "      <th>ht</th>\n",
       "      <th>wt</th>\n",
       "    </tr>\n",
       "  </thead>\n",
       "  <tbody>\n",
       "    <tr>\n",
       "      <th>1</th>\n",
       "      <td>3.96</td>\n",
       "      <td>7.5</td>\n",
       "      <td>37.5</td>\n",
       "      <td>12.3</td>\n",
       "      <td>60</td>\n",
       "      <td>20.56</td>\n",
       "      <td>109.1</td>\n",
       "      <td>19.75</td>\n",
       "      <td>63.32</td>\n",
       "      <td>195.9</td>\n",
       "      <td>78.9</td>\n",
       "    </tr>\n",
       "    <tr>\n",
       "      <th>2</th>\n",
       "      <td>4.41</td>\n",
       "      <td>8.3</td>\n",
       "      <td>38.2</td>\n",
       "      <td>12.7</td>\n",
       "      <td>68</td>\n",
       "      <td>20.67</td>\n",
       "      <td>102.8</td>\n",
       "      <td>21.30</td>\n",
       "      <td>58.55</td>\n",
       "      <td>189.7</td>\n",
       "      <td>74.4</td>\n",
       "    </tr>\n",
       "    <tr>\n",
       "      <th>3</th>\n",
       "      <td>4.14</td>\n",
       "      <td>5.0</td>\n",
       "      <td>36.4</td>\n",
       "      <td>11.6</td>\n",
       "      <td>21</td>\n",
       "      <td>21.86</td>\n",
       "      <td>104.6</td>\n",
       "      <td>19.88</td>\n",
       "      <td>55.36</td>\n",
       "      <td>177.8</td>\n",
       "      <td>69.1</td>\n",
       "    </tr>\n",
       "    <tr>\n",
       "      <th>4</th>\n",
       "      <td>4.11</td>\n",
       "      <td>5.3</td>\n",
       "      <td>37.3</td>\n",
       "      <td>12.6</td>\n",
       "      <td>69</td>\n",
       "      <td>21.88</td>\n",
       "      <td>126.4</td>\n",
       "      <td>23.66</td>\n",
       "      <td>57.18</td>\n",
       "      <td>185.0</td>\n",
       "      <td>74.9</td>\n",
       "    </tr>\n",
       "    <tr>\n",
       "      <th>5</th>\n",
       "      <td>4.45</td>\n",
       "      <td>6.8</td>\n",
       "      <td>41.5</td>\n",
       "      <td>14.0</td>\n",
       "      <td>29</td>\n",
       "      <td>18.96</td>\n",
       "      <td>80.3</td>\n",
       "      <td>17.64</td>\n",
       "      <td>53.20</td>\n",
       "      <td>184.6</td>\n",
       "      <td>64.6</td>\n",
       "    </tr>\n",
       "    <tr>\n",
       "      <th>...</th>\n",
       "      <td>...</td>\n",
       "      <td>...</td>\n",
       "      <td>...</td>\n",
       "      <td>...</td>\n",
       "      <td>...</td>\n",
       "      <td>...</td>\n",
       "      <td>...</td>\n",
       "      <td>...</td>\n",
       "      <td>...</td>\n",
       "      <td>...</td>\n",
       "      <td>...</td>\n",
       "    </tr>\n",
       "    <tr>\n",
       "      <th>198</th>\n",
       "      <td>4.90</td>\n",
       "      <td>7.6</td>\n",
       "      <td>45.6</td>\n",
       "      <td>16.0</td>\n",
       "      <td>90</td>\n",
       "      <td>27.56</td>\n",
       "      <td>67.2</td>\n",
       "      <td>11.79</td>\n",
       "      <td>82.00</td>\n",
       "      <td>183.9</td>\n",
       "      <td>93.2</td>\n",
       "    </tr>\n",
       "    <tr>\n",
       "      <th>199</th>\n",
       "      <td>5.66</td>\n",
       "      <td>8.3</td>\n",
       "      <td>50.2</td>\n",
       "      <td>17.7</td>\n",
       "      <td>38</td>\n",
       "      <td>23.76</td>\n",
       "      <td>56.5</td>\n",
       "      <td>10.05</td>\n",
       "      <td>72.00</td>\n",
       "      <td>183.5</td>\n",
       "      <td>80.0</td>\n",
       "    </tr>\n",
       "    <tr>\n",
       "      <th>200</th>\n",
       "      <td>5.03</td>\n",
       "      <td>6.4</td>\n",
       "      <td>42.7</td>\n",
       "      <td>14.3</td>\n",
       "      <td>122</td>\n",
       "      <td>22.01</td>\n",
       "      <td>47.6</td>\n",
       "      <td>8.51</td>\n",
       "      <td>68.00</td>\n",
       "      <td>183.1</td>\n",
       "      <td>73.8</td>\n",
       "    </tr>\n",
       "    <tr>\n",
       "      <th>201</th>\n",
       "      <td>4.97</td>\n",
       "      <td>8.8</td>\n",
       "      <td>43.0</td>\n",
       "      <td>14.9</td>\n",
       "      <td>233</td>\n",
       "      <td>22.34</td>\n",
       "      <td>60.4</td>\n",
       "      <td>11.50</td>\n",
       "      <td>63.00</td>\n",
       "      <td>178.4</td>\n",
       "      <td>71.1</td>\n",
       "    </tr>\n",
       "    <tr>\n",
       "      <th>202</th>\n",
       "      <td>5.38</td>\n",
       "      <td>6.3</td>\n",
       "      <td>46.0</td>\n",
       "      <td>15.7</td>\n",
       "      <td>32</td>\n",
       "      <td>21.07</td>\n",
       "      <td>34.9</td>\n",
       "      <td>6.26</td>\n",
       "      <td>72.00</td>\n",
       "      <td>190.8</td>\n",
       "      <td>76.7</td>\n",
       "    </tr>\n",
       "  </tbody>\n",
       "</table>\n",
       "<p>202 rows × 11 columns</p>\n",
       "</div>"
      ],
      "text/plain": [
       "      rcc  wcc    hc    hg  ferr    bmi    ssf  pcBfat    lbm     ht    wt\n",
       "1    3.96  7.5  37.5  12.3    60  20.56  109.1   19.75  63.32  195.9  78.9\n",
       "2    4.41  8.3  38.2  12.7    68  20.67  102.8   21.30  58.55  189.7  74.4\n",
       "3    4.14  5.0  36.4  11.6    21  21.86  104.6   19.88  55.36  177.8  69.1\n",
       "4    4.11  5.3  37.3  12.6    69  21.88  126.4   23.66  57.18  185.0  74.9\n",
       "5    4.45  6.8  41.5  14.0    29  18.96   80.3   17.64  53.20  184.6  64.6\n",
       "..    ...  ...   ...   ...   ...    ...    ...     ...    ...    ...   ...\n",
       "198  4.90  7.6  45.6  16.0    90  27.56   67.2   11.79  82.00  183.9  93.2\n",
       "199  5.66  8.3  50.2  17.7    38  23.76   56.5   10.05  72.00  183.5  80.0\n",
       "200  5.03  6.4  42.7  14.3   122  22.01   47.6    8.51  68.00  183.1  73.8\n",
       "201  4.97  8.8  43.0  14.9   233  22.34   60.4   11.50  63.00  178.4  71.1\n",
       "202  5.38  6.3  46.0  15.7    32  21.07   34.9    6.26  72.00  190.8  76.7\n",
       "\n",
       "[202 rows x 11 columns]"
      ]
     },
     "execution_count": 11,
     "metadata": {},
     "output_type": "execute_result"
    }
   ],
   "source": [
    "data.drop(['sex'], axis = 1, inplace = True)\n",
    "data.drop(['sport'], axis = 1, inplace = True)\n",
    "data"
   ]
  },
  {
   "cell_type": "code",
   "execution_count": 12,
   "metadata": {},
   "outputs": [],
   "source": [
    "scaler = StandardScaler()"
   ]
  },
  {
   "cell_type": "code",
   "execution_count": 13,
   "metadata": {},
   "outputs": [],
   "source": [
    "data_scaled = scaler.fit_transform(data)"
   ]
  },
  {
   "cell_type": "code",
   "execution_count": 14,
   "metadata": {},
   "outputs": [
    {
     "data": {
      "text/plain": [
       "array([[-1.66056304,  0.21777075, -1.53030101, ..., -0.11916982,\n",
       "         1.62671873,  0.2801934 ],\n",
       "       [-0.67553837,  0.66323597, -1.33872548, ..., -0.48502895,\n",
       "         0.98822602, -0.04376463],\n",
       "       [-1.26655317, -1.17430808, -1.83134828, ..., -0.72970203,\n",
       "        -0.23726805, -0.42531519],\n",
       "       ...,\n",
       "       [ 0.68160673, -0.39474394, -0.10716849, ...,  0.23978631,\n",
       "         0.30854023, -0.08695903],\n",
       "       [ 0.55027011,  0.94165174, -0.02506469, ..., -0.14371383,\n",
       "        -0.17547843, -0.28133385],\n",
       "       [ 1.44773703, -0.45042709,  0.7959733 , ...,  0.54658641,\n",
       "         1.10150699,  0.12181392]])"
      ]
     },
     "execution_count": 14,
     "metadata": {},
     "output_type": "execute_result"
    }
   ],
   "source": [
    "data_scaled"
   ]
  },
  {
   "cell_type": "markdown",
   "metadata": {
    "colab_type": "text",
    "id": "Y8jUYWkpZdoa"
   },
   "source": [
    "### 4. Clustering with K-Means\n",
    "\n",
    "- Cluster the data to our our target groups.\n",
    "    - Use sklearn.cluster.KMeans\n",
    "- We know that there are 2 actual classes. Lets try using 2, 4. Run the clustering algorithm with each of those k values."
   ]
  },
  {
   "cell_type": "code",
   "execution_count": 15,
   "metadata": {
    "colab": {},
    "colab_type": "code",
    "id": "nCosKVDJZdob"
   },
   "outputs": [
    {
     "data": {
      "text/plain": [
       "KMeans(n_clusters=2)"
      ]
     },
     "execution_count": 15,
     "metadata": {},
     "output_type": "execute_result"
    }
   ],
   "source": [
    "kmean2 = KMeans(n_clusters=2)\n",
    "kmean2.fit(data_scaled)"
   ]
  },
  {
   "cell_type": "code",
   "execution_count": 16,
   "metadata": {},
   "outputs": [
    {
     "data": {
      "text/plain": [
       "KMeans(n_clusters=4)"
      ]
     },
     "execution_count": 16,
     "metadata": {},
     "output_type": "execute_result"
    }
   ],
   "source": [
    "kmean4 = KMeans(n_clusters=4)\n",
    "kmean4.fit(data_scaled)"
   ]
  },
  {
   "cell_type": "code",
   "execution_count": 17,
   "metadata": {},
   "outputs": [
    {
     "data": {
      "text/plain": [
       "array([[-0.72128729, -0.11632817, -0.73772567, -0.75885194, -0.40955673,\n",
       "        -0.43099832,  0.47515455,  0.62984587, -0.79856332, -0.58143622,\n",
       "        -0.61565853],\n",
       "       [ 0.70714441,  0.11404723,  0.72326046,  0.74397249,  0.4015262 ,\n",
       "         0.42254737, -0.4658378 , -0.61749595,  0.78290521,  0.57003551,\n",
       "         0.60358679]])"
      ]
     },
     "execution_count": 17,
     "metadata": {},
     "output_type": "execute_result"
    }
   ],
   "source": [
    "kmean2.cluster_centers_"
   ]
  },
  {
   "cell_type": "code",
   "execution_count": 18,
   "metadata": {},
   "outputs": [
    {
     "data": {
      "text/plain": [
       "array([[-0.54991204, -0.21074743, -0.51471271, -0.59105878, -0.38001976,\n",
       "        -1.02173718, -0.40306825, -0.16256092, -1.08378937, -1.04456283,\n",
       "        -1.2183081 ],\n",
       "       [-0.8570217 , -0.04849597, -0.91576651, -0.88360258, -0.39338309,\n",
       "         0.10664052,  1.22374084,  1.30408091, -0.53993222, -0.19307911,\n",
       "        -0.0840794 ],\n",
       "       [ 0.60523692,  0.54197044,  0.66034999,  0.70824077,  0.78300522,\n",
       "         1.09791196, -0.09678438, -0.30384594,  1.33741482,  0.95298306,\n",
       "         1.31621917],\n",
       "       [ 0.80708011, -0.21476803,  0.79157488,  0.78421448,  0.06931686,\n",
       "        -0.14770279, -0.79302339, -0.90309964,  0.34583779,  0.28187507,\n",
       "         0.02565495]])"
      ]
     },
     "execution_count": 18,
     "metadata": {},
     "output_type": "execute_result"
    }
   ],
   "source": [
    "kmean4.cluster_centers_"
   ]
  },
  {
   "cell_type": "code",
   "execution_count": 19,
   "metadata": {},
   "outputs": [
    {
     "data": {
      "text/plain": [
       "1432.8802984104345"
      ]
     },
     "execution_count": 19,
     "metadata": {},
     "output_type": "execute_result"
    }
   ],
   "source": [
    "kmean2.inertia_"
   ]
  },
  {
   "cell_type": "code",
   "execution_count": 20,
   "metadata": {},
   "outputs": [
    {
     "data": {
      "text/plain": [
       "1049.0571951936242"
      ]
     },
     "execution_count": 20,
     "metadata": {},
     "output_type": "execute_result"
    }
   ],
   "source": [
    "kmean4.inertia_"
   ]
  },
  {
   "cell_type": "markdown",
   "metadata": {
    "colab_type": "text",
    "id": "jAI-4X61Zdod"
   },
   "source": [
    "### 5. Get the labels for the models"
   ]
  },
  {
   "cell_type": "code",
   "execution_count": 21,
   "metadata": {
    "colab": {},
    "colab_type": "code",
    "id": "5LeJLcCxZdoe"
   },
   "outputs": [
    {
     "name": "stdout",
     "output_type": "stream",
     "text": [
      "[0 0 0 0 0 0 0 0 0 0 0 0 0 0 0 0 0 0 0 0 0 0 0 0 0 0 0 0 0 0 0 0 0 0 0 0 0\n",
      " 0 0 0 0 0 0 0 0 0 0 0 0 0 0 0 0 0 0 0 0 0 0 0 0 0 0 0 0 0 0 0 1 1 0 0 0 1\n",
      " 1 0 0 0 0 0 0 0 0 0 0 0 0 0 0 0 0 0 0 0 0 0 0 0 0 0 1 1 1 1 1 1 1 1 1 1 1\n",
      " 1 1 1 1 1 1 1 1 1 0 1 1 1 1 1 1 1 1 1 1 1 1 1 1 1 1 1 1 1 0 1 1 1 1 1 1 1\n",
      " 1 1 1 1 0 1 0 1 1 1 1 1 1 1 1 1 1 1 1 1 1 1 1 1 1 1 1 1 1 1 1 1 1 1 1 1 1\n",
      " 1 1 1 1 1 1 1 1 1 1 1 1 1 1 1 1 1]\n"
     ]
    }
   ],
   "source": [
    "labels_2 = kmean2.labels_\n",
    "print(labels_2)"
   ]
  },
  {
   "cell_type": "code",
   "execution_count": 22,
   "metadata": {},
   "outputs": [
    {
     "name": "stdout",
     "output_type": "stream",
     "text": [
      "[1 1 1 1 0 0 1 1 1 0 1 1 1 1 1 1 1 0 1 1 1 1 1 0 1 0 1 1 0 1 1 1 1 1 1 0 1\n",
      " 1 1 1 1 1 1 1 1 1 1 1 1 0 1 1 1 0 1 1 0 1 0 0 1 1 0 0 0 0 0 0 3 1 1 1 1 3\n",
      " 2 0 0 0 0 0 0 0 0 0 0 0 0 0 0 1 1 0 0 0 0 0 0 0 0 0 3 3 3 3 3 3 3 2 3 2 3\n",
      " 3 2 2 2 3 2 2 2 2 0 2 2 2 2 2 3 2 2 3 2 3 2 2 2 3 2 3 3 3 0 3 3 3 2 2 3 3\n",
      " 3 3 3 3 0 3 0 3 3 3 3 2 3 2 2 3 2 3 3 3 3 3 3 3 3 3 3 2 2 2 2 3 3 2 2 2 2\n",
      " 2 2 3 2 2 3 2 3 2 2 2 3 2 3 3 3 3]\n"
     ]
    }
   ],
   "source": [
    "labels_4 = kmean4.labels_\n",
    "print(labels_4)"
   ]
  },
  {
   "cell_type": "markdown",
   "metadata": {
    "colab_type": "text",
    "id": "ichQ8nF_Zdog"
   },
   "source": [
    "### 6. Elbow Method For Optimal k\n",
    "\n",
    "For each k value, we will initialise k-means and use the inertia attribute to identify the sum of squared distances of samples to the nearest cluster centre. As k increases, the sum of squared distance tends to zero. "
   ]
  },
  {
   "cell_type": "code",
   "execution_count": 23,
   "metadata": {},
   "outputs": [],
   "source": [
    "distortions = []\n",
    "inertias = []\n",
    "mapping1 = {}\n",
    "mapping2 = {}\n",
    "K = range(1, 10)\n",
    " \n",
    "for k in K:\n",
    "    # Building and fitting the model\n",
    "    kmeanModel = KMeans(n_clusters=k).fit(data)\n",
    "    kmeanModel.fit(data)\n",
    " \n",
    "    distortions.append(sum(np.min(cdist(data, kmeanModel.cluster_centers_,\n",
    "                                        'euclidean'), axis=1)) / data.shape[0])\n",
    "    inertias.append(kmeanModel.inertia_)\n",
    " \n",
    "    mapping1[k] = sum(np.min(cdist(data, kmeanModel.cluster_centers_,\n",
    "                                   'euclidean'), axis=1)) / data.shape[0]\n",
    "    mapping2[k] = kmeanModel.inertia_"
   ]
  },
  {
   "cell_type": "markdown",
   "metadata": {
    "colab_type": "text",
    "id": "rgTQLaSNZdoj"
   },
   "source": [
    "Below is a plot of sum of squared distances for k in the range specified above. If the plot looks like an arm, then the elbow on the arm is optimal k."
   ]
  },
  {
   "cell_type": "code",
   "execution_count": 24,
   "metadata": {},
   "outputs": [
    {
     "data": {
      "image/png": "[encoded data removed]",
      "text/plain": [
       "<Figure size 432x288 with 1 Axes>"
      ]
     },
     "metadata": {
      "needs_background": "light"
     },
     "output_type": "display_data"
    }
   ],
   "source": [
    "plt.plot(K, distortions, 'bx-')\n",
    "plt.xlabel('Values of K')\n",
    "plt.ylabel('Distortion')\n",
    "plt.title('The Elbow Method using Distortion')\n",
    "plt.show()"
   ]
  },
  {
   "cell_type": "markdown",
   "metadata": {
    "colab_type": "text",
    "id": "nCs5g-pLZdom"
   },
   "source": [
    "### 7. Plot `ht` vs. `wt` using the clusters from each model.\n",
    "\n",
    "- Plot ht, wt using hue sex\n",
    "- Plot ht, wt using hue label\n",
    "\n",
    "Each time, compare to the actual species classification."
   ]
  },
  {
   "cell_type": "code",
   "execution_count": 25,
   "metadata": {},
   "outputs": [],
   "source": [
    "data = pd.read_csv ('C:/Users/carls/OneDrive/Desktop/IOD/Data/ais.csv', index_col = 'Unnamed: 0')"
   ]
  },
  {
   "cell_type": "code",
   "execution_count": 26,
   "metadata": {
    "colab": {},
    "colab_type": "code",
    "id": "qNDCuP1bZdon"
   },
   "outputs": [
    {
     "data": {
      "text/plain": [
       "<seaborn.axisgrid.FacetGrid at 0x203ad1796a0>"
      ]
     },
     "execution_count": 26,
     "metadata": {},
     "output_type": "execute_result"
    },
    {
     "data": {
      "image/png": "[encoded data removed]",
      "text/plain": [
       "<Figure size 405.625x360 with 1 Axes>"
      ]
     },
     "metadata": {
      "needs_background": "light"
     },
     "output_type": "display_data"
    }
   ],
   "source": [
    "sns.lmplot(x='ht', y='wt', hue = 'sex', data = data)"
   ]
  },
  {
   "cell_type": "code",
   "execution_count": 27,
   "metadata": {},
   "outputs": [
    {
     "ename": "KeyError",
     "evalue": "\"['labels_2'] not in index\"",
     "output_type": "error",
     "traceback": [
      "\u001b[1;31m---------------------------------------------------------------------------\u001b[0m",
      "\u001b[1;31mKeyError\u001b[0m                                  Traceback (most recent call last)",
      "\u001b[1;32m<ipython-input-27-042af704ccda>\u001b[0m in \u001b[0;36m<module>\u001b[1;34m\u001b[0m\n\u001b[1;32m----> 1\u001b[1;33m \u001b[0msns\u001b[0m\u001b[1;33m.\u001b[0m\u001b[0mlmplot\u001b[0m\u001b[1;33m(\u001b[0m\u001b[0mx\u001b[0m\u001b[1;33m=\u001b[0m\u001b[1;34m'ht'\u001b[0m\u001b[1;33m,\u001b[0m \u001b[0my\u001b[0m\u001b[1;33m=\u001b[0m\u001b[1;34m'wt'\u001b[0m\u001b[1;33m,\u001b[0m \u001b[0mhue\u001b[0m \u001b[1;33m=\u001b[0m \u001b[1;34m'labels_2'\u001b[0m\u001b[1;33m,\u001b[0m \u001b[0mdata\u001b[0m \u001b[1;33m=\u001b[0m \u001b[0mdata\u001b[0m\u001b[1;33m)\u001b[0m\u001b[1;33m\u001b[0m\u001b[1;33m\u001b[0m\u001b[0m\n\u001b[0m",
      "\u001b[1;32m~\\anaconda3\\envs\\Python\\lib\\site-packages\\seaborn\\_decorators.py\u001b[0m in \u001b[0;36minner_f\u001b[1;34m(*args, **kwargs)\u001b[0m\n\u001b[0;32m     44\u001b[0m             )\n\u001b[0;32m     45\u001b[0m         \u001b[0mkwargs\u001b[0m\u001b[1;33m.\u001b[0m\u001b[0mupdate\u001b[0m\u001b[1;33m(\u001b[0m\u001b[1;33m{\u001b[0m\u001b[0mk\u001b[0m\u001b[1;33m:\u001b[0m \u001b[0marg\u001b[0m \u001b[1;32mfor\u001b[0m \u001b[0mk\u001b[0m\u001b[1;33m,\u001b[0m \u001b[0marg\u001b[0m \u001b[1;32min\u001b[0m \u001b[0mzip\u001b[0m\u001b[1;33m(\u001b[0m\u001b[0msig\u001b[0m\u001b[1;33m.\u001b[0m\u001b[0mparameters\u001b[0m\u001b[1;33m,\u001b[0m \u001b[0margs\u001b[0m\u001b[1;33m)\u001b[0m\u001b[1;33m}\u001b[0m\u001b[1;33m)\u001b[0m\u001b[1;33m\u001b[0m\u001b[1;33m\u001b[0m\u001b[0m\n\u001b[1;32m---> 46\u001b[1;33m         \u001b[1;32mreturn\u001b[0m \u001b[0mf\u001b[0m\u001b[1;33m(\u001b[0m\u001b[1;33m**\u001b[0m\u001b[0mkwargs\u001b[0m\u001b[1;33m)\u001b[0m\u001b[1;33m\u001b[0m\u001b[1;33m\u001b[0m\u001b[0m\n\u001b[0m\u001b[0;32m     47\u001b[0m     \u001b[1;32mreturn\u001b[0m \u001b[0minner_f\u001b[0m\u001b[1;33m\u001b[0m\u001b[1;33m\u001b[0m\u001b[0m\n\u001b[0;32m     48\u001b[0m \u001b[1;33m\u001b[0m\u001b[0m\n",
      "\u001b[1;32m~\\anaconda3\\envs\\Python\\lib\\site-packages\\seaborn\\regression.py\u001b[0m in \u001b[0;36mlmplot\u001b[1;34m(x, y, data, hue, col, row, palette, col_wrap, height, aspect, markers, sharex, sharey, hue_order, col_order, row_order, legend, legend_out, x_estimator, x_bins, x_ci, scatter, fit_reg, ci, n_boot, units, seed, order, logistic, lowess, robust, logx, x_partial, y_partial, truncate, x_jitter, y_jitter, scatter_kws, line_kws, size)\u001b[0m\n\u001b[0;32m    586\u001b[0m     \u001b[0mneed_cols\u001b[0m \u001b[1;33m=\u001b[0m \u001b[1;33m[\u001b[0m\u001b[0mx\u001b[0m\u001b[1;33m,\u001b[0m \u001b[0my\u001b[0m\u001b[1;33m,\u001b[0m \u001b[0mhue\u001b[0m\u001b[1;33m,\u001b[0m \u001b[0mcol\u001b[0m\u001b[1;33m,\u001b[0m \u001b[0mrow\u001b[0m\u001b[1;33m,\u001b[0m \u001b[0munits\u001b[0m\u001b[1;33m,\u001b[0m \u001b[0mx_partial\u001b[0m\u001b[1;33m,\u001b[0m \u001b[0my_partial\u001b[0m\u001b[1;33m]\u001b[0m\u001b[1;33m\u001b[0m\u001b[1;33m\u001b[0m\u001b[0m\n\u001b[0;32m    587\u001b[0m     \u001b[0mcols\u001b[0m \u001b[1;33m=\u001b[0m \u001b[0mnp\u001b[0m\u001b[1;33m.\u001b[0m\u001b[0munique\u001b[0m\u001b[1;33m(\u001b[0m\u001b[1;33m[\u001b[0m\u001b[0ma\u001b[0m \u001b[1;32mfor\u001b[0m \u001b[0ma\u001b[0m \u001b[1;32min\u001b[0m \u001b[0mneed_cols\u001b[0m \u001b[1;32mif\u001b[0m \u001b[0ma\u001b[0m \u001b[1;32mis\u001b[0m \u001b[1;32mnot\u001b[0m \u001b[1;32mNone\u001b[0m\u001b[1;33m]\u001b[0m\u001b[1;33m)\u001b[0m\u001b[1;33m.\u001b[0m\u001b[0mtolist\u001b[0m\u001b[1;33m(\u001b[0m\u001b[1;33m)\u001b[0m\u001b[1;33m\u001b[0m\u001b[1;33m\u001b[0m\u001b[0m\n\u001b[1;32m--> 588\u001b[1;33m     \u001b[0mdata\u001b[0m \u001b[1;33m=\u001b[0m \u001b[0mdata\u001b[0m\u001b[1;33m[\u001b[0m\u001b[0mcols\u001b[0m\u001b[1;33m]\u001b[0m\u001b[1;33m\u001b[0m\u001b[1;33m\u001b[0m\u001b[0m\n\u001b[0m\u001b[0;32m    589\u001b[0m \u001b[1;33m\u001b[0m\u001b[0m\n\u001b[0;32m    590\u001b[0m     \u001b[1;31m# Initialize the grid\u001b[0m\u001b[1;33m\u001b[0m\u001b[1;33m\u001b[0m\u001b[1;33m\u001b[0m\u001b[0m\n",
      "\u001b[1;32m~\\anaconda3\\envs\\Python\\lib\\site-packages\\pandas\\core\\frame.py\u001b[0m in \u001b[0;36m__getitem__\u001b[1;34m(self, key)\u001b[0m\n\u001b[0;32m   2906\u001b[0m             \u001b[1;32mif\u001b[0m \u001b[0mis_iterator\u001b[0m\u001b[1;33m(\u001b[0m\u001b[0mkey\u001b[0m\u001b[1;33m)\u001b[0m\u001b[1;33m:\u001b[0m\u001b[1;33m\u001b[0m\u001b[1;33m\u001b[0m\u001b[0m\n\u001b[0;32m   2907\u001b[0m                 \u001b[0mkey\u001b[0m \u001b[1;33m=\u001b[0m \u001b[0mlist\u001b[0m\u001b[1;33m(\u001b[0m\u001b[0mkey\u001b[0m\u001b[1;33m)\u001b[0m\u001b[1;33m\u001b[0m\u001b[1;33m\u001b[0m\u001b[0m\n\u001b[1;32m-> 2908\u001b[1;33m             \u001b[0mindexer\u001b[0m \u001b[1;33m=\u001b[0m \u001b[0mself\u001b[0m\u001b[1;33m.\u001b[0m\u001b[0mloc\u001b[0m\u001b[1;33m.\u001b[0m\u001b[0m_get_listlike_indexer\u001b[0m\u001b[1;33m(\u001b[0m\u001b[0mkey\u001b[0m\u001b[1;33m,\u001b[0m \u001b[0maxis\u001b[0m\u001b[1;33m=\u001b[0m\u001b[1;36m1\u001b[0m\u001b[1;33m,\u001b[0m \u001b[0mraise_missing\u001b[0m\u001b[1;33m=\u001b[0m\u001b[1;32mTrue\u001b[0m\u001b[1;33m)\u001b[0m\u001b[1;33m[\u001b[0m\u001b[1;36m1\u001b[0m\u001b[1;33m]\u001b[0m\u001b[1;33m\u001b[0m\u001b[1;33m\u001b[0m\u001b[0m\n\u001b[0m\u001b[0;32m   2909\u001b[0m \u001b[1;33m\u001b[0m\u001b[0m\n\u001b[0;32m   2910\u001b[0m         \u001b[1;31m# take() does not accept boolean indexers\u001b[0m\u001b[1;33m\u001b[0m\u001b[1;33m\u001b[0m\u001b[1;33m\u001b[0m\u001b[0m\n",
      "\u001b[1;32m~\\anaconda3\\envs\\Python\\lib\\site-packages\\pandas\\core\\indexing.py\u001b[0m in \u001b[0;36m_get_listlike_indexer\u001b[1;34m(self, key, axis, raise_missing)\u001b[0m\n\u001b[0;32m   1252\u001b[0m             \u001b[0mkeyarr\u001b[0m\u001b[1;33m,\u001b[0m \u001b[0mindexer\u001b[0m\u001b[1;33m,\u001b[0m \u001b[0mnew_indexer\u001b[0m \u001b[1;33m=\u001b[0m \u001b[0max\u001b[0m\u001b[1;33m.\u001b[0m\u001b[0m_reindex_non_unique\u001b[0m\u001b[1;33m(\u001b[0m\u001b[0mkeyarr\u001b[0m\u001b[1;33m)\u001b[0m\u001b[1;33m\u001b[0m\u001b[1;33m\u001b[0m\u001b[0m\n\u001b[0;32m   1253\u001b[0m \u001b[1;33m\u001b[0m\u001b[0m\n\u001b[1;32m-> 1254\u001b[1;33m         \u001b[0mself\u001b[0m\u001b[1;33m.\u001b[0m\u001b[0m_validate_read_indexer\u001b[0m\u001b[1;33m(\u001b[0m\u001b[0mkeyarr\u001b[0m\u001b[1;33m,\u001b[0m \u001b[0mindexer\u001b[0m\u001b[1;33m,\u001b[0m \u001b[0maxis\u001b[0m\u001b[1;33m,\u001b[0m \u001b[0mraise_missing\u001b[0m\u001b[1;33m=\u001b[0m\u001b[0mraise_missing\u001b[0m\u001b[1;33m)\u001b[0m\u001b[1;33m\u001b[0m\u001b[1;33m\u001b[0m\u001b[0m\n\u001b[0m\u001b[0;32m   1255\u001b[0m         \u001b[1;32mreturn\u001b[0m \u001b[0mkeyarr\u001b[0m\u001b[1;33m,\u001b[0m \u001b[0mindexer\u001b[0m\u001b[1;33m\u001b[0m\u001b[1;33m\u001b[0m\u001b[0m\n\u001b[0;32m   1256\u001b[0m \u001b[1;33m\u001b[0m\u001b[0m\n",
      "\u001b[1;32m~\\anaconda3\\envs\\Python\\lib\\site-packages\\pandas\\core\\indexing.py\u001b[0m in \u001b[0;36m_validate_read_indexer\u001b[1;34m(self, key, indexer, axis, raise_missing)\u001b[0m\n\u001b[0;32m   1302\u001b[0m             \u001b[1;32mif\u001b[0m \u001b[0mraise_missing\u001b[0m\u001b[1;33m:\u001b[0m\u001b[1;33m\u001b[0m\u001b[1;33m\u001b[0m\u001b[0m\n\u001b[0;32m   1303\u001b[0m                 \u001b[0mnot_found\u001b[0m \u001b[1;33m=\u001b[0m \u001b[0mlist\u001b[0m\u001b[1;33m(\u001b[0m\u001b[0mset\u001b[0m\u001b[1;33m(\u001b[0m\u001b[0mkey\u001b[0m\u001b[1;33m)\u001b[0m \u001b[1;33m-\u001b[0m \u001b[0mset\u001b[0m\u001b[1;33m(\u001b[0m\u001b[0max\u001b[0m\u001b[1;33m)\u001b[0m\u001b[1;33m)\u001b[0m\u001b[1;33m\u001b[0m\u001b[1;33m\u001b[0m\u001b[0m\n\u001b[1;32m-> 1304\u001b[1;33m                 \u001b[1;32mraise\u001b[0m \u001b[0mKeyError\u001b[0m\u001b[1;33m(\u001b[0m\u001b[1;34mf\"{not_found} not in index\"\u001b[0m\u001b[1;33m)\u001b[0m\u001b[1;33m\u001b[0m\u001b[1;33m\u001b[0m\u001b[0m\n\u001b[0m\u001b[0;32m   1305\u001b[0m \u001b[1;33m\u001b[0m\u001b[0m\n\u001b[0;32m   1306\u001b[0m             \u001b[1;31m# we skip the warning on Categorical\u001b[0m\u001b[1;33m\u001b[0m\u001b[1;33m\u001b[0m\u001b[1;33m\u001b[0m\u001b[0m\n",
      "\u001b[1;31mKeyError\u001b[0m: \"['labels_2'] not in index\""
     ]
    }
   ],
   "source": [
    "sns.lmplot(x='ht', y='wt', hue = 'labels_2', data = data)"
   ]
  },
  {
   "cell_type": "markdown",
   "metadata": {
    "colab_type": "text",
    "id": "n5gar-w0j2Tr"
   },
   "source": [
    "\n",
    "\n",
    "---\n",
    "\n",
    "\n",
    "\n",
    "---\n",
    "\n",
    "\n",
    "\n",
    "> > > > > > > > > © 2019 Institute of Data\n",
    "\n",
    "\n",
    "---\n",
    "\n",
    "\n",
    "\n",
    "---\n",
    "\n",
    "\n",
    "\n"
   ]
  },
  {
   "cell_type": "code",
   "execution_count": null,
   "metadata": {},
   "outputs": [],
   "source": []
  }
 ],
 "metadata": {
  "colab": {
   "collapsed_sections": [],
   "name": "DSIA Lab 6.1.1.ipynb",
   "provenance": []
  },
  "kernelspec": {
   "display_name": "Python 3",
   "language": "python",
   "name": "python3"
  },
  "language_info": {
   "codemirror_mode": {
    "name": "ipython",
    "version": 3
   },
   "file_extension": ".py",
   "mimetype": "text/x-python",
   "name": "python",
   "nbconvert_exporter": "python",
   "pygments_lexer": "ipython3",
   "version": "3.8.5"
  }
 },
 "nbformat": 4,
 "nbformat_minor": 1
}
