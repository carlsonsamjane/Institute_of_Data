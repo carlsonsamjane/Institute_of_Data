{
 "cells": [
  {
   "cell_type": "markdown",
   "metadata": {
    "colab_type": "text",
    "id": "GPQokKfGrpu_"
   },
   "source": [
    "<div>\n",
    "<img src=https://www.institutedata.com/wp-content/uploads/2019/10/iod_h_tp_primary_c.svg width=\"300\">\n",
    "</div>"
   ]
  },
  {
   "cell_type": "markdown",
   "metadata": {
    "colab_type": "text",
    "id": "2ibB1lPorpvB"
   },
   "source": [
    "# Lab 8.2: Boosting\n",
    "\n",
    "INSTRUCTIONS:\n",
    "\n",
    "- Read the guides and hints then create the necessary analysis and code to find an answer and conclusion for the scenario below.\n",
    "- The baseline results (minimum) are:\n",
    "    - **Accuracy** = 0.9429\n",
    "    - **ROC AUC**  = 0.9333\n",
    "- Try to achieve better results!"
   ]
  },
  {
   "cell_type": "markdown",
   "metadata": {
    "colab_type": "text",
    "id": "dDHEDe2TrpvE"
   },
   "source": [
    "# Foreword\n",
    "It is common that companies and professionals start with the data immediately available. Although this approach works, ideally the first step is to identify the problem or question and only then identify and obtain the set of data that can help to solve or answer the problem.\n",
    "\n",
    "Also, given the current abundance of data, processing power and some particular machine learning methods, there could be a temptation to use ALL the data available. **Quality** is _**better**_ than **Quantity**!\n",
    "\n",
    "Part of calling this discipline **Data Science** is that it is supposed to follow a process and not reach conclusions without support from evidence.\n",
    "\n",
    "Moreover, it is a creative, exploratory, laborious, iterative and interactive process. It is part of the process to repeat, review and change when finding a dead-end."
   ]
  },
  {
   "cell_type": "markdown",
   "metadata": {
    "colab_type": "text",
    "id": "LqafjJWZrpvG"
   },
   "source": [
    "## Scenario: Predicting Breast Cancer\n",
    "The dataset you are going to be using for this laboratory is popularly known as the **Wisconsin Breast Cancer** dataset. The task related to it is Classification.\n",
    "\n",
    "The dataset contains a total number of _10_ features labelled in either **benign** or **malignant** classes. The features have _699_ instances out of which _16_ feature values are missing. The dataset only contains numeric values."
   ]
  },
  {
   "cell_type": "markdown",
   "metadata": {
    "colab_type": "text",
    "id": "vaxdobIZrpvI"
   },
   "source": [
    "# Step 1: Define the problem or question\n",
    "Identify the subject matter and the given or obvious questions that would be relevant in the field.\n",
    "\n",
    "## Potential Questions\n",
    "List the given or obvious questions.\n",
    "\n",
    "## Actual Question\n",
    "Choose the **one** question that should be answered."
   ]
  },
  {
   "cell_type": "markdown",
   "metadata": {
    "colab_type": "text",
    "id": "-O8FhgglrpvL"
   },
   "source": [
    "# Step 2: Find the Data\n",
    "### Wisconsin Breast Cancer DataSet\n",
    "- **Citation Request**\n",
    "\n",
    "    This breast cancer databases was obtained from the **University of Wisconsin Hospitals**, **Madison** from **Dr. William H. Wolberg**. If you publish results when using this database, then please include this information in your acknowledgements.\n",
    "\n",
    "- **Title**\n",
    "\n",
    "    Wisconsin Breast Cancer Database (January 8, 1991)\n",
    "\n",
    "- **Sources**\n",
    "    - **Creator**\n",
    "            Dr. William H. Wolberg (physician)\n",
    "            University of Wisconsin Hospitals\n",
    "            Madison, Wisconsin\n",
    "            USA\n",
    "    - **Donor**\n",
    "            Olvi Mangasarian (mangasarian@cs.wisc.edu)\n",
    "            Received by David W. Aha (aha@cs.jhu.edu)\n",
    "    - **Date**\n",
    "            15 July 1992\n",
    "        \n",
    "### UCI - Machine Learning Repository\n",
    "- Center for Machine Learning and Intelligent Systems\n",
    "\n",
    "The [**UCI Machine Learning Repository**](http://archive.ics.uci.edu/ml/about.html) is a collection of databases, domain theories, and data generators that are used by the machine learning community for the empirical analysis of machine learning algorithms."
   ]
  },
  {
   "cell_type": "code",
   "execution_count": 1,
   "metadata": {},
   "outputs": [],
   "source": [
    "import numpy as np\n",
    "import pandas as pd\n",
    "import matplotlib.pyplot as plt\n",
    "import matplotlib.gridspec as gridspec\n",
    "from sklearn.impute import SimpleImputer\n",
    "from sklearn.preprocessing import MinMaxScaler\n",
    "\n",
    "from sklearn import model_selection\n",
    "from sklearn.model_selection import cross_val_score\n",
    "from sklearn.model_selection import KFold\n",
    "from sklearn.model_selection import train_test_split\n",
    "from sklearn.svm import SVC\n",
    "from sklearn.tree import DecisionTreeClassifier\n",
    "\n",
    "from sklearn.metrics import confusion_matrix\n",
    "from sklearn.metrics import accuracy_score\n",
    "from sklearn.metrics import precision_score\n",
    "from sklearn.metrics import recall_score\n",
    "from sklearn.metrics import  average_precision_score\n",
    "from sklearn.metrics import roc_auc_score\n",
    "from sklearn.metrics import precision_recall_curve\n",
    "from sklearn.metrics import roc_curve\n",
    "from sklearn.metrics import auc\n",
    "import seaborn as sns\n",
    "\n",
    "from sklearn.preprocessing import StandardScaler\n",
    "\n",
    "from sklearn.ensemble import BaggingClassifier\n",
    "from sklearn.ensemble import GradientBoostingClassifier\n",
    "from sklearn.ensemble import GradientBoostingRegressor\n",
    "from sklearn.ensemble import AdaBoostClassifier\n",
    "\n",
    "from sklearn.metrics import classification_report"
   ]
  },
  {
   "cell_type": "markdown",
   "metadata": {
    "colab_type": "text",
    "id": "MT-Jy4rurpvN"
   },
   "source": [
    "# Step 3: Read the Data\n",
    "- Read the data\n",
    "- Perform some basic structural cleaning to facilitate the work"
   ]
  },
  {
   "cell_type": "code",
   "execution_count": 2,
   "metadata": {},
   "outputs": [],
   "source": [
    "columns = ['Sample code number',  \n",
    "            'Clump Thickness',\n",
    "            'Uniformity of Cell Size',       \n",
    "            'Uniformity of Cell Shape',      \n",
    "            'Marginal Adhesion',             \n",
    "            'Single Epithelial Cell Size',   \n",
    "            'Bare Nuclei',                   \n",
    "            'Bland Chromatin',               \n",
    "            'Normal Nucleoli',               \n",
    "            'Mitoses',                       \n",
    "            'Class',]"
   ]
  },
  {
   "cell_type": "code",
   "execution_count": 3,
   "metadata": {},
   "outputs": [],
   "source": [
    "data = pd.read_csv('C:/Users/carls/OneDrive/Desktop/IOD/Data/breast-cancer-wisconsin.data', na_values='?', names = columns)"
   ]
  },
  {
   "cell_type": "markdown",
   "metadata": {
    "colab_type": "text",
    "id": "ui6EbpzKrpvO"
   },
   "source": [
    "# Step 4: Explore and Clean the Data\n",
    "- Perform some initial simple **EDA** (Exploratory Data Analysis)\n",
    "- Check for\n",
    "    - **Number of features**\n",
    "    - **Data types**\n",
    "    - **Domains, Intervals**\n",
    "    - **Outliers** (are they valid or expurious data [read or measure errors])\n",
    "    - **Null** (values not present or coded [as zero of empty strings])\n",
    "    - **Missing Values** (coded [as zero of empty strings] or values not present)\n",
    "    - **Coded content** (classes identified by numbers or codes to represent absence of data)"
   ]
  },
  {
   "cell_type": "code",
   "execution_count": 4,
   "metadata": {},
   "outputs": [
    {
     "data": {
      "text/html": [
       "<div>\n",
       "<style scoped>\n",
       "    .dataframe tbody tr th:only-of-type {\n",
       "        vertical-align: middle;\n",
       "    }\n",
       "\n",
       "    .dataframe tbody tr th {\n",
       "        vertical-align: top;\n",
       "    }\n",
       "\n",
       "    .dataframe thead th {\n",
       "        text-align: right;\n",
       "    }\n",
       "</style>\n",
       "<table border=\"1\" class=\"dataframe\">\n",
       "  <thead>\n",
       "    <tr style=\"text-align: right;\">\n",
       "      <th></th>\n",
       "      <th>Sample code number</th>\n",
       "      <th>Clump Thickness</th>\n",
       "      <th>Uniformity of Cell Size</th>\n",
       "      <th>Uniformity of Cell Shape</th>\n",
       "      <th>Marginal Adhesion</th>\n",
       "      <th>Single Epithelial Cell Size</th>\n",
       "      <th>Bare Nuclei</th>\n",
       "      <th>Bland Chromatin</th>\n",
       "      <th>Normal Nucleoli</th>\n",
       "      <th>Mitoses</th>\n",
       "      <th>Class</th>\n",
       "    </tr>\n",
       "  </thead>\n",
       "  <tbody>\n",
       "    <tr>\n",
       "      <th>0</th>\n",
       "      <td>1000025</td>\n",
       "      <td>5</td>\n",
       "      <td>1</td>\n",
       "      <td>1</td>\n",
       "      <td>1</td>\n",
       "      <td>2</td>\n",
       "      <td>1.0</td>\n",
       "      <td>3</td>\n",
       "      <td>1</td>\n",
       "      <td>1</td>\n",
       "      <td>2</td>\n",
       "    </tr>\n",
       "    <tr>\n",
       "      <th>1</th>\n",
       "      <td>1002945</td>\n",
       "      <td>5</td>\n",
       "      <td>4</td>\n",
       "      <td>4</td>\n",
       "      <td>5</td>\n",
       "      <td>7</td>\n",
       "      <td>10.0</td>\n",
       "      <td>3</td>\n",
       "      <td>2</td>\n",
       "      <td>1</td>\n",
       "      <td>2</td>\n",
       "    </tr>\n",
       "    <tr>\n",
       "      <th>2</th>\n",
       "      <td>1015425</td>\n",
       "      <td>3</td>\n",
       "      <td>1</td>\n",
       "      <td>1</td>\n",
       "      <td>1</td>\n",
       "      <td>2</td>\n",
       "      <td>2.0</td>\n",
       "      <td>3</td>\n",
       "      <td>1</td>\n",
       "      <td>1</td>\n",
       "      <td>2</td>\n",
       "    </tr>\n",
       "    <tr>\n",
       "      <th>3</th>\n",
       "      <td>1016277</td>\n",
       "      <td>6</td>\n",
       "      <td>8</td>\n",
       "      <td>8</td>\n",
       "      <td>1</td>\n",
       "      <td>3</td>\n",
       "      <td>4.0</td>\n",
       "      <td>3</td>\n",
       "      <td>7</td>\n",
       "      <td>1</td>\n",
       "      <td>2</td>\n",
       "    </tr>\n",
       "    <tr>\n",
       "      <th>4</th>\n",
       "      <td>1017023</td>\n",
       "      <td>4</td>\n",
       "      <td>1</td>\n",
       "      <td>1</td>\n",
       "      <td>3</td>\n",
       "      <td>2</td>\n",
       "      <td>1.0</td>\n",
       "      <td>3</td>\n",
       "      <td>1</td>\n",
       "      <td>1</td>\n",
       "      <td>2</td>\n",
       "    </tr>\n",
       "  </tbody>\n",
       "</table>\n",
       "</div>"
      ],
      "text/plain": [
       "   Sample code number  Clump Thickness  Uniformity of Cell Size  \\\n",
       "0             1000025                5                        1   \n",
       "1             1002945                5                        4   \n",
       "2             1015425                3                        1   \n",
       "3             1016277                6                        8   \n",
       "4             1017023                4                        1   \n",
       "\n",
       "   Uniformity of Cell Shape  Marginal Adhesion  Single Epithelial Cell Size  \\\n",
       "0                         1                  1                            2   \n",
       "1                         4                  5                            7   \n",
       "2                         1                  1                            2   \n",
       "3                         8                  1                            3   \n",
       "4                         1                  3                            2   \n",
       "\n",
       "   Bare Nuclei  Bland Chromatin  Normal Nucleoli  Mitoses  Class  \n",
       "0          1.0                3                1        1      2  \n",
       "1         10.0                3                2        1      2  \n",
       "2          2.0                3                1        1      2  \n",
       "3          4.0                3                7        1      2  \n",
       "4          1.0                3                1        1      2  "
      ]
     },
     "execution_count": 4,
     "metadata": {},
     "output_type": "execute_result"
    }
   ],
   "source": [
    "data.head()"
   ]
  },
  {
   "cell_type": "code",
   "execution_count": 5,
   "metadata": {},
   "outputs": [
    {
     "data": {
      "text/plain": [
       "(699, 11)"
      ]
     },
     "execution_count": 5,
     "metadata": {},
     "output_type": "execute_result"
    }
   ],
   "source": [
    "data.shape"
   ]
  },
  {
   "cell_type": "code",
   "execution_count": 6,
   "metadata": {},
   "outputs": [
    {
     "name": "stdout",
     "output_type": "stream",
     "text": [
      "<class 'pandas.core.frame.DataFrame'>\n",
      "RangeIndex: 699 entries, 0 to 698\n",
      "Data columns (total 11 columns):\n",
      " #   Column                       Non-Null Count  Dtype  \n",
      "---  ------                       --------------  -----  \n",
      " 0   Sample code number           699 non-null    int64  \n",
      " 1   Clump Thickness              699 non-null    int64  \n",
      " 2   Uniformity of Cell Size      699 non-null    int64  \n",
      " 3   Uniformity of Cell Shape     699 non-null    int64  \n",
      " 4   Marginal Adhesion            699 non-null    int64  \n",
      " 5   Single Epithelial Cell Size  699 non-null    int64  \n",
      " 6   Bare Nuclei                  683 non-null    float64\n",
      " 7   Bland Chromatin              699 non-null    int64  \n",
      " 8   Normal Nucleoli              699 non-null    int64  \n",
      " 9   Mitoses                      699 non-null    int64  \n",
      " 10  Class                        699 non-null    int64  \n",
      "dtypes: float64(1), int64(10)\n",
      "memory usage: 60.2 KB\n"
     ]
    }
   ],
   "source": [
    "data.info()"
   ]
  },
  {
   "cell_type": "code",
   "execution_count": 7,
   "metadata": {},
   "outputs": [
    {
     "data": {
      "text/html": [
       "<div>\n",
       "<style scoped>\n",
       "    .dataframe tbody tr th:only-of-type {\n",
       "        vertical-align: middle;\n",
       "    }\n",
       "\n",
       "    .dataframe tbody tr th {\n",
       "        vertical-align: top;\n",
       "    }\n",
       "\n",
       "    .dataframe thead th {\n",
       "        text-align: right;\n",
       "    }\n",
       "</style>\n",
       "<table border=\"1\" class=\"dataframe\">\n",
       "  <thead>\n",
       "    <tr style=\"text-align: right;\">\n",
       "      <th></th>\n",
       "      <th>Sample code number</th>\n",
       "      <th>Clump Thickness</th>\n",
       "      <th>Uniformity of Cell Size</th>\n",
       "      <th>Uniformity of Cell Shape</th>\n",
       "      <th>Marginal Adhesion</th>\n",
       "      <th>Single Epithelial Cell Size</th>\n",
       "      <th>Bare Nuclei</th>\n",
       "      <th>Bland Chromatin</th>\n",
       "      <th>Normal Nucleoli</th>\n",
       "      <th>Mitoses</th>\n",
       "      <th>Class</th>\n",
       "    </tr>\n",
       "  </thead>\n",
       "  <tbody>\n",
       "    <tr>\n",
       "      <th>count</th>\n",
       "      <td>6.990000e+02</td>\n",
       "      <td>699.000000</td>\n",
       "      <td>699.000000</td>\n",
       "      <td>699.000000</td>\n",
       "      <td>699.000000</td>\n",
       "      <td>699.000000</td>\n",
       "      <td>683.000000</td>\n",
       "      <td>699.000000</td>\n",
       "      <td>699.000000</td>\n",
       "      <td>699.000000</td>\n",
       "      <td>699.000000</td>\n",
       "    </tr>\n",
       "    <tr>\n",
       "      <th>mean</th>\n",
       "      <td>1.071704e+06</td>\n",
       "      <td>4.417740</td>\n",
       "      <td>3.134478</td>\n",
       "      <td>3.207439</td>\n",
       "      <td>2.806867</td>\n",
       "      <td>3.216023</td>\n",
       "      <td>3.544656</td>\n",
       "      <td>3.437768</td>\n",
       "      <td>2.866953</td>\n",
       "      <td>1.589413</td>\n",
       "      <td>2.689557</td>\n",
       "    </tr>\n",
       "    <tr>\n",
       "      <th>std</th>\n",
       "      <td>6.170957e+05</td>\n",
       "      <td>2.815741</td>\n",
       "      <td>3.051459</td>\n",
       "      <td>2.971913</td>\n",
       "      <td>2.855379</td>\n",
       "      <td>2.214300</td>\n",
       "      <td>3.643857</td>\n",
       "      <td>2.438364</td>\n",
       "      <td>3.053634</td>\n",
       "      <td>1.715078</td>\n",
       "      <td>0.951273</td>\n",
       "    </tr>\n",
       "    <tr>\n",
       "      <th>min</th>\n",
       "      <td>6.163400e+04</td>\n",
       "      <td>1.000000</td>\n",
       "      <td>1.000000</td>\n",
       "      <td>1.000000</td>\n",
       "      <td>1.000000</td>\n",
       "      <td>1.000000</td>\n",
       "      <td>1.000000</td>\n",
       "      <td>1.000000</td>\n",
       "      <td>1.000000</td>\n",
       "      <td>1.000000</td>\n",
       "      <td>2.000000</td>\n",
       "    </tr>\n",
       "    <tr>\n",
       "      <th>25%</th>\n",
       "      <td>8.706885e+05</td>\n",
       "      <td>2.000000</td>\n",
       "      <td>1.000000</td>\n",
       "      <td>1.000000</td>\n",
       "      <td>1.000000</td>\n",
       "      <td>2.000000</td>\n",
       "      <td>1.000000</td>\n",
       "      <td>2.000000</td>\n",
       "      <td>1.000000</td>\n",
       "      <td>1.000000</td>\n",
       "      <td>2.000000</td>\n",
       "    </tr>\n",
       "    <tr>\n",
       "      <th>50%</th>\n",
       "      <td>1.171710e+06</td>\n",
       "      <td>4.000000</td>\n",
       "      <td>1.000000</td>\n",
       "      <td>1.000000</td>\n",
       "      <td>1.000000</td>\n",
       "      <td>2.000000</td>\n",
       "      <td>1.000000</td>\n",
       "      <td>3.000000</td>\n",
       "      <td>1.000000</td>\n",
       "      <td>1.000000</td>\n",
       "      <td>2.000000</td>\n",
       "    </tr>\n",
       "    <tr>\n",
       "      <th>75%</th>\n",
       "      <td>1.238298e+06</td>\n",
       "      <td>6.000000</td>\n",
       "      <td>5.000000</td>\n",
       "      <td>5.000000</td>\n",
       "      <td>4.000000</td>\n",
       "      <td>4.000000</td>\n",
       "      <td>6.000000</td>\n",
       "      <td>5.000000</td>\n",
       "      <td>4.000000</td>\n",
       "      <td>1.000000</td>\n",
       "      <td>4.000000</td>\n",
       "    </tr>\n",
       "    <tr>\n",
       "      <th>max</th>\n",
       "      <td>1.345435e+07</td>\n",
       "      <td>10.000000</td>\n",
       "      <td>10.000000</td>\n",
       "      <td>10.000000</td>\n",
       "      <td>10.000000</td>\n",
       "      <td>10.000000</td>\n",
       "      <td>10.000000</td>\n",
       "      <td>10.000000</td>\n",
       "      <td>10.000000</td>\n",
       "      <td>10.000000</td>\n",
       "      <td>4.000000</td>\n",
       "    </tr>\n",
       "  </tbody>\n",
       "</table>\n",
       "</div>"
      ],
      "text/plain": [
       "       Sample code number  Clump Thickness  Uniformity of Cell Size  \\\n",
       "count        6.990000e+02       699.000000               699.000000   \n",
       "mean         1.071704e+06         4.417740                 3.134478   \n",
       "std          6.170957e+05         2.815741                 3.051459   \n",
       "min          6.163400e+04         1.000000                 1.000000   \n",
       "25%          8.706885e+05         2.000000                 1.000000   \n",
       "50%          1.171710e+06         4.000000                 1.000000   \n",
       "75%          1.238298e+06         6.000000                 5.000000   \n",
       "max          1.345435e+07        10.000000                10.000000   \n",
       "\n",
       "       Uniformity of Cell Shape  Marginal Adhesion  \\\n",
       "count                699.000000         699.000000   \n",
       "mean                   3.207439           2.806867   \n",
       "std                    2.971913           2.855379   \n",
       "min                    1.000000           1.000000   \n",
       "25%                    1.000000           1.000000   \n",
       "50%                    1.000000           1.000000   \n",
       "75%                    5.000000           4.000000   \n",
       "max                   10.000000          10.000000   \n",
       "\n",
       "       Single Epithelial Cell Size  Bare Nuclei  Bland Chromatin  \\\n",
       "count                   699.000000   683.000000       699.000000   \n",
       "mean                      3.216023     3.544656         3.437768   \n",
       "std                       2.214300     3.643857         2.438364   \n",
       "min                       1.000000     1.000000         1.000000   \n",
       "25%                       2.000000     1.000000         2.000000   \n",
       "50%                       2.000000     1.000000         3.000000   \n",
       "75%                       4.000000     6.000000         5.000000   \n",
       "max                      10.000000    10.000000        10.000000   \n",
       "\n",
       "       Normal Nucleoli     Mitoses       Class  \n",
       "count       699.000000  699.000000  699.000000  \n",
       "mean          2.866953    1.589413    2.689557  \n",
       "std           3.053634    1.715078    0.951273  \n",
       "min           1.000000    1.000000    2.000000  \n",
       "25%           1.000000    1.000000    2.000000  \n",
       "50%           1.000000    1.000000    2.000000  \n",
       "75%           4.000000    1.000000    4.000000  \n",
       "max          10.000000   10.000000    4.000000  "
      ]
     },
     "execution_count": 7,
     "metadata": {},
     "output_type": "execute_result"
    }
   ],
   "source": [
    "data.describe()"
   ]
  },
  {
   "cell_type": "markdown",
   "metadata": {
    "colab_type": "text",
    "id": "djEFyiAvrpvP"
   },
   "source": [
    "# Step 5: Prepare the Data\n",
    "- Deal with the data as required by the modelling technique\n",
    "    - **Outliers** (remove or adjust if possible or necessary)\n",
    "    - **Null** (remove or interpolate if possible or necessary)\n",
    "    - **Missing Values** (remove or interpolate if possible or necessary)\n",
    "    - **Coded content** (transform if possible or necessary [str to number or vice-versa])\n",
    "    - **Normalisation** (if possible or necessary)\n",
    "    - **Feature Engeneer** (if useful or necessary)"
   ]
  },
  {
   "cell_type": "code",
   "execution_count": 8,
   "metadata": {},
   "outputs": [
    {
     "data": {
      "text/plain": [
       "Sample code number              0\n",
       "Clump Thickness                 0\n",
       "Uniformity of Cell Size         0\n",
       "Uniformity of Cell Shape        0\n",
       "Marginal Adhesion               0\n",
       "Single Epithelial Cell Size     0\n",
       "Bare Nuclei                    16\n",
       "Bland Chromatin                 0\n",
       "Normal Nucleoli                 0\n",
       "Mitoses                         0\n",
       "Class                           0\n",
       "dtype: int64"
      ]
     },
     "execution_count": 8,
     "metadata": {},
     "output_type": "execute_result"
    }
   ],
   "source": [
    "data.isnull().sum()"
   ]
  },
  {
   "cell_type": "code",
   "execution_count": 9,
   "metadata": {},
   "outputs": [],
   "source": [
    "corr = data.corr()"
   ]
  },
  {
   "cell_type": "code",
   "execution_count": 10,
   "metadata": {},
   "outputs": [
    {
     "data": {
      "text/plain": [
       "<AxesSubplot:>"
      ]
     },
     "execution_count": 10,
     "metadata": {},
     "output_type": "execute_result"
    },
    {
     "data": {
      "image/png": "[encoded data removed]",
      "text/plain": [
       "<Figure size 864x648 with 2 Axes>"
      ]
     },
     "metadata": {
      "needs_background": "light"
     },
     "output_type": "display_data"
    }
   ],
   "source": [
    "mask = np.zeros_like(corr, dtype=np.bool)\n",
    "mask[np.triu_indices_from(mask)] = True\n",
    "\n",
    "plt.figure(figsize=(12, 9))\n",
    "sns.heatmap(corr, mask = mask, linewidths=2, cmap='coolwarm', annot = True)"
   ]
  },
  {
   "cell_type": "code",
   "execution_count": 11,
   "metadata": {},
   "outputs": [],
   "source": [
    "imputer = SimpleImputer()\n",
    "\n",
    "data.loc[:,'Bare Nuclei'] = imputer.fit_transform(data[['Bare Nuclei']])"
   ]
  },
  {
   "cell_type": "code",
   "execution_count": 12,
   "metadata": {},
   "outputs": [
    {
     "data": {
      "text/html": [
       "<div>\n",
       "<style scoped>\n",
       "    .dataframe tbody tr th:only-of-type {\n",
       "        vertical-align: middle;\n",
       "    }\n",
       "\n",
       "    .dataframe tbody tr th {\n",
       "        vertical-align: top;\n",
       "    }\n",
       "\n",
       "    .dataframe thead th {\n",
       "        text-align: right;\n",
       "    }\n",
       "</style>\n",
       "<table border=\"1\" class=\"dataframe\">\n",
       "  <thead>\n",
       "    <tr style=\"text-align: right;\">\n",
       "      <th></th>\n",
       "      <th>Sample code number</th>\n",
       "      <th>Clump Thickness</th>\n",
       "      <th>Uniformity of Cell Size</th>\n",
       "      <th>Uniformity of Cell Shape</th>\n",
       "      <th>Marginal Adhesion</th>\n",
       "      <th>Single Epithelial Cell Size</th>\n",
       "      <th>Bare Nuclei</th>\n",
       "      <th>Bland Chromatin</th>\n",
       "      <th>Normal Nucleoli</th>\n",
       "      <th>Mitoses</th>\n",
       "      <th>Class</th>\n",
       "    </tr>\n",
       "  </thead>\n",
       "  <tbody>\n",
       "    <tr>\n",
       "      <th>94</th>\n",
       "      <td>1160476</td>\n",
       "      <td>2</td>\n",
       "      <td>1</td>\n",
       "      <td>1</td>\n",
       "      <td>1</td>\n",
       "      <td>2</td>\n",
       "      <td>1.0</td>\n",
       "      <td>3</td>\n",
       "      <td>1</td>\n",
       "      <td>1</td>\n",
       "      <td>2</td>\n",
       "    </tr>\n",
       "    <tr>\n",
       "      <th>453</th>\n",
       "      <td>1230994</td>\n",
       "      <td>4</td>\n",
       "      <td>5</td>\n",
       "      <td>5</td>\n",
       "      <td>8</td>\n",
       "      <td>6</td>\n",
       "      <td>10.0</td>\n",
       "      <td>10</td>\n",
       "      <td>7</td>\n",
       "      <td>1</td>\n",
       "      <td>4</td>\n",
       "    </tr>\n",
       "    <tr>\n",
       "      <th>666</th>\n",
       "      <td>1347943</td>\n",
       "      <td>5</td>\n",
       "      <td>2</td>\n",
       "      <td>2</td>\n",
       "      <td>2</td>\n",
       "      <td>2</td>\n",
       "      <td>1.0</td>\n",
       "      <td>1</td>\n",
       "      <td>1</td>\n",
       "      <td>2</td>\n",
       "      <td>2</td>\n",
       "    </tr>\n",
       "    <tr>\n",
       "      <th>393</th>\n",
       "      <td>1158247</td>\n",
       "      <td>1</td>\n",
       "      <td>1</td>\n",
       "      <td>1</td>\n",
       "      <td>1</td>\n",
       "      <td>1</td>\n",
       "      <td>1.0</td>\n",
       "      <td>1</td>\n",
       "      <td>1</td>\n",
       "      <td>1</td>\n",
       "      <td>2</td>\n",
       "    </tr>\n",
       "    <tr>\n",
       "      <th>585</th>\n",
       "      <td>1239420</td>\n",
       "      <td>1</td>\n",
       "      <td>1</td>\n",
       "      <td>1</td>\n",
       "      <td>1</td>\n",
       "      <td>2</td>\n",
       "      <td>1.0</td>\n",
       "      <td>1</td>\n",
       "      <td>1</td>\n",
       "      <td>1</td>\n",
       "      <td>2</td>\n",
       "    </tr>\n",
       "  </tbody>\n",
       "</table>\n",
       "</div>"
      ],
      "text/plain": [
       "     Sample code number  Clump Thickness  Uniformity of Cell Size  \\\n",
       "94              1160476                2                        1   \n",
       "453             1230994                4                        5   \n",
       "666             1347943                5                        2   \n",
       "393             1158247                1                        1   \n",
       "585             1239420                1                        1   \n",
       "\n",
       "     Uniformity of Cell Shape  Marginal Adhesion  Single Epithelial Cell Size  \\\n",
       "94                          1                  1                            2   \n",
       "453                         5                  8                            6   \n",
       "666                         2                  2                            2   \n",
       "393                         1                  1                            1   \n",
       "585                         1                  1                            2   \n",
       "\n",
       "     Bare Nuclei  Bland Chromatin  Normal Nucleoli  Mitoses  Class  \n",
       "94           1.0                3                1        1      2  \n",
       "453         10.0               10                7        1      4  \n",
       "666          1.0                1                1        2      2  \n",
       "393          1.0                1                1        1      2  \n",
       "585          1.0                1                1        1      2  "
      ]
     },
     "execution_count": 12,
     "metadata": {},
     "output_type": "execute_result"
    }
   ],
   "source": [
    "data.sample(5)"
   ]
  },
  {
   "cell_type": "code",
   "execution_count": 13,
   "metadata": {},
   "outputs": [
    {
     "name": "stderr",
     "output_type": "stream",
     "text": [
      "C:\\Users\\carls\\anaconda3\\envs\\Python\\lib\\site-packages\\seaborn\\_decorators.py:36: FutureWarning: Pass the following variable as a keyword arg: x. From version 0.12, the only valid positional argument will be `data`, and passing other arguments without an explicit keyword will result in an error or misinterpretation.\n",
      "  warnings.warn(\n",
      "C:\\Users\\carls\\anaconda3\\envs\\Python\\lib\\site-packages\\seaborn\\distributions.py:2557: FutureWarning: `distplot` is a deprecated function and will be removed in a future version. Please adapt your code to use either `displot` (a figure-level function with similar flexibility) or `histplot` (an axes-level function for histograms).\n",
      "  warnings.warn(msg, FutureWarning)\n",
      "C:\\Users\\carls\\anaconda3\\envs\\Python\\lib\\site-packages\\seaborn\\_decorators.py:36: FutureWarning: Pass the following variable as a keyword arg: x. From version 0.12, the only valid positional argument will be `data`, and passing other arguments without an explicit keyword will result in an error or misinterpretation.\n",
      "  warnings.warn(\n",
      "C:\\Users\\carls\\anaconda3\\envs\\Python\\lib\\site-packages\\seaborn\\distributions.py:2557: FutureWarning: `distplot` is a deprecated function and will be removed in a future version. Please adapt your code to use either `displot` (a figure-level function with similar flexibility) or `histplot` (an axes-level function for histograms).\n",
      "  warnings.warn(msg, FutureWarning)\n",
      "C:\\Users\\carls\\anaconda3\\envs\\Python\\lib\\site-packages\\seaborn\\_decorators.py:36: FutureWarning: Pass the following variable as a keyword arg: x. From version 0.12, the only valid positional argument will be `data`, and passing other arguments without an explicit keyword will result in an error or misinterpretation.\n",
      "  warnings.warn(\n",
      "C:\\Users\\carls\\anaconda3\\envs\\Python\\lib\\site-packages\\seaborn\\distributions.py:2557: FutureWarning: `distplot` is a deprecated function and will be removed in a future version. Please adapt your code to use either `displot` (a figure-level function with similar flexibility) or `histplot` (an axes-level function for histograms).\n",
      "  warnings.warn(msg, FutureWarning)\n",
      "C:\\Users\\carls\\anaconda3\\envs\\Python\\lib\\site-packages\\seaborn\\_decorators.py:36: FutureWarning: Pass the following variable as a keyword arg: x. From version 0.12, the only valid positional argument will be `data`, and passing other arguments without an explicit keyword will result in an error or misinterpretation.\n",
      "  warnings.warn(\n",
      "C:\\Users\\carls\\anaconda3\\envs\\Python\\lib\\site-packages\\seaborn\\distributions.py:2557: FutureWarning: `distplot` is a deprecated function and will be removed in a future version. Please adapt your code to use either `displot` (a figure-level function with similar flexibility) or `histplot` (an axes-level function for histograms).\n",
      "  warnings.warn(msg, FutureWarning)\n",
      "C:\\Users\\carls\\anaconda3\\envs\\Python\\lib\\site-packages\\seaborn\\_decorators.py:36: FutureWarning: Pass the following variable as a keyword arg: x. From version 0.12, the only valid positional argument will be `data`, and passing other arguments without an explicit keyword will result in an error or misinterpretation.\n",
      "  warnings.warn(\n",
      "C:\\Users\\carls\\anaconda3\\envs\\Python\\lib\\site-packages\\seaborn\\distributions.py:2557: FutureWarning: `distplot` is a deprecated function and will be removed in a future version. Please adapt your code to use either `displot` (a figure-level function with similar flexibility) or `histplot` (an axes-level function for histograms).\n",
      "  warnings.warn(msg, FutureWarning)\n",
      "C:\\Users\\carls\\anaconda3\\envs\\Python\\lib\\site-packages\\seaborn\\_decorators.py:36: FutureWarning: Pass the following variable as a keyword arg: x. From version 0.12, the only valid positional argument will be `data`, and passing other arguments without an explicit keyword will result in an error or misinterpretation.\n",
      "  warnings.warn(\n",
      "C:\\Users\\carls\\anaconda3\\envs\\Python\\lib\\site-packages\\seaborn\\distributions.py:2557: FutureWarning: `distplot` is a deprecated function and will be removed in a future version. Please adapt your code to use either `displot` (a figure-level function with similar flexibility) or `histplot` (an axes-level function for histograms).\n",
      "  warnings.warn(msg, FutureWarning)\n",
      "C:\\Users\\carls\\anaconda3\\envs\\Python\\lib\\site-packages\\seaborn\\_decorators.py:36: FutureWarning: Pass the following variable as a keyword arg: x. From version 0.12, the only valid positional argument will be `data`, and passing other arguments without an explicit keyword will result in an error or misinterpretation.\n",
      "  warnings.warn(\n",
      "C:\\Users\\carls\\anaconda3\\envs\\Python\\lib\\site-packages\\seaborn\\distributions.py:2557: FutureWarning: `distplot` is a deprecated function and will be removed in a future version. Please adapt your code to use either `displot` (a figure-level function with similar flexibility) or `histplot` (an axes-level function for histograms).\n",
      "  warnings.warn(msg, FutureWarning)\n",
      "C:\\Users\\carls\\anaconda3\\envs\\Python\\lib\\site-packages\\seaborn\\_decorators.py:36: FutureWarning: Pass the following variable as a keyword arg: x. From version 0.12, the only valid positional argument will be `data`, and passing other arguments without an explicit keyword will result in an error or misinterpretation.\n",
      "  warnings.warn(\n",
      "C:\\Users\\carls\\anaconda3\\envs\\Python\\lib\\site-packages\\seaborn\\distributions.py:2557: FutureWarning: `distplot` is a deprecated function and will be removed in a future version. Please adapt your code to use either `displot` (a figure-level function with similar flexibility) or `histplot` (an axes-level function for histograms).\n",
      "  warnings.warn(msg, FutureWarning)\n",
      "C:\\Users\\carls\\anaconda3\\envs\\Python\\lib\\site-packages\\seaborn\\_decorators.py:36: FutureWarning: Pass the following variable as a keyword arg: x. From version 0.12, the only valid positional argument will be `data`, and passing other arguments without an explicit keyword will result in an error or misinterpretation.\n",
      "  warnings.warn(\n",
      "C:\\Users\\carls\\anaconda3\\envs\\Python\\lib\\site-packages\\seaborn\\distributions.py:2557: FutureWarning: `distplot` is a deprecated function and will be removed in a future version. Please adapt your code to use either `displot` (a figure-level function with similar flexibility) or `histplot` (an axes-level function for histograms).\n",
      "  warnings.warn(msg, FutureWarning)\n",
      "C:\\Users\\carls\\anaconda3\\envs\\Python\\lib\\site-packages\\seaborn\\_decorators.py:36: FutureWarning: Pass the following variable as a keyword arg: x. From version 0.12, the only valid positional argument will be `data`, and passing other arguments without an explicit keyword will result in an error or misinterpretation.\n",
      "  warnings.warn(\n",
      "C:\\Users\\carls\\anaconda3\\envs\\Python\\lib\\site-packages\\seaborn\\distributions.py:2557: FutureWarning: `distplot` is a deprecated function and will be removed in a future version. Please adapt your code to use either `displot` (a figure-level function with similar flexibility) or `histplot` (an axes-level function for histograms).\n",
      "  warnings.warn(msg, FutureWarning)\n",
      "C:\\Users\\carls\\anaconda3\\envs\\Python\\lib\\site-packages\\seaborn\\_decorators.py:36: FutureWarning: Pass the following variable as a keyword arg: x. From version 0.12, the only valid positional argument will be `data`, and passing other arguments without an explicit keyword will result in an error or misinterpretation.\n",
      "  warnings.warn(\n",
      "C:\\Users\\carls\\anaconda3\\envs\\Python\\lib\\site-packages\\seaborn\\distributions.py:2557: FutureWarning: `distplot` is a deprecated function and will be removed in a future version. Please adapt your code to use either `displot` (a figure-level function with similar flexibility) or `histplot` (an axes-level function for histograms).\n",
      "  warnings.warn(msg, FutureWarning)\n"
     ]
    },
    {
     "data": {
      "image/png": "[encoded data removed]",
      "text/plain": [
       "<Figure size 720x360 with 2 Axes>"
      ]
     },
     "metadata": {
      "needs_background": "light"
     },
     "output_type": "display_data"
    },
    {
     "data": {
      "image/png": "[encoded data removed]",
      "text/plain": [
       "<Figure size 720x360 with 2 Axes>"
      ]
     },
     "metadata": {
      "needs_background": "light"
     },
     "output_type": "display_data"
    },
    {
     "data": {
      "image/png": "[encoded data removed]",
      "text/plain": [
       "<Figure size 720x360 with 2 Axes>"
      ]
     },
     "metadata": {
      "needs_background": "light"
     },
     "output_type": "display_data"
    },
    {
     "data": {
      "image/png": "[encoded data removed]",
      "text/plain": [
       "<Figure size 720x360 with 2 Axes>"
      ]
     },
     "metadata": {
      "needs_background": "light"
     },
     "output_type": "display_data"
    },
    {
     "data": {
      "image/png": "[encoded data removed]",
      "text/plain": [
       "<Figure size 720x360 with 2 Axes>"
      ]
     },
     "metadata": {
      "needs_background": "light"
     },
     "output_type": "display_data"
    },
    {
     "data": {
      "image/png": "[encoded data removed]",
      "text/plain": [
       "<Figure size 720x360 with 2 Axes>"
      ]
     },
     "metadata": {
      "needs_background": "light"
     },
     "output_type": "display_data"
    },
    {
     "data": {
      "image/png": "[encoded data removed]",
      "text/plain": [
       "<Figure size 720x360 with 2 Axes>"
      ]
     },
     "metadata": {
      "needs_background": "light"
     },
     "output_type": "display_data"
    },
    {
     "data": {
      "image/png": "[encoded data removed]",
      "text/plain": [
       "<Figure size 720x360 with 2 Axes>"
      ]
     },
     "metadata": {
      "needs_background": "light"
     },
     "output_type": "display_data"
    },
    {
     "data": {
      "image/png": "[encoded data removed]",
      "text/plain": [
       "<Figure size 720x360 with 2 Axes>"
      ]
     },
     "metadata": {
      "needs_background": "light"
     },
     "output_type": "display_data"
    },
    {
     "data": {
      "image/png": "[encoded data removed]",
      "text/plain": [
       "<Figure size 720x360 with 2 Axes>"
      ]
     },
     "metadata": {
      "needs_background": "light"
     },
     "output_type": "display_data"
    },
    {
     "data": {
      "image/png": "[encoded data removed]",
      "text/plain": [
       "<Figure size 720x360 with 2 Axes>"
      ]
     },
     "metadata": {
      "needs_background": "light"
     },
     "output_type": "display_data"
    }
   ],
   "source": [
    "for c in data.columns:\n",
    "    fig, ax = plt.subplots(2, figsize = (10,5), sharex = True, gridspec_kw = {'height_ratios':(0.15, 0.85)})\n",
    "    \n",
    "    ax_box = ax[0]\n",
    "    ax_box = sns.boxplot(data[c], ax = ax_box)\n",
    "    \n",
    "    ax_hist = ax[1]\n",
    "    if c not in ['Mitoses', 'Class']:\n",
    "        ax_hist = sns.distplot(data[c], ax = ax_hist)\n",
    "    else:\n",
    "        ax_hist = sns.distplot(data[c], ax=ax_hist, kde=False)"
   ]
  },
  {
   "cell_type": "markdown",
   "metadata": {
    "colab_type": "text",
    "id": "u_uEHN4zrpvQ"
   },
   "source": [
    "# Step 6: Modelling\n",
    "Refer to the Problem and Main Question.\n",
    "- What are the input variables (features)?\n",
    "- Is there an output variable (label)?\n",
    "- If there is an output variable:\n",
    "    - What is it?\n",
    "    - What is its type?\n",
    "- What type of Modelling is it?\n",
    "    - [ ] Supervised\n",
    "    - [ ] Unsupervised \n",
    "- What type of Modelling is it?\n",
    "    - [ ] Regression\n",
    "    - [ ] Classification (binary) \n",
    "    - [ ] Classification (multi-class)\n",
    "    - [ ] Clustering"
   ]
  },
  {
   "cell_type": "markdown",
   "metadata": {
    "colab_type": "text",
    "id": "7_-BoWumrpvR"
   },
   "source": [
    "# Step 7: Split the Data\n",
    "\n",
    "Need to check for **Supervised** modelling:\n",
    "- Number of known cases or observations\n",
    "- Define the split in Training/Test or Training/Validation/Test and their proportions\n",
    "- Check for unbalanced classes and how to keep or avoid it when spliting"
   ]
  },
  {
   "cell_type": "code",
   "execution_count": 14,
   "metadata": {},
   "outputs": [],
   "source": [
    "features = columns[1:-1]\n",
    "outcome = 'Class'\n",
    "\n",
    "X = data[features].copy()\n",
    "y = data[outcome].copy()\n",
    "\n",
    "test_size = 0.3\n",
    "\n",
    "X_train, X_test, y_train, y_test = train_test_split(X, y, test_size = test_size, random_state = 50, stratify = y)"
   ]
  },
  {
   "cell_type": "code",
   "execution_count": 15,
   "metadata": {},
   "outputs": [
    {
     "data": {
      "text/plain": [
       "array([[0.11111111, 0.        , 0.        , ..., 0.11111111, 0.        ,\n",
       "        0.        ],\n",
       "       [1.        , 0.44444444, 0.44444444, ..., 0.66666667, 0.88888889,\n",
       "        0.11111111],\n",
       "       [0.44444444, 0.22222222, 0.33333333, ..., 0.33333333, 0.88888889,\n",
       "        0.        ],\n",
       "       ...,\n",
       "       [0.44444444, 0.        , 0.        , ..., 0.11111111, 0.11111111,\n",
       "        0.        ],\n",
       "       [0.11111111, 0.        , 0.        , ..., 0.11111111, 0.11111111,\n",
       "        0.        ],\n",
       "       [0.22222222, 0.        , 0.        , ..., 0.11111111, 0.        ,\n",
       "        0.        ]])"
      ]
     },
     "execution_count": 15,
     "metadata": {},
     "output_type": "execute_result"
    }
   ],
   "source": [
    "scaler = MinMaxScaler()\n",
    "\n",
    "scaler.fit_transform(X_train)\n",
    "scaler.transform(X_test)"
   ]
  },
  {
   "cell_type": "markdown",
   "metadata": {
    "colab_type": "text",
    "id": "i8IjhjqtrpvT"
   },
   "source": [
    "# Step 8: Define and Fit Models\n",
    "\n",
    "Define the model and its hyper-parameters.\n",
    "\n",
    "Consider the parameters and hyper-parameters of each model at each (re)run and after checking the efficiency of a model against the training and test datasets."
   ]
  },
  {
   "cell_type": "code",
   "execution_count": 16,
   "metadata": {},
   "outputs": [
    {
     "name": "stdout",
     "output_type": "stream",
     "text": [
      "DecisionTree, Cross-Val:  0.9263180272108844\n"
     ]
    }
   ],
   "source": [
    "Kfold = KFold(n_splits = 10, random_state = 7, shuffle=True)\n",
    "\n",
    "model = DecisionTreeClassifier()\n",
    "model.fit(X_train, y_train)\n",
    "\n",
    "results =  cross_val_score(model, X_train, y_train, cv = Kfold)\n",
    "print('DecisionTree, Cross-Val: ', results.mean())"
   ]
  },
  {
   "cell_type": "code",
   "execution_count": 17,
   "metadata": {},
   "outputs": [
    {
     "name": "stderr",
     "output_type": "stream",
     "text": [
      "C:\\Users\\carls\\anaconda3\\envs\\Python\\lib\\site-packages\\sklearn\\model_selection\\_split.py:293: FutureWarning: Setting a random_state has no effect since shuffle is False. This will raise an error in 0.24. You should leave random_state to its default (None), or set shuffle=True.\n",
      "  warnings.warn(\n"
     ]
    },
    {
     "data": {
      "text/plain": [
       "AdaBoostClassifier(n_estimators=70, random_state=7)"
      ]
     },
     "execution_count": 17,
     "metadata": {},
     "output_type": "execute_result"
    }
   ],
   "source": [
    "seed = 7\n",
    "num_trees = 70\n",
    "kfold = model_selection.KFold(n_splits = 10, random_state = seed)\n",
    "\n",
    "model = AdaBoostClassifier(n_estimators = num_trees, random_state = seed)\n",
    "\n",
    "model.fit(X_train, y_train)"
   ]
  },
  {
   "cell_type": "markdown",
   "metadata": {
    "colab_type": "text",
    "id": "eL5-13AgrpvU"
   },
   "source": [
    "# Step 9: Verify and Evaluate the Training Model\n",
    "- Use the **training** data to make predictions\n",
    "- Check for overfitting\n",
    "- What metrics are appropriate for the modelling approach used\n",
    "- For **Supervised** models:\n",
    "    - Check the **Training Results** with the **Training Predictions** during development\n",
    "- Analyse, modify the parameters and hyper-parameters and repeat (within reason) until the model does not improve"
   ]
  },
  {
   "cell_type": "code",
   "execution_count": 18,
   "metadata": {},
   "outputs": [
    {
     "name": "stdout",
     "output_type": "stream",
     "text": [
      "[0.91836735 0.93877551 0.95918367 0.95918367 0.95918367 0.93877551\n",
      " 0.97959184 0.95918367 0.95918367 0.95833333]\n"
     ]
    }
   ],
   "source": [
    "results = model_selection.cross_val_score(model, X_train, y_train, cv = kfold)\n",
    "print(results)"
   ]
  },
  {
   "cell_type": "code",
   "execution_count": 19,
   "metadata": {
    "scrolled": true
   },
   "outputs": [
    {
     "data": {
      "text/plain": [
       "array([2, 2, 2, 4, 2, 2, 2, 2, 2, 2, 2, 2, 2, 4, 2, 2, 2, 2, 4, 4, 2, 2,\n",
       "       2, 4, 2, 2, 2, 4, 2, 4, 4, 2, 2, 2, 2, 4, 2, 2, 2, 2, 2, 4, 4, 2,\n",
       "       2, 2, 2, 2, 4, 2, 4, 2, 4, 4, 2, 2, 2, 2, 2, 2, 2, 4, 2, 4, 2, 2,\n",
       "       2, 2, 4, 2, 4, 4, 2, 4, 4, 4, 2, 2, 4, 4, 2, 2, 2, 2, 2, 2, 4, 2,\n",
       "       4, 2, 2, 4, 4, 2, 2, 2, 2, 4, 2, 2, 2, 2, 2, 2, 2, 2, 2, 4, 2, 2,\n",
       "       2, 4, 4, 2, 2, 4, 2, 2, 4, 2, 4, 2, 2, 4, 2, 4, 2, 2, 4, 4, 4, 2,\n",
       "       2, 4, 2, 4, 2, 4, 2, 4, 2, 4, 4, 2, 2, 4, 2, 2, 2, 2, 4, 4, 2, 2,\n",
       "       2, 4, 4, 2, 2, 2, 2, 2, 2, 2, 2, 2, 2, 2, 4, 2, 2, 2, 4, 4, 2, 4,\n",
       "       2, 2, 2, 4, 2, 2, 2, 2, 4, 4, 4, 2, 4, 4, 2, 2, 4, 4, 4, 2, 2, 2,\n",
       "       4, 2, 2, 4, 2, 2, 2, 2, 4, 2, 2, 4, 4, 2, 2, 4, 2, 2, 2, 4, 4, 4,\n",
       "       2, 4, 2, 4, 2, 4, 2, 2, 2, 4, 2, 2, 4, 4, 2, 2, 4, 2, 2, 2, 2, 2,\n",
       "       2, 2, 4, 4, 2, 2, 2, 4, 2, 2, 2, 2, 2, 2, 2, 4, 4, 4, 2, 2, 2, 2,\n",
       "       2, 4, 2, 4, 2, 2, 2, 4, 4, 2, 2, 4, 4, 4, 4, 2, 2, 2, 2, 2, 2, 4,\n",
       "       4, 2, 2, 2, 4, 2, 4, 2, 4, 4, 4, 4, 2, 2, 4, 4, 4, 2, 2, 2, 2, 2,\n",
       "       2, 4, 2, 2, 2, 2, 2, 2, 2, 4, 2, 2, 4, 4, 2, 4, 2, 4, 2, 2, 4, 2,\n",
       "       2, 2, 2, 4, 2, 4, 4, 2, 2, 2, 4, 2, 2, 4, 2, 4, 2, 4, 2, 4, 2, 4,\n",
       "       2, 2, 2, 2, 4, 4, 2, 4, 4, 2, 2, 2, 4, 2, 2, 2, 2, 4, 4, 2, 2, 2,\n",
       "       2, 2, 2, 2, 4, 2, 4, 2, 2, 2, 2, 4, 4, 4, 2, 2, 2, 2, 4, 4, 4, 4,\n",
       "       2, 2, 4, 2, 2, 4, 2, 2, 4, 2, 2, 2, 2, 2, 2, 4, 2, 4, 2, 4, 4, 4,\n",
       "       2, 2, 4, 2, 4, 4, 2, 2, 2, 2, 2, 4, 2, 2, 2, 2, 2, 4, 4, 4, 2, 2,\n",
       "       2, 2, 2, 2, 2, 4, 4, 2, 4, 2, 2, 2, 4, 2, 4, 4, 4, 2, 2, 2, 2, 2,\n",
       "       2, 2, 2, 2, 2, 2, 2, 2, 4, 4, 2, 4, 4, 2, 4, 4, 4, 2, 2, 4, 2, 2,\n",
       "       4, 2, 4, 4, 2], dtype=int64)"
      ]
     },
     "execution_count": 19,
     "metadata": {},
     "output_type": "execute_result"
    }
   ],
   "source": [
    "model.predict(X_train)"
   ]
  },
  {
   "cell_type": "code",
   "execution_count": 20,
   "metadata": {
    "scrolled": true
   },
   "outputs": [
    {
     "data": {
      "text/plain": [
       "array([[0.55176268, 0.44823732],\n",
       "       [0.5547276 , 0.4452724 ],\n",
       "       [0.54811379, 0.45188621],\n",
       "       [0.33041339, 0.66958661],\n",
       "       [0.56176517, 0.43823483],\n",
       "       [0.5499135 , 0.4500865 ],\n",
       "       [0.51247893, 0.48752107],\n",
       "       [0.5641383 , 0.4358617 ],\n",
       "       [0.54937599, 0.45062401],\n",
       "       [0.55176268, 0.44823732],\n",
       "       [0.54937599, 0.45062401],\n",
       "       [0.5601133 , 0.4398867 ],\n",
       "       [0.55229967, 0.44770033],\n",
       "       [0.15642485, 0.84357515],\n",
       "       [0.54937599, 0.45062401],\n",
       "       [0.55545093, 0.44454907],\n",
       "       [0.52549277, 0.47450723],\n",
       "       [0.56064825, 0.43935175],\n",
       "       [0.35370687, 0.64629313],\n",
       "       [0.17440985, 0.82559015],\n",
       "       [0.54572367, 0.45427633],\n",
       "       [0.56176517, 0.43823483],\n",
       "       [0.55997493, 0.44002507],\n",
       "       [0.4975569 , 0.5024431 ],\n",
       "       [0.53629869, 0.46370131],\n",
       "       [0.54110753, 0.45889247],\n",
       "       [0.55579857, 0.44420143],\n",
       "       [0.31371541, 0.68628459],\n",
       "       [0.57243702, 0.42756298],\n",
       "       [0.4439569 , 0.5560431 ],\n",
       "       [0.4783262 , 0.5216738 ],\n",
       "       [0.55579857, 0.44420143],\n",
       "       [0.57243702, 0.42756298],\n",
       "       [0.5601133 , 0.4398867 ],\n",
       "       [0.55176268, 0.44823732],\n",
       "       [0.26036588, 0.73963412],\n",
       "       [0.55161953, 0.44838047],\n",
       "       [0.54635754, 0.45364246],\n",
       "       [0.56176517, 0.43823483],\n",
       "       [0.5499135 , 0.4500865 ],\n",
       "       [0.50720672, 0.49279328],\n",
       "       [0.37040066, 0.62959934],\n",
       "       [0.46012616, 0.53987384],\n",
       "       [0.55054595, 0.44945405],\n",
       "       [0.5547276 , 0.4452724 ],\n",
       "       [0.55229967, 0.44770033],\n",
       "       [0.57243702, 0.42756298],\n",
       "       [0.54928823, 0.45071177],\n",
       "       [0.37161633, 0.62838367],\n",
       "       [0.56829226, 0.43170774],\n",
       "       [0.14751027, 0.85248973],\n",
       "       [0.53551372, 0.46448628],\n",
       "       [0.331844  , 0.668156  ],\n",
       "       [0.37712481, 0.62287519],\n",
       "       [0.55229967, 0.44770033],\n",
       "       [0.54996931, 0.45003069],\n",
       "       [0.54635754, 0.45364246],\n",
       "       [0.57243702, 0.42756298],\n",
       "       [0.5641383 , 0.4358617 ],\n",
       "       [0.57243702, 0.42756298],\n",
       "       [0.5641383 , 0.4358617 ],\n",
       "       [0.47856702, 0.52143298],\n",
       "       [0.54937599, 0.45062401],\n",
       "       [0.24984688, 0.75015312],\n",
       "       [0.55176268, 0.44823732],\n",
       "       [0.5601133 , 0.4398867 ],\n",
       "       [0.54572367, 0.45427633],\n",
       "       [0.55579857, 0.44420143],\n",
       "       [0.32798017, 0.67201983],\n",
       "       [0.53582752, 0.46417248],\n",
       "       [0.43406825, 0.56593175],\n",
       "       [0.46157564, 0.53842436],\n",
       "       [0.53629869, 0.46370131],\n",
       "       [0.31952796, 0.68047204],\n",
       "       [0.34955481, 0.65044519],\n",
       "       [0.3221869 , 0.6778131 ],\n",
       "       [0.56176517, 0.43823483],\n",
       "       [0.54469233, 0.45530767],\n",
       "       [0.34711394, 0.65288606],\n",
       "       [0.49033362, 0.50966638],\n",
       "       [0.5601133 , 0.4398867 ],\n",
       "       [0.54147289, 0.45852711],\n",
       "       [0.54828291, 0.45171709],\n",
       "       [0.56249338, 0.43750662],\n",
       "       [0.50622188, 0.49377812],\n",
       "       [0.5641383 , 0.4358617 ],\n",
       "       [0.23715832, 0.76284168],\n",
       "       [0.53817188, 0.46182812],\n",
       "       [0.35399995, 0.64600005],\n",
       "       [0.52453037, 0.47546963],\n",
       "       [0.57243702, 0.42756298],\n",
       "       [0.39163166, 0.60836834],\n",
       "       [0.37712284, 0.62287716],\n",
       "       [0.5499135 , 0.4500865 ],\n",
       "       [0.53396813, 0.46603187],\n",
       "       [0.54635754, 0.45364246],\n",
       "       [0.50478328, 0.49521672],\n",
       "       [0.30531404, 0.69468596],\n",
       "       [0.55176268, 0.44823732],\n",
       "       [0.5641383 , 0.4358617 ],\n",
       "       [0.52553456, 0.47446544],\n",
       "       [0.54635754, 0.45364246],\n",
       "       [0.52935136, 0.47064864],\n",
       "       [0.5565789 , 0.4434211 ],\n",
       "       [0.52627925, 0.47372075],\n",
       "       [0.54986503, 0.45013497],\n",
       "       [0.5641383 , 0.4358617 ],\n",
       "       [0.22240626, 0.77759374],\n",
       "       [0.56176517, 0.43823483],\n",
       "       [0.51956761, 0.48043239],\n",
       "       [0.54635754, 0.45364246],\n",
       "       [0.26083511, 0.73916489],\n",
       "       [0.486623  , 0.513377  ],\n",
       "       [0.55176268, 0.44823732],\n",
       "       [0.55176268, 0.44823732],\n",
       "       [0.24003223, 0.75996777],\n",
       "       [0.54635754, 0.45364246],\n",
       "       [0.5641383 , 0.4358617 ],\n",
       "       [0.23598609, 0.76401391],\n",
       "       [0.56829226, 0.43170774],\n",
       "       [0.33073198, 0.66926802],\n",
       "       [0.5601133 , 0.4398867 ],\n",
       "       [0.55664627, 0.44335373],\n",
       "       [0.465812  , 0.534188  ],\n",
       "       [0.55473835, 0.44526165],\n",
       "       [0.33831623, 0.66168377],\n",
       "       [0.55997493, 0.44002507],\n",
       "       [0.54145141, 0.45854859],\n",
       "       [0.46977023, 0.53022977],\n",
       "       [0.48911567, 0.51088433],\n",
       "       [0.21882385, 0.78117615],\n",
       "       [0.5641383 , 0.4358617 ],\n",
       "       [0.57243702, 0.42756298],\n",
       "       [0.48519868, 0.51480132],\n",
       "       [0.54828291, 0.45171709],\n",
       "       [0.49828282, 0.50171718],\n",
       "       [0.55176268, 0.44823732],\n",
       "       [0.37185355, 0.62814645],\n",
       "       [0.50736505, 0.49263495],\n",
       "       [0.32565989, 0.67434011],\n",
       "       [0.53961669, 0.46038331],\n",
       "       [0.3226969 , 0.6773031 ],\n",
       "       [0.35979115, 0.64020885],\n",
       "       [0.5641383 , 0.4358617 ],\n",
       "       [0.57243702, 0.42756298],\n",
       "       [0.24919191, 0.75080809],\n",
       "       [0.50139265, 0.49860735],\n",
       "       [0.5601133 , 0.4398867 ],\n",
       "       [0.54937599, 0.45062401],\n",
       "       [0.56176517, 0.43823483],\n",
       "       [0.48821849, 0.51178151],\n",
       "       [0.33836156, 0.66163844],\n",
       "       [0.55300259, 0.44699741],\n",
       "       [0.528189  , 0.471811  ],\n",
       "       [0.55058987, 0.44941013],\n",
       "       [0.23701106, 0.76298894],\n",
       "       [0.17440985, 0.82559015],\n",
       "       [0.54589294, 0.45410706],\n",
       "       [0.5499135 , 0.4500865 ],\n",
       "       [0.53039377, 0.46960623],\n",
       "       [0.57243702, 0.42756298],\n",
       "       [0.54635754, 0.45364246],\n",
       "       [0.51721552, 0.48278448],\n",
       "       [0.54589294, 0.45410706],\n",
       "       [0.55176268, 0.44823732],\n",
       "       [0.55764799, 0.44235201],\n",
       "       [0.54476835, 0.45523165],\n",
       "       [0.54396586, 0.45603414],\n",
       "       [0.13289607, 0.86710393],\n",
       "       [0.54396586, 0.45603414],\n",
       "       [0.57243702, 0.42756298],\n",
       "       [0.56176517, 0.43823483],\n",
       "       [0.23645583, 0.76354417],\n",
       "       [0.36004082, 0.63995918],\n",
       "       [0.5641383 , 0.4358617 ],\n",
       "       [0.38891718, 0.61108282],\n",
       "       [0.52054881, 0.47945119],\n",
       "       [0.54811379, 0.45188621],\n",
       "       [0.5321435 , 0.4678565 ],\n",
       "       [0.33302181, 0.66697819],\n",
       "       [0.56892544, 0.43107456],\n",
       "       [0.54391684, 0.45608316],\n",
       "       [0.55579857, 0.44420143],\n",
       "       [0.53375016, 0.46624984],\n",
       "       [0.3381387 , 0.6618613 ],\n",
       "       [0.34907651, 0.65092349],\n",
       "       [0.32974614, 0.67025386],\n",
       "       [0.53041235, 0.46958765],\n",
       "       [0.32565989, 0.67434011],\n",
       "       [0.22229777, 0.77770223],\n",
       "       [0.53747197, 0.46252803],\n",
       "       [0.54937599, 0.45062401],\n",
       "       [0.48413942, 0.51586058],\n",
       "       [0.49789735, 0.50210265],\n",
       "       [0.36214317, 0.63785683],\n",
       "       [0.5322224 , 0.4677776 ],\n",
       "       [0.53932763, 0.46067237],\n",
       "       [0.55176268, 0.44823732],\n",
       "       [0.45724052, 0.54275948],\n",
       "       [0.51592121, 0.48407879],\n",
       "       [0.56176517, 0.43823483],\n",
       "       [0.34759149, 0.65240851],\n",
       "       [0.55176268, 0.44823732],\n",
       "       [0.55664627, 0.44335373],\n",
       "       [0.54810954, 0.45189046],\n",
       "       [0.50469612, 0.49530388],\n",
       "       [0.24120267, 0.75879733],\n",
       "       [0.53348404, 0.46651596],\n",
       "       [0.56064825, 0.43935175],\n",
       "       [0.31870617, 0.68129383],\n",
       "       [0.15622906, 0.84377094],\n",
       "       [0.54937599, 0.45062401],\n",
       "       [0.57243702, 0.42756298],\n",
       "       [0.14515591, 0.85484409],\n",
       "       [0.55579857, 0.44420143],\n",
       "       [0.5397183 , 0.4602817 ],\n",
       "       [0.54937599, 0.45062401],\n",
       "       [0.4960971 , 0.5039029 ],\n",
       "       [0.05718808, 0.94281192],\n",
       "       [0.25074728, 0.74925272],\n",
       "       [0.52808829, 0.47191171],\n",
       "       [0.48998933, 0.51001067],\n",
       "       [0.55229967, 0.44770033],\n",
       "       [0.23663794, 0.76336206],\n",
       "       [0.54635754, 0.45364246],\n",
       "       [0.37123883, 0.62876117],\n",
       "       [0.53402344, 0.46597656],\n",
       "       [0.53464817, 0.46535183],\n",
       "       [0.54937599, 0.45062401],\n",
       "       [0.34853797, 0.65146203],\n",
       "       [0.57243702, 0.42756298],\n",
       "       [0.55176268, 0.44823732],\n",
       "       [0.24095642, 0.75904358],\n",
       "       [0.36013164, 0.63986836],\n",
       "       [0.55176268, 0.44823732],\n",
       "       [0.53039377, 0.46960623],\n",
       "       [0.46660174, 0.53339826],\n",
       "       [0.54572367, 0.45427633],\n",
       "       [0.54396586, 0.45603414],\n",
       "       [0.55664627, 0.44335373],\n",
       "       [0.5601133 , 0.4398867 ],\n",
       "       [0.53629869, 0.46370131],\n",
       "       [0.54895697, 0.45104303],\n",
       "       [0.55387989, 0.44612011],\n",
       "       [0.48435643, 0.51564357],\n",
       "       [0.21817587, 0.78182413],\n",
       "       [0.56176517, 0.43823483],\n",
       "       [0.54504148, 0.45495852],\n",
       "       [0.56261965, 0.43738035],\n",
       "       [0.45072003, 0.54927997],\n",
       "       [0.54589294, 0.45410706],\n",
       "       [0.54635754, 0.45364246],\n",
       "       [0.56176517, 0.43823483],\n",
       "       [0.54172315, 0.45827685],\n",
       "       [0.5601133 , 0.4398867 ],\n",
       "       [0.56176517, 0.43823483],\n",
       "       [0.54937599, 0.45062401],\n",
       "       [0.3517065 , 0.6482935 ],\n",
       "       [0.22726684, 0.77273316],\n",
       "       [0.26129733, 0.73870267],\n",
       "       [0.56176517, 0.43823483],\n",
       "       [0.55229967, 0.44770033],\n",
       "       [0.54523664, 0.45476336],\n",
       "       [0.5428891 , 0.4571109 ],\n",
       "       [0.5426471 , 0.4573529 ],\n",
       "       [0.13289607, 0.86710393],\n",
       "       [0.56176517, 0.43823483],\n",
       "       [0.49995995, 0.50004005],\n",
       "       [0.52606047, 0.47393953],\n",
       "       [0.50748719, 0.49251281],\n",
       "       [0.5475809 , 0.4524191 ],\n",
       "       [0.21230874, 0.78769126],\n",
       "       [0.3741439 , 0.6258561 ],\n",
       "       [0.5398671 , 0.4601329 ],\n",
       "       [0.5601133 , 0.4398867 ],\n",
       "       [0.36150833, 0.63849167],\n",
       "       [0.48599547, 0.51400453],\n",
       "       [0.49844399, 0.50155601],\n",
       "       [0.34796562, 0.65203438],\n",
       "       [0.54645701, 0.45354299],\n",
       "       [0.50623833, 0.49376167],\n",
       "       [0.5547276 , 0.4452724 ],\n",
       "       [0.55647775, 0.44352225],\n",
       "       [0.54589294, 0.45410706],\n",
       "       [0.5547276 , 0.4452724 ],\n",
       "       [0.4554107 , 0.5445893 ],\n",
       "       [0.33382763, 0.66617237],\n",
       "       [0.50770681, 0.49229319],\n",
       "       [0.51657981, 0.48342019],\n",
       "       [0.55176268, 0.44823732],\n",
       "       [0.49648513, 0.50351487],\n",
       "       [0.57243702, 0.42756298],\n",
       "       [0.24918828, 0.75081172],\n",
       "       [0.54635754, 0.45364246],\n",
       "       [0.4969273 , 0.5030727 ],\n",
       "       [0.48557393, 0.51442607],\n",
       "       [0.48388776, 0.51611224],\n",
       "       [0.35677002, 0.64322998],\n",
       "       [0.54828291, 0.45171709],\n",
       "       [0.54757164, 0.45242836],\n",
       "       [0.25323811, 0.74676189],\n",
       "       [0.42297419, 0.57702581],\n",
       "       [0.24100751, 0.75899249],\n",
       "       [0.54635754, 0.45364246],\n",
       "       [0.54226219, 0.45773781],\n",
       "       [0.55997493, 0.44002507],\n",
       "       [0.56064825, 0.43935175],\n",
       "       [0.53871154, 0.46128846],\n",
       "       [0.5641383 , 0.4358617 ],\n",
       "       [0.3544509 , 0.6455491 ],\n",
       "       [0.54396586, 0.45603414],\n",
       "       [0.55526239, 0.44473761],\n",
       "       [0.5547276 , 0.4452724 ],\n",
       "       [0.55229967, 0.44770033],\n",
       "       [0.55176268, 0.44823732],\n",
       "       [0.55176268, 0.44823732],\n",
       "       [0.54635754, 0.45364246],\n",
       "       [0.32660894, 0.67339106],\n",
       "       [0.55415198, 0.44584802],\n",
       "       [0.56176517, 0.43823483],\n",
       "       [0.05749185, 0.94250815],\n",
       "       [0.34659669, 0.65340331],\n",
       "       [0.53932763, 0.46067237],\n",
       "       [0.1356599 , 0.8643401 ],\n",
       "       [0.57243702, 0.42756298],\n",
       "       [0.23273701, 0.76726299],\n",
       "       [0.5601133 , 0.4398867 ],\n",
       "       [0.54635754, 0.45364246],\n",
       "       [0.47378114, 0.52621886],\n",
       "       [0.54635754, 0.45364246],\n",
       "       [0.5499135 , 0.4500865 ],\n",
       "       [0.5547276 , 0.4452724 ],\n",
       "       [0.5641383 , 0.4358617 ],\n",
       "       [0.32389941, 0.67610059],\n",
       "       [0.5575969 , 0.4424031 ],\n",
       "       [0.10308115, 0.89691885],\n",
       "       [0.37371207, 0.62628793],\n",
       "       [0.53760626, 0.46239374],\n",
       "       [0.5499135 , 0.4500865 ],\n",
       "       [0.54487122, 0.45512878],\n",
       "       [0.1711609 , 0.8288391 ],\n",
       "       [0.55176268, 0.44823732],\n",
       "       [0.56176517, 0.43823483],\n",
       "       [0.47599542, 0.52400458],\n",
       "       [0.56176517, 0.43823483],\n",
       "       [0.31985769, 0.68014231],\n",
       "       [0.54689418, 0.45310582],\n",
       "       [0.33822896, 0.66177104],\n",
       "       [0.55176268, 0.44823732],\n",
       "       [0.35515334, 0.64484666],\n",
       "       [0.5641383 , 0.4358617 ],\n",
       "       [0.23366982, 0.76633018],\n",
       "       [0.57243702, 0.42756298],\n",
       "       [0.51353598, 0.48646402],\n",
       "       [0.57243702, 0.42756298],\n",
       "       [0.57243702, 0.42756298],\n",
       "       [0.46361127, 0.53638873],\n",
       "       [0.47266087, 0.52733913],\n",
       "       [0.55176268, 0.44823732],\n",
       "       [0.48939455, 0.51060545],\n",
       "       [0.17026897, 0.82973103],\n",
       "       [0.5641383 , 0.4358617 ],\n",
       "       [0.55229967, 0.44770033],\n",
       "       [0.55300259, 0.44699741],\n",
       "       [0.29727268, 0.70272732],\n",
       "       [0.54811379, 0.45188621],\n",
       "       [0.57243702, 0.42756298],\n",
       "       [0.54396586, 0.45603414],\n",
       "       [0.50891366, 0.49108634],\n",
       "       [0.22263898, 0.77736102],\n",
       "       [0.31918176, 0.68081824],\n",
       "       [0.55176268, 0.44823732],\n",
       "       [0.57243702, 0.42756298],\n",
       "       [0.54635754, 0.45364246],\n",
       "       [0.56176517, 0.43823483],\n",
       "       [0.56064825, 0.43935175],\n",
       "       [0.54396586, 0.45603414],\n",
       "       [0.56064825, 0.43935175],\n",
       "       [0.34939924, 0.65060076],\n",
       "       [0.55229967, 0.44770033],\n",
       "       [0.16632699, 0.83367301],\n",
       "       [0.53240199, 0.46759801],\n",
       "       [0.5547276 , 0.4452724 ],\n",
       "       [0.5601133 , 0.4398867 ],\n",
       "       [0.54110753, 0.45889247],\n",
       "       [0.49163876, 0.50836124],\n",
       "       [0.09011551, 0.90988449],\n",
       "       [0.49565091, 0.50434909],\n",
       "       [0.5547276 , 0.4452724 ],\n",
       "       [0.56064825, 0.43935175],\n",
       "       [0.57243702, 0.42756298],\n",
       "       [0.57243702, 0.42756298],\n",
       "       [0.33006232, 0.66993768],\n",
       "       [0.48353291, 0.51646709],\n",
       "       [0.0836647 , 0.9163353 ],\n",
       "       [0.34271692, 0.65728308],\n",
       "       [0.55176268, 0.44823732],\n",
       "       [0.55176268, 0.44823732],\n",
       "       [0.49415967, 0.50584033],\n",
       "       [0.54937599, 0.45062401],\n",
       "       [0.54589294, 0.45410706],\n",
       "       [0.48229182, 0.51770818],\n",
       "       [0.56761711, 0.43238289],\n",
       "       [0.56176517, 0.43823483],\n",
       "       [0.47156787, 0.52843213],\n",
       "       [0.54828291, 0.45171709],\n",
       "       [0.54396586, 0.45603414],\n",
       "       [0.55229967, 0.44770033],\n",
       "       [0.53516099, 0.46483901],\n",
       "       [0.54635754, 0.45364246],\n",
       "       [0.5499135 , 0.4500865 ],\n",
       "       [0.47985123, 0.52014877],\n",
       "       [0.56176517, 0.43823483],\n",
       "       [0.35011853, 0.64988147],\n",
       "       [0.53964026, 0.46035974],\n",
       "       [0.34439393, 0.65560607],\n",
       "       [0.21454435, 0.78545565],\n",
       "       [0.24406023, 0.75593977],\n",
       "       [0.5322224 , 0.4677776 ],\n",
       "       [0.53112322, 0.46887678],\n",
       "       [0.47516206, 0.52483794],\n",
       "       [0.52264466, 0.47735534],\n",
       "       [0.45564136, 0.54435864],\n",
       "       [0.14218544, 0.85781456],\n",
       "       [0.56829226, 0.43170774],\n",
       "       [0.5641383 , 0.4358617 ],\n",
       "       [0.56761711, 0.43238289],\n",
       "       [0.54937599, 0.45062401],\n",
       "       [0.56249338, 0.43750662],\n",
       "       [0.24227986, 0.75772014],\n",
       "       [0.56064825, 0.43935175],\n",
       "       [0.55176268, 0.44823732],\n",
       "       [0.55473356, 0.44526644],\n",
       "       [0.55594174, 0.44405826],\n",
       "       [0.53112322, 0.46887678],\n",
       "       [0.22624971, 0.77375029],\n",
       "       [0.37542629, 0.62457371],\n",
       "       [0.4948522 , 0.5051478 ],\n",
       "       [0.54216217, 0.45783783],\n",
       "       [0.5641383 , 0.4358617 ],\n",
       "       [0.5641383 , 0.4358617 ],\n",
       "       [0.52830338, 0.47169662],\n",
       "       [0.53582752, 0.46417248],\n",
       "       [0.56176517, 0.43823483],\n",
       "       [0.53917881, 0.46082119],\n",
       "       [0.39456266, 0.60543734],\n",
       "       [0.38158696, 0.61841304],\n",
       "       [0.54409048, 0.45590952],\n",
       "       [0.46527796, 0.53472204],\n",
       "       [0.55229967, 0.44770033],\n",
       "       [0.55647775, 0.44352225],\n",
       "       [0.53582752, 0.46417248],\n",
       "       [0.34439393, 0.65560607],\n",
       "       [0.53132781, 0.46867219],\n",
       "       [0.36880269, 0.63119731],\n",
       "       [0.22220106, 0.77779894],\n",
       "       [0.15994418, 0.84005582],\n",
       "       [0.54589294, 0.45410706],\n",
       "       [0.55176268, 0.44823732],\n",
       "       [0.54708338, 0.45291662],\n",
       "       [0.56176517, 0.43823483],\n",
       "       [0.5601133 , 0.4398867 ],\n",
       "       [0.55012034, 0.44987966],\n",
       "       [0.55176268, 0.44823732],\n",
       "       [0.52093562, 0.47906438],\n",
       "       [0.55229967, 0.44770033],\n",
       "       [0.52747546, 0.47252454],\n",
       "       [0.53840136, 0.46159864],\n",
       "       [0.55176268, 0.44823732],\n",
       "       [0.50382435, 0.49617565],\n",
       "       [0.49779862, 0.50220138],\n",
       "       [0.46382686, 0.53617314],\n",
       "       [0.5601133 , 0.4398867 ],\n",
       "       [0.32373703, 0.67626297],\n",
       "       [0.1000437 , 0.8999563 ],\n",
       "       [0.5641383 , 0.4358617 ],\n",
       "       [0.48045923, 0.51954077],\n",
       "       [0.08746026, 0.91253974],\n",
       "       [0.46679476, 0.53320524],\n",
       "       [0.5499135 , 0.4500865 ],\n",
       "       [0.5499135 , 0.4500865 ],\n",
       "       [0.09885588, 0.90114412],\n",
       "       [0.54476835, 0.45523165],\n",
       "       [0.53582752, 0.46417248],\n",
       "       [0.34429039, 0.65570961],\n",
       "       [0.53311372, 0.46688628],\n",
       "       [0.1353512 , 0.8646488 ],\n",
       "       [0.35644297, 0.64355703],\n",
       "       [0.54937599, 0.45062401]])"
      ]
     },
     "execution_count": 20,
     "metadata": {},
     "output_type": "execute_result"
    }
   ],
   "source": [
    "model.predict_proba(X_train)"
   ]
  },
  {
   "cell_type": "markdown",
   "metadata": {
    "colab_type": "text",
    "id": "nOf1r-RIrpvV"
   },
   "source": [
    "# Step 10: Make Predictions and Evaluate the Test Model\n",
    "**NOTE**: **Do this only after not making any more improvements in the model**.\n",
    "\n",
    "- Use the **test** data to make predictions\n",
    "- For **Supervised** models:\n",
    "    - Check the **Test Results** with the **Test Predictions**"
   ]
  },
  {
   "cell_type": "code",
   "execution_count": 21,
   "metadata": {},
   "outputs": [],
   "source": [
    "yhat = model.predict(X_test)"
   ]
  },
  {
   "cell_type": "code",
   "execution_count": 22,
   "metadata": {},
   "outputs": [
    {
     "name": "stdout",
     "output_type": "stream",
     "text": [
      "Accuracy is:  0.9619047619047619\n"
     ]
    }
   ],
   "source": [
    "accuracy_score = accuracy_score(y_test, yhat)\n",
    "print('Accuracy is: ', accuracy_score)"
   ]
  },
  {
   "cell_type": "code",
   "execution_count": 23,
   "metadata": {},
   "outputs": [],
   "source": [
    "y_pp = model.predict_proba(X_test)"
   ]
  },
  {
   "cell_type": "code",
   "execution_count": 24,
   "metadata": {},
   "outputs": [
    {
     "name": "stdout",
     "output_type": "stream",
     "text": [
      "              precision    recall  f1-score   support\n",
      "\n",
      "           2       0.99      0.95      0.97       138\n",
      "           4       0.91      0.99      0.95        72\n",
      "\n",
      "    accuracy                           0.96       210\n",
      "   macro avg       0.95      0.97      0.96       210\n",
      "weighted avg       0.96      0.96      0.96       210\n",
      "\n"
     ]
    },
    {
     "data": {
      "image/png": "[encoded data removed]",
      "text/plain": [
       "<Figure size 432x288 with 2 Axes>"
      ]
     },
     "metadata": {
      "needs_background": "light"
     },
     "output_type": "display_data"
    }
   ],
   "source": [
    "cm= confusion_matrix(y_test, yhat)\n",
    "sns.heatmap(cm, annot=True, fmt='d')\n",
    "print(classification_report (y_test, yhat))"
   ]
  },
  {
   "cell_type": "markdown",
   "metadata": {
    "colab_type": "text",
    "id": "j8y6lKh2rpvW"
   },
   "source": [
    "# Step 11: Solve the Problem or Answer the Question\n",
    "The results of an analysis or modelling can be used:\n",
    "- As part of a product or process, so the model can make predictions when new input data is available\n",
    "- As part of a report including text and charts to help understand the problem\n",
    "- As input for further questions"
   ]
  },
  {
   "cell_type": "markdown",
   "metadata": {
    "colab_type": "text",
    "id": "RERADKgNFq9T"
   },
   "source": [
    "\n",
    "\n",
    "---\n",
    "\n",
    "\n",
    "\n",
    "---\n",
    "\n",
    "\n",
    "\n",
    "> > > > > > > > > © 2021 Institute of Data\n",
    "\n",
    "\n",
    "---\n",
    "\n",
    "\n",
    "\n",
    "---\n",
    "\n",
    "\n",
    "\n"
   ]
  }
 ],
 "metadata": {
  "colab": {
   "collapsed_sections": [],
   "name": "DSIA Lab-8_2.ipynb",
   "provenance": []
  },
  "kernelspec": {
   "display_name": "Python 3",
   "language": "python",
   "name": "python3"
  },
  "language_info": {
   "codemirror_mode": {
    "name": "ipython",
    "version": 3
   },
   "file_extension": ".py",
   "mimetype": "text/x-python",
   "name": "python",
   "nbconvert_exporter": "python",
   "pygments_lexer": "ipython3",
   "version": "3.8.5"
  }
 },
 "nbformat": 4,
 "nbformat_minor": 1
}
