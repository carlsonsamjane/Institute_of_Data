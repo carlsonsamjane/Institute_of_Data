{
 "cells": [
  {
   "cell_type": "markdown",
   "metadata": {
    "colab_type": "text",
    "id": "XXUiceLiLNOv"
   },
   "source": [
    "<div>\n",
    "<img src=https://www.institutedata.com/wp-content/uploads/2019/10/iod_h_tp_primary_c.svg width=\"300\">\n",
    "</div>"
   ]
  },
  {
   "cell_type": "markdown",
   "metadata": {
    "colab_type": "text",
    "id": "SmJwFqq5LNOx"
   },
   "source": [
    "# Demo 9.5: Working with Text\n",
    "- Using [NLTK](http://www.nltk.org) (Natural Language Toolkit)\n",
    "- Using [spaCy](https://spacy.io)\n",
    "\n",
    "INSTRUCTIONS:\n",
    "- Run the cells\n",
    "- Observe and understand the results\n",
    "- Answer the questions"
   ]
  },
  {
   "cell_type": "markdown",
   "metadata": {
    "colab_type": "text",
    "id": "I83eiiJqLNO0"
   },
   "source": [
    "## Import libraries"
   ]
  },
  {
   "cell_type": "code",
   "execution_count": 1,
   "metadata": {
    "ExecuteTime": {
     "end_time": "2019-06-17T01:17:23.125143Z",
     "start_time": "2019-06-17T01:17:20.625946Z"
    },
    "colab": {},
    "colab_type": "code",
    "id": "-ecJn_1MLNO4"
   },
   "outputs": [],
   "source": [
    "%matplotlib inline\n",
    "import matplotlib.pyplot as plt\n",
    "from collections import Counter\n",
    "\n",
    "import regex as re\n",
    "import spacy"
   ]
  },
  {
   "cell_type": "markdown",
   "metadata": {
    "colab_type": "text",
    "id": "OsSgzr8MLNO9"
   },
   "source": [
    "## Load data"
   ]
  },
  {
   "cell_type": "code",
   "execution_count": 2,
   "metadata": {
    "ExecuteTime": {
     "end_time": "2019-06-17T01:17:24.800475Z",
     "start_time": "2019-06-17T01:17:24.784516Z"
    },
    "colab": {},
    "colab_type": "code",
    "id": "HvyU9ZbtLNPA"
   },
   "outputs": [],
   "source": [
    "input_file = 'C:/Users/carls/OneDrive/Desktop/IOD/Data/ncc-1701-D.txt'\n",
    "\n",
    "with open(input_file, 'r') as f:\n",
    "    text = f.read()"
   ]
  },
  {
   "cell_type": "markdown",
   "metadata": {
    "colab_type": "text",
    "id": "KF9gBdpALNPE"
   },
   "source": [
    "## Inspect the data"
   ]
  },
  {
   "cell_type": "code",
   "execution_count": 3,
   "metadata": {
    "ExecuteTime": {
     "end_time": "2019-06-17T01:17:28.662206Z",
     "start_time": "2019-06-17T01:17:28.656190Z"
    },
    "colab": {},
    "colab_type": "code",
    "id": "-JImxUzrLNPG",
    "outputId": "13ce31ea-531e-4abd-8f21-c726df89bb21",
    "scrolled": true
   },
   "outputs": [
    {
     "name": "stdout",
     "output_type": "stream",
     "text": [
      "USS Enterprise (NCC-1701-D)\n",
      "\n",
      "\"For five hundred years, every ship that has borne the name of the Enterprise has become a legend. This one is no different.\"\n",
      "\n",
      "The USS Enterprise (NCC-1701-D) was a 24th century United Federation of Planets Galaxy Class starship operated by Starfleet, and the fifth Federation ship to bear the name Enterprise. During her career, the Enterprise served as the Federation flagship. The Enterprise was destroyed during the Battle of Veridian III in 2371.\n",
      "\n",
      "==History==\n",
      "===Construction and launch===\n",
      "The Enterprise was built at Utopia Planitia Fleet Yards orbiting Mars in the Solar system. The construction was a massive undertaking, involving thousands of people across disciplines. Construction was supervised by Commander Orfil Quinteros. Dr. Leah Brahms was responsible for much of the Enterprise's warp propulsion system design. Some of the Enterprise's components were derived from technology originally developed on the USS Pegasus.\n",
      "\n",
      "One of the ship's nacelle tube was\n"
     ]
    }
   ],
   "source": [
    "print(text[:1000])"
   ]
  },
  {
   "cell_type": "markdown",
   "metadata": {
    "colab_type": "text",
    "id": "H5ePf_5bLNPK"
   },
   "source": [
    "## Work the data\n",
    "- if necessary or desired\n",
    "    - remove text or content, e.g. quotes (\") or metadata (===)\n",
    "    - add content or markers, e.g. (#FLAG, --NAME--)\n",
    "    - remove or convert special symbols, e.g. \"é\" to \"e\"\n",
    "    - remove or convert emoticons"
   ]
  },
  {
   "cell_type": "code",
   "execution_count": 4,
   "metadata": {
    "ExecuteTime": {
     "end_time": "2019-06-17T01:18:07.223561Z",
     "start_time": "2019-06-17T01:18:07.219572Z"
    },
    "colab": {},
    "colab_type": "code",
    "id": "BRq7VfoOLNPM"
   },
   "outputs": [
    {
     "name": "stdout",
     "output_type": "stream",
     "text": [
      "USS Enterprise (NCC-1701-D)\n",
      "\n",
      "For five hundred years, every ship that has borne the name of the Enterprise has become a legend. This one is no different.\n",
      "\n",
      "The USS Enterprise (NCC-1701-D) was a 24th century United Federation of Planets Galaxy Class starship operated by Starfleet, and the fifth Federation ship to bear the name Enterprise. During her career, the Enterprise served as the Federation flagship. The Enterprise was destroyed during the Battle of Veridian III in 2371.\n",
      "\n",
      "History\n",
      "Construction and launch\n",
      "The Enterprise was built at Utopia Planitia Fleet Yards orbiting Mars in the Solar system. The construction was a massive undertaking, involving thousands of people across disciplines. Construction was supervised by Commander Orfil Quinteros. Dr. Leah Brahms was responsible for much of the Enterprise's warp propulsion system design. Some of the Enterprise's components were derived from technology originally developed on the USS Pegasus.\n",
      "\n",
      "One of the ship's nacelle tube was the site of\n"
     ]
    }
   ],
   "source": [
    "text = re.sub(r'[=\"]', '', text)\n",
    "print(text[:1000])"
   ]
  },
  {
   "cell_type": "markdown",
   "metadata": {
    "colab_type": "text",
    "id": "xMG9Yim0LNPP"
   },
   "source": [
    "## Helper method"
   ]
  },
  {
   "cell_type": "code",
   "execution_count": 5,
   "metadata": {
    "ExecuteTime": {
     "end_time": "2019-06-17T01:18:44.351070Z",
     "start_time": "2019-06-17T01:18:44.330126Z"
    },
    "colab": {},
    "colab_type": "code",
    "id": "3oIPRH3gLNPQ"
   },
   "outputs": [],
   "source": [
    "def plot_words(tokens, top = 10):\n",
    "    tokens_counter = Counter(tokens)\n",
    "    tok = [t for (t, _) in tokens_counter.most_common()]\n",
    "    val = [v for (_, v) in tokens_counter.most_common()]\n",
    "\n",
    "    plt.figure(figsize = (16, 6))\n",
    "    plt.bar(tok[:top], val[:top])\n",
    "    plt.title('Number of terms: %d' % len(tokens_counter))\n",
    "    plt.xticks(rotation = 90)\n",
    "\n",
    "    plt.show()"
   ]
  },
  {
   "cell_type": "markdown",
   "metadata": {
    "colab_type": "text",
    "id": "U1FsFC6yLNPS"
   },
   "source": [
    "## spaCy model invocation and text processing\n",
    "spaCy does the processing of the text as part of the reading of the data."
   ]
  },
  {
   "cell_type": "code",
   "execution_count": 6,
   "metadata": {
    "ExecuteTime": {
     "end_time": "2019-06-17T01:18:18.119766Z",
     "start_time": "2019-06-17T01:18:16.984471Z"
    },
    "colab": {},
    "colab_type": "code",
    "id": "JgM48u-dLNPU"
   },
   "outputs": [],
   "source": [
    "import en_core_web_sm\n",
    "nlp = en_core_web_sm.load()\n",
    "doc = nlp(text)"
   ]
  },
  {
   "cell_type": "code",
   "execution_count": 7,
   "metadata": {
    "scrolled": true
   },
   "outputs": [
    {
     "data": {
      "text/plain": [
       "\"USS Enterprise (NCC-1701-D)\\n\\nFor five hundred years, every ship that has borne the name of the Enterprise has become a legend. This one is no different.\\n\\nThe USS Enterprise (NCC-1701-D) was a 24th century United Federation of Planets Galaxy Class starship operated by Starfleet, and the fifth Federation ship to bear the name Enterprise. During her career, the Enterprise served as the Federation flagship. The Enterprise was destroyed during the Battle of Veridian III in 2371.\\n\\nHistory\\nConstruction and launch\\nThe Enterprise was built at Utopia Planitia Fleet Yards orbiting Mars in the Solar system. The construction was a massive undertaking, involving thousands of people across disciplines. Construction was supervised by Commander Orfil Quinteros. Dr. Leah Brahms was responsible for much of the Enterprise's warp propulsion system design. Some of the Enterprise's components were derived from technology originally developed on the USS Pegasus.\\n\\nOne of the ship's nacelle tube was the site of a multiple murder-suicide while she was still under construction at Utopia Planitia. A member of the construction team, Walter Pierce, became jealous of a former lover's new relationship. He killed the two officers, Marla Finn and William Hodges, then disposed of their bodies in the plasma stream. Pierce committed suicide in the same manner, leaving a telepathic imprint in a bulkhead that was not discovered until 2370.\\n\\nOn stardate 40759.5, in the year 2363, the Enterprise was launched from Mars. On stardate 41025.5, the Enterprise was commissioned.\\n\\nThese stardates weren't mentioned in dialog; they were from the Enterprise dedication plaque.\\n\\nFinal systems completion and shakedown was conducted at Earth Station McKinley. Captain Jean-Luc Picard took command of the ship on stardate 41148 at the order of Rear Admiral Norah Satie.\\n\\nLegacy\\nCommander Riker was upset over the loss of the Enterprise. Having hoped he would one day command the ship, he was disappointed that he never got that opportunity. However, Picard expressed doubt that the Enterprise-D would be the last vessel to carry the name.\\n\\nThe Enterprise was so dear to Worf that, shortly after being reassigned to Deep Space 9 in 2372, he briefly considered resigning from Starfleet. Station commander Captain Benjamin Sisko expressed regret on the loss of the Enterprise and offered his condolences over the destruction of the ship to Worf, saying the Enterprise was a good ship.\\n\\nCaptain Picard's belief that the Enterprise-D would not be the final ship to bear the name was borne out with the christening of the Class Sovereign USS Enterprise NCC-1701-E, later the same year. In that instance, the legacy of the Enterprise continued with Picard reprising his role as CO and selecting most of the former crew from the Enterprise-D, with the notable exception of Worf due to his most recent assignment to DS9 (though he temporarily joined the Enterprise-E crew on several of their more notable missions).\""
      ]
     },
     "execution_count": 7,
     "metadata": {},
     "output_type": "execute_result"
    }
   ],
   "source": [
    "doc.text"
   ]
  },
  {
   "cell_type": "code",
   "execution_count": 8,
   "metadata": {
    "scrolled": true
   },
   "outputs": [
    {
     "data": {
      "image/png": "[encoded data removed]",
      "text/plain": [
       "<Figure size 1152x432 with 1 Axes>"
      ]
     },
     "metadata": {
      "needs_background": "light"
     },
     "output_type": "display_data"
    }
   ],
   "source": [
    "plot_words(['%r' % t.text for t in doc])"
   ]
  },
  {
   "cell_type": "markdown",
   "metadata": {
    "colab_type": "text",
    "id": "z8--KeYzLNPW"
   },
   "source": [
    "## Tokenise"
   ]
  },
  {
   "cell_type": "code",
   "execution_count": 9,
   "metadata": {
    "ExecuteTime": {
     "end_time": "2019-06-17T01:18:58.447329Z",
     "start_time": "2019-06-17T01:18:58.401479Z"
    },
    "colab": {},
    "colab_type": "code",
    "id": "-7lVWo5DLNPe",
    "outputId": "b679dc9c-f19f-4ad2-fdbd-9b6755c17bae",
    "scrolled": true
   },
   "outputs": [
    {
     "name": "stdout",
     "output_type": "stream",
     "text": [
      " 1| 'USS'\n",
      " 2| 'Enterprise'\n",
      " 3| '('\n",
      " 4| 'NCC-1701'\n",
      " 5| '-'\n",
      " 6| 'D'\n",
      " 7| ')'\n",
      " 8| '\\n\\n'\n",
      " 9| 'For'\n",
      "10| 'five'\n",
      "11| 'hundred'\n",
      "12| 'years'\n",
      "13| ','\n",
      "14| 'every'\n",
      "15| 'ship'\n",
      "16| 'that'\n",
      "17| 'has'\n",
      "18| 'borne'\n",
      "19| 'the'\n",
      "20| 'name'\n",
      "21| 'of'\n",
      "22| 'the'\n",
      "23| 'Enterprise'\n",
      "24| 'has'\n",
      "25| 'become'\n",
      "26| 'a'\n",
      "27| 'legend'\n",
      "28| '.'\n"
     ]
    }
   ],
   "source": [
    "for i, t in enumerate(doc):\n",
    "    print('%2d| %r' % (i+1, t.text))\n",
    "    if t.text == '.': #will stop as soon as it his the .\n",
    "        break"
   ]
  },
  {
   "cell_type": "markdown",
   "metadata": {
    "colab_type": "text",
    "id": "iAtMzEZTLNPj"
   },
   "source": [
    "### Stop Words"
   ]
  },
  {
   "cell_type": "code",
   "execution_count": 10,
   "metadata": {
    "ExecuteTime": {
     "end_time": "2019-06-17T01:24:08.828052Z",
     "start_time": "2019-06-17T01:24:08.777179Z"
    },
    "colab": {},
    "colab_type": "code",
    "id": "zOzudmrILNPq",
    "outputId": "1e58fcfc-674d-42f1-e82a-63f7d61a837a",
    "scrolled": true
   },
   "outputs": [
    {
     "name": "stdout",
     "output_type": "stream",
     "text": [
      "i | with stop words without\n",
      "--| --------------- ------------\n",
      " 1| 'USS'           'USS'\n",
      " 2| 'Enterprise'    'Enterprise'\n",
      " 3| '('             '('\n",
      " 4| 'NCC-1701'      'NCC-1701'\n",
      " 5| '-'             '-'\n",
      " 6| 'D'             'D'\n",
      " 7| ')'             ')'\n",
      " 8| '\\n\\n'          '\\n\\n'\n",
      " 9| 'For'           ''\n",
      "10| 'five'          ''\n",
      "11| 'hundred'       ''\n",
      "12| 'years'         'years'\n",
      "13| ','             ','\n",
      "14| 'every'         ''\n",
      "15| 'ship'          'ship'\n",
      "16| 'that'          ''\n",
      "17| 'has'           ''\n",
      "18| 'borne'         'borne'\n",
      "19| 'the'           ''\n",
      "20| 'name'          ''\n",
      "21| 'of'            ''\n",
      "22| 'the'           ''\n",
      "23| 'Enterprise'    'Enterprise'\n",
      "24| 'has'           ''\n",
      "25| 'become'        ''\n",
      "26| 'a'             ''\n",
      "27| 'legend'        'legend'\n",
      "28| '.'             '.'\n"
     ]
    }
   ],
   "source": [
    "print('i | with stop words without')\n",
    "print('--| --------------- ------------')\n",
    "\n",
    "for i, t in enumerate(doc):\n",
    "    print('%2d| %-15r %r' % (i+1, t.text, ('' if t.is_stop else t.text)))\n",
    "\n",
    "\n",
    "    if t.text == '.':\n",
    "        break"
   ]
  },
  {
   "cell_type": "code",
   "execution_count": 11,
   "metadata": {
    "ExecuteTime": {
     "end_time": "2019-06-17T01:22:05.293365Z",
     "start_time": "2019-06-17T01:22:04.981199Z"
    },
    "colab": {},
    "colab_type": "code",
    "id": "B2LoqLmULNPs",
    "outputId": "63f83744-f889-462f-f166-d8add6a03f7e",
    "scrolled": true
   },
   "outputs": [
    {
     "data": {
      "image/png": "[encoded data removed]",
      "text/plain": [
       "<Figure size 1152x432 with 1 Axes>"
      ]
     },
     "metadata": {
      "needs_background": "light"
     },
     "output_type": "display_data"
    }
   ],
   "source": [
    "plot_words(['%r' % t.text for t in doc if not (t.is_stop | t.is_punct)])"
   ]
  },
  {
   "cell_type": "markdown",
   "metadata": {
    "colab_type": "text",
    "id": "9uqME12uLNPu"
   },
   "source": [
    "### Check Part of Speech"
   ]
  },
  {
   "cell_type": "code",
   "execution_count": 12,
   "metadata": {
    "ExecuteTime": {
     "end_time": "2019-06-17T01:22:17.213316Z",
     "start_time": "2019-06-17T01:22:17.169434Z"
    },
    "colab": {},
    "colab_type": "code",
    "id": "vD-BrcLALNPz",
    "outputId": "a26b4e4f-095a-4086-a8fe-841cbbfb5b05",
    "scrolled": true
   },
   "outputs": [
    {
     "name": "stdout",
     "output_type": "stream",
     "text": [
      " 1|'USS'        : PROPN NNP\n",
      " 2|'Enterprise' : PROPN NNP\n",
      " 3|'('          : PUNCT -LRB-\n",
      " 4|'NCC-1701'   : PROPN NNP\n",
      " 5|'-'          : PUNCT HYPH\n",
      " 6|'D'          : NOUN  NN\n",
      " 7|')'          : PUNCT -RRB-\n",
      " 8|'\\n\\n'       : SPACE _SP\n",
      " 9|'For'        : ADP   IN\n",
      "10|'five'       : NUM   CD\n",
      "11|'hundred'    : NUM   CD\n",
      "12|'years'      : NOUN  NNS\n",
      "13|','          : PUNCT ,\n",
      "14|'every'      : DET   DT\n",
      "15|'ship'       : NOUN  NN\n",
      "16|'that'       : DET   WDT\n",
      "17|'has'        : AUX   VBZ\n",
      "18|'borne'      : VERB  VBN\n",
      "19|'the'        : DET   DT\n",
      "20|'name'       : NOUN  NN\n",
      "21|'of'         : ADP   IN\n",
      "22|'the'        : DET   DT\n",
      "23|'Enterprise' : NOUN  NN\n",
      "24|'has'        : AUX   VBZ\n",
      "25|'become'     : VERB  VBN\n",
      "26|'a'          : DET   DT\n",
      "27|'legend'     : NOUN  NN\n",
      "28|'.'          : PUNCT .\n"
     ]
    }
   ],
   "source": [
    "for i, t in enumerate(doc):\n",
    "    print('%2d|%-12r : %-5s %s' % (i+1, t.text, t.pos_, t.tag_))\n",
    "    if t.text == '.':\n",
    "        break"
   ]
  },
  {
   "cell_type": "markdown",
   "metadata": {},
   "source": [
    "### Lemmatisation"
   ]
  },
  {
   "cell_type": "code",
   "execution_count": 13,
   "metadata": {},
   "outputs": [
    {
     "name": "stdout",
     "output_type": "stream",
     "text": [
      "USS\n",
      "Enterprise\n",
      "(\n",
      "NCC-1701\n",
      "-\n",
      "d\n",
      ")\n",
      "\n",
      "\n",
      "\n",
      "for\n",
      "five\n",
      "hundred\n",
      "year\n",
      ",\n",
      "every\n",
      "ship\n",
      "that\n",
      "have\n",
      "bear\n",
      "the\n",
      "name\n",
      "of\n",
      "the\n",
      "enterprise\n",
      "have\n",
      "become\n",
      "a\n",
      "legend\n",
      ".\n",
      "this\n",
      "one\n",
      "be\n",
      "no\n",
      "different\n",
      ".\n",
      "\n",
      "\n",
      "\n",
      "the\n",
      "USS\n",
      "Enterprise\n",
      "(\n",
      "NCC-1701\n",
      "-\n",
      "d\n",
      ")\n",
      "be\n",
      "a\n",
      "24th\n",
      "century\n",
      "United\n",
      "Federation\n",
      "of\n",
      "Planets\n",
      "Galaxy\n",
      "Class\n",
      "starship\n",
      "operate\n",
      "by\n",
      "Starfleet\n",
      ",\n",
      "and\n",
      "the\n",
      "fifth\n",
      "Federation\n",
      "ship\n",
      "to\n",
      "bear\n",
      "the\n",
      "name\n",
      "enterprise\n",
      ".\n",
      "during\n",
      "her\n",
      "career\n",
      ",\n",
      "the\n",
      "enterprise\n",
      "serve\n",
      "as\n",
      "the\n",
      "Federation\n",
      "flagship\n",
      ".\n",
      "the\n",
      "enterprise\n",
      "be\n",
      "destroy\n",
      "during\n",
      "the\n",
      "Battle\n",
      "of\n",
      "Veridian\n",
      "III\n",
      "in\n",
      "2371\n",
      ".\n",
      "\n",
      "\n",
      "\n",
      "history\n",
      "\n",
      "\n",
      "construction\n",
      "and\n",
      "launch\n",
      "\n",
      "\n",
      "the\n",
      "Enterprise\n",
      "be\n",
      "build\n",
      "at\n",
      "Utopia\n",
      "Planitia\n",
      "Fleet\n",
      "Yards\n",
      "orbit\n",
      "Mars\n",
      "in\n",
      "the\n",
      "Solar\n",
      "system\n",
      ".\n",
      "the\n",
      "construction\n",
      "be\n",
      "a\n",
      "massive\n",
      "undertaking\n",
      ",\n",
      "involve\n",
      "thousand\n",
      "of\n",
      "people\n",
      "across\n",
      "discipline\n",
      ".\n",
      "construction\n",
      "be\n",
      "supervise\n",
      "by\n",
      "Commander\n",
      "Orfil\n",
      "Quinteros\n",
      ".\n",
      "Dr.\n",
      "Leah\n",
      "Brahms\n",
      "be\n",
      "responsible\n",
      "for\n",
      "much\n",
      "of\n",
      "the\n",
      "enterprise\n",
      "'s\n",
      "warp\n",
      "propulsion\n",
      "system\n",
      "design\n",
      ".\n",
      "some\n",
      "of\n",
      "the\n",
      "Enterprise\n",
      "'s\n",
      "component\n",
      "be\n",
      "derive\n",
      "from\n",
      "technology\n",
      "originally\n",
      "develop\n",
      "on\n",
      "the\n",
      "USS\n",
      "Pegasus\n",
      ".\n",
      "\n",
      "\n",
      "\n",
      "one\n",
      "of\n",
      "the\n",
      "ship\n",
      "'s\n",
      "nacelle\n",
      "tube\n",
      "be\n",
      "the\n",
      "site\n",
      "of\n",
      "a\n",
      "multiple\n",
      "murder\n",
      "-\n",
      "suicide\n",
      "while\n",
      "she\n",
      "be\n",
      "still\n",
      "under\n",
      "construction\n",
      "at\n",
      "Utopia\n",
      "Planitia\n",
      ".\n",
      "a\n",
      "member\n",
      "of\n",
      "the\n",
      "construction\n",
      "team\n",
      ",\n",
      "Walter\n",
      "Pierce\n",
      ",\n",
      "become\n",
      "jealous\n",
      "of\n",
      "a\n",
      "former\n",
      "lover\n",
      "'s\n",
      "new\n",
      "relationship\n",
      ".\n",
      "he\n",
      "kill\n",
      "the\n",
      "two\n",
      "officer\n",
      ",\n",
      "Marla\n",
      "Finn\n",
      "and\n",
      "William\n",
      "Hodges\n",
      ",\n",
      "then\n",
      "dispose\n",
      "of\n",
      "their\n",
      "body\n",
      "in\n",
      "the\n",
      "plasma\n",
      "stream\n",
      ".\n",
      "pierce\n",
      "commit\n",
      "suicide\n",
      "in\n",
      "the\n",
      "same\n",
      "manner\n",
      ",\n",
      "leave\n",
      "a\n",
      "telepathic\n",
      "imprint\n",
      "in\n",
      "a\n",
      "bulkhead\n",
      "that\n",
      "be\n",
      "not\n",
      "discover\n",
      "until\n",
      "2370\n",
      ".\n",
      "\n",
      "\n",
      "\n",
      "on\n",
      "stardate\n",
      "40759.5\n",
      ",\n",
      "in\n",
      "the\n",
      "year\n",
      "2363\n",
      ",\n",
      "the\n",
      "enterprise\n",
      "be\n",
      "launch\n",
      "from\n",
      "Mars\n",
      ".\n",
      "on\n",
      "stardate\n",
      "41025.5\n",
      ",\n",
      "the\n",
      "enterprise\n",
      "be\n",
      "commission\n",
      ".\n",
      "\n",
      "\n",
      "\n",
      "these\n",
      "stardate\n",
      "be\n",
      "n't\n",
      "mention\n",
      "in\n",
      "dialog\n",
      ";\n",
      "they\n",
      "be\n",
      "from\n",
      "the\n",
      "enterprise\n",
      "dedication\n",
      "plaque\n",
      ".\n",
      "\n",
      "\n",
      "\n",
      "final\n",
      "system\n",
      "completion\n",
      "and\n",
      "shakedown\n",
      "be\n",
      "conduct\n",
      "at\n",
      "Earth\n",
      "Station\n",
      "McKinley\n",
      ".\n",
      "Captain\n",
      "Jean\n",
      "-\n",
      "Luc\n",
      "Picard\n",
      "take\n",
      "command\n",
      "of\n",
      "the\n",
      "ship\n",
      "on\n",
      "stardate\n",
      "41148\n",
      "at\n",
      "the\n",
      "order\n",
      "of\n",
      "Rear\n",
      "Admiral\n",
      "Norah\n",
      "Satie\n",
      ".\n",
      "\n",
      "\n",
      "\n",
      "Legacy\n",
      "\n",
      "\n",
      "Commander\n",
      "Riker\n",
      "be\n",
      "upset\n",
      "over\n",
      "the\n",
      "loss\n",
      "of\n",
      "the\n",
      "enterprise\n",
      ".\n",
      "having\n",
      "hope\n",
      "he\n",
      "would\n",
      "one\n",
      "day\n",
      "command\n",
      "the\n",
      "ship\n",
      ",\n",
      "he\n",
      "be\n",
      "disappoint\n",
      "that\n",
      "he\n",
      "never\n",
      "get\n",
      "that\n",
      "opportunity\n",
      ".\n",
      "however\n",
      ",\n",
      "Picard\n",
      "express\n",
      "doubt\n",
      "that\n",
      "the\n",
      "enterprise\n",
      "-\n",
      "d\n",
      "would\n",
      "be\n",
      "the\n",
      "last\n",
      "vessel\n",
      "to\n",
      "carry\n",
      "the\n",
      "name\n",
      ".\n",
      "\n",
      "\n",
      "\n",
      "the\n",
      "enterprise\n",
      "be\n",
      "so\n",
      "dear\n",
      "to\n",
      "Worf\n",
      "that\n",
      ",\n",
      "shortly\n",
      "after\n",
      "be\n",
      "reassign\n",
      "to\n",
      "Deep\n",
      "Space\n",
      "9\n",
      "in\n",
      "2372\n",
      ",\n",
      "he\n",
      "briefly\n",
      "consider\n",
      "resign\n",
      "from\n",
      "Starfleet\n",
      ".\n",
      "station\n",
      "commander\n",
      "Captain\n",
      "Benjamin\n",
      "Sisko\n",
      "express\n",
      "regret\n",
      "on\n",
      "the\n",
      "loss\n",
      "of\n",
      "the\n",
      "enterprise\n",
      "and\n",
      "offer\n",
      "his\n",
      "condolence\n",
      "over\n",
      "the\n",
      "destruction\n",
      "of\n",
      "the\n",
      "ship\n",
      "to\n",
      "Worf\n",
      ",\n",
      "say\n",
      "the\n",
      "enterprise\n",
      "be\n",
      "a\n",
      "good\n",
      "ship\n",
      ".\n",
      "\n",
      "\n",
      "\n",
      "Captain\n",
      "Picard\n",
      "'s\n",
      "belief\n",
      "that\n",
      "the\n",
      "enterprise\n",
      "-\n",
      "d\n",
      "would\n",
      "not\n",
      "be\n",
      "the\n",
      "final\n",
      "ship\n",
      "to\n",
      "bear\n",
      "the\n",
      "name\n",
      "be\n",
      "bear\n",
      "out\n",
      "with\n",
      "the\n",
      "christening\n",
      "of\n",
      "the\n",
      "Class\n",
      "Sovereign\n",
      "USS\n",
      "Enterprise\n",
      "NCC-1701\n",
      "-\n",
      "e\n",
      ",\n",
      "later\n",
      "the\n",
      "same\n",
      "year\n",
      ".\n",
      "in\n",
      "that\n",
      "instance\n",
      ",\n",
      "the\n",
      "legacy\n",
      "of\n",
      "the\n",
      "enterprise\n",
      "continue\n",
      "with\n",
      "Picard\n",
      "reprise\n",
      "his\n",
      "role\n",
      "as\n",
      "CO\n",
      "and\n",
      "select\n",
      "most\n",
      "of\n",
      "the\n",
      "former\n",
      "crew\n",
      "from\n",
      "the\n",
      "enterprise\n",
      "-\n",
      "d\n",
      ",\n",
      "with\n",
      "the\n",
      "notable\n",
      "exception\n",
      "of\n",
      "Worf\n",
      "due\n",
      "to\n",
      "his\n",
      "most\n",
      "recent\n",
      "assignment\n",
      "to\n",
      "DS9\n",
      "(\n",
      "though\n",
      "he\n",
      "temporarily\n",
      "join\n",
      "the\n",
      "enterprise\n",
      "-\n",
      "e\n",
      "crew\n",
      "on\n",
      "several\n",
      "of\n",
      "their\n",
      "more\n",
      "notable\n",
      "mission\n",
      ")\n",
      ".\n"
     ]
    }
   ],
   "source": [
    "for t in doc:\n",
    "    print(t.lemma_)"
   ]
  },
  {
   "cell_type": "code",
   "execution_count": 14,
   "metadata": {
    "ExecuteTime": {
     "end_time": "2019-06-17T01:22:53.270758Z",
     "start_time": "2019-06-17T01:22:53.220888Z"
    },
    "colab": {},
    "colab_type": "code",
    "id": "448zp9_vLNQC",
    "outputId": "561168c1-3a42-449d-9be3-dd22182459c3",
    "scrolled": true
   },
   "outputs": [
    {
     "name": "stdout",
     "output_type": "stream",
     "text": [
      "i | Token        Lemma\n",
      "--| ------------ ------------\n",
      " 1| 'USS'        'USS'\n",
      " 2| 'Enterprise' 'Enterprise'\n",
      " 3| '('          '('\n",
      " 4| 'NCC-1701'   'NCC-1701'\n",
      " 5| '-'          '-'\n",
      " 6| 'D'          'd'\n",
      " 7| ')'          ')'\n",
      " 8| '\\n\\n'       '\\n\\n'\n",
      " 9| 'For'        'for'\n",
      "10| 'five'       'five'\n",
      "11| 'hundred'    'hundred'\n",
      "12| 'years'      'year'\n",
      "13| ','          ','\n",
      "14| 'every'      'every'\n",
      "15| 'ship'       'ship'\n",
      "16| 'that'       'that'\n",
      "17| 'has'        'have'\n",
      "18| 'borne'      'bear'\n",
      "19| 'the'        'the'\n",
      "20| 'name'       'name'\n",
      "21| 'of'         'of'\n",
      "22| 'the'        'the'\n",
      "23| 'Enterprise' 'enterprise'\n",
      "24| 'has'        'have'\n",
      "25| 'become'     'become'\n",
      "26| 'a'          'a'\n",
      "27| 'legend'     'legend'\n",
      "28| '.'          '.'\n"
     ]
    }
   ],
   "source": [
    "print('i | Token        Lemma')\n",
    "print('--| ------------ ------------')\n",
    "for i, t in enumerate(doc):\n",
    "    print('%2d| %-12r %r' % (i+1, t.text, t.lemma_))\n",
    "    if t.text == '.':\n",
    "        break"
   ]
  },
  {
   "cell_type": "code",
   "execution_count": 15,
   "metadata": {
    "ExecuteTime": {
     "end_time": "2019-06-17T01:22:56.143434Z",
     "start_time": "2019-06-17T01:22:55.839376Z"
    },
    "colab": {},
    "colab_type": "code",
    "id": "i-7pqVMxLNQD",
    "outputId": "6deff35e-0d28-4351-bbab-7600618eb817"
   },
   "outputs": [
    {
     "data": {
      "image/png": "[encoded data removed]",
      "text/plain": [
       "<Figure size 1152x432 with 1 Axes>"
      ]
     },
     "metadata": {
      "needs_background": "light"
     },
     "output_type": "display_data"
    }
   ],
   "source": [
    "plot_words(['%r' % t.lemma_ for t in doc if not (t.is_stop | t.is_punct)])"
   ]
  },
  {
   "cell_type": "markdown",
   "metadata": {
    "colab_type": "text",
    "id": "RHUdgHM7LNQF"
   },
   "source": [
    "### Entity Recognition"
   ]
  },
  {
   "cell_type": "code",
   "execution_count": 16,
   "metadata": {},
   "outputs": [
    {
     "data": {
      "text/plain": [
       "<generator at 0x16281424430>"
      ]
     },
     "execution_count": 16,
     "metadata": {},
     "output_type": "execute_result"
    }
   ],
   "source": [
    "doc.sents"
   ]
  },
  {
   "cell_type": "code",
   "execution_count": 17,
   "metadata": {
    "ExecuteTime": {
     "end_time": "2019-06-17T01:23:02.688863Z",
     "start_time": "2019-06-17T01:23:02.464460Z"
    },
    "colab": {},
    "colab_type": "code",
    "id": "yyOrZ42oLNQH",
    "outputId": "dfcee498-0002-4064-98ca-fa11668978d5",
    "scrolled": true
   },
   "outputs": [
    {
     "name": "stdout",
     "output_type": "stream",
     "text": [
      " 0: USS Enterprise (NCC-1701-D)For five hundred years, every ship that has borne the name of the Enterprise has become a legend.\n",
      "--------------------------------------------------------------------------------\n",
      "DATE       : five hundred years\n",
      "ORG        : Enterprise\n",
      "================================================================================\n",
      " 1: This one is no different.\n",
      "================================================================================\n",
      " 2: The USS Enterprise (NCC-1701-D) was a 24th century United Federation of Planets Galaxy Class starship operated by Starfleet, and the fifth Federation ship to bear the name Enterprise.\n",
      "--------------------------------------------------------------------------------\n",
      "PRODUCT    : The USS Enterprise\n",
      "DATE       : a 24th century\n",
      "ORG        : United Federation of Planets Galaxy\n",
      "NORP       : Starfleet\n",
      "================================================================================\n",
      " 3: During her career, the Enterprise served as the Federation flagship.\n",
      "--------------------------------------------------------------------------------\n",
      "ORG        : Enterprise\n",
      "ORG        : Federation\n",
      "================================================================================\n",
      " 4: The Enterprise was destroyed during the Battle of Veridian III in 2371.\n",
      "--------------------------------------------------------------------------------\n",
      "FAC        : the Battle of Veridian III\n",
      "DATE       : 2371\n",
      "================================================================================\n",
      " 5: HistoryConstruction and launch\n",
      "================================================================================\n",
      " 6: The Enterprise was built at Utopia Planitia Fleet Yards orbiting Mars in the Solar system.\n",
      "--------------------------------------------------------------------------------\n",
      "ORG        : Utopia Planitia Fleet Yards\n",
      "LOC        : Mars\n",
      "PRODUCT    : Solar\n",
      "================================================================================\n",
      " 7: The construction was a massive undertaking, involving thousands of people across disciplines.\n",
      "--------------------------------------------------------------------------------\n",
      "CARDINAL   : thousands\n",
      "================================================================================\n",
      " 8: Construction was supervised by Commander Orfil Quinteros.\n",
      "--------------------------------------------------------------------------------\n",
      "PERSON     : Orfil Quinteros\n",
      "================================================================================\n",
      " 9: Dr. Leah Brahms was responsible for much of the Enterprise's warp propulsion system design.\n",
      "--------------------------------------------------------------------------------\n",
      "PERSON     : Leah Brahms\n",
      "================================================================================\n",
      "10: Some of the Enterprise's components were derived from technology originally developed on the USS Pegasus.\n",
      "--------------------------------------------------------------------------------\n",
      "PRODUCT    : the USS Pegasus\n",
      "================================================================================\n",
      "11: One of the ship's nacelle tube was the site of a multiple murder-suicide while she was still under construction at Utopia Planitia.\n",
      "--------------------------------------------------------------------------------\n",
      "CARDINAL   : One\n",
      "ORG        : Utopia Planitia\n",
      "================================================================================\n",
      "12: A member of the construction team, Walter Pierce, became jealous of a former lover's new relationship.\n",
      "--------------------------------------------------------------------------------\n",
      "PERSON     : Walter Pierce\n",
      "================================================================================\n",
      "13: He killed the two officers, Marla Finn and William Hodges, then disposed of their bodies in the plasma stream.\n",
      "--------------------------------------------------------------------------------\n",
      "CARDINAL   : two\n",
      "PERSON     : Marla Finn\n",
      "PERSON     : William Hodges\n",
      "================================================================================\n",
      "14: Pierce committed suicide in the same manner, leaving a telepathic imprint in a bulkhead that was not discovered until 2370.\n",
      "--------------------------------------------------------------------------------\n",
      "DATE       : 2370\n",
      "================================================================================\n",
      "15: \n",
      "================================================================================\n",
      "16: On stardate 40759.5, in the year 2363, the Enterprise was launched from Mars.\n",
      "--------------------------------------------------------------------------------\n",
      "CARDINAL   : 40759.5\n",
      "DATE       : the year 2363\n",
      "LOC        : Mars\n",
      "================================================================================\n",
      "17: On stardate 41025.5, the Enterprise was commissioned.\n",
      "--------------------------------------------------------------------------------\n",
      "CARDINAL   : 41025.5\n",
      "================================================================================\n",
      "18: These stardates weren't mentioned in dialog; they were from the Enterprise dedication plaque.\n",
      "================================================================================\n",
      "19: Final systems completion and shakedown\n",
      "================================================================================\n",
      "20: was conducted at Earth Station McKinley.\n",
      "--------------------------------------------------------------------------------\n",
      "LOC        : Earth Station McKinley\n",
      "================================================================================\n",
      "21: Captain Jean-Luc Picard took command of the ship on stardate 41148 at the order of Rear Admiral Norah Satie.\n",
      "--------------------------------------------------------------------------------\n",
      "PERSON     : Jean-Luc Picard\n",
      "DATE       : 41148\n",
      "ORG        : Rear\n",
      "PERSON     : Norah Satie\n",
      "================================================================================\n",
      "22: LegacyCommander Riker was upset over the loss of the Enterprise.\n",
      "--------------------------------------------------------------------------------\n",
      "PERSON     : Riker\n",
      "================================================================================\n",
      "23: Having hoped he would one day command the ship, he was disappointed that he never got that opportunity.\n",
      "--------------------------------------------------------------------------------\n",
      "DATE       : one day\n",
      "================================================================================\n",
      "24: However, Picard expressed doubt that the Enterprise-D would be the last vessel to carry the name.\n",
      "--------------------------------------------------------------------------------\n",
      "PERSON     : Picard\n",
      "================================================================================\n",
      "25: \n",
      "================================================================================\n",
      "26: The Enterprise was so dear to Worf that, shortly after being reassigned to Deep Space 9 in 2372, he briefly considered resigning from Starfleet.\n",
      "--------------------------------------------------------------------------------\n",
      "PERSON     : Worf\n",
      "WORK_OF_ART: Deep Space\n",
      "DATE       : 2372\n",
      "NORP       : Starfleet\n",
      "================================================================================\n",
      "27: Station commander Captain Benjamin Sisko expressed regret on the loss of the Enterprise and offered his condolences over the destruction of the ship to Worf, saying the Enterprise was a good ship.\n",
      "--------------------------------------------------------------------------------\n",
      "PERSON     : Benjamin Sisko\n",
      "PERSON     : Worf\n",
      "================================================================================\n",
      "28: \n",
      "================================================================================\n",
      "29: Captain Picard's belief that the Enterprise-D would not be the final ship to bear the name was borne out with the christening of the Class Sovereign USS Enterprise NCC-1701-E, later the same year.\n",
      "--------------------------------------------------------------------------------\n",
      "PERSON     : Picard\n",
      "DATE       : later the same year\n",
      "================================================================================\n",
      "30: In that instance, the legacy of the Enterprise continued with Picard reprising his role as CO and selecting most of the former crew from the Enterprise-D, with the notable exception of Worf due to his most recent assignment to DS9 (though he temporarily joined the Enterprise-E crew on several of their more notable missions).\n",
      "--------------------------------------------------------------------------------\n",
      "ORG        : CO\n",
      "ORG        : the Enterprise-D\n",
      "PERSON     : Worf\n",
      "================================================================================\n"
     ]
    }
   ],
   "source": [
    "for i, s in enumerate(doc.sents):\n",
    "    print('%2d: %s' % (i, re.sub(r'\\n+', '', s.text)))\n",
    "    if s.as_doc().ents:\n",
    "        print('-'*80)\n",
    "        for e in s.as_doc().ents:\n",
    "            print('%-11s: %s' % (e.label_, re.sub(r'\\n+', '', e.text)))\n",
    "    print('='*80)"
   ]
  },
  {
   "cell_type": "markdown",
   "metadata": {},
   "source": [
    "## Extra: Using NLTK for NLP\n",
    "\n",
    "### Tokenise"
   ]
  },
  {
   "cell_type": "code",
   "execution_count": 18,
   "metadata": {},
   "outputs": [],
   "source": [
    "import nltk "
   ]
  },
  {
   "cell_type": "code",
   "execution_count": 19,
   "metadata": {
    "ExecuteTime": {
     "end_time": "2019-06-17T01:18:26.276966Z",
     "start_time": "2019-06-17T01:18:26.186212Z"
    },
    "colab": {},
    "colab_type": "code",
    "id": "pML63M9KLNPX",
    "outputId": "29a6c627-0eee-4ece-bb34-47eacbbb53ff",
    "scrolled": true
   },
   "outputs": [
    {
     "name": "stdout",
     "output_type": "stream",
     "text": [
      " 1| 'USS'\n",
      " 2| 'Enterprise'\n",
      " 3| '('\n",
      " 4| 'NCC-1701-D'\n",
      " 5| ')'\n",
      " 6| 'For'\n",
      " 7| 'five'\n",
      " 8| 'hundred'\n",
      " 9| 'years'\n",
      "10| ','\n",
      "11| 'every'\n",
      "12| 'ship'\n",
      "13| 'that'\n",
      "14| 'has'\n",
      "15| 'borne'\n",
      "16| 'the'\n",
      "17| 'name'\n",
      "18| 'of'\n",
      "19| 'the'\n",
      "20| 'Enterprise'\n",
      "21| 'has'\n",
      "22| 'become'\n",
      "23| 'a'\n",
      "24| 'legend'\n",
      "25| '.'\n"
     ]
    }
   ],
   "source": [
    "tokens = nltk.word_tokenize(text)\n",
    "\n",
    "for i, t in enumerate(tokens[:25]):\n",
    "    print('%2d| %r' % (i+1, t))"
   ]
  },
  {
   "cell_type": "code",
   "execution_count": 20,
   "metadata": {
    "ExecuteTime": {
     "end_time": "2019-06-17T01:18:48.978316Z",
     "start_time": "2019-06-17T01:18:48.686799Z"
    },
    "colab": {},
    "colab_type": "code",
    "id": "G5C3ituYLNPZ",
    "outputId": "db39aade-f506-4b45-ed1e-56327c19e4f7"
   },
   "outputs": [
    {
     "data": {
      "image/png": "[encoded data removed]",
      "text/plain": [
       "<Figure size 1152x432 with 1 Axes>"
      ]
     },
     "metadata": {
      "needs_background": "light"
     },
     "output_type": "display_data"
    }
   ],
   "source": [
    "plot_words(tokens)"
   ]
  },
  {
   "cell_type": "markdown",
   "metadata": {},
   "source": [
    "### Stop words"
   ]
  },
  {
   "cell_type": "code",
   "execution_count": 21,
   "metadata": {},
   "outputs": [],
   "source": [
    "#nltk.download('stopwords')"
   ]
  },
  {
   "cell_type": "code",
   "execution_count": 22,
   "metadata": {
    "ExecuteTime": {
     "end_time": "2019-06-17T01:20:00.638483Z",
     "start_time": "2019-06-17T01:20:00.617539Z"
    },
    "colab": {},
    "colab_type": "code",
    "id": "BnY2rFzuLNPj",
    "outputId": "f64087cd-8e4b-4df5-fb2d-7b04851bde34",
    "scrolled": true
   },
   "outputs": [
    {
     "name": "stdout",
     "output_type": "stream",
     "text": [
      "a, about, above, after, again, against, ain, all, am, an, and, any, are, aren, aren't, as, at, be, because, been, before, being, below, between, both, but, by, can, couldn, couldn't, d, did, didn, didn't, do, does, doesn, doesn't, doing, don, don't, down, during, each, few, for, from, further, had, hadn, hadn't, has, hasn, hasn't, have, haven, haven't, having, he, her, here, hers, herself, him, himself, his, how, i, if, in, into, is, isn, isn't, it, it's, its, itself, just, ll, m, ma, me, mightn, mightn't, more, most, mustn, mustn't, my, myself, needn, needn't, no, nor, not, now, o, of, off, on, once, only, or, other, our, ours, ourselves, out, over, own, re, s, same, shan, shan't, she, she's, should, should've, shouldn, shouldn't, so, some, such, t, than, that, that'll, the, their, theirs, them, themselves, then, there, these, they, this, those, through, to, too, under, until, up, ve, very, was, wasn, wasn't, we, were, weren, weren't, what, when, where, which, while, who, whom, why, will, with, won, won't, wouldn, wouldn't, y, you, you'd, you'll, you're, you've, your, yours, yourself, yourselves\n"
     ]
    }
   ],
   "source": [
    "stopWords = nltk.corpus.stopwords.words('english')\n",
    "\n",
    "stopWords.sort()\n",
    "print(', '.join(stopWords))"
   ]
  },
  {
   "cell_type": "code",
   "execution_count": 23,
   "metadata": {
    "colab": {},
    "colab_type": "code",
    "id": "dksPJF7YcI1o"
   },
   "outputs": [
    {
     "data": {
      "text/plain": [
       "['USS',\n",
       " 'Enterprise',\n",
       " '(',\n",
       " 'NCC-1701-D',\n",
       " ')',\n",
       " 'five',\n",
       " 'hundred',\n",
       " 'years',\n",
       " ',',\n",
       " 'every',\n",
       " 'ship',\n",
       " 'borne',\n",
       " 'name',\n",
       " 'Enterprise',\n",
       " 'become',\n",
       " 'legend',\n",
       " '.',\n",
       " 'one',\n",
       " 'different',\n",
       " '.',\n",
       " 'USS',\n",
       " 'Enterprise',\n",
       " '(',\n",
       " 'NCC-1701-D',\n",
       " ')',\n",
       " '24th',\n",
       " 'century',\n",
       " 'United',\n",
       " 'Federation',\n",
       " 'Planets',\n",
       " 'Galaxy',\n",
       " 'Class',\n",
       " 'starship',\n",
       " 'operated',\n",
       " 'Starfleet',\n",
       " ',',\n",
       " 'fifth',\n",
       " 'Federation',\n",
       " 'ship',\n",
       " 'bear',\n",
       " 'name',\n",
       " 'Enterprise',\n",
       " '.',\n",
       " 'career',\n",
       " ',',\n",
       " 'Enterprise',\n",
       " 'served',\n",
       " 'Federation',\n",
       " 'flagship',\n",
       " '.',\n",
       " 'Enterprise',\n",
       " 'destroyed',\n",
       " 'Battle',\n",
       " 'Veridian',\n",
       " 'III',\n",
       " '2371',\n",
       " '.',\n",
       " 'History',\n",
       " 'Construction',\n",
       " 'launch',\n",
       " 'Enterprise',\n",
       " 'built',\n",
       " 'Utopia',\n",
       " 'Planitia',\n",
       " 'Fleet',\n",
       " 'Yards',\n",
       " 'orbiting',\n",
       " 'Mars',\n",
       " 'Solar',\n",
       " 'system',\n",
       " '.',\n",
       " 'construction',\n",
       " 'massive',\n",
       " 'undertaking',\n",
       " ',',\n",
       " 'involving',\n",
       " 'thousands',\n",
       " 'people',\n",
       " 'across',\n",
       " 'disciplines',\n",
       " '.',\n",
       " 'Construction',\n",
       " 'supervised',\n",
       " 'Commander',\n",
       " 'Orfil',\n",
       " 'Quinteros',\n",
       " '.',\n",
       " 'Dr.',\n",
       " 'Leah',\n",
       " 'Brahms',\n",
       " 'responsible',\n",
       " 'much',\n",
       " 'Enterprise',\n",
       " \"'s\",\n",
       " 'warp',\n",
       " 'propulsion',\n",
       " 'system',\n",
       " 'design',\n",
       " '.',\n",
       " 'Enterprise',\n",
       " \"'s\",\n",
       " 'components',\n",
       " 'derived',\n",
       " 'technology',\n",
       " 'originally',\n",
       " 'developed',\n",
       " 'USS',\n",
       " 'Pegasus',\n",
       " '.',\n",
       " 'One',\n",
       " 'ship',\n",
       " \"'s\",\n",
       " 'nacelle',\n",
       " 'tube',\n",
       " 'site',\n",
       " 'multiple',\n",
       " 'murder-suicide',\n",
       " 'still',\n",
       " 'construction',\n",
       " 'Utopia',\n",
       " 'Planitia',\n",
       " '.',\n",
       " 'member',\n",
       " 'construction',\n",
       " 'team',\n",
       " ',',\n",
       " 'Walter',\n",
       " 'Pierce',\n",
       " ',',\n",
       " 'became',\n",
       " 'jealous',\n",
       " 'former',\n",
       " 'lover',\n",
       " \"'s\",\n",
       " 'new',\n",
       " 'relationship',\n",
       " '.',\n",
       " 'killed',\n",
       " 'two',\n",
       " 'officers',\n",
       " ',',\n",
       " 'Marla',\n",
       " 'Finn',\n",
       " 'William',\n",
       " 'Hodges',\n",
       " ',',\n",
       " 'disposed',\n",
       " 'bodies',\n",
       " 'plasma',\n",
       " 'stream',\n",
       " '.',\n",
       " 'Pierce',\n",
       " 'committed',\n",
       " 'suicide',\n",
       " 'manner',\n",
       " ',',\n",
       " 'leaving',\n",
       " 'telepathic',\n",
       " 'imprint',\n",
       " 'bulkhead',\n",
       " 'discovered',\n",
       " '2370',\n",
       " '.',\n",
       " 'stardate',\n",
       " '40759.5',\n",
       " ',',\n",
       " 'year',\n",
       " '2363',\n",
       " ',',\n",
       " 'Enterprise',\n",
       " 'launched',\n",
       " 'Mars',\n",
       " '.',\n",
       " 'stardate',\n",
       " '41025.5',\n",
       " ',',\n",
       " 'Enterprise',\n",
       " 'commissioned',\n",
       " '.',\n",
       " 'stardates',\n",
       " \"n't\",\n",
       " 'mentioned',\n",
       " 'dialog',\n",
       " ';',\n",
       " 'Enterprise',\n",
       " 'dedication',\n",
       " 'plaque',\n",
       " '.',\n",
       " 'Final',\n",
       " 'systems',\n",
       " 'completion',\n",
       " 'shakedown',\n",
       " 'conducted',\n",
       " 'Earth',\n",
       " 'Station',\n",
       " 'McKinley',\n",
       " '.',\n",
       " 'Captain',\n",
       " 'Jean-Luc',\n",
       " 'Picard',\n",
       " 'took',\n",
       " 'command',\n",
       " 'ship',\n",
       " 'stardate',\n",
       " '41148',\n",
       " 'order',\n",
       " 'Rear',\n",
       " 'Admiral',\n",
       " 'Norah',\n",
       " 'Satie',\n",
       " '.',\n",
       " 'Legacy',\n",
       " 'Commander',\n",
       " 'Riker',\n",
       " 'upset',\n",
       " 'loss',\n",
       " 'Enterprise',\n",
       " '.',\n",
       " 'hoped',\n",
       " 'would',\n",
       " 'one',\n",
       " 'day',\n",
       " 'command',\n",
       " 'ship',\n",
       " ',',\n",
       " 'disappointed',\n",
       " 'never',\n",
       " 'got',\n",
       " 'opportunity',\n",
       " '.',\n",
       " 'However',\n",
       " ',',\n",
       " 'Picard',\n",
       " 'expressed',\n",
       " 'doubt',\n",
       " 'Enterprise-D',\n",
       " 'would',\n",
       " 'last',\n",
       " 'vessel',\n",
       " 'carry',\n",
       " 'name',\n",
       " '.',\n",
       " 'Enterprise',\n",
       " 'dear',\n",
       " 'Worf',\n",
       " ',',\n",
       " 'shortly',\n",
       " 'reassigned',\n",
       " 'Deep',\n",
       " 'Space',\n",
       " '9',\n",
       " '2372',\n",
       " ',',\n",
       " 'briefly',\n",
       " 'considered',\n",
       " 'resigning',\n",
       " 'Starfleet',\n",
       " '.',\n",
       " 'Station',\n",
       " 'commander',\n",
       " 'Captain',\n",
       " 'Benjamin',\n",
       " 'Sisko',\n",
       " 'expressed',\n",
       " 'regret',\n",
       " 'loss',\n",
       " 'Enterprise',\n",
       " 'offered',\n",
       " 'condolences',\n",
       " 'destruction',\n",
       " 'ship',\n",
       " 'Worf',\n",
       " ',',\n",
       " 'saying',\n",
       " 'Enterprise',\n",
       " 'good',\n",
       " 'ship',\n",
       " '.',\n",
       " 'Captain',\n",
       " 'Picard',\n",
       " \"'s\",\n",
       " 'belief',\n",
       " 'Enterprise-D',\n",
       " 'would',\n",
       " 'final',\n",
       " 'ship',\n",
       " 'bear',\n",
       " 'name',\n",
       " 'borne',\n",
       " 'christening',\n",
       " 'Class',\n",
       " 'Sovereign',\n",
       " 'USS',\n",
       " 'Enterprise',\n",
       " 'NCC-1701-E',\n",
       " ',',\n",
       " 'later',\n",
       " 'year',\n",
       " '.',\n",
       " 'instance',\n",
       " ',',\n",
       " 'legacy',\n",
       " 'Enterprise',\n",
       " 'continued',\n",
       " 'Picard',\n",
       " 'reprising',\n",
       " 'role',\n",
       " 'CO',\n",
       " 'selecting',\n",
       " 'former',\n",
       " 'crew',\n",
       " 'Enterprise-D',\n",
       " ',',\n",
       " 'notable',\n",
       " 'exception',\n",
       " 'Worf',\n",
       " 'due',\n",
       " 'recent',\n",
       " 'assignment',\n",
       " 'DS9',\n",
       " '(',\n",
       " 'though',\n",
       " 'temporarily',\n",
       " 'joined',\n",
       " 'Enterprise-E',\n",
       " 'crew',\n",
       " 'several',\n",
       " 'notable',\n",
       " 'missions',\n",
       " ')',\n",
       " '.']"
      ]
     },
     "execution_count": 23,
     "metadata": {},
     "output_type": "execute_result"
    }
   ],
   "source": [
    "tokens_no_stop = [t for t in tokens if t.lower() not in stopWords]# '' # create a list of tokens withOUT the stop words \n",
    "tokens_no_stop"
   ]
  },
  {
   "cell_type": "code",
   "execution_count": 24,
   "metadata": {
    "ExecuteTime": {
     "end_time": "2019-06-17T01:21:23.469455Z",
     "start_time": "2019-06-17T01:21:23.412608Z"
    },
    "colab": {},
    "colab_type": "code",
    "id": "a82KBILRLNPm",
    "outputId": "b33cef88-79ab-4e06-9c0e-9f2a4a588306"
   },
   "outputs": [
    {
     "name": "stdout",
     "output_type": "stream",
     "text": [
      "i | with stop words without\n",
      "--| --------------- ------------\n",
      " 1| 'USS'           'USS'\n",
      " 2| 'Enterprise'    'Enterprise'\n",
      " 3| '('             '('\n",
      " 4| 'NCC-1701-D'    'NCC-1701-D'\n",
      " 5| ')'             ')'\n",
      " 6| 'For'          \n",
      " 7| 'five'          'five'\n",
      " 8| 'hundred'       'hundred'\n",
      " 9| 'years'         'years'\n",
      "10| ','             ','\n",
      "11| 'every'         'every'\n",
      "12| 'ship'          'ship'\n",
      "13| 'that'         \n",
      "14| 'has'          \n",
      "15| 'borne'         'borne'\n",
      "16| 'the'          \n",
      "17| 'name'          'name'\n",
      "18| 'of'           \n",
      "19| 'the'          \n",
      "20| 'Enterprise'    'Enterprise'\n",
      "21| 'has'          \n",
      "22| 'become'        'become'\n",
      "23| 'a'            \n",
      "24| 'legend'        'legend'\n",
      "25| '.'             '.'\n"
     ]
    }
   ],
   "source": [
    "i = 0\n",
    "j = 0\n",
    "\n",
    "print('i | with stop words without')\n",
    "print('--| --------------- ------------')\n",
    "\n",
    "\n",
    "while i < len(tokens):\n",
    "\n",
    "    if tokens[i] == tokens_no_stop[j]:\n",
    "        print('%2d| %-15r %r' % (i+1, tokens[i], tokens_no_stop[j]))\n",
    "        j += 1\n",
    "\n",
    "    else:\n",
    "        print('%2d| %-15r' % (i+1, tokens[i]))\n",
    "\n",
    "\n",
    "    i += 1\n",
    "\n",
    "    if tokens[i-1] == '.':\n",
    "        break\n",
    "        "
   ]
  },
  {
   "cell_type": "code",
   "execution_count": 25,
   "metadata": {
    "ExecuteTime": {
     "end_time": "2019-06-17T01:24:39.503538Z",
     "start_time": "2019-06-17T01:24:39.498514Z"
    },
    "colab": {},
    "colab_type": "code",
    "id": "uPtOoiwuLNPo"
   },
   "outputs": [
    {
     "data": {
      "image/png": "[encoded data removed]",
      "text/plain": [
       "<Figure size 1152x432 with 1 Axes>"
      ]
     },
     "metadata": {
      "needs_background": "light"
     },
     "output_type": "display_data"
    }
   ],
   "source": [
    "plot_words(tokens_no_stop)"
   ]
  },
  {
   "cell_type": "markdown",
   "metadata": {},
   "source": [
    "### Check Part of Speech"
   ]
  },
  {
   "cell_type": "code",
   "execution_count": 26,
   "metadata": {
    "ExecuteTime": {
     "end_time": "2019-06-17T01:22:10.130223Z",
     "start_time": "2019-06-17T01:22:10.100306Z"
    },
    "colab": {},
    "colab_type": "code",
    "id": "KRupju0sLNPv"
   },
   "outputs": [],
   "source": [
    "pos_list = {\n",
    "    'CC':   'coordinating conjunction',\n",
    "    'CD':   'cardinal digit',\n",
    "    'DT':   'determiner',\n",
    "    'EX':   'existential there (like: \"there is\" ... think of it like \"there exists\")',\n",
    "    'FW':   'foreign word',\n",
    "    'IN':   'preposition/subordinating conjunction',\n",
    "    'JJ':   'adjective \"big\"',\n",
    "    'JJR':  'adjective, comparative \"bigger\"',\n",
    "    'JJS':  'adjective, superlative \"biggest\"',\n",
    "    'LS':   'list marker 1)',\n",
    "    'MD':   'modal could, will',\n",
    "    'NN':   'noun, singular \"desk\"',\n",
    "    'NNS':  'noun plural \"desks\"',\n",
    "    'NNP':  'proper noun, singular \"Harrison\"',\n",
    "    'NNPS': 'proper noun, plural \"Americans\"',\n",
    "    'PDT':  'predeterminer \"all the kids\"',\n",
    "    'POS':  'possessive ending parent\"s',\n",
    "    'PRP':  'personal pronoun I, he, she',\n",
    "    'PRP$': 'possessive pronoun my, his, hers',\n",
    "    'RB':   'adverb very, silently,',\n",
    "    'RBR':  'adverb, comparative better',\n",
    "    'RBS':  'adverb, superlative best',\n",
    "    'RP':   'particle give up',\n",
    "    'TO':   'to go \"to\" the store.',\n",
    "    'UH':   'interjection errrrrrrrm',\n",
    "    'VB':   'verb, base form take',\n",
    "    'VBD':  'verb, past tense took',\n",
    "    'VBG':  'verb, gerund/present participle taking',\n",
    "    'VBN':  'verb, past participle taken',\n",
    "    'VBP':  'verb, sing. present, non-3d take',\n",
    "    'VBZ':  'verb, 3rd person sing. present takes',\n",
    "    'WDT':  'wh-determiner which',\n",
    "    'WP':   'wh-pronoun who, what',\n",
    "    'WP$':  'possessive wh-pronoun whose',\n",
    "    'WRB':  'wh-abverb where, when',\n",
    "}"
   ]
  },
  {
   "cell_type": "code",
   "execution_count": 27,
   "metadata": {
    "ExecuteTime": {
     "end_time": "2019-06-17T01:22:13.969590Z",
     "start_time": "2019-06-17T01:22:13.665232Z"
    },
    "colab": {},
    "colab_type": "code",
    "id": "asqUoCHgLNPx",
    "outputId": "6e3cab17-f736-49f3-ce62-8e759d72ac35",
    "scrolled": false
   },
   "outputs": [
    {
     "name": "stdout",
     "output_type": "stream",
     "text": [
      " 1|'USS'        : NNP  proper noun, singular \"Harrison\"\n",
      " 2|'Enterprise' : NNP  proper noun, singular \"Harrison\"\n",
      " 3|'('          : (    -\n",
      " 4|'NCC-1701-D' : NNP  proper noun, singular \"Harrison\"\n",
      " 5|')'          : )    -\n",
      " 6|'For'        : IN   preposition/subordinating conjunction\n",
      " 7|'five'       : CD   cardinal digit\n",
      " 8|'hundred'    : CD   cardinal digit\n",
      " 9|'years'      : NNS  noun plural \"desks\"\n",
      "10|','          : ,    -\n",
      "11|'every'      : DT   determiner\n",
      "12|'ship'       : NN   noun, singular \"desk\"\n",
      "13|'that'       : WDT  wh-determiner which\n",
      "14|'has'        : VBZ  verb, 3rd person sing. present takes\n",
      "15|'borne'      : VBN  verb, past participle taken\n",
      "16|'the'        : DT   determiner\n",
      "17|'name'       : NN   noun, singular \"desk\"\n",
      "18|'of'         : IN   preposition/subordinating conjunction\n",
      "19|'the'        : DT   determiner\n",
      "20|'Enterprise' : NNP  proper noun, singular \"Harrison\"\n",
      "21|'has'        : VBZ  verb, 3rd person sing. present takes\n",
      "22|'become'     : VBN  verb, past participle taken\n",
      "23|'a'          : DT   determiner\n",
      "24|'legend'     : NN   noun, singular \"desk\"\n",
      "25|'.'          : .    -\n"
     ]
    }
   ],
   "source": [
    "tagged = nltk.pos_tag(tokens)\n",
    "\n",
    "for i, t in enumerate(tagged[:25]):\n",
    "    print('%2d|%-12r : %-4s %s' % (i+1, t[0], t[1], (pos_list[t[1]] if t[1] in pos_list else '-')))"
   ]
  },
  {
   "cell_type": "markdown",
   "metadata": {
    "colab_type": "text",
    "id": "_n9qMgyULNP1"
   },
   "source": [
    "### Stemming"
   ]
  },
  {
   "cell_type": "code",
   "execution_count": 28,
   "metadata": {
    "ExecuteTime": {
     "end_time": "2019-06-17T01:22:29.259531Z",
     "start_time": "2019-06-17T01:22:29.243588Z"
    },
    "colab": {},
    "colab_type": "code",
    "id": "pL1vRUzxLNP2",
    "scrolled": true
   },
   "outputs": [
    {
     "data": {
      "text/plain": [
       "\"uss enterpris (ncc-1701-d) for five hundr years, everi ship that ha born the name of the enterpris ha becom a legend. thi one is no different. the uss enterpris (ncc-1701-d) wa a 24th centuri unit feder of planet galaxi class starship oper by starfleet, and the fifth feder ship to bear the name enterprise. dure her career, the enterpris serv as the feder flagship. the enterpris wa destroy dure the battl of veridian iii in 2371. histori construct and launch the enterpris wa built at utopia planitia fleet yard orbit mar in the solar system. the construct wa a massiv undertaking, involv thousand of peopl across disciplines. construct wa supervis by command orfil quinteros. dr. leah brahm wa respons for much of the enterprise' warp propuls system design. some of the enterprise' compon were deriv from technolog origin develop on the uss pegasus. one of the ship' nacel tube wa the site of a multipl murder-suicid while she wa still under construct at utopia planitia. A member of the construct team, walter pierce, becam jealou of a former lover' new relationship. He kill the two officers, marla finn and william hodges, then dispos of their bodi in the plasma stream. pierc commit suicid in the same manner, leav a telepath imprint in a bulkhead that wa not discov until 2370. On stardat 40759.5, in the year 2363, the enterpris wa launch from mars. On stardat 41025.5, the enterpris wa commissioned. these stardat weren't mention in dialog; they were from the enterpris dedic plaque. final system complet and shakedown wa conduct at earth station mckinley. captain jean-luc picard took command of the ship on stardat 41148 at the order of rear admir norah satie. legaci command riker wa upset over the loss of the enterprise. have hope he would one day command the ship, he wa disappoint that he never got that opportunity. however, picard express doubt that the enterprise-d would be the last vessel to carri the name. the enterpris wa so dear to worf that, shortli after be reassign to deep space 9 in 2372, he briefli consid resign from starfleet. station command captain benjamin sisko express regret on the loss of the enterpris and offer hi condol over the destruct of the ship to worf, say the enterpris wa a good ship. captain picard' belief that the enterprise-d would not be the final ship to bear the name wa born out with the christen of the class sovereign uss enterpris ncc-1701-e, later the same year. In that instance, the legaci of the enterpris continu with picard repris hi role as CO and select most of the former crew from the enterprise-d, with the notabl except of worf due to hi most recent assign to ds9 (though he temporarili join the enterprise- crew on sever of their more notabl missions).\""
      ]
     },
     "execution_count": 28,
     "metadata": {},
     "output_type": "execute_result"
    }
   ],
   "source": [
    "ps = nltk.porter.PorterStemmer()\n",
    "stemmed = ' '.join([ps.stem(word) for word in text.split()])\n",
    "stemmed"
   ]
  },
  {
   "cell_type": "markdown",
   "metadata": {
    "colab_type": "text",
    "id": "2d9a6QazLNP4"
   },
   "source": [
    "### Lemmatisation"
   ]
  },
  {
   "cell_type": "code",
   "execution_count": 29,
   "metadata": {
    "ExecuteTime": {
     "end_time": "2019-06-17T01:22:33.219077Z",
     "start_time": "2019-06-17T01:22:31.251647Z"
    },
    "colab": {},
    "colab_type": "code",
    "id": "OAbriUsXLNP7",
    "scrolled": true
   },
   "outputs": [
    {
     "data": {
      "text/plain": [
       "\"USS Enterprise (NCC-1701-D) For five hundred years, every ship that ha borne the name of the Enterprise ha become a legend. This one is no different. The USS Enterprise (NCC-1701-D) wa a 24th century United Federation of Planets Galaxy Class starship operated by Starfleet, and the fifth Federation ship to bear the name Enterprise. During her career, the Enterprise served a the Federation flagship. The Enterprise wa destroyed during the Battle of Veridian III in 2371. History Construction and launch The Enterprise wa built at Utopia Planitia Fleet Yards orbiting Mars in the Solar system. The construction wa a massive undertaking, involving thousand of people across disciplines. Construction wa supervised by Commander Orfil Quinteros. Dr. Leah Brahms wa responsible for much of the Enterprise's warp propulsion system design. Some of the Enterprise's component were derived from technology originally developed on the USS Pegasus. One of the ship's nacelle tube wa the site of a multiple murder-suicide while she wa still under construction at Utopia Planitia. A member of the construction team, Walter Pierce, became jealous of a former lover's new relationship. He killed the two officers, Marla Finn and William Hodges, then disposed of their body in the plasma stream. Pierce committed suicide in the same manner, leaving a telepathic imprint in a bulkhead that wa not discovered until 2370. On stardate 40759.5, in the year 2363, the Enterprise wa launched from Mars. On stardate 41025.5, the Enterprise wa commissioned. These stardates weren't mentioned in dialog; they were from the Enterprise dedication plaque. Final system completion and shakedown wa conducted at Earth Station McKinley. Captain Jean-Luc Picard took command of the ship on stardate 41148 at the order of Rear Admiral Norah Satie. Legacy Commander Riker wa upset over the loss of the Enterprise. Having hoped he would one day command the ship, he wa disappointed that he never got that opportunity. However, Picard expressed doubt that the Enterprise-D would be the last vessel to carry the name. The Enterprise wa so dear to Worf that, shortly after being reassigned to Deep Space 9 in 2372, he briefly considered resigning from Starfleet. Station commander Captain Benjamin Sisko expressed regret on the loss of the Enterprise and offered his condolence over the destruction of the ship to Worf, saying the Enterprise wa a good ship. Captain Picard's belief that the Enterprise-D would not be the final ship to bear the name wa borne out with the christening of the Class Sovereign USS Enterprise NCC-1701-E, later the same year. In that instance, the legacy of the Enterprise continued with Picard reprising his role a CO and selecting most of the former crew from the Enterprise-D, with the notable exception of Worf due to his most recent assignment to DS9 (though he temporarily joined the Enterprise-E crew on several of their more notable missions).\""
      ]
     },
     "execution_count": 29,
     "metadata": {},
     "output_type": "execute_result"
    }
   ],
   "source": [
    "wl = nltk.stem.WordNetLemmatizer()\n",
    "lemma = ' '.join([wl.lemmatize(word) for word in text.split()])\n",
    "lemma"
   ]
  },
  {
   "cell_type": "code",
   "execution_count": 30,
   "metadata": {
    "ExecuteTime": {
     "end_time": "2019-06-17T01:22:40.296601Z",
     "start_time": "2019-06-17T01:22:40.251721Z"
    },
    "colab": {},
    "colab_type": "code",
    "id": "yVIqX7HBLNP9",
    "outputId": "26f47e5f-7927-4ceb-e7aa-148b1a0d6798"
   },
   "outputs": [
    {
     "name": "stdout",
     "output_type": "stream",
     "text": [
      "i | Stem           Lemma\n",
      "--| -------------- ------------\n",
      " 1| 'uss'          'USS'       \n",
      " 2| 'enterpris'    'Enterprise'\n",
      " 3| '(ncc-1701-d)'   '(NCC-1701-D)'\n",
      " 4| 'for'          'For'       \n",
      " 5| 'five'         'five'      \n",
      " 6| 'hundr'        'hundred'   \n",
      " 7| 'years,'       'years,'    \n",
      " 8| 'everi'        'every'     \n",
      " 9| 'ship'         'ship'      \n",
      "10| 'that'         'that'      \n",
      "11| 'ha'           'ha'        \n",
      "12| 'born'         'borne'     \n",
      "13| 'the'          'the'       \n",
      "14| 'name'         'name'      \n",
      "15| 'of'           'of'        \n",
      "16| 'the'          'the'       \n",
      "17| 'enterpris'    'Enterprise'\n",
      "18| 'ha'           'ha'        \n",
      "19| 'becom'        'become'    \n",
      "20| 'a'            'a'         \n",
      "21| 'legend.'      'legend.'   \n"
     ]
    }
   ],
   "source": [
    "dot = stemmed.find('.') + 1\n",
    "sl = stemmed[:dot].split()\n",
    "dot = lemma.find('.') + 1\n",
    "ll = lemma[:dot].split()\n",
    "\n",
    "print('i | Stem           Lemma')\n",
    "print('--| -------------- ------------')\n",
    "for i, p in enumerate(zip(sl, ll)):\n",
    "    print('%2d| %-12r   %-12r' % (i+1, p[0], p[1]))"
   ]
  },
  {
   "cell_type": "code",
   "execution_count": 31,
   "metadata": {
    "ExecuteTime": {
     "end_time": "2019-06-17T01:22:47.305414Z",
     "start_time": "2019-06-17T01:22:47.017187Z"
    },
    "colab": {},
    "colab_type": "code",
    "id": "eG4yOgwVLNP-",
    "outputId": "70476f16-7ac6-4c40-e39f-7a6547c11fec"
   },
   "outputs": [
    {
     "data": {
      "image/png": "[encoded data removed]",
      "text/plain": [
       "<Figure size 1152x432 with 1 Axes>"
      ]
     },
     "metadata": {
      "needs_background": "light"
     },
     "output_type": "display_data"
    }
   ],
   "source": [
    "plot_words(stemmed.split())"
   ]
  },
  {
   "cell_type": "code",
   "execution_count": 32,
   "metadata": {},
   "outputs": [
    {
     "data": {
      "image/png": "[encoded data removed]",
      "text/plain": [
       "<Figure size 1152x432 with 1 Axes>"
      ]
     },
     "metadata": {
      "needs_background": "light"
     },
     "output_type": "display_data"
    }
   ],
   "source": [
    "plot_words(lemma.split())"
   ]
  },
  {
   "cell_type": "markdown",
   "metadata": {},
   "source": [
    "### Entity recognition"
   ]
  },
  {
   "cell_type": "code",
   "execution_count": 33,
   "metadata": {
    "ExecuteTime": {
     "end_time": "2019-06-17T01:22:59.142869Z",
     "start_time": "2019-06-17T01:22:58.754906Z"
    },
    "colab": {},
    "colab_type": "code",
    "id": "sw6fYdgXLNQG",
    "outputId": "a83ea9db-825d-4031-8112-f022b71f565b",
    "scrolled": true
   },
   "outputs": [
    {
     "name": "stdout",
     "output_type": "stream",
     "text": [
      "ORGANIZATION: USS Enterprise\n",
      "ORGANIZATION: Enterprise\n",
      "ORGANIZATION: USS Enterprise\n",
      "PERSON      : United Federation\n",
      "ORGANIZATION: Planets Galaxy\n",
      "PERSON      : Starfleet\n",
      "ORGANIZATION: Enterprise\n",
      "ORGANIZATION: Federation\n",
      "ORGANIZATION: Battle\n",
      "GPE         : Veridian\n",
      "PERSON      : History Construction\n",
      "ORGANIZATION: Enterprise\n",
      "ORGANIZATION: Utopia Planitia Fleet\n",
      "PERSON      : Mars\n",
      "ORGANIZATION: Solar\n",
      "ORGANIZATION: Commander Orfil Quinteros\n",
      "PERSON      : Brahms\n",
      "ORGANIZATION: Enterprise\n",
      "ORGANIZATION: Enterprise\n",
      "ORGANIZATION: USS Pegasus\n",
      "ORGANIZATION: Utopia Planitia\n",
      "PERSON      : Walter Pierce\n",
      "PERSON      : Marla Finn\n",
      "PERSON      : William Hodges\n",
      "PERSON      : Pierce\n",
      "ORGANIZATION: Enterprise\n",
      "PERSON      : Mars\n",
      "ORGANIZATION: Enterprise\n",
      "ORGANIZATION: Enterprise\n",
      "FACILITY    : Earth Station McKinley\n",
      "PERSON      : Captain Jean-Luc Picard\n",
      "ORGANIZATION: Rear Admiral Norah Satie\n",
      "PERSON      : Legacy Commander Riker\n",
      "ORGANIZATION: Enterprise\n",
      "PERSON      : Picard\n",
      "PERSON      : Deep Space\n",
      "GPE         : Starfleet\n",
      "PERSON      : Captain Benjamin Sisko\n",
      "ORGANIZATION: Enterprise\n",
      "GPE         : Worf\n",
      "ORGANIZATION: Enterprise\n",
      "PERSON      : Captain Picard\n",
      "ORGANIZATION: Class Sovereign\n",
      "ORGANIZATION: Enterprise\n",
      "PERSON      : Picard\n",
      "ORGANIZATION: CO\n",
      "GPE         : Worf\n",
      "ORGANIZATION: DS9\n"
     ]
    }
   ],
   "source": [
    "entities = nltk.chunk.ne_chunk(tagged)\n",
    "\n",
    "for e in entities:\n",
    "    s = re.sub(r'[\\(\\)]', '', str(e))\n",
    "    if s.find('/NNP') > 0:\n",
    "        t = s.split()[0]\n",
    "        n = ' '.join([re.sub(r'/NNP', '', x) for x in s.split()[1:]])\n",
    "        print('%-12s: %s' % (t, n))"
   ]
  },
  {
   "cell_type": "markdown",
   "metadata": {
    "colab_type": "text",
    "id": "RERADKgNFq9T"
   },
   "source": [
    "\n",
    "\n",
    "---\n",
    "\n",
    "\n",
    "\n",
    "---\n",
    "\n",
    "\n",
    "\n",
    "> > > > > > > > > © 2021 Institute of Data\n",
    "\n",
    "\n",
    "---\n",
    "\n",
    "\n",
    "\n",
    "---\n",
    "\n",
    "\n",
    "\n"
   ]
  }
 ],
 "metadata": {
  "colab": {
   "collapsed_sections": [],
   "name": "IOD_Lab-9_5.ipynb",
   "provenance": []
  },
  "kernelspec": {
   "display_name": "Python 3",
   "language": "python",
   "name": "python3"
  },
  "language_info": {
   "codemirror_mode": {
    "name": "ipython",
    "version": 3
   },
   "file_extension": ".py",
   "mimetype": "text/x-python",
   "name": "python",
   "nbconvert_exporter": "python",
   "pygments_lexer": "ipython3",
   "version": "3.8.5"
  },
  "varInspector": {
   "cols": {
    "lenName": 16,
    "lenType": 16,
    "lenVar": 40
   },
   "kernels_config": {
    "python": {
     "delete_cmd_postfix": "",
     "delete_cmd_prefix": "del ",
     "library": "var_list.py",
     "varRefreshCmd": "print(var_dic_list())"
    },
    "r": {
     "delete_cmd_postfix": ") ",
     "delete_cmd_prefix": "rm(",
     "library": "var_list.r",
     "varRefreshCmd": "cat(var_dic_list()) "
    }
   },
   "types_to_exclude": [
    "module",
    "function",
    "builtin_function_or_method",
    "instance",
    "_Feature"
   ],
   "window_display": false
  }
 },
 "nbformat": 4,
 "nbformat_minor": 1
}
