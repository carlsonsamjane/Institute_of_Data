{
 "cells": [
  {
   "cell_type": "markdown",
   "metadata": {
    "colab_type": "text",
    "id": "Nji1a9ULLtCA"
   },
   "source": [
    "<div>\n",
    "<img src=https://www.institutedata.com/wp-content/uploads/2019/10/iod_h_tp_primary_c.svg width=\"300\">\n",
    "</div>"
   ]
  },
  {
   "cell_type": "markdown",
   "metadata": {
    "colab_type": "text",
    "id": "fnsX1AWKLtCE"
   },
   "source": [
    "# Lab 9.7: Text Classification\n",
    "INSTRUCTIONS:\n",
    "- Run the cells\n",
    "- Observe and understand the results\n",
    "- Answer the questions"
   ]
  },
  {
   "cell_type": "markdown",
   "metadata": {
    "colab_type": "text",
    "id": "6pm8PttyLtCI"
   },
   "source": [
    "## Import libraries"
   ]
  },
  {
   "cell_type": "code",
   "execution_count": 1,
   "metadata": {
    "ExecuteTime": {
     "end_time": "2019-06-17T01:38:33.182995Z",
     "start_time": "2019-06-17T01:38:30.045388Z"
    },
    "colab": {},
    "colab_type": "code",
    "id": "EUANiH6zLtCK"
   },
   "outputs": [],
   "source": [
    "## Import Libraries\n",
    "import numpy as np\n",
    "import pandas as pd\n",
    "\n",
    "import string\n",
    "import spacy\n",
    "\n",
    "from collections import Counter\n",
    "\n",
    "from sklearn.decomposition import LatentDirichletAllocation\n",
    "from sklearn.ensemble import GradientBoostingClassifier\n",
    "from sklearn.ensemble import RandomForestClassifier\n",
    "from sklearn.feature_extraction.text import CountVectorizer\n",
    "from sklearn.feature_extraction.text import TfidfVectorizer\n",
    "from sklearn.linear_model import LogisticRegression\n",
    "from sklearn.metrics import accuracy_score\n",
    "from sklearn.model_selection import train_test_split\n",
    "from sklearn.naive_bayes import MultinomialNB\n",
    "from sklearn.svm import LinearSVC\n",
    "\n",
    "# import warnings\n",
    "# warnings.filterwarnings('ignore')"
   ]
  },
  {
   "cell_type": "markdown",
   "metadata": {
    "colab_type": "text",
    "id": "58bUNQA0LtCV"
   },
   "source": [
    "## Load data"
   ]
  },
  {
   "cell_type": "markdown",
   "metadata": {
    "colab_type": "text",
    "id": "UqU7d_qcLtCX"
   },
   "source": [
    "Sample:\n",
    "\n",
    "    __label__2 Stuning even for the non-gamer: This sound ...\n",
    "    __label__2 The best soundtrack ever to anything.: I'm ...\n",
    "    __label__2 Amazing!: This soundtrack is my favorite m ...\n",
    "    __label__2 Excellent Soundtrack: I truly like this so ...\n",
    "    __label__2 Remember, Pull Your Jaw Off The Floor Afte ...\n",
    "    __label__2 an absolute masterpiece: I am quite sure a ...\n",
    "    __label__1 Buyer beware: This is a self-published boo ...\n",
    "    . . .\n",
    "    \n",
    "There are only two **labels**:\n",
    "- `__label__1`\n",
    "- `__label__2`"
   ]
  },
  {
   "cell_type": "code",
   "execution_count": 3,
   "metadata": {
    "ExecuteTime": {
     "end_time": "2019-06-17T01:38:42.024845Z",
     "start_time": "2019-06-17T01:38:41.896098Z"
    },
    "colab": {},
    "colab_type": "code",
    "id": "rwWFJprZLtCZ"
   },
   "outputs": [],
   "source": [
    "## Loading the data\n",
    "\n",
    "trainDF = pd.read_fwf(\n",
    "    filepath_or_buffer = 'C:/Users/carls/OneDrive/Desktop/IOD/Data/corpus.txt',\n",
    "    colspecs = [(9, 10),   # label: get only the numbers 1 or 2\n",
    "                (11, 9000) # text: makes the it big enought to get to the end of the line\n",
    "               ], \n",
    "    header = 0,\n",
    "    names = ['label', 'text'],\n",
    "    lineterminator = '\\n'\n",
    ")\n",
    "\n",
    "# convert label from [1, 2] to [0, 1]\n",
    "trainDF['label'] = trainDF['label'] - 1"
   ]
  },
  {
   "cell_type": "markdown",
   "metadata": {
    "colab_type": "text",
    "id": "mILVIHomLtCf"
   },
   "source": [
    "## Inspect the data"
   ]
  },
  {
   "cell_type": "code",
   "execution_count": 4,
   "metadata": {
    "ExecuteTime": {
     "end_time": "2019-06-17T01:39:24.213192Z",
     "start_time": "2019-06-17T01:39:24.209202Z"
    },
    "colab": {},
    "colab_type": "code",
    "id": "G9_8RbOeLtCh",
    "scrolled": true
   },
   "outputs": [
    {
     "data": {
      "text/html": [
       "<div>\n",
       "<style scoped>\n",
       "    .dataframe tbody tr th:only-of-type {\n",
       "        vertical-align: middle;\n",
       "    }\n",
       "\n",
       "    .dataframe tbody tr th {\n",
       "        vertical-align: top;\n",
       "    }\n",
       "\n",
       "    .dataframe thead th {\n",
       "        text-align: right;\n",
       "    }\n",
       "</style>\n",
       "<table border=\"1\" class=\"dataframe\">\n",
       "  <thead>\n",
       "    <tr style=\"text-align: right;\">\n",
       "      <th></th>\n",
       "      <th>label</th>\n",
       "      <th>text</th>\n",
       "    </tr>\n",
       "  </thead>\n",
       "  <tbody>\n",
       "    <tr>\n",
       "      <th>0</th>\n",
       "      <td>1</td>\n",
       "      <td>The best soundtrack ever to anything.: I'm rea...</td>\n",
       "    </tr>\n",
       "    <tr>\n",
       "      <th>1</th>\n",
       "      <td>1</td>\n",
       "      <td>Amazing!: This soundtrack is my favorite music...</td>\n",
       "    </tr>\n",
       "    <tr>\n",
       "      <th>2</th>\n",
       "      <td>1</td>\n",
       "      <td>Excellent Soundtrack: I truly like this soundt...</td>\n",
       "    </tr>\n",
       "    <tr>\n",
       "      <th>3</th>\n",
       "      <td>1</td>\n",
       "      <td>Remember, Pull Your Jaw Off The Floor After He...</td>\n",
       "    </tr>\n",
       "    <tr>\n",
       "      <th>4</th>\n",
       "      <td>1</td>\n",
       "      <td>an absolute masterpiece: I am quite sure any o...</td>\n",
       "    </tr>\n",
       "  </tbody>\n",
       "</table>\n",
       "</div>"
      ],
      "text/plain": [
       "   label                                               text\n",
       "0      1  The best soundtrack ever to anything.: I'm rea...\n",
       "1      1  Amazing!: This soundtrack is my favorite music...\n",
       "2      1  Excellent Soundtrack: I truly like this soundt...\n",
       "3      1  Remember, Pull Your Jaw Off The Floor After He...\n",
       "4      1  an absolute masterpiece: I am quite sure any o..."
      ]
     },
     "execution_count": 4,
     "metadata": {},
     "output_type": "execute_result"
    }
   ],
   "source": [
    "trainDF.head()"
   ]
  },
  {
   "cell_type": "code",
   "execution_count": 5,
   "metadata": {},
   "outputs": [
    {
     "data": {
      "text/plain": [
       "(9999, 2)"
      ]
     },
     "execution_count": 5,
     "metadata": {},
     "output_type": "execute_result"
    }
   ],
   "source": [
    "trainDF.shape"
   ]
  },
  {
   "cell_type": "code",
   "execution_count": 6,
   "metadata": {},
   "outputs": [
    {
     "name": "stdout",
     "output_type": "stream",
     "text": [
      "<class 'pandas.core.frame.DataFrame'>\n",
      "RangeIndex: 9999 entries, 0 to 9998\n",
      "Data columns (total 2 columns):\n",
      " #   Column  Non-Null Count  Dtype \n",
      "---  ------  --------------  ----- \n",
      " 0   label   9999 non-null   int64 \n",
      " 1   text    9999 non-null   object\n",
      "dtypes: int64(1), object(1)\n",
      "memory usage: 156.4+ KB\n"
     ]
    }
   ],
   "source": [
    "trainDF.info()"
   ]
  },
  {
   "cell_type": "markdown",
   "metadata": {
    "colab_type": "text",
    "id": "6YmYgG2pLtCu"
   },
   "source": [
    "## Split the data into train and test"
   ]
  },
  {
   "cell_type": "code",
   "execution_count": 10,
   "metadata": {
    "ExecuteTime": {
     "end_time": "2019-06-17T01:39:40.103737Z",
     "start_time": "2019-06-17T01:39:40.100739Z"
    },
    "colab": {},
    "colab_type": "code",
    "id": "j5vErjWFLtCy"
   },
   "outputs": [],
   "source": [
    "## ANSWER\n",
    "## split the dataset\n",
    "X = trainDF['text']\n",
    "y = trainDF['label']\n",
    "X_train, X_test, y_train, y_test = train_test_split(X, y, test_size = 0.2, random_state = 50)"
   ]
  },
  {
   "cell_type": "markdown",
   "metadata": {
    "colab_type": "text",
    "id": "6nUp6oDOLtC1"
   },
   "source": [
    "## Feature Engineering"
   ]
  },
  {
   "cell_type": "markdown",
   "metadata": {
    "colab_type": "text",
    "id": "fKd9yTnyLtC2"
   },
   "source": [
    "### Count Vectors as features"
   ]
  },
  {
   "cell_type": "code",
   "execution_count": 11,
   "metadata": {
    "ExecuteTime": {
     "end_time": "2019-06-17T01:40:32.674674Z",
     "start_time": "2019-06-17T01:40:31.098889Z"
    },
    "colab": {},
    "colab_type": "code",
    "id": "DU2RqqDjLtC3"
   },
   "outputs": [],
   "source": [
    "# create a count vectorizer object\n",
    "count_vect = CountVectorizer(token_pattern = r'\\w{1,}')\n",
    "\n",
    "# Learn a vocabulary dictionary of all tokens in the raw documents\n",
    "count_vect.fit(trainDF['text'])\n",
    "\n",
    "# Transform documents to document-term matrix.\n",
    "X_train_count = count_vect.transform(X_train)\n",
    "X_test_count = count_vect.transform(X_test)"
   ]
  },
  {
   "cell_type": "markdown",
   "metadata": {
    "colab_type": "text",
    "id": "dJs6al0ILtC5"
   },
   "source": [
    "### TF-IDF Vectors as features\n",
    "- Word level\n",
    "- N-Gram level\n",
    "- Character level"
   ]
  },
  {
   "cell_type": "code",
   "execution_count": 12,
   "metadata": {
    "ExecuteTime": {
     "end_time": "2019-06-17T01:40:36.088730Z",
     "start_time": "2019-06-17T01:40:34.519925Z"
    },
    "colab": {},
    "colab_type": "code",
    "id": "myjfdfP_LtC6",
    "outputId": "8bc4d529-1f66-4836-acd1-07633c29fd02"
   },
   "outputs": [
    {
     "name": "stdout",
     "output_type": "stream",
     "text": [
      "TfidfVectorizer(max_features=5000, token_pattern='\\\\w{1,}')\n",
      "Wall time: 1.82 s\n"
     ]
    }
   ],
   "source": [
    "%%time\n",
    "# word level tf-idf\n",
    "tfidf_vect = TfidfVectorizer(analyzer = 'word',\n",
    "                             token_pattern = r'\\w{1,}',\n",
    "                             max_features = 5000)\n",
    "print(tfidf_vect)\n",
    "\n",
    "tfidf_vect.fit(trainDF['text'])\n",
    "X_train_tfidf = tfidf_vect.transform(X_train)\n",
    "X_test_tfidf  = tfidf_vect.transform(X_test)"
   ]
  },
  {
   "cell_type": "code",
   "execution_count": 15,
   "metadata": {},
   "outputs": [
    {
     "name": "stdout",
     "output_type": "stream",
     "text": [
      "['0', '00', '000', '1', '10', '100', '101', '11', '12', '120', '13', '14', '15', '16', '17', '18', '19', '1950', '1963', '1970', '1980', '1984', '1985', '1998', '1999', '19th', '1st', '2', '20', '200', '2000', '2001', '2002', '2003', '2004', '2005', '2006', '2008', '2010', '2011', '20th', '21', '22', '23', '24', '25', '26', '28', '29', '2nd', '3', '30', '300', '32', '35', '36', '3d', '3rd', '4', '40', '400', '45', '451', '4th', '5', '50', '500', '5th', '6', '60', '60s', '64', '65', '6th', '7', '70', '75', '8', '80', '800', '80s', '8th', '9', '90', '95', '98', '99', '9th', 'a', 'abilities', 'ability', 'able', 'about', 'above', 'absolute', 'absolutely', 'absolutly', 'absorbed', 'absurd', 'abuse', 'ac', 'academic', 'academy', 'accent', 'accents', 'accept', 'acceptable', 'access', 'accessible', 'accessories', 'accident', 'accidentally', 'acclaimed', 'according', 'account', 'accounts', 'accuracy', 'accurate', 'achieve', 'acid', 'acoustic', 'across', 'act', 'acted', 'acting', 'action', 'actions', 'active', 'activity', 'actor', 'actors', 'actress', 'actresses', 'acts', 'actual', 'actually', 'ad', 'adam', 'adaptation', 'adapter', 'adapters', 'adaptor', 'add', 'added', 'addicted', 'addiction', 'adding', 'addition', 'additional', 'address', 'adds', 'adequate', 'adjust', 'admire', 'admit', 'adopted', 'adorable', 'adore', 'ads', 'adult', 'adults', 'advance', 'advanced', 'advantage', 'adventure', 'adventures', 'advertised', 'advertising', 'advice', 'advise', 'aerial', 'affair', 'afford', 'affordable', 'afraid', 'africa', 'african', 'after', 'afternoon', 'afterwards', 'again', 'against', 'age', 'aged', 'ages', 'ago', 'agree', 'agreed', 'ahab', 'ahead', 'ain', 'air', 'airbed', 'aircraft', 'aired', 'al', 'alarm', 'alas', 'albeit', 'album', 'albums', 'alert', 'alien', 'aliens', 'alike', 'alive', 'all', 'allow', 'allowed', 'allows', 'almost', 'alone', 'along', 'alot', 'already', 'alright', 'also', 'alternate', 'alternative', 'although', 'altitude', 'altogether', 'always', 'am', 'amateur', 'amazed', 'amazing', 'amazingly', 'amazon', 'ambient', 'america', 'american', 'americans', 'amish', 'among', 'amount', 'amounts', 'amp', 'amusing', 'amy', 'an', 'analysis', 'anchor', 'ancient', 'and', 'anderson', 'anecdotes', 'angel', 'angle', 'angles', 'angry', 'animal', 'animals', 'animated', 'animation', 'anime', 'ankle', 'ann', 'anne', 'annoyed', 'annoying', 'another', 'answer', 'answers', 'antenna', 'anthony', 'anti', 'any', 'anybody', 'anymore', 'anyone', 'anything', 'anyway', 'anyways', 'anywhere', 'ap', 'apache', 'apart', 'apparent', 'apparently', 'appeal', 'appealing', 'appear', 'appearance', 'appeared', 'appears', 'apple', 'application', 'applications', 'apply', 'appreciate', 'appreciated', 'appreciation', 'approach', 'appropriate', 'april', 'are', 'area', 'areas', 'aren', 'argento', 'argument', 'arguments', 'ark', 'arm', 'arms', 'army', 'around', 'arrangements', 'arrival', 'arrive', 'arrived', 'art', 'arthur', 'article', 'articles', 'artist', 'artistic', 'artists', 'arts', 'artwork', 'as', 'ash', 'ashamed', 'asia', 'asian', 'aside', 'asimov', 'ask', 'asked', 'asking', 'asks', 'asleep', 'aspect', 'aspects', 'assemble', 'assembly', 'assigned', 'assignment', 'assume', 'assumed', 'assuming', 'asvab', 'at', 'atea', 'ati', 'atmosphere', 'atrocious', 'attach', 'attached', 'attack', 'attacks', 'attempt', 'attempted', 'attempting', 'attempts', 'attend', 'attention', 'attic', 'attitude', 'attractive', 'audience', 'audio', 'auel', 'august', 'australia', 'australian', 'authentic', 'author', 'authority', 'authors', 'available', 'average', 'avid', 'avoid', 'awake', 'award', 'awards', 'aware', 'away', 'awesome', 'awful', 'awhile', 'awkward', 'awsome', 'ayla', 'b', 'babe', 'babies', 'baby', 'back', 'background', 'backpack', 'backup', 'bad', 'badly', 'bag', 'bags', 'balance', 'balanced', 'ball', 'ballads', 'ballet', 'ballroom', 'band', 'bands', 'bang', 'bar', 'barbie', 'barbra', 'bare', 'barely', 'bargain', 'bars', 'base', 'baseball', 'based', 'basement', 'basic', 'basically', 'basics', 'basis', 'baskervilles', 'bass', 'bat', 'batcave', 'batman', 'batteries', 'battery', 'battle', 'battles', 'bay', 'bd', 'be', 'beach', 'beads', 'bear', 'bears', 'beat', 'beating', 'beatles', 'beats', 'beautiful', 'beautifully', 'beauty', 'bebel', 'became', 'because', 'become', 'becomes', 'becoming', 'bed', 'bedroom', 'beds', 'been', 'before', 'beg', 'began', 'begin', 'begining', 'beginner', 'beginners', 'beginning', 'begins', 'behavior', 'behind', 'being', 'belief', 'believable', 'believe', 'believed', 'belive', 'belly', 'bellydance', 'belong', 'belongs', 'below', 'belt', 'ben', 'bench', 'benefit', 'bent', 'bernstein', 'besides', 'best', 'bet', 'better', 'between', 'beware', 'beyond', 'biased', 'bible', 'big', 'bigger', 'biggest', 'bike', 'bikes', 'bill', 'billy', 'bin', 'binding', 'biography', 'bird', 'birds', 'birth', 'birthday', 'birthing', 'bit', 'bits', 'bizarre', 'black', 'blade', 'blah', 'blame', 'bland', 'blank', 'blanket', 'blend', 'blew', 'blind', 'block', 'blockbuster', 'blocks', 'blood', 'bloody', 'blow', 'blowing', 'blown', 'blows', 'blu', 'blue', 'bluegrass', 'blues', 'bluetooth', 'bluray', 'board', 'boat', 'bob', 'body', 'bold', 'bolts', 'bomb', 'bone', 'bones', 'boning', 'bonus', 'book', 'booklet', 'books', 'bookshelf', 'bookstore', 'boot', 'bootleg', 'boots', 'border', 'bore', 'bored', 'boredom', 'boring', 'born', 'borrow', 'borrowed', 'both', 'bother', 'bothered', 'bottle', 'bottles', 'bottom', 'bought', 'bound', 'bow', 'bowie', 'bowl', 'bowls', 'box', 'boxed', 'boy', 'boyfriend', 'boys', 'bra', 'bradbury', 'bradley', 'brain', 'brains', 'brand', 'brando', 'brands', 'brave', 'bread', 'break', 'breaking', 'breaks', 'breath', 'breathing', 'breathtaking', 'breed', 'breeze', 'brendan', 'brian', 'brick', 'brief', 'bright', 'brilliant', 'bring', 'bringing', 'brings', 'british', 'broad', 'broadway', 'broke', 'broken', 'brother', 'brothers', 'brought', 'brown', 'bruce', 'brutal', 'btw', 'bubble', 'buck', 'bucks', 'buddhism', 'buddhist', 'buddy', 'budget', 'buendia', 'bug', 'bugliosi', 'bugs', 'build', 'building', 'builds', 'built', 'bulbs', 'bums', 'bunch', 'burmese', 'burn', 'burned', 'burning', 'burns', 'bush', 'business', 'busy', 'but', 'butt', 'butter', 'button', 'buttons', 'buy', 'buyer', 'buyers', 'buying', 'by', 'c', 'ca', 'cable', 'cage', 'cake', 'california', 'call', 'called', 'calling', 'calls', 'camcorder', 'came', 'camera', 'cameras', 'camp', 'campbell', 'camping', 'can', 'canada', 'candy', 'cannon', 'cannot', 'canon', 'cant', 'canterbury', 'cap', 'capable', 'capacity', 'cape', 'captain', 'captivating', 'capture', 'captured', 'captures', 'car', 'card', 'cardboard', 'cards', 'care', 'cared', 'career', 'careful', 'carefully', 'cares', 'caring', 'carried', 'carry', 'carrying', 'cars', 'carter', 'cartoon', 'cartoons', 'cartridge', 'case', 'cases', 'cash', 'cassette', 'cast', 'casting', 'castle', 'casual', 'cat', 'catch', 'catchy', 'category', 'catherine', 'catholic', 'cats', 'caught', 'cause', 'caused', 'causes', 'causing', 'caution', 'cave', 'caves', 'cd', 'cds', 'cedar', 'cell', 'celtic', 'cena', 'censorship', 'center', 'central', 'cents', 'century', 'certain', 'certainly', 'cf', 'cgi', 'chain', 'chair', 'challenge', 'challenged', 'challenging', 'chance', 'chandler', 'change', 'changed', 'changes', 'changing', 'channel', 'chaos', 'chapter', 'chapters', 'character', 'characterization', 'characters', 'charge', 'charged', 'charger', 'chargers', 'charges', 'charging', 'charles', 'charlie', 'charm', 'charming', 'chart', 'charts', 'chase', 'chasing', 'chaucer', 'cheap', 'cheaper', 'cheaply', 'cheated', 'cheating', 'check', 'checked', 'checking', 'cheese', 'cheesy', 'chemical', 'chemistry', 'chest', 'chewed', 'chicago', 'chick', 'chicken', 'chicks', 'child', 'childbirth', 'childhood', 'children', 'chilling', 'chills', 'china', 'chinese', 'chip', 'chips', 'chocolate', 'choice', 'choices', 'choose', 'choppy', 'chore', 'chose', 'chris', 'christ', 'christian', 'christine', 'christmas', 'church', 'cincher', 'cinema', 'cinematography', 'circle', 'circuit', 'circumstances', 'cities', 'city', 'civil', 'claim', 'claimed', 'claims', 'clan', 'clarity', 'clark', 'class', 'classes', 'classic', 'classical', 'classics', 'clavell', 'clean', 'cleaning', 'clear', 'clearly', 'clever', 'cliche', 'cliched', 'cliches', 'click', 'cliff', 'climax', 'climb', 'climbing', 'clip', 'clips', 'close', 'closed', 'closely', 'closer', 'closest', 'closing', 'cloth', 'clothes', 'clothing', 'club', 'clue', 'co', 'coast', 'coaster', 'code', 'coffee', 'cold', 'collar', 'collect', 'collecting', 'collection', 'collections', 'collector', 'collectors', 'college', 'color', 'colorful', 'colors', 'com', 'combat', 'combination', 'combine', 'combined', 'combo', 'come', 'comedy', 'comes', 'comfort', 'comfortable', 'comfortably', 'comfy', 'comic', 'coming', 'command', 'comment', 'commentary', 'comments', 'commercial', 'common', 'communication', 'communism', 'community', 'compact', 'companies', 'companion', 'company', 'compare', 'compared', 'comparison', 'compartment', 'compatibility', 'compatible', 'compelled', 'compelling', 'compilation', 'complain', 'complaining', 'complaint', 'complaints', 'complete', 'completely', 'complex', 'complicated', 'composed', 'comprehensive', 'compression', 'computer', 'computers', 'con', 'concept', 'concepts', 'concerned', 'concerning', 'concert', 'concise', 'conclusion', 'conclusions', 'condition', 'conditions', 'confidence', 'conflict', 'confused', 'confusing', 'confusion', 'connect', 'connected', 'connecting', 'connection', 'connector', 'cons', 'consider', 'considered', 'considering', 'consistent', 'consistently', 'constant', 'constantly', 'constructed', 'construction', 'consumer', 'consumers', 'contact', 'contacted', 'contain', 'contained', 'contains', 'contemporary', 'content', 'contents', 'context', 'continue', 'continued', 'continues', 'continuing', 'continuously', 'continuum', 'contrary', 'contrast', 'contribution', 'contrived', 'control', 'controlled', 'controls', 'controversial', 'convenient', 'conversation', 'conversations', 'convince', 'convinced', 'convincing', 'cook', 'cookbook', 'cooker', 'cooking', 'cool', 'cop', 'copies', 'copy', 'cord', 'core', 'corner', 'corners', 'cornwell', 'corny', 'corporate', 'correct', 'correctly', 'cost', 'costs', 'costume', 'costumes', 'cotton', 'couch', 'could', 'couldn', 'count', 'counter', 'countries', 'country', 'couple', 'couples', 'courage', 'course', 'court', 'cousin', 'cover', 'coverage', 'covered', 'covering', 'covers', 'coyote', 'crack', 'crafted', 'crap', 'crappy', 'crash', 'crashes', 'crawford', 'crazy', 'create', 'created', 'creates', 'creating', 'creation', 'creative', 'creativity', 'creatures', 'credit', 'credits', 'creepy', 'crew', 'crime', 'crimes', 'criminal', 'crisp', 'critic', 'critical', 'criticism', 'criticize', 'critics', 'crocodile', 'cross', 'crowd', 'crucial', 'crude', 'cruel', 'cry', 'crying', 'crystal', 'cult', 'cultural', 'culture', 'cup', 'cups', 'curious', 'current', 'currently', 'curse', 'curtain', 'curve', 'custom', 'customer', 'customers', 'cut', 'cute', 'cuts', 'cutting', 'cuz', 'cycle', 'd', 'da', 'dad', 'daily', 'dale', 'dali', 'damage', 'damaged', 'damme', 'damn', 'dance', 'dancing', 'danger', 'dangerous', 'dangers', 'daniel', 'dare', 'dark', 'darker', 'darkness', 'darn', 'data', 'date', 'dated', 'dates', 'dating', 'daughter', 'daughters', 'david', 'dawn', 'day', 'days', 'dc', 'de', 'dead', 'deaf', 'deal', 'dealing', 'deals', 'dealt', 'dean', 'dear', 'death', 'deaths', 'debut', 'decade', 'decades', 'december', 'decent', 'decide', 'decided', 'decides', 'decision', 'decisions', 'dedicated', 'deep', 'deeper', 'deeply', 'defective', 'definately', 'definite', 'definitely', 'definition', 'definitions', 'definitive', 'definitly', 'deflate', 'deflated', 'degree', 'degrees', 'del', 'deleted', 'delicious', 'delight', 'delightful', 'deliver', 'delivered', 'delivers', 'delivery', 'dell', 'demo', 'dense', 'dentist', 'department', 'depending', 'depends', 'depicted', 'depiction', 'depicts', 'depressed', 'depressing', 'depression', 'depth', 'des', 'descent', 'describe', 'described', 'describes', 'describing', 'description', 'descriptions', 'descriptive', 'desert', 'deserve', 'deserved', 'deserves', 'design', 'designed', 'designs', 'desire', 'desired', 'desk', 'desktop', 'desperate', 'despite', 'destroy', 'destroyed', 'destruction', 'detail', 'detailed', 'details', 'detective', 'determine', 'detract', 'develop', 'developed', 'developing', 'development', 'develops', 'device', 'devices', 'devoid', 'devoted', 'dharma', 'diabetes', 'dialog', 'dialogue', 'diamond', 'diane', 'diary', 'dick', 'dickens', 'dictionary', 'did', 'didn', 'didnt', 'die', 'died', 'dies', 'diet', 'difference', 'differences', 'different', 'difficult', 'difficulty', 'dig', 'digital', 'dillon', 'dimensional', 'dinner', 'dire', 'direct', 'directed', 'directing', 'direction', 'directions', 'directly', 'director', 'dirty', 'disagree', 'disapointed', 'disappoint', 'disappointed', 'disappointing', 'disappointment', 'disaster', 'disc', 'discount', 'discover', 'discovered', 'discovering', 'discovers', 'discovery', 'discs', 'discuss', 'discussed', 'discussion', 'discworld', 'disease', 'disgrace', 'disgusting', 'dish', 'dishes', 'disjointed', 'disk', 'dislike', 'disney', 'display', 'displayed', 'disposable', 'disrespect', 'dissapointed', 'dissapointing', 'distant', 'distinct', 'distracting', 'disturbed', 'disturbing', 'diverse', 'divorce', 'do', 'doctor', 'document', 'documentary', 'documentation', 'does', 'doesn', 'doesnt', 'dog', 'dogs', 'doing', 'dolby', 'doll', 'dollar', 'dollars', 'dolly', 'dome', 'don', 'donati', 'done', 'dont', 'door', 'double', 'doubt', 'doug', 'douglas', 'down', 'download', 'downloaded', 'downloading', 'downright', 'downside', 'doyle', 'dozen', 'dr', 'dracula', 'drag', 'dragged', 'dragon', 'drags', 'drain', 'drama', 'dramatic', 'draw', 'drawback', 'drawing', 'drawings', 'drawn', 'draws', 'dreadful', 'dream', 'dreams', 'dress', 'drill', 'drink', 'drinking', 'drive', 'drivel', 'driven', 'driver', 'drivers', 'drives', 'driving', 'drop', 'dropped', 'dropping', 'drops', 'drug', 'drugs', 'drum', 'drummer', 'drums', 'drunk', 'dry', 'dts', 'dual', 'dubbed', 'dubbing', 'dud', 'dude', 'due', 'duh', 'duke', 'dull', 'dumb', 'dummies', 'dummy', 'durability', 'durable', 'during', 'dust', 'duty', 'dvd', 'dvds', 'dying', 'dystopian', 'e', 'each', 'eager', 'ear', 'eargels', 'earlier', 'early', 'earned', 'ears', 'earth', 'ease', 'easier', 'easily', 'east', 'eastern', 'easy', 'eat', 'eating', 'ebay', 'eby', 'economic', 'economics', 'economy', 'ed', 'eddie', 'edge', 'edges', 'edit', 'edited', 'editing', 'edition', 'editions', 'editor', 'education', 'educational', 'eerie', 'effect', 'effective', 'effectively', 'effects', 'effort', 'efforts', 'ego', 'eidos', 'eight', 'either', 'el', 'electric', 'electrical', 'electronic', 'electronica', 'electronics', 'element', 'elementary', 'elements', 'elevator', 'elizabeth', 'elmo', 'else', 'elsewhere', 'elvis', 'em', 'email', 'emailed', 'emails', 'emarker', 'emarks', 'embarrassed', 'emma', 'emotion', 'emotional', 'emotionally', 'emotions', 'emphasis', 'empire', 'empty', 'en', 'encounter', 'encountered', 'encounters', 'encourage', 'end', 'endearing', 'ended', 'ending', 'endless', 'ends', 'enemies', 'enemy', 'energy', 'engaging', 'england', 'english', 'engrossing', 'enjoy', 'enjoyable', 'enjoyed', 'enjoying', 'enjoyment', 'enjoys', 'enlightening', 'enough', 'enter', 'entertained', 'entertaining', 'entertainment', 'enthralling', 'entire', 'entirely', 'entry', 'environment', 'epic', 'episode', 'episodes', 'epson', 'equal', 'equally', 'equipment', 'equivalent', 'era', 'eric', 'erotic', 'erotica', 'error', 'errors', 'es', 'escape', 'especially', 'esque', 'essay', 'essays', 'essence', 'essential', 'essentially', 'est', 'estate', 'este', 'et', 'etc', 'europe', 'european', 'eve', 'even', 'evening', 'event', 'events', 'eventually', 'ever', 'everest', 'every', 'everybody', 'everyday', 'everyone', 'everything', 'everytime', 'everywhere', 'evidence', 'evident', 'evil', 'evita', 'ex', 'exact', 'exactly', 'exam', 'example', 'examples', 'excelent', 'excellent', 'except', 'exception', 'exceptional', 'exceptionally', 'exchange', 'excited', 'excitement', 'exciting', 'excuse', 'executed', 'execution', 'exercise', 'exercises', 'exist', 'existence', 'existing', 'exists', 'exit', 'exotic', 'expect', 'expectations', 'expected', 'expecting', 'expensive', 'experience', 'experienced', 'experiences', 'experimental', 'expert', 'experts', 'expired', 'explain', 'explained', 'explaining', 'explains', 'explanation', 'explanations', 'exploration', 'explore', 'explored', 'explores', 'explosions', 'exposed', 'exposure', 'express', 'expressed', 'expression', 'extended', 'extension', 'extensive', 'extra', 'extraordinary', 'extras', 'extreme', 'extremely', 'exuviance', 'eye', 'eyes', 'f', 'fabric', 'fabulous', 'face', 'fact', 'factor', 'factory', 'facts', 'factual', 'faded', 'fahrenheit', 'fail', 'failed', 'fails', 'failure', 'fair', 'fairly', 'fairy', 'faith', 'fake', 'fall', 'fallen', 'falling', 'falls', 'false', 'fame', 'familiar', 'families', 'family', 'famous', 'fan', 'fanatic', 'fancy', 'fans', 'fantasies', 'fantastic', 'fantasy', 'far', 'farenheit', 'farm', 'fascinating', 'fashion', 'fashioned', 'fast', 'faster', 'fat', 'fate', 'father', 'fats', 'fault', 'faulty', 'favor', 'favorite', 'favorites', 'favourite', 'fear', 'feature', 'features', 'featuring', 'february', 'fed', 'feed', 'feedback', 'feeding', 'feehan', 'feel', 'feeling', 'feelings', 'feels', 'feet', 'fell', 'fellow', 'fellowship', 'felt', 'female', 'femalien', 'feminist', 'fence', 'fest', 'fetched', 'few', 'fewer', 'fi', 'fiction', 'fictional', 'field', 'fight', 'fighter', 'fighting', 'fights', 'figure', 'figured', 'figures', 'file', 'files', 'fill', 'filled', 'film', 'filmed', 'filmmakers', 'films', 'filter', 'final', 'finale', 'finally', 'financial', 'find', 'finding', 'finds', 'fine', 'finest', 'finger', 'fingers', 'finish', 'finished', 'finishing', 'finnegans', 'fire', 'fireman', 'firemen', 'fireplace', 'fires', 'firewire', 'firm', 'firmware', 'first', 'fish', 'fisher', 'fishing', 'fit', 'fitness', 'fits', 'fitting', 'five', 'fix', 'fixed', 'fixing', 'flag', 'flash', 'flat', 'flavor', 'flavors', 'flaw', 'flawed', 'flawless', 'flaws', 'flea', 'fleas', 'fleetwood', 'flexible', 'flick', 'flicks', 'flight', 'flimsy', 'flip', 'floor', 'florette', 'flow', 'flows', 'fluff', 'fly', 'flyboys', 'flying', 'fm', 'foam', 'focus', 'focused', 'focuses', 'folk', 'folks', 'follow', 'followed', 'following', 'follows', 'fonda', 'font', 'food', 'foods', 'fool', 'fooled', 'foot', 'footage', 'footnotes', 'for', 'force', 'forced', 'forces', 'ford', 'foreign', 'forever', 'forget', 'forgot', 'forgotten', 'form', 'format', 'formatting', 'former', 'forms', 'formula', 'fort', 'forth', 'forward', 'found', 'foundation', 'four', 'fourth', 'fox', 'fraction', 'fragile', 'frame', 'france', 'franchise', 'frank', 'frankenstein', 'frankly', 'fraser', 'free', 'freedom', 'freezes', 'french', 'frequently', 'fresh', 'freud', 'friday', 'friend', 'friendly', 'friends', 'friendship', 'frightening', 'from', 'front', 'frozen', 'frustrated', 'frustrating', 'frustration', 'ft', 'full', 'fully', 'fun', 'function', 'functional', 'functions', 'funk', 'funky', 'funny', 'further', 'furthermore', 'future', 'futuristic', 'fuzzy', 'fw', 'g', 'g3', 'g4', 'gabriel', 'gain', 'gained', 'game', 'gameplay', 'games', 'gammell', 'gang', 'garage', 'garbage', 'garcia', 'garden', 'gary', 'gas', 'gave', 'gay', 'gb', 'gba', 'gel', 'gels', 'gem', 'gems', 'general', 'generally', 'generated', 'generation', 'generations', 'generic', 'generous', 'genius', 'genre', 'gentle', 'genuine', 'george', 'german', 'germans', 'germany', 'get', 'gets', 'getting', 'ghost', 'ghosts', 'giant', 'gibberish', 'gibson', 'gift', 'gifted', 'gifts', 'gillian', 'girl', 'girlfriend', 'girls', 'give', 'given', 'gives', 'giving', 'glad', 'glass', 'glasses', 'glider', 'glimpse', 'glitch', 'glitches', 'glory', 'glowing', 'glue', 'glued', 'gluten', 'go', 'goal', 'god', 'gods', 'goes', 'going', 'gold', 'golden', 'golf', 'gone', 'gonna', 'good', 'goodness', 'goofy', 'google', 'gordon', 'gore', 'gorgeous', 'gossip', 'got', 'gothic', 'gotta', 'gotten', 'government', 'governments', 'grab', 'grabs', 'grace', 'grade', 'grader', 'graduate', 'grain', 'grainy', 'grammar', 'grand', 'grandchildren', 'granddaughter', 'grandfather', 'grandson', 'granted', 'graphic', 'graphics', 'grasp', 'grass', 'great', 'greater', 'greatest', 'greatly', 'greece', 'greek', 'green', 'grew', 'grey', 'grinding', 'gripping', 'gritty', 'groove', 'gross', 'ground', 'group', 'groups', 'grow', 'growing', 'grown', 'grows', 'growth', 'guarantee', 'guess', 'guessing', 'guest', 'guests', 'guide', 'guitar', 'guitarist', 'guitars', 'gun', 'guns', 'guy', 'guys', 'gym', 'h', 'ha', 'hack', 'had', 'hadn', 'haiku', 'hair', 'half', 'halfway', 'hall', 'halloween', 'halti', 'hand', 'handbook', 'handed', 'handle', 'handles', 'handling', 'hands', 'handy', 'hang', 'hanging', 'happen', 'happened', 'happening', 'happens', 'happier', 'happily', 'happiness', 'happy', 'hard', 'hardcore', 'hardcover', 'harder', 'hardly', 'hardware', 'hardy', 'harris', 'harry', 'harsh', 'has', 'hasn', 'hassle', 'hat', 'hate', 'hatebreed', 'hated', 'hates', 'haunted', 'haunting', 'have', 'haven', 'havent', 'having', 'hawthorne', 'hazlitt', 'hd', 'he', 'head', 'headache', 'headed', 'headphone', 'headphones', 'heads', 'headset', 'headsets', 'healing', 'health', 'healthy', 'hear', 'heard', 'hearing', 'heart', 'heat', 'heater', 'heaven', 'heavily', 'heavy', 'heck', 'heinlein', 'held', 'hell', 'hello', 'help', 'helped', 'helpful', 'helping', 'helps', 'helter', 'hence', 'henry', 'her', 'herb', 'herbs', 'here', 'hero', 'heroes', 'heroine', 'hers', 'herself', 'hesitate', 'hester', 'hey', 'hi', 'hidden', 'hide', 'higgins', 'high', 'higher', 'highest', 'highlight', 'highlights', 'highly', 'hiking', 'hilarious', 'hill', 'him', 'himself', 'hint', 'hints', 'hip', 'his', 'historical', 'history', 'hit', 'hitch', 'hits', 'ho', 'hockey', 'hold', 'holder', 'holders', 'holding', 'holds', 'hole', 'holes', 'holiday', 'holidays', 'hollywood', 'holmes', 'holocaust', 'holy', 'home', 'homer', 'honest', 'honestly', 'honesty', 'honor', 'hook', 'hooked', 'hooks', 'hop', 'hope', 'hoped', 'hopefully', 'hopes', 'hoping', 'hopkins', 'horrible', 'horribly', 'horrific', 'horrifying', 'horror', 'horse', 'hose', 'hospital', 'hostel', 'hot', 'hotel', 'hound', 'hour', 'hours', 'house', 'houses', 'how', 'however', 'hp', 'huge', 'huh', 'human', 'humanity', 'humans', 'humor', 'humorous', 'humour', 'hundred', 'hundreds', 'hungry', 'hurry', 'hurt', 'husband', 'huxley', 'hype', 'i', 'ian', 'ibook', 'ice', 'icon', 'idea', 'ideas', 'identical', 'identify', 'identity', 'idiot', 'idiots', 'if', 'ignorant', 'ignore', 'ignored', 'ii', 'il', 'ill', 'illness', 'illustrated', 'illustrations', 'im', 'image', 'imagery', 'images', 'imagination', 'imaginative', 'imagine', 'immediately', 'immensely', 'impact', 'import', 'importance', 'important', 'importantly', 'impossible', 'impress', 'impressed', 'impression', 'impressive', 'improve', 'improved', 'improvement', 'in', 'inaccurate', 'inappropriate', 'incest', 'inch', 'inches', 'inclined', 'include', 'included', 'includes', 'including', 'incoherent', 'incomplete', 'incomprehensible', 'inconsistent', 'incorrect', 'increase', 'incredible', 'incredibly', 'indeed', 'index', 'india', 'indian', 'indicate', 'indicator', 'indie', 'individual', 'individuals', 'indulgent', 'industry', 'inexpensive', 'inferior', 'inflate', 'inflated', 'influence', 'influenced', 'info', 'information', 'informative', 'informed', 'ingredients', 'initial', 'initially', 'injury', 'ink', 'inner', 'innocent', 'innovative', 'insert', 'inside', 'insight', 'insightful', 'insights', 'insomnia', 'inspiration', 'inspirational', 'inspire', 'inspired', 'inspiring', 'install', 'installation', 'installed', 'installing', 'installment', 'instance', 'instant', 'instantly', 'instead', 'instruction', 'instructions', 'instructor', 'instrumental', 'instruments', 'insult', 'intellectual', 'intelligence', 'intelligent', 'intend', 'intended', 'intense', 'intent', 'interaction', 'interest', 'interested', 'interesting', 'interface', 'internal', 'international', 'internet', 'interpretation', 'interview', 'interviews', 'intex', 'into', 'intrigue', 'intrigued', 'intriguing', 'intro', 'introduced', 'introduces', 'introduction', 'introductory', 'invaluable', 'investing', 'investment', 'involved', 'involving', 'ipod', 'ireland', 'irish', 'ironic', 'irrelevant', 'irritating', 'is', 'island', 'isn', 'isnt', 'issue', 'issues', 'it', 'italian', 'italy', 'item', 'items', 'its', 'itself', 'itunes', 'iv', 'ive', 'j', 'jabra', 'jack', 'jackson', 'jam', 'james', 'jammed', 'jams', 'jane', 'janet', 'japan', 'japanese', 'jason', 'java', 'jaw', 'jawbone', 'jay', 'jazz', 'jean', 'jennifer', 'jensen', 'jerry', 'jesus', 'jet', 'jewish', 'jim', 'jimmy', 'joan', 'job', 'jobs', 'joe', 'john', 'johnson', 'join', 'joke', 'jokes', 'jones', 'journal', 'journalist', 'journals', 'journey', 'joy', 'joyce', 'judge', 'judith', 'julia', 'julie', 'juliet', 'july', 'jump', 'jumped', 'jumping', 'jumps', 'june', 'jungle', 'junior', 'junk', 'just', 'justice', 'justify', 'juvenile', 'k', 'kate', 'kay', 'keel', 'keep', 'keeper', 'keeping', 'keeps', 'kelly', 'kept', 'kerouac', 'key', 'keyboard', 'kick', 'kicks', 'kid', 'kidding', 'kids', 'kill', 'killed', 'killer', 'killing', 'kills', 'kind', 'kinda', 'kindle', 'kinds', 'king', 'kinsella', 'kit', 'kitchen', 'knew', 'knife', 'knight', 'knock', 'knocked', 'know', 'knowing', 'knowledge', 'knowledgeable', 'known', 'knows', 'koontz', 'korean', 'kurt', 'kylie', 'l', 'la', 'label', 'labels', 'labor', 'laces', 'lack', 'lacked', 'lackey', 'lacking', 'lacks', 'ladies', 'lady', 'lafayette', 'laid', 'lake', 'lame', 'land', 'lane', 'language', 'languages', 'lapinator', 'laptop', 'lara', 'large', 'largely', 'larger', 'larry', 'last', 'lasted', 'lasting', 'lasts', 'late', 'lately', 'later', 'latest', 'latin', 'latter', 'laugh', 'laughable', 'laughed', 'laughing', 'laughs', 'laughter', 'launch', 'laura', 'law', 'laws', 'lay', 'layers', 'layout', 'lazy', 'lbs', 'lcd', 'le', 'lead', 'leader', 'leadership', 'leading', 'leads', 'league', 'leak', 'leaked', 'leaking', 'leaks', 'lean', 'learn', 'learned', 'learning', 'learns', 'least', 'leather', 'leave', 'leaves', 'leaving', 'led', 'lee', 'left', 'leg', 'legal', 'legend', 'legs', 'lemon', 'length', 'lens', 'les', 'lesbian', 'less', 'lesser', 'lesson', 'lessons', 'let', 'lets', 'letter', 'letters', 'letting', 'level', 'levels', 'lewis', 'liam', 'library', 'libro', 'lid', 'lie', 'lies', 'life', 'lifestyle', 'lifetime', 'light', 'lighter', 'lighting', 'lights', 'lightweight', 'like', 'likeable', 'liked', 'likely', 'likes', 'liking', 'lil', 'lili', 'limit', 'limited', 'line', 'liner', 'lines', 'link', 'linksys', 'lion', 'list', 'listed', 'listen', 'listenable', 'listened', 'listening', 'listens', 'listing', 'lists', 'lit', 'literally', 'literary', 'literature', 'little', 'live', 'lived', 'lives', 'living', 'll', 'lo', 'load', 'loaded', 'loads', 'local', 'location', 'locations', 'lock', 'locked', 'locks', 'logic', 'logical', 'lol', 'lola', 'london', 'lonely', 'long', 'longer', 'look', 'looked', 'looking', 'looks', 'loop', 'loose', 'lord', 'los', 'lose', 'loses', 'losing', 'loss', 'lost', 'lot', 'lots', 'loud', 'lousy', 'love', 'loved', 'lovely', 'lover', 'lovers', 'loves', 'loving', 'low', 'lower', 'lp', 'luck', 'luckily', 'lucky', 'lunch', 'lyrics', 'm', 'mac', 'macally', 'machine', 'machines', 'macondo', 'mad', 'made', 'madness', 'madonna', 'magazine', 'magic', 'magical', 'magnificent', 'mail', 'main', 'mainly', 'mainstream', 'maintain', 'major', 'majority', 'make', 'maker', 'makers', 'makes', 'makeup', 'making', 'male', 'man', 'manage', 'managed', 'management', 'manages', 'manner', 'manon', 'manson', 'manual', 'manufactured', 'manufacturer', 'manufacturers', 'many', 'map', 'march', 'mariah', 'marie', 'marine', 'mark', 'marked', 'marker', 'market', 'marketing', 'marks', 'marlon', 'marquez', 'marriage', 'married', 'marry', 'mars', 'mart', 'martial', 'martin', 'marvelous', 'mary', 'mas', 'mask', 'mass', 'massive', 'master', 'masterful', 'masterpiece', 'match', 'material', 'materials', 'math', 'mattel', 'matter', 'matters', 'mattress', 'mature', 'max', 'may', 'maybe', 'mayhem', 'mb', 'mckellen', 'me', 'mean', 'meaning', 'meaningful', 'meaningless', 'means', 'meant', 'measure', 'measurements', 'meat', 'mechanical', 'mechanism', 'media', 'medical', 'medicine', 'mediocre', 'medium', 'meet', 'meeting', 'meets', 'megan', 'mel', 'mellow', 'melodies', 'melody', 'member', 'members', 'memoir', 'memorable', 'memories', 'memory', 'men', 'mental', 'mentally', 'mention', 'mentioned', 'mentions', 'menu', 'mercedes', 'merchandise', 'merely', 'merit', 'mess', 'message', 'messages', 'met', 'metal', 'metaphors', 'method', 'methods', 'mi', 'michael', 'mid', 'middle', 'midi', 'might', 'mighty', 'mike', 'miles', 'military', 'mill', 'miller', 'million', 'millions', 'mills', 'min', 'mind', 'minded', 'mindless', 'minds', 'mine', 'mini', 'minor', 'mins', 'minute', 'minutes', 'mirror', 'miserably', 'misleading', 'misplaced', 'miss', 'missed', 'misses', 'missing', 'mission', 'mistake', 'mistakes', 'mix', 'mixed', 'mixer', 'mixing', 'mixture', 'moby', 'mode', 'model', 'models', 'modern', 'mom', 'moment', 'moments', 'money', 'monitor', 'monster', 'monsters', 'montag', 'month', 'months', 'mood', 'moon', 'moore', 'moral', 'more', 'moria', 'morning', 'mosby', 'most', 'mostly', 'mother', 'mothers', 'mothman', 'motion', 'motivation', 'motor', 'motorola', 'mount', 'mountain', 'mountains', 'mouse', 'mouth', 'move', 'moved', 'movement', 'movements', 'moves', 'movie', 'movies', 'moving', 'mp3', 'mr', 'mrs', 'ms', 'mtv', 'much', 'multi', 'multiple', 'mundane', 'murder', 'murders', 'museum', 'music', 'musical', 'musician', 'musicians', 'musicianship', 'musiq', 'must', 'my', 'myself', 'mysteries', 'mysterious', 'mystery', 'mystical', 'myth', 'mythology', 'n', 'name', 'named', 'names', 'napoleon', 'narration', 'narrative', 'narrator', 'narrow', 'nasty', 'nathaniel', 'nation', 'national', 'native', 'natural', 'naturally', 'nature', 'near', 'nearly', 'neat', 'necessary', 'neck', 'need', 'needed', 'needing', 'needless', 'needs', 'neeson', 'negative', 'neither', 'nephew', 'nerves', 'net', 'network', 'never', 'new', 'newer', 'newest', 'newly', 'newman', 'news', 'newspaper', 'next', 'nice', 'nicely', 'nickelodeon', 'niece', 'night', 'nightmare', 'nights', 'nine', 'nineteen', 'nirvana', 'no', 'nobel', 'nobody', 'noir', 'noise', 'noises', 'noisy', 'non', 'none', 'nonetheless', 'nonsense', 'nor', 'normal', 'normally', 'north', 'nose', 'not', 'notch', 'note', 'noted', 'notes', 'nothing', 'notice', 'noticeable', 'noticed', 'novel', 'novels', 'november', 'novice', 'now', 'nowhere', 'nt', 'nudity', 'number', 'numbers', 'numerous', 'nut', 'nuts', 'o', 'object', 'objective', 'objects', 'obnoxious', 'obscure', 'obvious', 'obviously', 'occasional', 'occasionally', 'occasions', 'occur', 'oceania', 'odd', 'odysseus', 'odyssey', 'oem', 'of', 'off', 'offensive', 'offer', 'offered', 'offering', 'offers', 'office', 'official', 'often', 'oh', 'oil', 'ok', 'okay', 'ol', 'old', 'older', 'olds', 'omg', 'on', 'once', 'one', 'ones', 'online', 'only', 'onto', 'open', 'opened', 'opening', 'opens', 'opera', 'operate', 'operating', 'operation', 'opinion', 'opinions', 'opportunity', 'oprah', 'option', 'options', 'or', 'orange', 'orchestra', 'order', 'ordered', 'ordering', 'ordinary', 'organ', 'organization', 'organized', 'original', 'originality', 'originally', 'originals', 'orleans', 'orwell', 'os', 'oscar', 'other', 'others', 'otherwise', 'ought', 'our', 'ours', 'ourselves', 'out', 'outcome', 'outdated', 'outer', 'outlet', 'outline', 'output', 'outside', 'outstanding', 'over', 'overall', 'overcome', 'overdone', 'overly', 'overnight', 'overpriced', 'overrated', 'overseas', 'overview', 'overwhelming', 'owen', 'own', 'owned', 'owner', 'owners', 'owning', 'p', 'pace', 'paced', 'pack', 'package', 'packaged', 'packaging', 'packed', 'pad', 'padding', 'pads', 'page', 'pages', 'paid', 'pain', 'painful', 'paint', 'painted', 'pair', 'pairs', 'pale', 'pants', 'paper', 'paperback', 'papers', 'par', 'para', 'paragraph', 'paragraphs', 'paranoid', 'paranormal', 'parent', 'parents', 'paris', 'park', 'part', 'particular', 'particularly', 'parties', 'partner', 'parton', 'parts', 'party', 'pass', 'passage', 'passages', 'passed', 'passing', 'passion', 'past', 'patch', 'path', 'pathetic', 'patience', 'patient', 'patricia', 'patrick', 'pattern', 'patterns', 'patti', 'paul', 'pay', 'paying', 'pc', 'pci', 'peace', 'pearl', 'pellegrino', 'pen', 'pencil', 'penny', 'people', 'peoples', 'pepper', 'per', 'perfect', 'perfection', 'perfectly', 'perform', 'performance', 'performances', 'performed', 'performing', 'performs', 'perhaps', 'period', 'periods', 'permanent', 'permanently', 'person', 'personal', 'personality', 'personally', 'perspective', 'pet', 'peter', 'phenomenal', 'philadelphia', 'philosophical', 'philosophy', 'phone', 'photo', 'photographs', 'photography', 'photos', 'phrase', 'phrases', 'physical', 'piano', 'pick', 'picked', 'picking', 'picks', 'picture', 'pictured', 'pictures', 'piece', 'pieces', 'pile', 'pillow', 'pin', 'pink', 'pins', 'piper', 'pitchshifter', 'pitiful', 'pity', 'place', 'placed', 'places', 'plain', 'plan', 'plane', 'planet', 'planned', 'planning', 'plans', 'plants', 'plastic', 'plate', 'plates', 'play', 'played', 'player', 'players', 'playing', 'plays', 'pleasant', 'pleasantly', 'please', 'pleased', 'pleasure', 'plenty', 'plot', 'plots', 'plug', 'plugged', 'plugs', 'plus', 'pocket', 'poem', 'poems', 'poetic', 'poetry', 'poignant', 'point', 'pointed', 'pointless', 'points', 'police', 'policy', 'political', 'politicians', 'politics', 'pony', 'pool', 'poor', 'poorly', 'pop', 'popped', 'popping', 'popular', 'por', 'porn', 'port', 'portable', 'portion', 'portrayal', 'portrayed', 'portrays', 'ports', 'poses', 'position', 'positive', 'possible', 'possibly', 'post', 'poster', 'pot', 'potential', 'potter', 'pound', 'pour', 'power', 'powerbook', 'powered', 'powerful', 'powers', 'practical', 'practically', 'practice', 'praise', 'pratchett', 'pre', 'precise', 'predictable', 'prediction', 'prefer', 'preferred', 'pregnancy', 'pregnant', 'prehistoric', 'premise', 'preparation', 'prepare', 'prepared', 'presence', 'present', 'presentation', 'presented', 'presenting', 'presents', 'press', 'pressed', 'pressure', 'pretend', 'pretentious', 'pretty', 'prevent', 'preview', 'previous', 'previously', 'price', 'priced', 'prices', 'primarily', 'primary', 'prime', 'primer', 'principles', 'print', 'printed', 'printer', 'printers', 'printing', 'prints', 'prior', 'prison', 'privacy', 'private', 'prize', 'pro', 'probably', 'problem', 'problems', 'process', 'produce', 'produced', 'producer', 'producers', 'produces', 'producing', 'product', 'production', 'products', 'professional', 'professor', 'profound', 'program', 'programming', 'programs', 'progress', 'progressive', 'project', 'projects', 'promise', 'promised', 'promising', 'promptly', 'proof', 'propaganda', 'proper', 'properly', 'prophecies', 'pros', 'prose', 'protagonist', 'protagonists', 'protect', 'protection', 'proud', 'prove', 'proved', 'proven', 'proves', 'provide', 'provided', 'provides', 'providing', 'provoking', 'ps', 'pseudo', 'psychological', 'psychology', 'public', 'publication', 'published', 'publisher', 'publishers', 'publishing', 'pull', 'pulled', 'pulling', 'pulls', 'pump', 'pun', 'punch', 'punk', 'puppy', 'purchase', 'purchased', 'purchases', 'purchasing', 'pure', 'puritan', 'purpose', 'push', 'pushed', 'pushing', 'put', 'puts', 'putting', 'puzzle', 'puzzles', 'q', 'qualities', 'quality', 'quarter', 'quartet', 'que', 'queen', 'quest', 'question', 'questions', 'quick', 'quickly', 'quiet', 'quirky', 'quit', 'quite', 'quote', 'quotes', 'r', 'rabbit', 'race', 'racism', 'rack', 'radical', 'radio', 'rage', 'raider', 'rain', 'raised', 'ralph', 'rambling', 'ran', 'random', 'range', 'ranks', 'rap', 'rare', 'rarely', 'rate', 'rated', 'rather', 'rating', 'ratings', 'rave', 'raw', 'ray', 're', 'reach', 'reached', 'reaches', 'reaction', 'read', 'readable', 'reader', 'readers', 'reading', 'reads', 'ready', 'real', 'realism', 'realistic', 'reality', 'realize', 'realized', 'realizes', 'really', 'reason', 'reasonable', 'reasonably', 'reasons', 'reboot', 'recall', 'reccomend', 'reccommend', 'receipt', 'receive', 'received', 'receiver', 'receiving', 'recent', 'recently', 'recieved', 'recipes', 'recognize', 'recognized', 'recomend', 'recommend', 'recommendation', 'recommendations', 'recommended', 'record', 'recorded', 'recording', 'recordings', 'records', 'red', 'redeeming', 'redgrave', 'refer', 'reference', 'references', 'refill', 'reflect', 'reflection', 'reflects', 'refreshing', 'refund', 'regarded', 'regarding', 'regardless', 'region', 'regret', 'regular', 'relate', 'related', 'relates', 'relations', 'relationship', 'relationships', 'relative', 'relatively', 'relatives', 'relax', 'release', 'released', 'releases', 'releasing', 'relevance', 'relevant', 'reliable', 'relief', 'religion', 'religious', 'rely', 'remain', 'remains', 'remake', 'remarkable', 'remastered', 'remember', 'remembered', 'remind', 'reminded', 'reminds', 'remix', 'remote', 'remotely', 'remove', 'removed', 'removing', 'rendition', 'rent', 'rental', 'rented', 'renting', 'repair', 'repeat', 'repeated', 'repeatedly', 'repeating', 'repetitive', 'replace', 'replaced', 'replacement', 'replacing', 'reply', 'report', 'reported', 'representation', 'represented', 'represents', 'reprint', 'reputation', 'request', 'requested', 'require', 'required', 'requires', 'reread', 'rescue', 'research', 'researched', 'resolution', 'resolved', 'resource', 'resources', 'respect', 'respond', 'response', 'responsible', 'rest', 'restaurant', 'result', 'results', 'retail', 'return', 'returned', 'returning', 'returns', 'reveal', 'revealed', 'revelation', 'revenge', 'review', 'reviewed', 'reviewer', 'reviewers', 'reviewing', 'reviews', 'revolution', 'revolutionary', 'rhythm', 'rice', 'rich', 'richard', 'richly', 'rid', 'ride', 'ridiculous', 'ridiculously', 'riding', 'riffs', 'right', 'rights', 'ring', 'rings', 'rip', 'ripped', 'ripping', 'rise', 'rising', 'risk', 'ritter', 'river', 'riveting', 'road', 'robert', 'robot', 'robots', 'rock', 'rocket', 'rocks', 'rod', 'rods', 'role', 'roles', 'roll', 'rollerball', 'rolling', 'rom', 'roman', 'romance', 'romantic', 'rome', 'romeo', 'room', 'rooms', 'roots', 'rope', 'rose', 'rough', 'round', 'router', 'routine', 'rubber', 'rubbish', 'rude', 'ruin', 'ruined', 'ruins', 'rule', 'rules', 'rumours', 'run', 'running', 'runs', 'rush', 'rushed', 'russell', 'russian', 'ruth', 'rv', 'ry', 's', 'sad', 'sadly', 'sadness', 'safe', 'safety', 'saga', 'said', 'sake', 'sale', 'sales', 'salt', 'sam', 'same', 'sample', 'samples', 'samsung', 'san', 'sand', 'sandisk', 'sandler', 'sandra', 'sansa', 'santa', 'sarah', 'sat', 'satire', 'satisfied', 'satisfying', 'save', 'saved', 'saving', 'saw', 'say', 'saying', 'says', 'scale', 'scan', 'scanner', 'scare', 'scared', 'scares', 'scarier', 'scariest', 'scarlet', 'scarpetta', 'scary', 'scenario', 'scene', 'scenery', 'scenes', 'scheme', 'scholar', 'scholarly', 'school', 'schools', 'sci', 'science', 'scientific', 'scifi', 'scooter', 'scope', 'score', 'scores', 'scotland', 'scott', 'scratch', 'scratched', 'scratches', 'scream', 'screaming', 'screen', 'screenplay', 'screens', 'screw', 'screws', 'script', 'scripture', 'sd', 'se', 'sea', 'seal', 'seam', 'seams', 'sean', 'search', 'searched', 'searching', 'season', 'seasons', 'seat', 'second', 'seconds', 'secret', 'secrets', 'section', 'sections', 'secure', 'see', 'seeing', 'seek', 'seeking', 'seem', 'seemed', 'seemingly', 'seems', 'seen', 'sees', 'segments', 'select', 'selected', 'selection', 'selections', 'self', 'sell', 'seller', 'selling', 'semi', 'send', 'sending', 'sends', 'senior', 'sense', 'sensitive', 'sensual', 'sent', 'sentence', 'sentences', 'separate', 'september', 'sequel', 'sequels', 'sequence', 'sequences', 'series', 'serious', 'seriously', 'serve', 'served', 'serves', 'service', 'serving', 'session', 'set', 'sets', 'setting', 'settings', 'setup', 'seven', 'several', 'severe', 'sex', 'sexual', 'sexy', 'sf', 'sg', 'sg1', 'shake', 'shaker', 'shakespeare', 'shaking', 'shallow', 'shame', 'shape', 'shaped', 'shapewear', 'share', 'shared', 'sharing', 'sharp', 'she', 'sheer', 'sheet', 'sheets', 'shelf', 'shell', 'sheri', 'sherlock', 'shia', 'shine', 'shines', 'ship', 'shipped', 'shipping', 'shirley', 'shirt', 'shock', 'shocked', 'shocking', 'shoddy', 'shoe', 'shoes', 'shoot', 'shooting', 'shoots', 'shop', 'shopping', 'shore', 'short', 'shorter', 'shortly', 'shot', 'shots', 'should', 'shouldn', 'show', 'showed', 'shower', 'showing', 'shown', 'shows', 'shut', 'si', 'sick', 'side', 'sided', 'sides', 'sight', 'sightings', 'sign', 'signal', 'signed', 'significant', 'signs', 'silly', 'silver', 'similar', 'simon', 'simple', 'simpletech', 'simplistic', 'simply', 'simpsons', 'sin', 'since', 'sing', 'singer', 'singers', 'singing', 'single', 'singles', 'sings', 'sir', 'sister', 'sit', 'site', 'sites', 'sitting', 'situation', 'situations', 'six', 'sixth', 'size', 'sized', 'sizes', 'sizing', 'skelter', 'skeptical', 'skills', 'skin', 'skip', 'skipped', 'skipping', 'slasher', 'slave', 'sleep', 'sleeping', 'slept', 'slide', 'slight', 'slightest', 'slightly', 'slip', 'sloppy', 'slot', 'slow', 'slower', 'slowly', 'small', 'smaller', 'smart', 'smell', 'smelled', 'smells', 'smith', 'smoke', 'smooth', 'snap', 'snapped', 'snmp', 'snow', 'so', 'soap', 'social', 'society', 'socks', 'soft', 'software', 'sold', 'soldier', 'soldiers', 'sole', 'solid', 'solitude', 'solo', 'solution', 'solve', 'solved', 'solving', 'some', 'somebody', 'someday', 'somehow', 'someone', 'something', 'sometime', 'sometimes', 'somewhat', 'somewhere', 'son', 'song', 'songs', 'sons', 'sony', 'soon', 'sooner', 'sooo', 'sorely', 'sorry', 'sort', 'soul', 'souljah', 'souls', 'sound', 'sounded', 'sounding', 'sounds', 'soundtrack', 'soup', 'source', 'sources', 'south', 'southern', 'soviet', 'space', 'spanish', 'spare', 'spark', 'speak', 'speaker', 'speakers', 'speaking', 'speaks', 'special', 'species', 'specific', 'specifically', 'spectacular', 'speech', 'speed', 'spell', 'spend', 'spending', 'spends', 'spent', 'spice', 'spider', 'spiderman', 'spin', 'spine', 'spirit', 'spiritual', 'spite', 'split', 'spoiled', 'spoken', 'sports', 'spot', 'spots', 'spouse', 'spread', 'spring', 'springs', 'spy', 'square', 'squeem', 'squeeze', 'st', 'stable', 'stacie', 'stage', 'stand', 'standard', 'standards', 'standing', 'stands', 'star', 'stargate', 'starring', 'stars', 'start', 'started', 'starting', 'starts', 'state', 'stated', 'statement', 'states', 'station', 'stations', 'status', 'stay', 'stayed', 'stays', 'steal', 'steel', 'step', 'stephen', 'stepped', 'steps', 'stereo', 'steve', 'steven', 'stewart', 'stick', 'sticking', 'sticks', 'sticky', 'stiff', 'still', 'stinker', 'stinks', 'stock', 'stockings', 'stomach', 'stone', 'stop', 'stopped', 'stopping', 'stops', 'storage', 'store', 'stores', 'stories', 'story', 'storyline', 'storytelling', 'straight', 'strange', 'stranger', 'strap', 'straps', 'strategy', 'stream', 'street', 'strength', 'stress', 'stretch', 'strictly', 'string', 'stripped', 'strong', 'stronger', 'strongly', 'struck', 'structure', 'struggle', 'struggled', 'struggles', 'struggling', 'stuck', 'student', 'students', 'studies', 'studio', 'study', 'studying', 'stuff', 'stunning', 'stupid', 'stupidity', 'sturdy', 'style', 'styles', 'sub', 'subject', 'subjects', 'subscription', 'subsequent', 'substance', 'substantial', 'substitute', 'subtitles', 'subtle', 'success', 'successful', 'successfully', 'such', 'suck', 'sucked', 'sucks', 'sudden', 'suddenly', 'sue', 'suffer', 'suffering', 'suffers', 'sugar', 'suggest', 'suggested', 'suggestions', 'suitable', 'suited', 'sum', 'summary', 'summer', 'sun', 'sung', 'super', 'superb', 'superficial', 'superior', 'supernatural', 'supply', 'support', 'supported', 'supporting', 'supports', 'suppose', 'supposed', 'supposedly', 'sure', 'surely', 'surf', 'surface', 'surfing', 'surgery', 'surprise', 'surprised', 'surprises', 'surprising', 'surprisingly', 'surreal', 'surround', 'surrounding', 'survival', 'survive', 'suspect', 'suspense', 'suspenseful', 'sweat', 'sweet', 'swing', 'swinging', 'switch', 'switched', 'sword', 'symbolism', 'sympathy', 'sync', 'system', 'systems', 't', 'table', 'tag', 'take', 'taken', 'takes', 'taking', 'tale', 'talent', 'talented', 'talents', 'tales', 'talk', 'talked', 'talking', 'talks', 'tall', 'tango', 'tank', 'tap', 'tape', 'tapes', 'target', 'task', 'taste', 'tastes', 'taught', 'taylor', 'tea', 'teach', 'teacher', 'teachers', 'teaches', 'teaching', 'team', 'tear', 'tears', 'tec', 'tech', 'technical', 'technique', 'techniques', 'techno', 'technology', 'tedious', 'teen', 'teenage', 'teenager', 'teenagers', 'teens', 'teeth', 'television', 'tell', 'telling', 'tells', 'temp', 'temperature', 'temple', 'temptation', 'tempted', 'ten', 'tend', 'tends', 'tension', 'tent', 'term', 'terms', 'terrible', 'terribly', 'terrific', 'terrifying', 'terror', 'terry', 'tess', 'test', 'tested', 'testing', 'tests', 'text', 'textbook', 'textbooks', 'texture', 'tha', 'than', 'thank', 'thankfully', 'thanks', 'that', 'thats', 'the', 'theater', 'theaters', 'theatre', 'their', 'them', 'theme', 'themes', 'themselves', 'then', 'theology', 'theories', 'theory', 'therapy', 'there', 'therefore', 'theres', 'these', 'they', 'thick', 'thier', 'thin', 'thing', 'things', 'think', 'thinking', 'thinks', 'third', 'thirty', 'this', 'thomas', 'thorough', 'thoroughly', 'those', 'thou', 'though', 'thought', 'thoughtful', 'thoughts', 'thousand', 'thousands', 'thrash', 'threads', 'three', 'threw', 'thrill', 'thrilled', 'thriller', 'throat', 'through', 'throughout', 'throw', 'throwing', 'thrown', 'throws', 'thru', 'thumbs', 'thus', 'tie', 'tied', 'tight', 'tile', 'till', 'tim', 'time', 'timeless', 'timely', 'timer', 'times', 'tiny', 'tip', 'tips', 'tired', 'titanic', 'title', 'titled', 'titles', 'to', 'today', 'toddler', 'toefl', 'together', 'told', 'tom', 'tomb', 'tomcat', 'tomorrow', 'ton', 'tone', 'tons', 'too', 'took', 'tool', 'tools', 'tooth', 'top', 'topic', 'topics', 'tops', 'tore', 'torn', 'torture', 'tossed', 'total', 'totalitarian', 'totally', 'touch', 'touched', 'touches', 'touching', 'tough', 'tour', 'toward', 'towards', 'tower', 'towers', 'town', 'toxic', 'toy', 'toys', 'track', 'tracks', 'trade', 'tradition', 'traditional', 'tragedy', 'tragic', 'trailer', 'train', 'training', 'trains', 'transfer', 'transformer', 'transformers', 'translated', 'translation', 'trapped', 'trash', 'travel', 'traveling', 'travelling', 'travesty', 'tray', 'treasure', 'treat', 'treated', 'treatment', 'tree', 'tremendous', 'trial', 'trials', 'tribute', 'trick', 'tricks', 'tried', 'tries', 'trilogy', 'trip', 'tripe', 'tripod', 'trips', 'trite', 'troma', 'trouble', 'truck', 'true', 'truely', 'truly', 'trust', 'truth', 'try', 'trying', 'tube', 'tubthumping', 'tummy', 'tune', 'tunes', 'turkey', 'turn', 'turned', 'turner', 'turning', 'turns', 'tuscan', 'tuscany', 'tv', 'twenty', 'twice', 'twin', 'twins', 'twist', 'twisted', 'twists', 'two', 'type', 'types', 'typical', 'typically', 'typos', 'u', 'ufo', 'ugh', 'ugly', 'uk', 'ultimate', 'ultimately', 'ulysses', 'un', 'una', 'unable', 'unacceptable', 'unbearable', 'unbelievable', 'uncle', 'unclear', 'uncomfortable', 'under', 'underground', 'underlying', 'underneath', 'underrated', 'understand', 'understandable', 'understanding', 'understands', 'understood', 'uneven', 'unexpected', 'unfortunate', 'unfortunately', 'unhappy', 'uninteresting', 'union', 'unique', 'unit', 'united', 'units', 'universe', 'university', 'unknown', 'unless', 'unlike', 'unlikely', 'unlimited', 'unnecessary', 'unrated', 'unreadable', 'unrealistic', 'unreliable', 'unstable', 'until', 'unusable', 'unusual', 'unwatchable', 'up', 'upbeat', 'upcoming', 'update', 'updated', 'upgrade', 'uplifting', 'upon', 'ups', 'upset', 'ur', 'us', 'usa', 'usable', 'usage', 'usb', 'use', 'used', 'useful', 'useless', 'user', 'uses', 'usher', 'using', 'usual', 'usually', 'utopian', 'utter', 'utterly', 'v', 'vacation', 'vague', 'valuable', 'value', 'values', 'valve', 'vampire', 'vampires', 'van', 'variety', 'various', 'vast', 've', 'vehicle', 'velcro', 'velvet', 'vendor', 'venus', 'verse', 'version', 'versions', 'versus', 'very', 'vhs', 'via', 'vibe', 'vibrant', 'victim', 'victims', 'victorian', 'video', 'videos', 'view', 'viewed', 'viewer', 'viewers', 'viewing', 'views', 'village', 'villain', 'vintage', 'vinyl', 'violence', 'violent', 'virginia', 'virtually', 'virus', 'visible', 'vision', 'visit', 'visiting', 'vista', 'visual', 'visuals', 'vivid', 'vocabulary', 'vocal', 'vocals', 'voice', 'voices', 'vol', 'volume', 'volumes', 'von', 'voodoo', 'vs', 'vulgar', 'w', 'waist', 'wait', 'waited', 'waiting', 'waits', 'wake', 'walk', 'walked', 'walking', 'walks', 'wall', 'walls', 'walmart', 'wander', 'wanna', 'want', 'wanted', 'wanting', 'wants', 'war', 'warm', 'warmer', 'warming', 'warmth', 'warn', 'warned', 'warnes', 'warning', 'warranty', 'warrior', 'wars', 'was', 'wash', 'washed', 'washing', 'wasn', 'wasnt', 'waste', 'wasted', 'wasting', 'watch', 'watched', 'watches', 'watching', 'water', 'waterproof', 'watson', 'wave', 'way', 'wayne', 'ways', 'we', 'weak', 'wealth', 'weapons', 'wear', 'wearing', 'wears', 'weather', 'web', 'webb', 'website', 'wedding', 'week', 'weekend', 'weeks', 'weight', 'weird', 'welcome', 'well', 'went', 'were', 'weren', 'west', 'western', 'wet', 'whale', 'what', 'whatever', 'whats', 'whatsoever', 'wheel', 'wheels', 'when', 'whenever', 'where', 'whereas', 'whether', 'which', 'while', 'white', 'whitney', 'who', 'whoever', 'whole', 'whom', 'whose', 'why', 'wicca', 'wide', 'widely', 'wider', 'widescreen', 'wife', 'wild', 'wilderness', 'will', 'william', 'williams', 'willing', 'wilson', 'win', 'wind', 'window', 'windows', 'wine', 'wing', 'winner', 'winning', 'winston', 'winter', 'wire', 'wireless', 'wires', 'wisdom', 'wise', 'wish', 'wit', 'witch', 'witches', 'with', 'within', 'without', 'witty', 'woke', 'wolf', 'woman', 'women', 'won', 'wonder', 'wonderful', 'wonderfully', 'wondering', 'wont', 'wood', 'wooden', 'woods', 'word', 'words', 'wordy', 'wore', 'work', 'workbook', 'worked', 'workers', 'working', 'workout', 'works', 'world', 'worlds', 'worn', 'worried', 'worry', 'worse', 'worst', 'worth', 'worthless', 'worthwhile', 'worthy', 'would', 'wouldn', 'wouldnt', 'woven', 'wow', 'wrap', 'wrapped', 'wrestling', 'write', 'writer', 'writers', 'writes', 'writing', 'writings', 'written', 'wrong', 'wrote', 'wwi', 'wwii', 'www', 'x', 'xanth', 'xbox', 'xmas', 'xp', 'xtra', 'y', 'ya', 'yard', 'yawn', 'yeah', 'year', 'years', 'yellow', 'yep', 'yer', 'yes', 'yesterday', 'yet', 'yo', 'yoga', 'york', 'you', 'young', 'younger', 'your', 'yourself', 'youth', 'youtube', 'yr', 'zen', 'zero', 'zeta', 'ã']\n"
     ]
    }
   ],
   "source": [
    "print(tfidf_vect.get_feature_names())"
   ]
  },
  {
   "cell_type": "code",
   "execution_count": 13,
   "metadata": {
    "ExecuteTime": {
     "end_time": "2019-06-17T01:40:57.505221Z",
     "start_time": "2019-06-17T01:40:49.387393Z"
    },
    "colab": {},
    "colab_type": "code",
    "id": "-h16dUaVLtC_",
    "outputId": "3be1f8f5-670e-4249-8522-50509c8898a0"
   },
   "outputs": [
    {
     "name": "stdout",
     "output_type": "stream",
     "text": [
      "TfidfVectorizer(max_features=5000, ngram_range=(2, 3), token_pattern='\\\\w{1,}')\n",
      "Wall time: 8.16 s\n"
     ]
    }
   ],
   "source": [
    "%%time\n",
    "# ngram level tf-idf\n",
    "tfidf_vect_ngram = TfidfVectorizer(analyzer = 'word',\n",
    "                                   token_pattern = r'\\w{1,}',\n",
    "                                   ngram_range = (2, 3),\n",
    "                                   max_features = 5000)\n",
    "print(tfidf_vect_ngram)\n",
    "\n",
    "tfidf_vect_ngram.fit(trainDF['text'])\n",
    "X_train_tfidf_ngram = tfidf_vect_ngram.transform(X_train)\n",
    "X_test_tfidf_ngram  = tfidf_vect_ngram.transform(X_test)"
   ]
  },
  {
   "cell_type": "code",
   "execution_count": 16,
   "metadata": {},
   "outputs": [
    {
     "name": "stdout",
     "output_type": "stream",
     "text": [
      "['1 2', '1 star', '10 minutes', '10 years', '100 years', '15 minutes', '1984 is', '2 0', '2 3', '2 and', '2 hours', '2 months', '2 stars', '2 weeks', '20th century', '3 months', '3 weeks', '30 minutes', '4 5', '4 stars', '4 year', '4 year old', '451 is', '5 1', '5 star', '5 stars', '5 year', '6 months', '70 s', '80 s', 'a 4', 'a 5', 'a bad', 'a beautiful', 'a better', 'a big', 'a big fan', 'a bit', 'a bit of', 'a book', 'a book about', 'a book that', 'a bunch', 'a bunch of', 'a cd', 'a chance', 'a chance to', 'a character', 'a charm', 'a cheap', 'a child', 'a christmas', 'a class', 'a classic', 'a collection', 'a collection of', 'a complete', 'a copy', 'a couple', 'a couple of', 'a day', 'a decent', 'a different', 'a disappointment', 'a dvd', 'a family', 'a fan', 'a fan of', 'a fantastic', 'a fascinating', 'a favor', 'a favor and', 'a few', 'a few days', 'a few times', 'a few years', 'a film', 'a fine', 'a first', 'a friend', 'a full', 'a fun', 'a game', 'a gift', 'a good', 'a good book', 'a good movie', 'a good read', 'a good story', 'a great', 'a great book', 'a great deal', 'a great job', 'a great movie', 'a great read', 'a great story', 'a group', 'a group of', 'a half', 'a hard', 'a high', 'a horrible', 'a horror', 'a huge', 'a huge fan', 'a joke', 'a kid', 'a large', 'a life', 'a little', 'a little bit', 'a little more', 'a little too', 'a long', 'a long time', 'a look', 'a lot', 'a lot more', 'a lot of', 'a major', 'a man', 'a masterpiece', 'a modern', 'a month', 'a more', 'a movie', 'a much', 'a must', 'a must for', 'a must have', 'a must read', 'a must see', 'a new', 'a nice', 'a non', 'a novel', 'a number', 'a page', 'a part', 'a perfect', 'a person', 'a picture', 'a piece', 'a piece of', 'a poor', 'a pretty', 'a problem', 'a product', 'a quick', 'a real', 'a really', 'a really good', 'a reason', 'a refund', 'a regular', 'a replacement', 'a review', 'a second', 'a series', 'a shame', 'a short', 'a simple', 'a single', 'a small', 'a song', 'a story', 'a strong', 'a terrible', 'a third', 'a time', 'a total', 'a trip', 'a true', 'a truly', 'a try', 'a very', 'a very good', 'a video', 'a waste', 'a waste of', 'a way', 'a week', 'a well', 'a while', 'a whole', 'a woman', 'a wonderful', 'a word', 'a work', 'a world', 'a year', 'a young', 'ability to', 'able to', 'able to get', 'about 1', 'about 2', 'about 3', 'about a', 'about a year', 'about half', 'about how', 'about it', 'about the', 'about the book', 'about this', 'about this book', 'about this movie', 'about to', 'about what', 'absolutely no', 'according to', 'account of', 'across the', 'acting and', 'acting is', 'acting was', 'action and', 'action movie', 'adam sandler', 'add to', 'addition to', 'admit that', 'after a', 'after a few', 'after about', 'after all', 'after i', 'after reading', 'after reading the', 'after that', 'after the', 'after the first', 'again and', 'again and again', 'again i', 'again it', 'again the', 'against the', 'ago and', 'ago i', 'agree with', 'agree with the', 'ahead of', 'ain t', 'air mattress', 'album and', 'album i', 'album is', 'all a', 'all about', 'all and', 'all but', 'all i', 'all i can', 'all in', 'all in all', 'all it', 'all my', 'all of', 'all of the', 'all of them', 'all over', 'all over the', 'all that', 'all the', 'all the other', 'all the time', 'all the way', 'all these', 'all this', 'all those', 'all time', 'all you', 'almost all', 'along the', 'along with', 'along with the', 'alot of', 'also a', 'also i', 'also it', 'also the', 'also very', 'although i', 'although it', 'although the', 'am a', 'am an', 'am glad', 'am going', 'am going to', 'am i', 'am not', 'am now', 'am so', 'am very', 'am very disappointed', 'amazing i', 'amazon and', 'amazon com', 'among the', 'amount of', 'an actual', 'an adult', 'an album', 'an amazing', 'an awesome', 'an easy', 'an excellent', 'an hour', 'an interesting', 'an old', 'an older', 'and a', 'and a half', 'and after', 'and again', 'and all', 'and all the', 'and also', 'and am', 'and an', 'and are', 'and as', 'and at', 'and beautiful', 'and better', 'and boring', 'and bought', 'and buy', 'and by', 'and can', 'and could', 'and did', 'and didn', 'and didn t', 'and do', 'and does', 'and doesn', 'and doesn t', 'and don', 'and don t', 'and easy', 'and easy to', 'and enjoy', 'and even', 'and everything', 'and family', 'and feel', 'and find', 'and for', 'and found', 'and fun', 'and get', 'and give', 'and gives', 'and go', 'and good', 'and got', 'and had', 'and hard', 'and has', 'and have', 'and he', 'and her', 'and his', 'and hope', 'and how', 'and i', 'and i am', 'and i can', 'and i don', 'and i had', 'and i have', 'and i love', 'and i m', 'and i really', 'and i think', 'and i thought', 'and i ve', 'and i was', 'and i would', 'and if', 'and if you', 'and in', 'and in the', 'and interesting', 'and is', 'and it', 'and it has', 'and it is', 'and it s', 'and it was', 'and it works', 'and its', 'and just', 'and keep', 'and let', 'and love', 'and make', 'and makes', 'and many', 'and maybe', 'and money', 'and more', 'and most', 'and my', 'and never', 'and no', 'and not', 'and nothing', 'and now', 'and of', 'and of course', 'and on', 'and one', 'and only', 'and or', 'and other', 'and over', 'and over again', 'and people', 'and read', 'and really', 'and see', 'and she', 'and so', 'and some', 'and sound', 'and still', 'and that', 'and that is', 'and that s', 'and the', 'and the story', 'and their', 'and then', 'and there', 'and there are', 'and there is', 'and these', 'and they', 'and they are', 'and this', 'and this book', 'and this is', 'and this one', 'and thought', 'and to', 'and too', 'and use', 'and very', 'and was', 'and watch', 'and we', 'and well', 'and went', 'and what', 'and when', 'and when i', 'and while', 'and who', 'and why', 'and will', 'and with', 'and would', 'and you', 'and you can', 'another book', 'another one', 'any more', 'any of', 'any of the', 'any one', 'any other', 'anyone who', 'anyone who is', 'anyone who wants', 'anyone with', 'anything else', 'appears to', 'appears to be', 'approach to', 'are a', 'are all', 'are also', 'are better', 'are going', 'are going to', 'are good', 'are great', 'are in', 'are interested', 'are interested in', 'are just', 'are looking', 'are looking for', 'are many', 'are more', 'are no', 'are not', 'are only', 'are really', 'are so', 'are so many', 'are some', 'are still', 'are the', 'are too', 'are very', 'are well', 'are you', 'aren t', 'around the', 'arrived in', 'as a', 'as a gift', 'as advertised', 'as an', 'as bad', 'as described', 'as far', 'as far as', 'as for', 'as good', 'as good as', 'as he', 'as i', 'as if', 'as it', 'as it is', 'as it was', 'as long', 'as long as', 'as much', 'as much as', 'as my', 'as one', 'as one of', 'as she', 'as some', 'as soon', 'as soon as', 'as the', 'as they', 'as this', 'as though', 'as to', 'as usual', 'as we', 'as well', 'as well as', 'as with', 'as you', 'aspects of', 'at a', 'at a time', 'at all', 'at all and', 'at all i', 'at all the', 'at best', 'at first', 'at home', 'at it', 'at its', 'at least', 'at my', 'at night', 'at one', 'at some', 'at that', 'at the', 'at the end', 'at the same', 'at the time', 'at this', 'at times', 'attempt to', 'attempting to', 'attention to', 'author is', 'author s', 'available on', 'avoid this', 'aware of', 'away from', 'away from the', 'away from this', 'away i', 'awful i', 'back and', 'back i', 'back in', 'back in the', 'back into', 'back of', 'back of the', 'back on', 'back to', 'back to the', 'back up', 'bad acting', 'bad but', 'bad i', 'bad movie', 'bad the', 'based on', 'based on a', 'based on the', 'be a', 'be a good', 'be able', 'be able to', 'be an', 'be as', 'be better', 'be disappointed', 'be good', 'be great', 'be honest', 'be in', 'be more', 'be nice', 'be on', 'be one', 'be one of', 'be so', 'be sure', 'be the', 'be the worst', 'be used', 'be very', 'beautiful and', 'because he', 'because i', 'because it', 'because it is', 'because it s', 'because it was', 'because my', 'because of', 'because of the', 'because she', 'because the', 'because there', 'because they', 'because this', 'because you', 'become a', 'been a', 'been able', 'been able to', 'been better', 'been written', 'before and', 'before buying', 'before i', 'before it', 'before the', 'before you', 'begin with', 'beginning of', 'beginning to', 'behind the', 'being a', 'being able', 'being able to', 'being the', 'believe i', 'believe it', 'believe me', 'believe that', 'believe the', 'believe this', 'best book', 'best books', 'best i', 'best of', 'best of the', 'best part', 'better and', 'better but', 'better i', 'better if', 'better off', 'better than', 'better than the', 'better than this', 'better the', 'between the', 'beyond the', 'big brother', 'big fan', 'big fan of', 'bit more', 'bit of', 'black and', 'blu ray', 'book a', 'book about', 'book and', 'book and i', 'book are', 'book as', 'book as a', 'book at', 'book because', 'book but', 'book but i', 'book by', 'book club', 'book does', 'book ever', 'book for', 'book from', 'book had', 'book has', 'book i', 'book i have', 'book i ve', 'book i was', 'book if', 'book if you', 'book in', 'book in the', 'book is', 'book is a', 'book is not', 'book is the', 'book is very', 'book it', 'book it is', 'book it was', 'book of', 'book on', 'book on the', 'book s', 'book should', 'book so', 'book that', 'book that i', 'book the', 'book there', 'book this', 'book this book', 'book this is', 'book to', 'book to be', 'book to read', 'book very', 'book was', 'book was a', 'book when', 'book will', 'book with', 'book would', 'book you', 'books and', 'books are', 'books but', 'books i', 'books i have', 'books i ve', 'books in', 'books in the', 'books that', 'books that i', 'books you', 'boring and', 'boring i', 'both the', 'bottom of', 'bottom of the', 'bought a', 'bought it', 'bought the', 'bought this', 'bought this book', 'bought this for', 'bought this to', 'box and', 'box set', 'bradbury s', 'brand new', 'built in', 'bunch of', 'but a', 'but after', 'but also', 'but as', 'but at', 'but don', 'but don t', 'but even', 'but for', 'but he', 'but i', 'but i can', 'but i didn', 'but i don', 'but i found', 'but i have', 'but i just', 'but i m', 'but i think', 'but i was', 'but i would', 'but if', 'but if you', 'but in', 'but is', 'but it', 'but it does', 'but it is', 'but it s', 'but it was', 'but its', 'but just', 'but my', 'but never', 'but no', 'but not', 'but not the', 'but now', 'but once', 'but only', 'but overall', 'but she', 'but still', 'but that', 'but that is', 'but that s', 'but the', 'but then', 'but there', 'but there are', 'but there is', 'but they', 'but they are', 'but this', 'but this book', 'but this is', 'but this one', 'but to', 'but was', 'but we', 'but what', 'but when', 'but when i', 'but with', 'but you', 'buy a', 'buy another', 'buy from', 'buy it', 'buy the', 'buy this', 'buy this book', 'buy this cd', 'buyer beware', 'buying it', 'buying this', 'by a', 'by all', 'by an', 'by far', 'by far the', 'by my', 'by the', 'by the time', 'by the way', 'by this', 'call it', 'called the', 'came in', 'came out', 'came to', 'came with', 'can be', 'can do', 'can find', 'can get', 'can i', 'can make', 'can not', 'can only', 'can say', 'can see', 'can t', 'can t be', 'can t believe', 'can t get', 'can t say', 'can t wait', 'can tell', 'can you', 'cannot be', 'care about', 'care for', 'cave bear', 'cd and', 'cd for', 'cd i', 'cd is', 'cd s', 'cd to', 'chance to', 'character development', 'character is', 'characters and', 'characters are', 'characters i', 'characters in', 'characters were', 'charlie brown', 'cheap and', 'cheaply made', 'check it', 'check it out', 'check out', 'children and', 'children s', 'clan of', 'clan of the', 'class and', 'class i', 'classic and', 'classic i', 'clear and', 'close to', 'collection of', 'come on', 'come out', 'come to', 'come up', 'come with', 'comes out', 'comes to', 'comes with', 'comfortable and', 'compared to', 'complete waste', 'complete waste of', 'contacted the', 'continue to', 'copy of', 'could be', 'could do', 'could get', 'could give', 'could have', 'could have been', 'could not', 'couldn t', 'couldn t get', 'couldn t put', 'couple of', 'coyote ugly', 'create a', 'customer service', 'dark and', 'day and', 'day i', 'day it', 'deal with', 'decided to', 'definitely a', 'definitely not', 'definitely recommend', 'definitely worth', 'description of', 'descriptions of', 'despite the', 'diane lane', 'did a', 'did i', 'did it', 'did not', 'did not have', 'did not like', 'did not work', 'did the', 'didn t', 'didn t even', 'didn t get', 'didn t have', 'didn t like', 'didn t think', 'didn t want', 'didn t work', 'different from', 'difficult to', 'disappointed i', 'disappointed in', 'disappointed in this', 'disappointed that', 'disappointed with', 'disappointed with the', 'disappointed with this', 'do a', 'do i', 'do it', 'do not', 'do not buy', 'do not have', 'do not recommend', 'do not waste', 'do the', 'do this', 'do with', 'do you', 'do yourself', 'do yourself a', 'does a', 'does have', 'does it', 'does not', 'does not have', 'does not work', 'does the', 'doesn t', 'doesn t even', 'doesn t have', 'doesn t make', 'doesn t work', 'don t', 'don t be', 'don t believe', 'don t bother', 'don t buy', 'don t care', 'don t even', 'don t expect', 'don t get', 'don t have', 'don t know', 'don t let', 'don t like', 'don t need', 'don t see', 'don t think', 'don t understand', 'don t want', 'don t waste', 'done it', 'done with', 'down and', 'down i', 'down the', 'down to', 'due to', 'due to the', 'during the', 'dvd and', 'dvd i', 'dvd is', 'dvd player', 'dvd s', 'dvd was', 'e g', 'each of', 'each other', 'each time', 'easier to', 'easy to', 'easy to read', 'easy to understand', 'easy to use', 'edge of', 'edition of', 'effects and', 'effects are', 'end i', 'end of', 'end of the', 'end up', 'ended up', 'english language', 'enjoy it', 'enjoy the', 'enjoy this', 'enjoyed it', 'enjoyed the', 'enjoyed this', 'enjoyed this book', 'enough for', 'enough to', 'entertaining and', 'especially if', 'especially the', 'especially when', 'even a', 'even better', 'even for', 'even have', 'even if', 'even if you', 'even in', 'even more', 'even the', 'even though', 'even though i', 'even when', 'even with', 'even worse', 'ever heard', 'ever i', 'ever made', 'ever read', 'ever read i', 'ever seen', 'ever since', 'ever written', 'every day', 'every other', 'every single', 'every song', 'every time', 'every time i', 'everyone else', 'everything else', 'everything i', 'everything is', 'everything you', 'exactly what', 'example of', 'excellent book', 'except for', 'excited to', 'fact i', 'fact that', 'fact that it', 'fahrenheit 451', 'fahrenheit 451 is', 'familiar with', 'family and', 'fan and', 'fan i', 'fan of', 'fan of the', 'fans of', 'far as', 'far better', 'far from', 'far i', 'far more', 'far the', 'far too', 'fast and', 'fast paced', 'favor and', 'feel like', 'feel like i', 'feel of', 'feel that', 'feel the', 'felt like', 'felt like i', 'few days', 'few months', 'few times', 'few years', 'figure out', 'filled with', 'film and', 'film i', 'film is', 'film it', 'film that', 'film the', 'film was', 'find a', 'find it', 'find out', 'find that', 'find the', 'find this', 'fine but', 'finish it', 'finish the', 'first album', 'first and', 'first book', 'first but', 'first i', 'first of', 'first of all', 'first one', 'first place', 'first read', 'first time', 'first time i', 'first two', 'fit the', 'five stars', 'follow the', 'for 2', 'for 3', 'for a', 'for a book', 'for a few', 'for a good', 'for a long', 'for a while', 'for about', 'for all', 'for an', 'for any', 'for anyone', 'for anyone who', 'for children', 'for christmas', 'for each', 'for every', 'for everyone', 'for example', 'for free', 'for her', 'for him', 'for his', 'for i', 'for it', 'for its', 'for kids', 'for many', 'for me', 'for me and', 'for me i', 'for me to', 'for more', 'for my', 'for my daughter', 'for my son', 'for one', 'for our', 'for over', 'for people', 'for school', 'for some', 'for someone', 'for something', 'for that', 'for the', 'for the first', 'for the money', 'for the most', 'for the next', 'for the price', 'for the rest', 'for their', 'for them', 'for these', 'for this', 'for this book', 'for this movie', 'for those', 'for those who', 'for us', 'for what', 'for years', 'for you', 'for your', 'for yourself', 'forced to', 'forward to', 'found a', 'found it', 'found it to', 'found myself', 'found out', 'found that', 'found the', 'found this', 'found this book', 'friends and', 'from a', 'from amazon', 'from her', 'from it', 'from my', 'from that', 'from the', 'from this', 'from this book', 'front of', 'full of', 'fun and', 'fun but', 'fun for', 'fun to', 'funny and', 'game and', 'game for', 'game i', 'game is', 'game it', 'gammell s', 'garcia marquez', 'gave it', 'gave me', 'gave this', 'gave up', 'george orwell', 'get a', 'get back', 'get in', 'get into', 'get it', 'get it to', 'get me', 'get me wrong', 'get my', 'get the', 'get this', 'get through', 'get to', 'get to the', 'get what', 'get what you', 'gets a', 'getting a', 'gift for', 'give it', 'give it a', 'give me', 'give the', 'give this', 'give up', 'give you', 'gives a', 'gives me', 'gives you', 'giving it', 'glad i', 'glad to', 'go back', 'go for', 'go on', 'go through', 'go to', 'go to the', 'go with', 'goes on', 'goes to', 'going back', 'going on', 'going to', 'going to be', 'good and', 'good as', 'good as the', 'good book', 'good but', 'good but the', 'good enough', 'good for', 'good i', 'good idea', 'good in', 'good it', 'good job', 'good movie', 'good price', 'good product', 'good quality', 'good read', 'good story', 'good the', 'good thing', 'good things', 'good this', 'good to', 'good value', 'got a', 'got it', 'got the', 'got this', 'got to', 'graphics are', 'great and', 'great as', 'great book', 'great but', 'great buy', 'great cd', 'great deal', 'great for', 'great i', 'great idea', 'great if', 'great job', 'great movie', 'great price', 'great product', 'great read', 'great story', 'great the', 'great this', 'great to', 'group of', 'guess i', 'guide to', 'guy montag', 'had a', 'had an', 'had been', 'had it', 'had no', 'had read', 'had some', 'had the', 'had this', 'had to', 'had to read', 'hadn t', 'half of', 'half of the', 'half the', 'half way', 'happened to', 'happy with', 'happy with this', 'hard to', 'hard to find', 'hard to read', 'has a', 'has an', 'has been', 'has been a', 'has done', 'has ever', 'has no', 'has not', 'has some', 'has the', 'has to', 'has to be', 'hasn t', 'hate this', 'haunted house', 'have a', 'have all', 'have always', 'have an', 'have any', 'have been', 'have been a', 'have been better', 'have bought', 'have done', 'have ever', 'have ever read', 'have ever seen', 'have for', 'have found', 'have given', 'have had', 'have in', 'have it', 'have made', 'have my', 'have never', 'have no', 'have not', 'have one', 'have only', 'have purchased', 'have read', 'have seen', 'have some', 'have the', 'have this', 'have to', 'have to be', 'have to read', 'have to say', 'have tried', 'haven t', 'having a', 'having to', 'hawthorne s', 'he can', 'he could', 'he did', 'he does', 'he had', 'he has', 'he is', 'he loves', 'he s', 'he was', 'he would', 'hear it', 'hear the', 'heard of', 'heard the', 'help you', 'helped me', 'helter skelter', 'her and', 'her best', 'her books', 'her life', 'her own', 'her to', 'here and', 'here are', 'here but', 'here i', 'here is', 'hi tec', 'high school', 'highly recommend', 'highly recommend it', 'highly recommend this', 'highly recommended', 'him a', 'him and', 'him to', 'his best', 'his book', 'his books', 'his life', 'his music', 'his other', 'his own', 'history and', 'history of', 'history of the', 'hold the', 'hold up', 'hoping to', 'horrible i', 'horror movie', 'hours of', 'house and', 'how can', 'how he', 'how i', 'how it', 'how many', 'how much', 'how the', 'how they', 'how to', 'however i', 'however it', 'however the', 'however this', 'huge fan', 'huge fan of', 'hundred years', 'hundreds of', 'husband and', 'husband and i', 'i absolutely', 'i actually', 'i agree', 'i agree with', 'i also', 'i always', 'i am', 'i am a', 'i am going', 'i am not', 'i am so', 'i am very', 'i believe', 'i bought', 'i bought a', 'i bought it', 'i bought the', 'i bought this', 'i buy', 'i called', 'i can', 'i can say', 'i can see', 'i can t', 'i cannot', 'i contacted', 'i could', 'i could have', 'i could not', 'i couldn', 'i couldn t', 'i d', 'i decided', 'i decided to', 'i did', 'i did not', 'i didn', 'i didn t', 'i do', 'i do not', 'i don', 'i don t', 'i dont', 'i e', 'i ended', 'i ended up', 'i enjoy', 'i enjoyed', 'i enjoyed the', 'i enjoyed this', 'i even', 'i ever', 'i expected', 'i feel', 'i feel that', 'i felt', 'i felt like', 'i figured', 'i finally', 'i find', 'i find it', 'i finished', 'i first', 'i found', 'i found it', 'i found myself', 'i found that', 'i found the', 'i found this', 'i gave', 'i gave it', 'i get', 'i give', 'i give it', 'i give this', 'i got', 'i got a', 'i got it', 'i got the', 'i got this', 'i guess', 'i guess i', 'i had', 'i had a', 'i had read', 'i had the', 'i had to', 'i hadn', 'i hadn t', 'i hate', 'i hated', 'i have', 'i have a', 'i have been', 'i have ever', 'i have had', 'i have never', 'i have no', 'i have not', 'i have read', 'i have seen', 'i have the', 'i have to', 'i haven', 'i haven t', 'i heard', 'i highly', 'i highly recommend', 'i hope', 'i just', 'i kept', 'i knew', 'i know', 'i know i', 'i know it', 'i learned', 'i like', 'i like it', 'i like the', 'i like this', 'i liked', 'i liked the', 'i ll', 'i ll be', 'i looked', 'i love', 'i love it', 'i love the', 'i love this', 'i loved', 'i loved it', 'i loved the', 'i loved this', 'i m', 'i m a', 'i m glad', 'i m going', 'i m just', 'i m not', 'i m sure', 'i m very', 'i may', 'i mean', 'i might', 'i must', 'i must admit', 'i must say', 'i need', 'i need to', 'i needed', 'i needed to', 'i never', 'i noticed', 'i now', 'i only', 'i opened', 'i ordered', 'i ordered it', 'i ordered the', 'i ordered this', 'i own', 'i paid', 'i personally', 'i picked', 'i plan', 'i purchased', 'i purchased the', 'i purchased this', 'i put', 'i read', 'i read it', 'i read the', 'i read this', 'i realized', 'i really', 'i really enjoyed', 'i really like', 'i really liked', 'i received', 'i recently', 'i recommend', 'i recommend it', 'i recommend this', 'i remember', 'i returned', 'i returned it', 'i said', 'i saw', 'i saw the', 'i saw this', 'i say', 'i see', 'i should', 'i should have', 'i started', 'i still', 'i strongly', 'i suggest', 'i suppose', 'i think', 'i think i', 'i think it', 'i think that', 'i think the', 'i think this', 'i thought', 'i thought i', 'i thought it', 'i thought that', 'i thought the', 'i thought this', 'i took', 'i tried', 'i tried to', 'i understand', 'i use', 'i used', 'i used it', 'i used to', 'i usually', 'i ve', 'i ve been', 'i ve ever', 'i ve had', 'i ve heard', 'i ve never', 'i ve read', 'i ve seen', 'i want', 'i want to', 'i wanted', 'i wanted to', 'i was', 'i was a', 'i was able', 'i was disappointed', 'i was expecting', 'i was hoping', 'i was in', 'i was looking', 'i was not', 'i was really', 'i was so', 'i was surprised', 'i was very', 'i wasn', 'i wasn t', 'i wasted', 'i watched', 'i went', 'i went to', 'i were', 'i will', 'i will be', 'i will never', 'i will not', 'i wish', 'i wish i', 'i won', 'i won t', 'i wonder', 'i would', 'i would be', 'i would give', 'i would have', 'i would highly', 'i would like', 'i would not', 'i would recommend', 'i wouldn', 'i wouldn t', 'idea of', 'if he', 'if i', 'if i could', 'if i had', 'if i were', 'if it', 'if it is', 'if it s', 'if it was', 'if not', 'if only', 'if she', 'if the', 'if there', 'if they', 'if this', 'if this is', 'if we', 'if you', 'if you are', 'if you buy', 'if you can', 'if you do', 'if you don', 'if you enjoy', 'if you have', 'if you know', 'if you like', 'if you love', 'if you need', 'if you re', 'if you think', 'if you ve', 'if you want', 'if your', 'impossible to', 'impressed with', 'in a', 'in a long', 'in a way', 'in addition', 'in all', 'in an', 'in and', 'in any', 'in every', 'in fact', 'in fact i', 'in front', 'in general', 'in good', 'in great', 'in her', 'in high', 'in high school', 'in his', 'in it', 'in its', 'in life', 'in love', 'in love with', 'in many', 'in my', 'in my life', 'in my opinion', 'in new', 'in on', 'in one', 'in order', 'in order to', 'in other', 'in our', 'in particular', 'in place', 'in some', 'in such', 'in that', 'in the', 'in the back', 'in the beginning', 'in the book', 'in the early', 'in the end', 'in the film', 'in the first', 'in the future', 'in the last', 'in the middle', 'in the movie', 'in the past', 'in the same', 'in the series', 'in the story', 'in the way', 'in the world', 'in their', 'in there', 'in these', 'in this', 'in this book', 'in this case', 'in this film', 'in this movie', 'in time', 'in to', 'in which', 'in with', 'in your', 'information about', 'information in', 'information is', 'information on', 'inside the', 'insight into', 'instead of', 'interest in', 'interested in', 'interested in the', 'interesting and', 'interesting but', 'interesting to', 'into a', 'into it', 'into my', 'into the', 'into this', 'introduction to', 'is a', 'is a bit', 'is a book', 'is a classic', 'is a good', 'is a great', 'is a huge', 'is a little', 'is a lot', 'is a must', 'is a very', 'is a wonderful', 'is about', 'is about a', 'is absolutely', 'is actually', 'is all', 'is almost', 'is also', 'is also a', 'is always', 'is amazing', 'is an', 'is an excellent', 'is and', 'is another', 'is as', 'is at', 'is awesome', 'is bad', 'is based', 'is based on', 'is because', 'is being', 'is better', 'is beyond', 'is boring', 'is by', 'is by far', 'is completely', 'is definitely', 'is difficult', 'is easy', 'is easy to', 'is excellent', 'is extremely', 'is far', 'is filled', 'is filled with', 'is for', 'is for you', 'is full', 'is full of', 'is fun', 'is going', 'is going to', 'is good', 'is good but', 'is great', 'is hard', 'is hard to', 'is horrible', 'is i', 'is in', 'is incredibly', 'is interesting', 'is it', 'is just', 'is just a', 'is like', 'is made', 'is missing', 'is more', 'is much', 'is my', 'is no', 'is not', 'is not a', 'is not for', 'is not only', 'is not the', 'is not worth', 'is nothing', 'is now', 'is of', 'is ok', 'is on', 'is one', 'is one of', 'is only', 'is out', 'is over', 'is perfect', 'is poor', 'is pretty', 'is probably', 'is quite', 'is really', 'is simply', 'is so', 'is some', 'is something', 'is still', 'is such', 'is supposed', 'is supposed to', 'is terrible', 'is that', 'is that i', 'is that it', 'is that the', 'is the', 'is the best', 'is the book', 'is the first', 'is the most', 'is the one', 'is the only', 'is the worst', 'is there', 'is this', 'is to', 'is too', 'is truly', 'is trying', 'is trying to', 'is very', 'is very good', 'is way', 'is well', 'is what', 'is what i', 'is why', 'is wonderful', 'is worth', 'is written', 'is your', 'isn t', 'isn t a', 'isn t the', 'it 5', 'it a', 'it after', 'it again', 'it all', 'it all the', 'it also', 'it and', 'it and i', 'it and it', 'it and the', 'it appears', 'it arrived', 'it as', 'it as a', 'it at', 'it at all', 'it away', 'it back', 'it because', 'it because it', 'it before', 'it but', 'it but i', 'it but it', 'it came', 'it can', 'it can be', 'it comes', 'it could', 'it could be', 'it did', 'it did not', 'it didn', 'it didn t', 'it does', 'it does not', 'it doesn', 'it doesn t', 'it don', 'it don t', 'it down', 'it even', 'it first', 'it for', 'it for a', 'it for my', 'it for the', 'it from', 'it gets', 'it gives', 'it goes', 'it got', 'it had', 'it has', 'it has a', 'it has been', 'it i', 'it i have', 'it i m', 'it i was', 'it i would', 'it if', 'it if you', 'it in', 'it in a', 'it in the', 'it into', 'it is', 'it is a', 'it is about', 'it is also', 'it is an', 'it is hard', 'it is just', 'it is not', 'it is one', 'it is so', 'it is the', 'it is very', 'it is worth', 'it isn', 'it isn t', 'it it', 'it it is', 'it it s', 'it it was', 'it just', 'it like', 'it looks', 'it looks like', 'it made', 'it made me', 'it makes', 'it may', 'it might', 'it more', 'it must', 'it my', 'it never', 'it not', 'it now', 'it off', 'it on', 'it on the', 'it once', 'it one', 'it only', 'it or', 'it out', 'it over', 'it really', 'it s', 'it s a', 'it s about', 'it s all', 'it s an', 'it s been', 'it s hard', 'it s just', 'it s like', 'it s not', 'it s so', 'it s still', 'it s the', 'it s very', 'it s worth', 'it says', 'it seemed', 'it seems', 'it should', 'it should be', 'it shows', 'it so', 'it sounds', 'it started', 'it still', 'it takes', 'it that', 'it the', 'it this', 'it this book', 'it this is', 'it to', 'it to anyone', 'it to be', 'it to the', 'it too', 'it took', 'it up', 'it very', 'it was', 'it was a', 'it was an', 'it was great', 'it was just', 'it was not', 'it was so', 'it was the', 'it was very', 'it was written', 'it wasn', 'it wasn t', 'it when', 'it will', 'it will be', 'it with', 'it won', 'it won t', 'it worked', 'it works', 'it would', 'it would be', 'it would have', 'it wouldn', 'it wouldn t', 'it you', 'item i', 'item is', 'its a', 'its not', 'its own', 'itself is', 'job of', 'just a', 'just about', 'just another', 'just as', 'just because', 'just can', 'just didn', 'just didn t', 'just doesn', 'just doesn t', 'just don', 'just don t', 'just fine', 'just for', 'just got', 'just like', 'just not', 'just one', 'just plain', 'just so', 'just the', 'just to', 'just too', 'just what', 'keep it', 'keep the', 'keep you', 'kept me', 'kind of', 'kindle edition', 'know about', 'know how', 'know how to', 'know i', 'know if', 'know it', 'know that', 'know the', 'know what', 'know why', 'knowledge of', 'lack of', 'lacking in', 'later i', 'learn about', 'leave the', 'left me', 'less than', 'let down', 'let me', 'let s', 'let the', 'level of', 'life and', 'life i', 'life in', 'life is', 'life of', 'life the', 'like a', 'like all', 'like an', 'like i', 'like i was', 'like in', 'like it', 'like it was', 'like me', 'like she', 'like that', 'like the', 'like they', 'like this', 'like this book', 'like to', 'like you', 'liked it', 'liked the', 'liked this', 'line is', 'list of', 'listen to', 'listen to it', 'listen to the', 'listened to', 'listening to', 'listening to it', 'little bit', 'little more', 'little to', 'little too', 'live in', 'living in', 'll be', 'll find', 'll love', 'll never', 'long and', 'long as', 'long enough', 'long time', 'look at', 'look at the', 'look for', 'look like', 'looked at', 'looked like', 'looking at', 'looking for', 'looking for a', 'looking for the', 'looking forward', 'looking forward to', 'looks like', 'lost in', 'lot more', 'lot of', 'lot of the', 'lots of', 'love and', 'love it', 'love it i', 'love of', 'love story', 'love the', 'love this', 'love this book', 'love this cd', 'love this movie', 'love to', 'love with', 'loved it', 'loved the', 'loved this', 'loved this book', 'loves it', 'm a', 'm glad', 'm glad i', 'm going', 'm going to', 'm just', 'm not', 'm not a', 'm not sure', 'm sure', 'm very', 'mad max', 'made a', 'made and', 'made by', 'made for', 'made in', 'made it', 'made me', 'made of', 'made the', 'made this', 'main character', 'majority of', 'make a', 'make it', 'make me', 'make sense', 'make sure', 'make the', 'make this', 'make up', 'make you', 'makes a', 'makes it', 'makes me', 'makes the', 'makes this', 'makes you', 'making it', 'making the', 'man and', 'man who', 'managed to', 'many of', 'many of the', 'many other', 'many people', 'many times', 'many years', 'matter how', 'may be', 'may be a', 'may have', 'may not', 'maybe i', 'maybe it', 'maybe the', 'me a', 'me and', 'me as', 'me but', 'me feel', 'me i', 'me in', 'me it', 'me of', 'me so', 'me that', 'me the', 'me this', 'me to', 'me want', 'me want to', 'me with', 'me wrong', 'meaning of', 'michael bay', 'middle of', 'might be', 'might have', 'minutes i', 'minutes of', 'mix of', 'money and', 'money back', 'money for', 'money i', 'money on', 'money on this', 'money the', 'money this', 'money to', 'months ago', 'months and', 'more about', 'more and', 'more expensive', 'more from', 'more i', 'more interesting', 'more like', 'more like a', 'more of', 'more of a', 'more of the', 'more than', 'more than a', 'more to', 'most important', 'most likely', 'most of', 'most of the', 'most part', 'most people', 'movie a', 'movie and', 'movie as', 'movie but', 'movie ever', 'movie for', 'movie has', 'movie i', 'movie i have', 'movie if', 'movie if you', 'movie in', 'movie is', 'movie is a', 'movie it', 'movie that', 'movie the', 'movie this', 'movie to', 'movie was', 'movie with', 'movies and', 'movies are', 'movies but', 'movies i', 'movies that', 'mp3 player', 'much about', 'much as', 'much better', 'much better than', 'much for', 'much i', 'much it', 'much more', 'much of', 'much of the', 'much time', 'much to', 'music and', 'music i', 'music in', 'music is', 'music that', 'must admit', 'must be', 'must for', 'must have', 'must have been', 'must have for', 'must read', 'must read for', 'must say', 'must see', 'my 3', 'my 4', 'my advice', 'my attention', 'my collection', 'my computer', 'my copy', 'my daughter', 'my ear', 'my eyes', 'my favorite', 'my favorites', 'my first', 'my friend', 'my friends', 'my head', 'my husband', 'my husband and', 'my interest', 'my jawbone', 'my kids', 'my laptop', 'my life', 'my mind', 'my mom', 'my money', 'my money back', 'my mother', 'my new', 'my only', 'my opinion', 'my own', 'my review', 'my second', 'my skin', 'my son', 'my time', 'my waist', 'my wife', 'myself to', 'need a', 'need to', 'need to be', 'need to know', 'needed a', 'needed to', 'needs to', 'needs to be', 'never been', 'never get', 'never got', 'never had', 'never read', 'never seen', 'new and', 'new one', 'new to', 'new york', 'next book', 'next time', 'next to', 'nice and', 'nice to', 'night and', 'night world', 'no idea', 'no longer', 'no matter', 'no matter how', 'no more', 'no one', 'no other', 'no problems', 'no reason', 'no sense', 'no way', 'none of', 'none of the', 'not a', 'not a good', 'not all', 'not an', 'not as', 'not as good', 'not at', 'not at all', 'not bad', 'not be', 'not been', 'not being', 'not buy', 'not buy this', 'not enough', 'not even', 'not find', 'not fit', 'not for', 'not for the', 'not get', 'not going', 'not good', 'not happy', 'not have', 'not have the', 'not i', 'not in', 'not it', 'not just', 'not know', 'not like', 'not make', 'not much', 'not my', 'not one', 'not only', 'not read', 'not really', 'not recommend', 'not recommend this', 'not recommended', 'not so', 'not sure', 'not that', 'not the', 'not the best', 'not this', 'not to', 'not to mention', 'not too', 'not very', 'not want', 'not waste', 'not waste your', 'not what', 'not what i', 'not work', 'not worth', 'not worth it', 'not worth the', 'nothing but', 'nothing like', 'nothing more', 'nothing to', 'novel and', 'novel i', 'novel is', 'now and', 'now i', 'now i have', 'now i m', 'now it', 'now that', 'now the', 'number of', 'of 5', 'of a', 'of action', 'of all', 'of all the', 'of all time', 'of an', 'of any', 'of being', 'of book', 'of books', 'of christmas', 'of course', 'of each', 'of fun', 'of good', 'of great', 'of her', 'of his', 'of how', 'of information', 'of it', 'of its', 'of junk', 'of life', 'of literature', 'of love', 'of many', 'of me', 'of mine', 'of money', 'of music', 'of my', 'of my favorite', 'of my life', 'of one', 'of other', 'of our', 'of people', 'of reading', 'of solitude', 'of some', 'of that', 'of the', 'of the author', 'of the best', 'of the book', 'of the books', 'of the box', 'of the cave', 'of the characters', 'of the film', 'of the first', 'of the game', 'of the greatest', 'of the most', 'of the movie', 'of the original', 'of the other', 'of the reviews', 'of the same', 'of the series', 'of the songs', 'of the story', 'of the time', 'of the world', 'of the worst', 'of their', 'of them', 'of these', 'of things', 'of this', 'of this book', 'of this film', 'of this movie', 'of this product', 'of those', 'of time', 'of time and', 'of times', 'of two', 'of us', 'of use', 'of view', 'of what', 'of which', 'of work', 'of writing', 'of you', 'of your', 'off and', 'off i', 'off of', 'off the', 'off with', 'ok but', 'ok i', 'old and', 'old son', 'on a', 'on amazon', 'on an', 'on and', 'on and on', 'on dvd', 'on her', 'on here', 'on his', 'on how', 'on how to', 'on i', 'on in', 'on it', 'on its', 'on me', 'on my', 'on one', 'on that', 'on the', 'on the back', 'on the cd', 'on the first', 'on the other', 'on their', 'on this', 'on this album', 'on this book', 'on this cd', 'on this one', 'on time', 'on to', 'on top', 'on top of', 'on what', 'on with', 'on your', 'once again', 'once i', 'once in', 'once you', 'one and', 'one book', 'one but', 'one can', 'one day', 'one for', 'one has', 'one i', 'one in', 'one is', 'one it', 'one of', 'one of my', 'one of the', 'one of them', 'one of these', 'one of those', 'one s', 'one star', 'one that', 'one the', 'one thing', 'one this', 'one to', 'one was', 'one who', 'one with', 'one would', 'only a', 'only about', 'only because', 'only complaint', 'only for', 'only good', 'only in', 'only one', 'only problem', 'only reason', 'only reason i', 'only the', 'only thing', 'only thing i', 'only to', 'or a', 'or any', 'or at', 'or even', 'or in', 'or just', 'or more', 'or not', 'or so', 'or something', 'or the', 'or two', 'order to', 'ordered a', 'ordered it', 'ordered the', 'ordered this', 'orwell s', 'other books', 'other people', 'other reviewers', 'other reviews', 'other than', 'other than that', 'our own', 'out a', 'out and', 'out for', 'out how', 'out i', 'out in', 'out it', 'out of', 'out of it', 'out of my', 'out of the', 'out on', 'out that', 'out the', 'out there', 'out this', 'out to', 'out to be', 'out what', 'out with', 'over a', 'over again', 'over and', 'over and over', 'over the', 'over the top', 'over the years', 'overall i', 'overall it', 'own the', 'page turner', 'pages and', 'pages i', 'pages of', 'paid for', 'pair of', 'part is', 'part of', 'part of the', 'parts of', 'past the', 'pay for', 'people and', 'people are', 'people have', 'people i', 'people in', 'people who', 'perfect for', 'perhaps the', 'person who', 'pick up', 'picked up', 'picture of', 'picture quality', 'pictures and', 'piece of', 'piece of junk', 'place in', 'place to', 'plan to', 'play it', 'play the', 'play with', 'played it', 'played with', 'playing with', 'please don', 'please don t', 'pleased with', 'plenty of', 'plot and', 'plot is', 'plot was', 'plus the', 'point i', 'point of', 'point of view', 'poor quality', 'poorly written', 'power adapter', 'predictable and', 'pretty good', 'pretty much', 'price and', 'price for', 'price i', 'price is', 'price of', 'probably the', 'problem i', 'problem is', 'problem with', 'problems with', 'product and', 'product description', 'product for', 'product i', 'product is', 'product it', 'product the', 'product to', 'product was', 'purchase this', 'purchased a', 'purchased it', 'purchased the', 'purchased this', 'put a', 'put down', 'put in', 'put it', 'put it down', 'put it in', 'put it on', 'put on', 'put out', 'put the', 'put this', 'put together', 'quality and', 'quality i', 'quality is', 'quality of', 'quality of the', 'quality was', 'quickly and', 'quite a', 'rather than', 'ray bradbury', 're a', 're looking', 're looking for', 're not', 'read a', 'read about', 'read all', 'read and', 'read and i', 'read but', 'read for', 'read i', 'read if', 'read in', 'read it', 'read it again', 'read it for', 'read it i', 'read it in', 'read on', 'read that', 'read the', 'read the book', 'read the reviews', 'read this', 'read this book', 'reading a', 'reading and', 'reading i', 'reading it', 'reading the', 'reading the book', 'reading this', 'reading this book', 'ready for', 'ready to', 'real life', 'realize that', 'realized that', 'really a', 'really bad', 'really enjoyed', 'really good', 'really great', 'really is', 'really like', 'really liked', 'reason for', 'reason i', 'reason to', 'received a', 'received it', 'received the', 'received this', 'recommend it', 'recommend it to', 'recommend the', 'recommend this', 'recommend this book', 'recommend this product', 'recommend this to', 'relate to', 'reminds me', 'rent it', 'replace the', 'required to', 'rest of', 'rest of the', 'return it', 'returned it', 'review i', 'review of', 'reviews and', 'reviews i', 'reviews on', 'rice cooker', 'rid of', 'right away', 'right out', 'rip off', 's a', 's a good', 's about', 's all', 's an', 's and', 's been', 's best', 's book', 's books', 's character', 's first', 's going', 's got', 's great', 's hard', 's hard to', 's i', 's in', 's just', 's just a', 's like', 's more', 's music', 's no', 's not', 's not a', 's not the', 's only', 's own', 's really', 's so', 's still', 's story', 's style', 's that', 's the', 's too', 's very', 's what', 's work', 's worth', 's writing', 'said i', 'said it', 'said that', 'said the', 'said this', 'same as', 'same thing', 'same time', 'satisfied with', 'save your', 'save your money', 'saw it', 'saw the', 'saw this', 'saw this movie', 'say about', 'say i', 'say is', 'say it', 'say that', 'say that i', 'say that this', 'say the', 'say this', 'says it', 'scarlet letter', 'scenes are', 'school and', 'sci fi', 'science fiction', 'search for', 'second one', 'second time', 'see a', 'see how', 'see if', 'see it', 'see that', 'see the', 'see this', 'see this movie', 'see what', 'seem to', 'seem to be', 'seemed like', 'seemed to', 'seems like', 'seems that', 'seems to', 'seems to be', 'seen i', 'seen in', 'seen it', 'seen the', 'seen this', 'send it', 'sense of', 'series and', 'series i', 'series is', 'series of', 'set in', 'set is', 'set of', 'set up', 'several of', 'several times', 'several years', 'shame on', 'she can', 'she does', 'she had', 'she has', 'she is', 'she loves', 'she s', 'she was', 'sherlock holmes', 'should be', 'should have', 'should have been', 'should not', 'should not be', 'should read', 'shouldn t', 'shows the', 'side of', 'side of the', 'similar to', 'since i', 'since it', 'since the', 'size and', 'skip this', 'sleep on', 'slow and', 'small and', 'so bad', 'so boring', 'so called', 'so excited', 'so far', 'so glad', 'so good', 'so he', 'so i', 'so i bought', 'so i can', 'so if', 'so if you', 'so it', 'so it is', 'so long', 'so many', 'so much', 'so so', 'so that', 'so the', 'so they', 'so this', 'so we', 'so well', 'so what', 'so you', 'so you can', 'some good', 'some kind', 'some kind of', 'some of', 'some of the', 'some other', 'some people', 'some sort', 'some time', 'someone who', 'something else', 'something i', 'something that', 'something to', 'son s', 'song is', 'song on', 'songs are', 'songs on', 'soon as', 'sort of', 'sound and', 'sound is', 'sound of', 'sound quality', 'sounds like', 'sounds like a', 'special effects', 'special features', 'star because', 'star rating', 'stars because', 'stars for', 'stars i', 'start to', 'started to', 'stay away', 'stay away from', 'stay in', 'stick to', 'stick with', 'still a', 'still have', 'stopped working', 'stories and', 'stories are', 'story and', 'story but', 'story i', 'story in', 'story is', 'story it', 'story line', 'story of', 'story of the', 'story that', 'story the', 'story this', 'story to', 'story was', 'style and', 'style is', 'style of', 'such a', 'such an', 'such as', 'such as the', 'suppose to', 'supposed to', 'supposed to be', 'sure i', 'sure if', 'sure it', 'sure that', 'sure to', 'sure what', 'sure you', 't a', 't as', 't be', 't believe', 't bother', 't buy', 't buy it', 't buy this', 't care', 't do', 't even', 't expect', 't feel', 't find', 't fit', 't for', 't get', 't get it', 't give', 't go', 't have', 't have a', 't have the', 't have to', 't help', 't hold', 't it', 't know', 't know what', 't let', 't like', 't like the', 't look', 't make', 't mind', 't need', 't put', 't put it', 't read', 't really', 't recommend', 't recommend this', 't say', 't see', 't seem', 't seem to', 't take', 't tell', 't the', 't think', 't understand', 't use', 't wait', 't wait for', 't wait to', 't want', 't want to', 't waste', 't waste your', 't watch', 't work', 'take a', 'take it', 'take on', 'take the', 'takes a', 'taking the', 'tale of', 'talk about', 'talking about', 'talks about', 'tech support', 'tell me', 'tell the', 'tell you', 'than a', 'than i', 'than it', 'than just', 'than one', 'than that', 'than the', 'than this', 'thank you', 'thanks for', 'thanks to', 'that a', 'that all', 'that are', 'that but', 'that came', 'that came with', 'that can', 'that comes', 'that could', 'that doesn', 'that doesn t', 'that had', 'that has', 'that have', 'that he', 'that i', 'that i am', 'that i can', 'that i could', 'that i had', 'that i have', 'that i m', 'that i ve', 'that i was', 'that i would', 'that if', 'that if you', 'that in', 'that is', 'that is a', 'that is not', 'that is the', 'that it', 'that it is', 'that it s', 'that it was', 'that it would', 'that made', 'that make', 'that makes', 'that most', 'that much', 'that my', 'that one', 'that really', 'that s', 'that s not', 'that s the', 'that s what', 'that said', 'that she', 'that should', 'that some', 'that the', 'that the book', 'that there', 'that there are', 'that there is', 'that these', 'that they', 'that they are', 'that this', 'that this book', 'that this is', 'that this was', 'that time', 'that was', 'that way', 'that we', 'that were', 'that will', 'that would', 'that you', 'that you can', 'the 1st', 'the 2', 'the 2nd', 'the 3', 'the acting', 'the acting is', 'the action', 'the actors', 'the actual', 'the air', 'the album', 'the american', 'the amount', 'the answer', 'the apple', 'the art', 'the audience', 'the audio', 'the author', 'the author is', 'the author s', 'the authors', 'the average', 'the back', 'the back of', 'the background', 'the bad', 'the band', 'the bar', 'the basic', 'the battery', 'the bed', 'the beginning', 'the beginning of', 'the best', 'the best book', 'the best books', 'the best i', 'the best of', 'the best part', 'the better', 'the big', 'the biggest', 'the blue', 'the book', 'the book and', 'the book but', 'the book for', 'the book has', 'the book i', 'the book in', 'the book is', 'the book it', 'the book the', 'the book to', 'the book was', 'the books', 'the bottom', 'the bottom of', 'the box', 'the cable', 'the camera', 'the car', 'the card', 'the case', 'the cast', 'the cave', 'the cave bear', 'the cd', 'the cd is', 'the character', 'the characters', 'the characters are', 'the characters were', 'the charger', 'the clan', 'the classic', 'the color', 'the company', 'the computer', 'the concept', 'the concert', 'the content', 'the cord', 'the correct', 'the cost', 'the cover', 'the dark', 'the day', 'the death', 'the descent', 'the description', 'the device', 'the difference', 'the director', 'the disc', 'the dvd', 'the ear', 'the early', 'the edge', 'the elevator', 'the end', 'the end of', 'the ending', 'the english', 'the entire', 'the exact', 'the extra', 'the fact', 'the fact that', 'the family', 'the few', 'the film', 'the film is', 'the final', 'the first', 'the first book', 'the first one', 'the first place', 'the first time', 'the first two', 'the floor', 'the foundation', 'the french', 'the front', 'the full', 'the future', 'the game', 'the general', 'the good', 'the government', 'the graphics', 'the graphics are', 'the great', 'the greatest', 'the haunting', 'the head', 'the heart', 'the hell', 'the hero', 'the high', 'the history', 'the history of', 'the house', 'the human', 'the idea', 'the idea of', 'the illustrations', 'the information', 'the inside', 'the instructions', 'the internet', 'the item', 'the jawbone', 'the job', 'the kids', 'the kind', 'the kind of', 'the kindle', 'the lack', 'the lack of', 'the language', 'the last', 'the late', 'the least', 'the library', 'the life', 'the life of', 'the light', 'the little', 'the long', 'the love', 'the lyrics', 'the main', 'the main character', 'the man', 'the manufacturer', 'the many', 'the market', 'the material', 'the message', 'the middle', 'the middle of', 'the modern', 'the money', 'the money i', 'the mood', 'the moon', 'the more', 'the most', 'the most part', 'the mouth', 'the movie', 'the movie and', 'the movie i', 'the movie is', 'the movie was', 'the movies', 'the music', 'the music is', 'the name', 'the new', 'the next', 'the night', 'the novel', 'the number', 'the number of', 'the odyssey', 'the old', 'the one', 'the one i', 'the one that', 'the ones', 'the only', 'the only good', 'the only one', 'the only problem', 'the only reason', 'the only thing', 'the original', 'the other', 'the other reviews', 'the others', 'the overall', 'the package', 'the packaging', 'the page', 'the pages', 'the paper', 'the part', 'the past', 'the people', 'the people who', 'the perfect', 'the person', 'the phone', 'the picture', 'the pictures', 'the pieces', 'the place', 'the plastic', 'the play', 'the player', 'the plot', 'the plot is', 'the plot was', 'the point', 'the point of', 'the poor', 'the power', 'the previous', 'the price', 'the price i', 'the price is', 'the price of', 'the print', 'the printer', 'the problem', 'the problem is', 'the problems', 'the product', 'the production', 'the public', 'the publisher', 'the pump', 'the quality', 'the quality of', 'the radio', 'the reader', 'the real', 'the reason', 'the rest', 'the rest of', 'the review', 'the reviews', 'the right', 'the road', 'the room', 'the rubber', 'the same', 'the same as', 'the same thing', 'the same time', 'the scarlet', 'the scarlet letter', 'the scene', 'the scenes', 'the screen', 'the script', 'the second', 'the second time', 'the seller', 'the series', 'the set', 'the shipping', 'the show', 'the side', 'the size', 'the small', 'the software', 'the song', 'the songs', 'the songs are', 'the sound', 'the sound is', 'the sound quality', 'the soundtrack', 'the special', 'the special effects', 'the start', 'the store', 'the stories', 'the story', 'the story and', 'the story is', 'the story line', 'the story of', 'the story was', 'the storyline', 'the style', 'the subject', 'the table', 'the tape', 'the teeth', 'the test', 'the text', 'the thing', 'the things', 'the third', 'the three', 'the time', 'the time i', 'the time to', 'the title', 'the top', 'the top of', 'the toy', 'the tracks', 'the trash', 'the trick', 'the true', 'the truth', 'the tv', 'the two', 'the type', 'the unit', 'the us', 'the use', 'the usual', 'the various', 'the very', 'the video', 'the viewer', 'the wall', 'the war', 'the way', 'the way i', 'the way it', 'the way the', 'the whole', 'the whole thing', 'the wilderness', 'the woman', 'the word', 'the words', 'the work', 'the world', 'the world of', 'the worst', 'the worst book', 'the worst movie', 'the worst movies', 'the writer', 'the writing', 'the wrong', 'the year', 'the years', 'their lives', 'their own', 'them all', 'them and', 'them but', 'them for', 'them i', 'them in', 'them it', 'them on', 'them the', 'them they', 'them to', 'then i', 'then it', 'then the', 'then this', 'then you', 'there and', 'there are', 'there are a', 'there are many', 'there are no', 'there are so', 'there are some', 'there i', 'there is', 'there is a', 'there is no', 'there is nothing', 'there s', 'there s a', 'there s no', 'there was', 'there was a', 'there was no', 'there were', 'these are', 'these books', 'these boots', 'these days', 'these for', 'these guys', 'they all', 'they are', 'they are not', 'they can', 'they could', 'they did', 'they didn', 'they didn t', 'they do', 'they don', 'they don t', 'they had', 'they have', 'they make', 'they re', 'they said', 'they seem', 'they should', 'they ve', 'they were', 'they will', 'they would', 'thing about', 'thing about this', 'thing i', 'thing is', 'thing that', 'thing to', 'things about', 'things i', 'things that', 'think about', 'think i', 'think it', 'think it is', 'think it s', 'think of', 'think that', 'think the', 'think they', 'think this', 'think this is', 'think you', 'thinking about', 'thinking it', 'thinking of', 'this a', 'this album', 'this album is', 'this and', 'this as', 'this as a', 'this band', 'this because', 'this bed', 'this book', 'this book a', 'this book and', 'this book as', 'this book because', 'this book but', 'this book for', 'this book has', 'this book i', 'this book if', 'this book in', 'this book is', 'this book it', 'this book should', 'this book the', 'this book this', 'this book to', 'this book was', 'this book will', 'this book you', 'this but', 'this camera', 'this card', 'this case', 'this cd', 'this cd i', 'this cd is', 'this collection', 'this company', 'this could', 'this day', 'this disc', 'this dvd', 'this dvd is', 'this edition', 'this film', 'this film is', 'this for', 'this for my', 'this game', 'this game is', 'this great', 'this guy', 'this has', 'this i', 'this if', 'this in', 'this is', 'this is a', 'this is an', 'this is by', 'this is just', 'this is my', 'this is not', 'this is one', 'this is the', 'this is what', 'this isn', 'this isn t', 'this it', 'this item', 'this kind', 'this kind of', 'this may', 'this movie', 'this movie and', 'this movie i', 'this movie is', 'this movie it', 'this movie was', 'this music', 'this new', 'this novel', 'this on', 'this one', 'this one and', 'this one i', 'this one is', 'this one was', 'this particular', 'this piece', 'this player', 'this printer', 'this product', 'this product i', 'this product is', 'this record', 'this review', 'this scanner', 'this seller', 'this series', 'this set', 'this should', 'this show', 'this song', 'this story', 'this the', 'this thing', 'this this', 'this time', 'this to', 'this to anyone', 'this toy', 'this type', 'this type of', 'this version', 'this video', 'this video is', 'this was', 'this was a', 'this was one', 'this was the', 'this will', 'this woman', 'this work', 'this would', 'this would be', 'this year', 'those books', 'those of', 'those who', 'those who are', 'though i', 'though it', 'though the', 'thought i', 'thought it', 'thought it was', 'thought it would', 'thought provoking', 'thought that', 'thought the', 'thought this', 'through a', 'through amazon', 'through it', 'through the', 'through the book', 'through this', 'throughout the', 'time and', 'time and money', 'time but', 'time for', 'time i', 'time in', 'time it', 'time of', 'time on', 'time or', 'time the', 'time this', 'time to', 'time with', 'time you', 'times and', 'times i', 'times the', 'tired of', 'to a', 'to actually', 'to add', 'to admit', 'to all', 'to amazon', 'to an', 'to and', 'to another', 'to any', 'to anyone', 'to anyone who', 'to be', 'to be a', 'to be able', 'to be an', 'to be in', 'to be one', 'to be the', 'to be very', 'to become', 'to begin', 'to believe', 'to bring', 'to burn', 'to buy', 'to buy a', 'to buy it', 'to buy this', 'to change', 'to charge', 'to clean', 'to come', 'to come out', 'to cover', 'to create', 'to date', 'to deal', 'to deal with', 'to do', 'to do with', 'to end', 'to enjoy', 'to everyone', 'to expect', 'to explain', 'to figure', 'to figure out', 'to find', 'to find a', 'to find out', 'to find the', 'to finish', 'to fit', 'to fix', 'to follow', 'to get', 'to get a', 'to get it', 'to get the', 'to get this', 'to get to', 'to give', 'to give it', 'to go', 'to go to', 'to have', 'to have a', 'to hear', 'to help', 'to her', 'to him', 'to his', 'to hold', 'to install', 'to it', 'to its', 'to just', 'to keep', 'to know', 'to learn', 'to let', 'to life', 'to like', 'to listen', 'to listen to', 'to live', 'to look', 'to look at', 'to love', 'to make', 'to make a', 'to make it', 'to make the', 'to many', 'to me', 'to me i', 'to mention', 'to move', 'to much', 'to my', 'to no', 'to not', 'to order', 'to other', 'to our', 'to own', 'to pay', 'to people', 'to pick', 'to play', 'to pull', 'to purchase', 'to put', 'to put it', 'to read', 'to read a', 'to read about', 'to read and', 'to read i', 'to read it', 'to read the', 'to read this', 'to reading', 'to receive', 'to remove', 'to replace', 'to return', 'to return it', 'to run', 'to save', 'to say', 'to say about', 'to say i', 'to say it', 'to say that', 'to say the', 'to see', 'to see a', 'to see how', 'to see if', 'to see it', 'to see the', 'to see this', 'to see what', 'to sell', 'to send', 'to set', 'to show', 'to sing', 'to sit', 'to sleep', 'to some', 'to speak', 'to spend', 'to start', 'to stay', 'to stop', 'to take', 'to tell', 'to that', 'to the', 'to the point', 'to the story', 'to their', 'to them', 'to think', 'to this', 'to those', 'to throw', 'to try', 'to turn', 'to understand', 'to understand the', 'to use', 'to use it', 'to use the', 'to waste', 'to watch', 'to watch the', 'to watch this', 'to wear', 'to what', 'to work', 'to write', 'to you', 'to your', 'today s', 'together and', 'told me', 'tomb raider', 'too bad', 'too big', 'too hard', 'too long', 'too many', 'too much', 'too short', 'too small', 'took a', 'took it', 'took me', 'top of', 'towards the', 'toy is', 'tracks are', 'tried it', 'tried to', 'tries to', 'trip to', 'true to', 'trust me', 'try it', 'try to', 'trying to', 'trying to get', 'turn it', 'turn the', 'turned out', 'turned out to', 'turns out', 'two of', 'two stars', 'type of', 'types of', 'u s', 'unable to', 'under the', 'understand it', 'understand that', 'understand the', 'understand what', 'understand why', 'unfortunately i', 'unfortunately the', 'unless you', 'unless you are', 'until i', 'until the', 'up a', 'up and', 'up at', 'up for', 'up i', 'up in', 'up in the', 'up my', 'up on', 'up the', 'up this', 'up to', 'up to the', 'up with', 'us to', 'use a', 'use and', 'use i', 'use it', 'use of', 'use the', 'use them', 'use this', 'used for', 'used in', 'used it', 'used the', 'used this', 'used to', 'using it', 'using the', 'using this', 'value for', 'van damme', 'variety of', 've been', 've ever', 've ever read', 've ever seen', 've got', 've had', 've heard', 've never', 've read', 've seen', 'version 2', 'version 2 0', 'version i', 'version is', 'version of', 'version of the', 'version of this', 'versions of', 'very bad', 'very boring', 'very comfortable', 'very difficult', 'very difficult to', 'very disappointed', 'very disappointed in', 'very disappointing', 'very easy', 'very easy to', 'very entertaining', 'very few', 'very good', 'very good book', 'very good i', 'very happy', 'very happy with', 'very hard', 'very hard to', 'very helpful', 'very informative', 'very interesting', 'very little', 'very much', 'very nice', 'very pleased', 'very poor', 'very small', 'very very', 'very well', 'very well written', 'video i', 'video is', 'view of', 'voice is', 'wait for', 'wait for the', 'wait to', 'waiting for', 'want a', 'want to', 'want to know', 'want to read', 'want to see', 'wanted to', 'wanting to', 'wants to', 'was a', 'was a bit', 'was a good', 'was a great', 'was a little', 'was a very', 'was able', 'was able to', 'was about', 'was all', 'was also', 'was an', 'was as', 'was at', 'was better', 'was disappointed', 'was easy', 'was excellent', 'was excited', 'was expecting', 'was extremely', 'was for', 'was fun', 'was going', 'was going to', 'was good', 'was great', 'was hoping', 'was horrible', 'was i', 'was in', 'was it', 'was just', 'was like', 'was looking', 'was looking for', 'was made', 'was missing', 'was more', 'was much', 'was my', 'was never', 'was no', 'was not', 'was ok', 'was on', 'was one', 'was one of', 'was only', 'was pretty', 'was quite', 'was really', 'was so', 'was still', 'was supposed', 'was supposed to', 'was surprised', 'was terrible', 'was that', 'was the', 'was the first', 'was this', 'was to', 'was too', 'was trying', 'was trying to', 'was very', 'was very disappointed', 'was well', 'was when', 'was worth', 'was written', 'wasn t', 'waste of', 'waste of money', 'waste of time', 'waste your', 'waste your money', 'waste your time', 'wasted my', 'watch a', 'watch it', 'watch the', 'watch this', 'watch this movie', 'watched it', 'watched the', 'watched this', 'watching a', 'watching it', 'watching the', 'watching this', 'way and', 'way i', 'way it', 'way of', 'way that', 'way the', 'way through', 'way to', 'way too', 'we all', 'we are', 'we bought', 'we can', 'we got', 'we had', 'we had to', 'we have', 'we ll', 'we love', 'we re', 'we ve', 'we were', 'we will', 'wear it', 'wearing it', 'web site', 'weeks ago', 'weeks and', 'well and', 'well as', 'well as the', 'well but', 'well done', 'well for', 'well i', 'well it', 'well known', 'well made', 'well the', 'well this', 'well worth', 'well worth the', 'well written', 'well written and', 'went on', 'went to', 'were a', 'were not', 'were so', 'were the', 'were very', 'weren t', 'what a', 'what a waste', 'what can', 'what happened', 'what happened to', 'what happens', 'what he', 'what i', 'what i expected', 'what i was', 'what is', 'what it', 'what it is', 'what s', 'what she', 'what the', 'what they', 'what to', 'what was', 'what we', 'what you', 'what you pay', 'when a', 'when he', 'when i', 'when i bought', 'when i first', 'when i got', 'when i read', 'when i saw', 'when i was', 'when it', 'when it came', 'when it comes', 'when it was', 'when my', 'when she', 'when the', 'when they', 'when we', 'when you', 'where i', 'where it', 'where the', 'where they', 'where you', 'which are', 'which has', 'which i', 'which is', 'which is a', 'which makes', 'which was', 'while i', 'while it', 'while the', 'while this', 'who are', 'who can', 'who doesn', 'who doesn t', 'who has', 'who have', 'who is', 'who like', 'who likes', 'who s', 'who want', 'who want to', 'who wants', 'who wants to', 'who was', 'who would', 'whole thing', 'why i', 'why is', 'why it', 'why the', 'why they', 'why this', 'will always', 'will be', 'will do', 'will enjoy', 'will find', 'will get', 'will give', 'will have', 'will have to', 'will keep', 'will love', 'will make', 'will never', 'will not', 'will not be', 'will probably', 'will say', 'willing to', 'wish i', 'wish i could', 'wish i had', 'with a', 'with all', 'with all the', 'with an', 'with great', 'with her', 'with him', 'with his', 'with it', 'with many', 'with me', 'with more', 'with my', 'with no', 'with one', 'with other', 'with some', 'with such', 'with that', 'with the', 'with the other', 'with the same', 'with their', 'with them', 'with these', 'with this', 'with this book', 'with this one', 'with this product', 'with you', 'with your', 'within a', 'within the', 'without a', 'without any', 'without the', 'woman who', 'won t', 'won t be', 'wonder if', 'wonderful and', 'wonderful book', 'words and', 'work and', 'work as', 'work at', 'work for', 'work i', 'work in', 'work is', 'work it', 'work of', 'work on', 'work the', 'work well', 'work with', 'works fine', 'works great', 'works well', 'world and', 'world is', 'world of', 'world war', 'worse than', 'worst book', 'worst book i', 'worst books', 'worst movie', 'worst movies', 'worth a', 'worth buying', 'worth it', 'worth reading', 'worth the', 'worth the money', 'worth the price', 'worth watching', 'worth your', 'would be', 'would be a', 'would buy', 'would definitely', 'would get', 'would give', 'would have', 'would have been', 'would have given', 'would highly', 'would highly recommend', 'would like', 'would like to', 'would make', 'would never', 'would not', 'would not have', 'would not recommend', 'would recommend', 'would recommend it', 'would recommend this', 'would say', 'would suggest', 'would ve', 'wouldn t', 'wouldn t be', 'wouldn t recommend', 'write a', 'writing is', 'writing style', 'writing this', 'written and', 'written book', 'written by', 'written for', 'written in', 'wrong with', 'year and', 'year i', 'year old', 'year old son', 'years ago', 'years ago and', 'years and', 'years i', 'years later', 'years of', 'years of solitude', 'years old', 'yes i', 'yes it', 'yet to', 'you a', 'you and', 'you are', 'you are a', 'you are in', 'you are looking', 'you are not', 'you buy', 'you buy this', 'you can', 'you can get', 'you can see', 'you can t', 'you cannot', 'you could', 'you d', 'you do', 'you don', 'you don t', 'you enjoy', 'you feel', 'you find', 'you for', 'you get', 'you get what', 'you go', 'you have', 'you have a', 'you have to', 'you i', 'you if', 'you if you', 'you in', 'you it', 'you just', 'you know', 'you like', 'you ll', 'you ll be', 'you ll love', 'you look', 'you love', 'you may', 'you might', 'you must', 'you need', 'you need to', 'you pay', 'you pay for', 'you put', 'you re', 'you re a', 'you re looking', 'you read', 'you really', 'you see', 'you should', 'you that', 'you the', 'you think', 'you to', 'you use', 'you ve', 'you want', 'you want a', 'you want to', 'you were', 'you will', 'you will be', 'you will enjoy', 'you will find', 'you will not', 'you with', 'you won', 'you won t', 'you would', 'your child', 'your collection', 'your life', 'your money', 'your money and', 'your money i', 'your money on', 'your own', 'your time', 'yourself a', 'yourself a favor', 'yr old', 'zero stars', 'zeta jones']\n"
     ]
    }
   ],
   "source": [
    "print(tfidf_vect_ngram.get_feature_names())"
   ]
  },
  {
   "cell_type": "code",
   "execution_count": 14,
   "metadata": {
    "ExecuteTime": {
     "end_time": "2019-06-17T01:41:10.209071Z",
     "start_time": "2019-06-17T01:40:59.211484Z"
    },
    "colab": {},
    "colab_type": "code",
    "id": "Y7rmIt49LtDC",
    "outputId": "8f600e7c-b4df-4d89-bfb9-96c8436aa5ef"
   },
   "outputs": [
    {
     "name": "stdout",
     "output_type": "stream",
     "text": [
      "TfidfVectorizer(analyzer='char', max_features=5000, ngram_range=(2, 3),\n",
      "                token_pattern='\\\\w{1,}')\n"
     ]
    },
    {
     "name": "stderr",
     "output_type": "stream",
     "text": [
      "C:\\Users\\carls\\anaconda3\\envs\\Python\\lib\\site-packages\\sklearn\\feature_extraction\\text.py:501: UserWarning: The parameter 'token_pattern' will not be used since 'analyzer' != 'word'\n",
      "  warnings.warn(\"The parameter 'token_pattern' will not be used\"\n"
     ]
    },
    {
     "name": "stdout",
     "output_type": "stream",
     "text": [
      "Wall time: 14.7 s\n"
     ]
    }
   ],
   "source": [
    "%%time\n",
    "# characters level tf-idf\n",
    "tfidf_vect_ngram_chars = TfidfVectorizer(analyzer = 'char',\n",
    "                                         token_pattern = r'\\w{1,}',\n",
    "                                         ngram_range = (2, 3),\n",
    "                                         max_features = 5000)\n",
    "print(tfidf_vect_ngram_chars)\n",
    "\n",
    "tfidf_vect_ngram_chars.fit(trainDF['text'])\n",
    "X_train_tfidf_ngram_chars = tfidf_vect_ngram_chars.transform(X_train)\n",
    "X_test_tfidf_ngram_chars  = tfidf_vect_ngram_chars.transform(X_test)"
   ]
  },
  {
   "cell_type": "code",
   "execution_count": 17,
   "metadata": {},
   "outputs": [
    {
     "name": "stdout",
     "output_type": "stream",
     "text": [
      "[' !', ' !!', ' \"', ' \"a', ' \"b', ' \"c', ' \"d', ' \"e', ' \"f', ' \"g', ' \"h', ' \"i', ' \"l', ' \"m', ' \"n', ' \"o', ' \"p', ' \"r', ' \"s', ' \"t', ' \"u', ' \"w', ' $', ' $1', ' $2', ' &', ' & ', \" '\", ' (', ' (a', ' (b', ' (c', ' (d', ' (e', ' (f', ' (h', ' (i', ' (l', ' (m', ' (n', ' (o', ' (p', ' (r', ' (s', ' (t', ' (w', ' *', ' ,', ' , ', ' -', ' - ', ' --', ' .', ' . ', ' ..', ' 1', ' 1 ', ' 1.', ' 1/', ' 10', ' 11', ' 12', ' 15', ' 18', ' 19', ' 2', ' 2 ', ' 2.', ' 20', ' 25', ' 2n', ' 3', ' 3 ', ' 30', ' 3d', ' 4', ' 4 ', ' 40', ' 45', ' 5', ' 5 ', ' 50', ' 6', ' 6 ', ' 7', ' 7 ', ' 8', ' 8 ', ' 80', ' 9', ' 9 ', ' 90', ' :', ' [', ' a', ' a ', ' ab', ' ac', ' ad', ' af', ' ag', ' ah', ' ai', ' al', ' am', ' an', ' ap', ' ar', ' as', ' at', ' au', ' av', ' aw', ' ay', ' b', ' ba', ' be', ' bi', ' bl', ' bo', ' br', ' bu', ' by', ' c', ' ca', ' cd', ' ce', ' ch', ' ci', ' cl', ' co', ' cr', ' cu', ' cy', ' d', ' da', ' de', ' di', ' do', ' dr', ' du', ' dv', ' dy', ' e', ' e-', ' ea', ' ec', ' ed', ' ef', ' ei', ' el', ' em', ' en', ' ep', ' eq', ' er', ' es', ' et', ' eu', ' ev', ' ex', ' ey', ' f', ' fa', ' fe', ' fi', ' fl', ' fo', ' fr', ' fu', ' g', ' g4', ' ga', ' ge', ' gh', ' gi', ' gl', ' go', ' gr', ' gu', ' h', ' ha', ' he', ' hi', ' ho', ' hp', ' hu', ' hy', ' i', ' i ', \" i'\", ' ic', ' id', ' if', ' ig', ' il', ' im', ' in', ' ip', ' ir', ' is', ' it', ' j', ' ja', ' je', ' ji', ' jo', ' ju', ' k', ' ka', ' ke', ' ki', ' kn', ' ko', ' l', ' la', ' le', ' li', ' lo', ' lu', ' ly', ' m', ' ma', ' mc', ' me', ' mi', ' mo', ' mp', ' mr', ' ms', ' mu', ' my', ' n', ' na', ' ne', ' ni', ' no', ' nu', ' o', ' ob', ' oc', ' od', ' of', ' oh', ' ok', ' ol', ' on', ' op', ' or', ' os', ' ot', ' ou', ' ov', ' ow', ' p', ' pa', ' pc', ' pe', ' ph', ' pi', ' pl', ' po', ' pr', ' ps', ' pu', ' q', ' qu', ' r', ' ra', ' re', ' rh', ' ri', ' ro', ' ru', ' s', ' sa', ' sc', ' se', ' sh', ' si', ' sk', ' sl', ' sm', ' sn', ' so', ' sp', ' sq', ' st', ' su', ' sw', ' sy', ' t', ' ta', ' te', ' th', ' ti', ' to', ' tr', ' tu', ' tv', ' tw', ' ty', ' u', ' u ', ' ug', ' ul', ' un', ' up', ' us', ' ut', ' v', ' va', ' ve', ' vh', ' vi', ' vo', ' w', ' wa', ' we', ' wh', ' wi', ' wo', ' wr', ' ww', ' x', ' xp', ' y', ' ya', ' ye', ' yo', ' z', ' ze', ' zo', '! ', '! a', '! b', '! d', '! h', '! i', '! m', '! n', '! o', '! s', '! t', '! w', '! y', '!!', '!! ', '!!!', '!!:', '!\"', '!)', '!:', '!: ', '!i', '!t', '!th', '\" ', '\" a', '\" b', '\" c', '\" d', '\" f', '\" h', '\" i', '\" m', '\" o', '\" p', '\" s', '\" t', '\" w', '\")', '\",', '\", ', '\".', '\". ', '\":', '\": ', '\"a', '\"b', '\"c', '\"co', '\"d', '\"e', '\"f', '\"g', '\"h', '\"i', '\"l', '\"m', '\"ma', '\"n', '\"o', '\"p', '\"r', '\"re', '\"s', '\"t', '\"th', '\"u', '\"w', '\"wh', '$$', '$$$', '$1', '$2', '% ', '& ', \"' \", \"' a\", \"' t\", \"',\", \"', \", \"'.\", \"'a\", \"'d\", \"'d \", \"'l\", \"'ll\", \"'m\", \"'m \", \"'r\", \"'re\", \"'s\", \"'s \", \"'s.\", \"'t\", \"'t \", \"'t.\", \"'v\", \"'ve\", '( ', '(1', '(a', '(al', '(an', '(b', '(c', '(d', '(e', '(f', '(h', '(i', '(i ', '(in', '(l', '(m', '(n', '(no', '(o', '(or', '(p', '(r', '(s', '(t', '(th', '(w', '(wh', ') ', ') a', ') b', ') i', ') o', ') s', ') t', ') w', '),', '), ', ').', '). ', '* ', '**', '***', '+ ', ', ', ', \"', ', a', ', b', ', c', ', d', ', e', ', f', ', g', ', h', ', i', ', j', ', k', ', l', ', m', ', n', ', o', ', p', ', r', ', s', ', t', ', u', ', v', ', w', ', y', ',\"', ',\" ', ',,', ',a', ',an', ',b', ',i', ',t', ',th', '- ', '- a', '- b', '- e', '- i', '- n', '- s', '- t', '- w', '--', '-- ', '-1', '-a', '-an', '-b', '-c', '-co', '-d', '-e', '-f', '-fi', '-g', '-h', '-ha', '-i', '-in', '-l', '-li', '-m', '-ma', '-n', '-o', '-p', '-pa', '-pr', '-r', '-ra', '-re', '-s', '-st', '-t', '-te', '-th', '-to', '-u', '-up', '-w', '-y', '. ', '. \"', '. (', '. .', '. a', '. b', '. c', '. d', '. e', '. f', '. g', '. h', '. i', '. j', '. k', '. l', '. m', '. n', '. o', '. p', '. r', '. s', '. t', '. u', '. v', '. w', '. y', '.\"', '.\" ', '.)', '.) ', '..', '.. ', '...', '..:', '..a', '..b', '..i', '..s', '..t', '..w', '.0', '.1', '.5', '.:', '.: ', '.a', '.a ', '.al', '.an', '.b', '.bu', '.c', '.co', '.d', '.do', '.e', '.f', '.fo', '.g', '.h', '.ho', '.i', '.i ', \".i'\", '.if', '.in', '.it', '.j', '.l', '.m', '.n', '.no', '.o', '.on', '.p', '.r', '.s', '.so', '.t', '.th', '.w', '.wh', '.y', '/ ', '/1', '/2', '/2 ', '/s', '0 ', '0 a', '0 d', '0 f', '0 i', '0 m', '0 p', '0 s', '0 t', '0 y', '0%', '0% ', \"0'\", \"0's\", '0,', '0, ', '0-', '0.', '0. ', '00', '00 ', '000', '01', '0s', '1 ', '1 s', '1,', '1.', '1. ', '1/', '1/2', '10', '10 ', '100', '11', '12', '12 ', '13', '14', '15', '15 ', '16', '17', '18', '19', '196', '197', '198', '199', '1s', '1st', '2 ', '2 h', '2 s', '2 y', '2,', '2.', '2. ', '2.0', '20', '20 ', '200', '24', '25', '2n', '2nd', '3 ', '3 m', '3 p', '3 y', '3-', '3.', '30', '30 ', '3d', '3d ', '4 ', '4 i', '4 s', '4 y', '4.', '4. ', '40', '40 ', '45', '451', '5 ', '5 m', '5 s', '5 y', '5.', '50', '50 ', '51', '51 ', '6 ', '60', '7 ', '70', '8 ', '80', \"80'\", '84', '84 ', '9 ', '9.', '90', '95', '96', '97', '98', '984', '99', ': ', ': \"', ': a', ': b', ': c', ': d', ': e', ': f', ': g', ': h', ': i', ': j', ': l', ': m', ': n', ': o', ': p', ': r', ': s', ': t', ': u', ': v', ': w', ': y', '; ', '; a', '; i', '; t', '? ', '? a', '? i', '? t', '? w', '?!', '?)', '?:', '?: ', '??', '???', 'a ', 'a \"', 'a 1', 'a 2', 'a 4', 'a a', 'a b', 'a c', 'a d', 'a e', 'a f', 'a g', 'a h', 'a i', 'a j', 'a k', 'a l', 'a m', 'a n', 'a o', 'a p', 'a q', 'a r', 'a s', 'a t', 'a u', 'a v', 'a w', 'a y', 'a!', 'a\"', 'a\" ', \"a'\", \"a's\", 'a,', 'a, ', 'a-', 'a.', 'a. ', 'a:', 'a: ', 'aa', 'aaa', 'ab', 'ab ', 'aba', 'abb', 'abe', 'abi', 'abl', 'abo', 'abr', 'abs', 'abu', 'aby', 'ac', 'ac ', 'aca', 'acc', 'ace', 'ach', 'aci', 'ack', 'acr', 'act', 'acu', 'acy', 'ad', 'ad ', 'ad!', 'ad,', 'ad.', 'ad:', 'ada', 'adb', 'add', 'ade', 'adi', 'adj', 'adl', 'adm', 'adn', 'ado', 'ads', 'adu', 'adv', 'ady', 'ae', 'ael', 'af', 'afe', 'aff', 'afr', 'aft', 'ag', 'ag ', 'aga', 'age', 'agg', 'agi', 'agn', 'ago', 'agr', 'agu', 'ah', 'ah ', 'ahe', 'ahr', 'ai', 'aid', 'aig', 'ail', 'aim', 'ain', 'air', 'ais', 'ait', 'aj', 'ajo', 'ak', 'ak ', 'ak.', 'ake', 'aki', 'aks', 'al', 'al ', 'al\"', 'al,', 'al.', 'al:', 'ala', 'alb', 'ald', 'ale', 'alf', 'ali', 'alk', 'all', 'alm', 'alo', 'alr', 'als', 'alt', 'alu', 'alw', 'aly', 'am', 'am ', 'am.', 'ama', 'amb', 'amc', 'ame', 'ami', 'amm', 'amo', 'amp', 'ams', 'amu', 'an', 'an ', \"an'\", 'an,', 'an.', 'ana', 'anc', 'and', 'ane', 'ang', 'ani', 'ank', 'ann', 'ano', 'ans', 'ant', 'anu', 'any', 'ao', 'ap', 'ap ', 'ap.', 'apa', 'ape', 'aph', 'api', 'apl', 'apo', 'app', 'aps', 'apt', 'ar', 'ar ', 'ar,', 'ar-', 'ar.', 'ara', 'arb', 'arc', 'ard', 'are', 'arg', 'ari', 'ark', 'arl', 'arm', 'arn', 'aro', 'arp', 'arq', 'arr', 'ars', 'art', 'arv', 'ary', 'as', 'as ', 'as,', 'as.', 'asa', 'asc', 'ase', 'ash', 'asi', 'ask', 'asn', 'aso', 'asp', 'ass', 'ast', 'asu', 'asy', 'at', 'at ', 'at!', \"at'\", 'at,', 'at.', 'at:', 'ata', 'atc', 'ate', 'ath', 'ati', 'atl', 'atm', 'ato', 'atr', 'ats', 'att', 'atu', 'au', 'aud', 'aug', 'aul', 'aun', 'aur', 'aus', 'aut', 'av', 'ava', 'ave', 'avi', 'avo', 'avy', 'aw', 'aw ', 'awa', 'awb', 'awe', 'awf', 'awn', 'aws', 'awt', 'ax', 'ax ', 'ay', 'ay ', 'ay!', 'ay,', 'ay.', 'aya', 'ayb', 'aye', 'ayi', 'ayl', 'ays', 'az', 'aze', 'azi', 'azo', 'azy', 'azz', 'b ', 'b a', 'b i', 'b o', 'b s', 'b,', 'b, ', 'b.', 'b. ', 'ba', 'bab', 'bac', 'bad', 'bag', 'bal', 'ban', 'bar', 'bas', 'bat', 'bay', 'bb', 'bbe', 'bbi', 'bbl', 'be', 'be ', 'be.', 'bea', 'bec', 'bed', 'bee', 'bef', 'beg', 'beh', 'bei', 'bel', 'ben', 'ber', 'bes', 'bet', 'bew', 'bey', 'bi', 'bia', 'bib', 'bie', 'big', 'bil', 'bin', 'bio', 'bir', 'bit', 'bj', 'bje', 'bl', 'bla', 'ble', 'bli', 'blo', 'blu', 'bly', 'bo', 'boa', 'bod', 'bol', 'bon', 'boo', 'bor', 'bot', 'bou', 'bov', 'bow', 'box', 'boy', 'br', 'bra', 'bre', 'bri', 'bro', 'bru', 'bs', 'bs ', 'bse', 'bsi', 'bso', 'bst', 'bt', 'bt ', 'bu', 'buc', 'bud', 'bug', 'bui', 'bul', 'bum', 'bun', 'bur', 'bus', 'but', 'buy', 'bv', 'bvi', 'by', 'by ', 'c ', 'c a', 'c b', 'c c', 'c d', 'c e', 'c f', 'c h', 'c i', 'c l', 'c m', 'c o', 'c p', 'c r', 'c s', 'c t', 'c v', 'c w', 'c!', 'c\"', \"c'\", 'c,', 'c, ', 'c.', 'c. ', 'c:', 'c: ', 'ca', 'ca ', 'cab', 'cad', 'cal', 'cam', 'can', 'cap', 'car', 'cas', 'cat', 'cau', 'cav', 'cc', 'cca', 'cce', 'cco', 'ccu', 'cd', 'cd ', 'cd,', 'cd.', 'cds', 'ce', 'ce ', 'ce!', 'ce,', 'ce.', 'ce:', 'cea', 'ced', 'cee', 'cei', 'cel', 'cem', 'cen', 'cep', 'cer', 'ces', 'ch', 'ch ', 'ch,', 'ch.', 'cha', 'che', 'chi', 'chn', 'cho', 'chr', 'chu', 'chy', 'ci', 'ci-', 'cia', 'cid', 'cie', 'cif', 'cin', 'cio', 'cip', 'cir', 'cis', 'cit', 'ck', 'ck ', 'ck,', 'ck.', 'ck:', 'cka', 'cke', 'ckg', 'cki', 'ckl', 'cks', 'cky', 'cl', 'cla', 'cle', 'cli', 'clo', 'clu', 'co', 'co ', 'coa', 'cod', 'cog', 'col', 'com', 'con', 'coo', 'cop', 'cor', 'cos', 'cot', 'cou', 'cov', 'cr', 'cra', 'cre', 'cri', 'cro', 'cru', 'cry', 'cs', 'cs ', 'cs,', 'cs.', 'ct', 'ct ', 'ct,', 'ct.', 'ct:', 'cta', 'cte', 'cti', 'ctl', 'cto', 'ctr', 'cts', 'ctu', 'cu', 'cul', 'cum', 'cup', 'cur', 'cus', 'cut', 'cy', 'cy ', 'cyc', 'd ', 'd \"', 'd (', 'd -', 'd 1', 'd 2', 'd 3', 'd a', 'd b', 'd c', 'd d', 'd e', 'd f', 'd g', 'd h', 'd i', 'd j', 'd k', 'd l', 'd m', 'd n', 'd o', 'd p', 'd q', 'd r', 'd s', 'd t', 'd u', 'd v', 'd w', 'd y', 'd!', 'd! ', 'd!!', 'd!:', 'd\"', 'd\" ', \"d'\", \"d's\", 'd)', 'd) ', 'd,', 'd, ', 'd-', 'd.', 'd. ', 'd..', 'd.:', 'd.i', 'd.t', 'd/', 'd:', 'd: ', 'd?', 'da', 'da ', 'dab', 'dai', 'dal', 'dam', 'dan', 'dap', 'dar', 'dat', 'dau', 'dav', 'day', 'db', 'dbu', 'dc', 'dd', 'dd ', 'dde', 'ddi', 'ddl', 'ddy', 'de', 'de ', 'de,', 'de.', 'dea', 'deb', 'dec', 'ded', 'dee', 'def', 'deg', 'del', 'dem', 'den', 'deo', 'dep', 'der', 'des', 'det', 'dev', 'df', 'dg', 'dge', 'dh', 'di', 'dia', 'dib', 'dic', 'did', 'die', 'dif', 'dig', 'dil', 'dim', 'din', 'dio', 'dir', 'dis', 'dit', 'diu', 'div', 'dj', 'dju', 'dl', 'dle', 'dly', 'dm', 'dmi', 'dn', \"dn'\", 'dne', 'dnt', 'do', 'do ', 'do.', 'doc', 'doe', 'dog', 'doi', 'dol', 'dom', 'don', 'doo', 'dor', 'dos', 'dou', 'dow', 'dp', 'dr', 'dr.', 'dra', 'dre', 'dri', 'dro', 'dru', 'dry', 'ds', 'ds ', 'ds,', 'ds.', 'dse', 'dt', 'dtr', 'du', 'dua', 'dub', 'duc', 'due', 'dul', 'dum', 'dur', 'dus', 'dv', 'dva', 'dvd', 'dve', 'dvi', 'dw', 'dwa', 'dy', 'dy ', 'dy,', 'dy.', 'dys', 'e ', 'e \"', 'e &', \"e '\", 'e (', 'e -', 'e .', 'e 1', 'e 2', 'e 3', 'e 4', 'e 5', 'e a', 'e b', 'e c', 'e d', 'e e', 'e f', 'e g', 'e h', 'e i', 'e j', 'e k', 'e l', 'e m', 'e n', 'e o', 'e p', 'e q', 'e r', 'e s', 'e t', 'e u', 'e v', 'e w', 'e y', 'e z', 'e!', 'e! ', 'e!!', 'e!:', 'e\"', 'e\" ', 'e\".', \"e'\", \"e's\", 'e)', 'e) ', 'e),', 'e).', 'e,', 'e, ', 'e-', 'e--', 'e-m', 'e-r', 'e.', 'e. ', 'e..', 'e.:', 'e.i', 'e.t', 'e/', 'e:', 'e: ', 'e;', 'e; ', 'e?', 'e? ', 'ea', 'ea ', 'ea.', 'eab', 'eac', 'ead', 'eag', 'eak', 'eal', 'eam', 'ean', 'eap', 'ear', 'eas', 'eat', 'eau', 'eav', 'eb', 'eb ', 'eba', 'ebe', 'ebo', 'ebr', 'ebs', 'ebu', 'ec', 'eca', 'ecc', 'ece', 'ech', 'eci', 'eck', 'eco', 'ecr', 'ect', 'ecu', 'ed', 'ed ', 'ed!', 'ed\"', 'ed)', 'ed,', 'ed-', 'ed.', 'ed:', 'eda', 'edd', 'ede', 'edg', 'edi', 'edl', 'edo', 'eds', 'edu', 'edy', 'ee', 'ee ', 'ee.', 'eec', 'eed', 'eei', 'eek', 'eel', 'eem', 'een', 'eep', 'eer', 'ees', 'eet', 'eez', 'ef', 'ef ', 'efe', 'eff', 'efi', 'efl', 'efo', 'efr', 'eft', 'efu', 'eg', 'eg ', 'ega', 'ege', 'egg', 'egi', 'ego', 'egr', 'egu', 'eh', 'eha', 'ehe', 'ehi', 'eho', 'ei', 'eig', 'eil', 'ein', 'eir', 'eit', 'eiv', 'ej', 'ek', 'ek ', 'eks', 'el', 'el ', \"el'\", 'el,', 'el.', 'ela', 'eld', 'ele', 'elf', 'eli', 'ell', 'elm', 'elo', 'elp', 'els', 'elt', 'elv', 'ely', 'em', 'em ', 'em,', 'em.', 'ema', 'emb', 'eme', 'emi', 'emo', 'emp', 'ems', 'emy', 'en', 'en ', \"en'\", 'en,', 'en.', 'en:', 'ena', 'enc', 'end', 'ene', 'eng', 'enh', 'eni', 'enj', 'enl', 'enn', 'eno', 'enr', 'ens', 'ent', 'enu', 'env', 'eo', 'eo ', 'eo.', 'eon', 'eop', 'eor', 'eos', 'eou', 'ep', 'ep ', 'epa', 'epe', 'eph', 'epi', 'epl', 'epo', 'epp', 'epr', 'eps', 'ept', 'eq', 'equ', 'er', 'er ', 'er!', 'er\"', \"er'\", 'er)', 'er,', 'er-', 'er.', 'er:', 'era', 'erb', 'erc', 'erd', 'ere', 'erf', 'erg', 'erh', 'eri', 'erl', 'erm', 'ern', 'ero', 'erp', 'err', 'ers', 'ert', 'erv', 'erw', 'ery', 'es', 'es ', 'es!', 'es\"', 'es)', 'es,', 'es.', 'es:', 'esc', 'ese', 'esh', 'esi', 'esk', 'esn', 'eso', 'esp', 'ess', 'est', 'esu', 'esy', 'et', 'et ', \"et'\", 'et,', 'et.', 'eta', 'etc', 'ete', 'eth', 'eti', 'eto', 'etr', 'ets', 'ett', 'etu', 'etw', 'ety', 'eu', 'eur', 'ev', 'eva', 'eve', 'evi', 'evo', 'ew', 'ew ', 'ew,', 'ew.', 'ew:', 'ewa', 'ewe', 'ewh', 'ewi', 'ews', 'ex', 'ex ', 'exa', 'exc', 'exe', 'exi', 'exp', 'ext', 'exu', 'ey', 'ey ', 'ey!', \"ey'\", 'ey,', 'ey.', 'ey:', 'eye', 'eyo', 'ez', 'ez ', 'eze', 'f ', 'f \"', 'f 1', 'f a', 'f b', 'f c', 'f d', 'f e', 'f f', 'f g', 'f h', 'f i', 'f j', 'f k', 'f l', 'f m', 'f n', 'f o', 'f p', 'f r', 'f s', 'f t', 'f u', 'f v', 'f w', 'f y', 'f!', 'f,', 'f, ', 'f-', 'f.', 'f. ', 'f:', 'f: ', 'fa', 'fab', 'fac', 'fah', 'fai', 'fal', 'fam', 'fan', 'far', 'fas', 'fat', 'fau', 'fav', 'fe', 'fe ', 'fe,', 'fe.', 'fea', 'fec', 'fee', 'fel', 'fem', 'fen', 'fer', 'fes', 'fet', 'few', 'ff', 'ff ', 'ff,', 'ff.', 'ffe', 'ffi', 'ffo', 'ffs', 'fi', 'fi ', 'fic', 'fie', 'fig', 'fil', 'fin', 'fir', 'fis', 'fit', 'fiv', 'fix', 'fl', 'fla', 'fle', 'fli', 'flo', 'flu', 'fly', 'fo', 'fo ', 'foc', 'fol', 'foo', 'for', 'fou', 'fr', 'fra', 'fre', 'fri', 'fro', 'fru', 'fs', 'ft', 'ft ', 'fte', 'ftw', 'fu', 'ful', 'fun', 'fur', 'fus', 'fut', 'fy', 'fy ', 'fyi', 'g ', 'g \"', 'g (', 'g -', 'g a', 'g b', 'g c', 'g d', 'g e', 'g f', 'g g', 'g h', 'g i', 'g j', 'g k', 'g l', 'g m', 'g n', 'g o', 'g p', 'g q', 'g r', 'g s', 'g t', 'g u', 'g v', 'g w', 'g y', 'g!', 'g! ', 'g!!', 'g!:', 'g\"', 'g\" ', \"g'\", 'g)', 'g,', 'g, ', 'g-', 'g.', 'g. ', 'g..', 'g.i', 'g4', 'g:', 'g: ', 'g?', 'ga', 'ga ', 'gag', 'gai', 'gal', 'gam', 'gan', 'gar', 'gas', 'gat', 'gav', 'gb', 'ge', 'ge ', 'ge,', 'ge.', 'ge:', 'ged', 'gel', 'gem', 'gen', 'geo', 'ger', 'ges', 'get', 'gg', 'gge', 'ggi', 'ggl', 'gh', 'gh ', 'gh,', 'gh.', 'ghe', 'ghl', 'gho', 'ghs', 'ght', 'gi', 'gic', 'gie', 'gif', 'gil', 'gin', 'gio', 'gir', 'git', 'giv', 'gl', 'gla', 'gle', 'gli', 'glo', 'glu', 'gly', 'gm', 'gn', 'gn ', 'gna', 'gne', 'gni', 'gno', 'go', 'go ', 'go,', 'go.', 'god', 'goe', 'goi', 'gol', 'gon', 'goo', 'gor', 'got', 'gov', 'gr', 'gra', 'gre', 'gri', 'gro', 'gs', 'gs ', 'gs,', 'gs.', 'gt', 'gth', 'gu', 'gua', 'gue', 'gui', 'gul', 'gun', 'gur', 'gus', 'guy', 'gy', 'gy ', 'h ', 'h \"', 'h a', 'h b', 'h c', 'h d', 'h e', 'h f', 'h g', 'h h', 'h i', 'h j', 'h k', 'h l', 'h m', 'h n', 'h o', 'h p', 'h r', 'h s', 'h t', 'h u', 'h v', 'h w', 'h y', 'h!', 'h\"', \"h'\", \"h's\", 'h,', 'h, ', 'h-', 'h.', 'h. ', 'h..', 'h:', 'h: ', 'ha', 'ha ', 'hab', 'had', 'hae', 'hai', 'hak', 'hal', 'ham', 'han', 'hap', 'har', 'has', 'hat', 'hau', 'hav', 'haw', 'hb', 'hd', 'hda', 'he', 'he ', \"he'\", 'hea', 'hec', 'hed', 'hee', 'hei', 'hel', 'hem', 'hen', 'heo', 'her', 'hes', 'het', 'hew', 'hey', 'hh', 'hhh', 'hi', 'hic', 'hid', 'hie', 'hig', 'hik', 'hil', 'him', 'hin', 'hio', 'hip', 'hir', 'his', 'hit', 'hl', 'hle', 'hli', 'hly', 'hm', 'hma', 'hn', 'hn ', 'hni', 'hno', 'ho', 'ho ', 'hoc', 'hod', 'hoe', 'hoi', 'hol', 'hom', 'hon', 'hoo', 'hop', 'hor', 'hos', 'hot', 'hou', 'how', 'hp', 'hp ', 'hr', 'hra', 'hre', 'hri', 'hro', 'hs', 'hs ', 'hs,', 'hs.', 'ht', 'ht ', 'ht,', 'ht.', 'hte', 'htf', 'hti', 'htl', 'htm', 'hts', 'hu', 'hug', 'hum', 'hun', 'hur', 'hus', 'hut', 'hw', 'hy', 'hy ', 'hy,', 'hy.', 'hyp', 'hys', 'i ', 'i a', 'i b', 'i c', 'i d', 'i e', 'i f', 'i g', 'i h', 'i i', 'i j', 'i k', 'i l', 'i m', 'i n', 'i o', 'i p', 'i r', 'i s', 'i t', 'i u', 'i w', \"i'\", \"i'd\", \"i'l\", \"i'm\", \"i's\", \"i'v\", 'i,', 'i, ', 'i-', 'i-f', 'i.', 'i. ', 'ia', 'ia ', 'ia,', 'ia.', 'iab', 'iag', 'ial', 'iam', 'ian', 'iar', 'ias', 'iat', 'ib', 'ibe', 'ibi', 'ibl', 'ibr', 'ibu', 'ic', 'ic ', 'ic!', 'ic\"', 'ic,', 'ic.', 'ic:', 'ica', 'ice', 'ich', 'ici', 'ick', 'icl', 'ico', 'icr', 'ics', 'ict', 'icu', 'id', 'id ', 'id,', 'id.', 'ida', 'idd', 'ide', 'idg', 'idi', 'idn', 'ido', 'ids', 'idu', 'ie', 'ie ', 'ie!', \"ie'\", 'ie,', 'ie.', 'ie:', 'iec', 'ied', 'ief', 'iel', 'ien', 'ier', 'ies', 'iet', 'iev', 'iew', 'if', 'if ', 'ife', 'iff', 'ifi', 'ift', 'ifu', 'ify', 'ig', 'ig ', 'iga', 'ige', 'igg', 'igh', 'igi', 'ign', 'igu', 'ii', 'ik', 'ike', 'iki', 'il', 'il ', 'il.', 'ila', 'ild', 'ile', 'ili', 'ill', 'ilm', 'ilo', 'ils', 'ilt', 'ily', 'im', 'im ', 'im.', 'ima', 'imb', 'ime', 'imi', 'imm', 'imo', 'imp', 'ims', 'imu', 'in', 'in ', \"in'\", 'in,', 'in-', 'in.', 'ina', 'inc', 'ind', 'ine', 'inf', 'ing', 'ini', 'ink', 'inl', 'inm', 'inn', 'ino', 'ins', 'int', 'inu', 'inv', 'iny', 'io', 'io ', 'ioc', 'iod', 'iog', 'iol', 'ion', 'ior', 'ios', 'iou', 'ip', 'ip ', 'ip.', 'ipa', 'ipe', 'ipl', 'ipo', 'ipp', 'ips', 'ipt', 'iq', 'iqu', 'ir', 'ir ', 'ir.', 'ira', 'irb', 'irc', 'ird', 'ire', 'iri', 'irl', 'irm', 'iro', 'irr', 'irs', 'irt', 'is', 'is ', 'is!', 'is,', 'is.', 'isa', 'isc', 'ise', 'isf', 'isg', 'ish', 'isi', 'isk', 'isl', 'ism', 'isn', 'iso', 'isp', 'iss', 'ist', 'isu', 'it', 'it ', 'it!', \"it'\", 'it,', 'it.', 'it:', 'ita', 'itc', 'ite', 'ith', 'iti', 'itl', 'itn', 'ito', 'its', 'itt', 'itu', 'ity', 'iu', 'ium', 'ius', 'iv', 'iva', 'ive', 'ivi', 'ivo', 'ix', 'ix ', 'ixe', 'iz', 'iza', 'ize', 'izi', 'ja', 'jac', 'jam', 'jan', 'jap', 'jav', 'jaw', 'jaz', 'je', 'jea', 'jec', 'jer', 'ji', 'jo', 'job', 'joh', 'joi', 'jok', 'jon', 'jor', 'jou', 'joy', 'ju', 'jud', 'jul', 'jum', 'jun', 'jus', 'k ', 'k (', 'k -', 'k a', 'k b', 'k c', 'k d', 'k e', 'k f', 'k g', 'k h', 'k i', 'k l', 'k m', 'k n', 'k o', 'k p', 'k r', 'k s', 'k t', 'k u', 'k v', 'k w', 'k y', 'k!', 'k! ', 'k!!', 'k!:', 'k\"', \"k'\", \"k's\", 'k)', 'k,', 'k, ', 'k-', 'k.', 'k. ', 'k..', 'k.:', 'k:', 'k: ', 'k?', 'ka', 'kag', 'kat', 'kay', 'kb', 'ke', 'ke ', 'ke,', 'ke.', 'ked', 'kee', 'kel', 'ken', 'kep', 'ker', 'kes', 'ket', 'key', 'kg', 'kgr', 'kh', 'ki', 'kid', 'kie', 'kil', 'kin', 'kip', 'kit', 'kl', 'kle', 'kly', 'kn', 'kne', 'kni', 'kno', 'ko', 'ks', 'ks ', 'ks!', 'ks,', 'ks.', 'ks:', 'ku', 'kw', 'ky', 'ky ', 'l ', 'l (', 'l -', 'l a', 'l b', 'l c', 'l d', 'l e', 'l f', 'l g', 'l h', 'l i', 'l j', 'l k', 'l l', 'l m', 'l n', 'l o', 'l p', 'l r', 'l s', 'l t', 'l u', 'l v', 'l w', 'l y', 'l!', 'l! ', 'l\"', 'l\" ', \"l'\", \"l's\", 'l)', 'l,', 'l, ', 'l-', 'l.', 'l. ', 'l..', 'l:', 'l: ', 'la', 'la ', 'lab', 'lac', 'lad', 'lag', 'lah', 'lai', 'lam', 'lan', 'lap', 'lar', 'las', 'lat', 'lau', 'lav', 'law', 'lay', 'lb', 'lbu', 'lc', 'ld', 'ld ', \"ld'\", 'ld,', 'ld.', 'lde', 'ldi', 'ldn', 'ldr', 'lds', 'le', 'le ', 'le!', 'le\"', \"le'\", 'le,', 'le-', 'le.', 'le:', 'lea', 'lec', 'led', 'lee', 'lef', 'leg', 'lem', 'len', 'ler', 'les', 'let', 'lev', 'lex', 'ley', 'lf', 'lf ', 'lf,', 'lf-', 'lf.', 'lg', 'li', 'li ', 'lia', 'lib', 'lic', 'lid', 'lie', 'lif', 'lig', 'lik', 'lim', 'lin', 'lio', 'lip', 'lis', 'lit', 'liv', 'liz', 'lk', 'lk ', 'lke', 'lki', 'lks', 'll', 'll ', 'll!', \"ll'\", 'll,', 'll-', 'll.', 'll:', 'lla', 'lle', 'lli', 'llo', 'lls', 'llu', 'lly', 'lm', 'lm ', 'lm,', 'lm.', 'lma', 'lme', 'lmo', 'lms', 'ln', 'lo', 'lo ', 'loa', 'loc', 'lod', 'log', 'lol', 'lon', 'loo', 'lop', 'lor', 'los', 'lot', 'lou', 'lov', 'low', 'lp', 'lp ', 'lpe', 'lpf', 'lps', 'lr', 'lre', 'ls', 'ls ', 'ls,', 'ls.', 'lse', 'lso', 'lt', 'lt ', 'lt.', 'lte', 'lth', 'lti', 'lto', 'lts', 'ltu', 'lty', 'lu', 'lu-', 'lub', 'luc', 'lud', 'lue', 'lug', 'lum', 'lun', 'lur', 'lus', 'lut', 'lv', 'lve', 'lvi', 'lw', 'lwa', 'ly', 'ly ', 'ly,', 'ly.', 'lyi', 'lyr', 'lys', 'lyw', 'm ', 'm a', 'm b', 'm c', 'm d', 'm e', 'm f', 'm g', 'm h', 'm i', 'm j', 'm l', 'm m', 'm n', 'm o', 'm p', 'm r', 'm s', 'm t', 'm u', 'm v', 'm w', 'm y', 'm!', 'm\"', \"m'\", \"m's\", 'm)', 'm,', 'm, ', 'm.', 'm. ', 'm..', 'm:', 'm: ', 'ma', 'ma ', 'mac', 'mad', 'mag', 'mai', 'maj', 'mak', 'mal', 'man', 'mar', 'mas', 'mat', 'max', 'may', 'maz', 'mb', 'mb ', 'mba', 'mbe', 'mbi', 'mbl', 'mbo', 'mbs', 'mc', 'mco', 'me', 'me ', 'me!', 'me)', 'me,', 'me.', 'me:', 'mea', 'med', 'mee', 'meg', 'meh', 'mel', 'mem', 'men', 'meo', 'mer', 'mes', 'met', 'mew', 'mf', 'mfo', 'mi', 'mic', 'mid', 'mie', 'mig', 'mil', 'min', 'mir', 'mis', 'mit', 'mix', 'ml', 'mm', 'mma', 'mme', 'mmi', 'mmm', 'mmo', 'mmu', 'mmy', 'mn', 'mo', 'mod', 'mom', 'mon', 'moo', 'mor', 'mos', 'mot', 'mou', 'mov', 'mp', 'mp ', 'mp3', 'mpa', 'mpe', 'mph', 'mpi', 'mpl', 'mpo', 'mpr', 'mps', 'mpt', 'mpu', 'mr', 'mr.', 'ms', 'ms ', 'ms,', 'ms.', 'mse', 'msy', 'mt', 'mu', 'muc', 'mul', 'mun', 'mur', 'mus', 'my', 'my ', 'mys', 'n ', 'n \"', 'n (', 'n -', 'n 1', 'n 2', 'n 3', 'n a', 'n b', 'n c', 'n d', 'n e', 'n f', 'n g', 'n h', 'n i', 'n j', 'n k', 'n l', 'n m', 'n n', 'n o', 'n p', 'n q', 'n r', 'n s', 'n t', 'n u', 'n v', 'n w', 'n y', 'n!', 'n! ', 'n!!', 'n!:', 'n\"', 'n\" ', \"n'\", \"n' \", \"n's\", \"n't\", 'n)', 'n) ', 'n,', 'n, ', 'n-', 'n.', 'n. ', 'n..', 'n.:', 'n.c', 'n.i', 'n.t', 'n:', 'n: ', 'n?', 'na', 'na ', 'nab', 'nac', 'nad', 'nag', 'nai', 'nal', 'nam', 'nan', 'nap', 'nar', 'nas', 'nat', 'nb', 'nbe', 'nc', 'nce', 'nch', 'nci', 'ncl', 'nco', 'ncr', 'nct', 'ncy', 'nd', 'nd ', 'nd,', 'nd-', 'nd.', 'nd:', 'nda', 'nde', 'ndi', 'ndl', 'ndo', 'ndr', 'nds', 'ndt', 'ndu', 'ndy', 'ne', 'ne ', 'ne!', \"ne'\", 'ne,', 'ne-', 'ne.', 'ne:', 'nea', 'nec', 'ned', 'nee', 'neg', 'nei', 'nel', 'nem', 'nen', 'ner', 'nes', 'net', 'nev', 'new', 'nex', 'ney', 'nf', 'nfi', 'nfl', 'nfo', 'nfu', 'ng', 'ng ', 'ng!', 'ng\"', 'ng)', 'ng,', 'ng-', 'ng.', 'ng:', 'ng?', 'nga', 'nge', 'ngi', 'ngl', 'ngo', 'ngr', 'ngs', 'ngt', 'ngu', 'nh', 'nha', 'nhe', 'ni', 'ni ', 'nia', 'nic', 'nie', 'nif', 'nig', 'nim', 'nin', 'nio', 'niq', 'nis', 'nit', 'niu', 'niv', 'niz', 'nj', 'njo', 'nk', 'nk ', 'nk.', 'nke', 'nki', 'nkl', 'nks', 'nky', 'nl', 'nle', 'nli', 'nlo', 'nly', 'nm', 'nme', 'nn', 'nna', 'nne', 'nni', 'nno', 'nny', 'no', 'no ', 'no,', 'nob', 'noc', 'noi', 'nol', 'nom', 'non', 'noo', 'nor', 'nos', 'not', 'nou', 'nov', 'now', 'noy', 'np', 'nr', 'nre', 'ns', 'ns ', 'ns,', 'ns.', 'ns:', 'nsa', 'nsc', 'nse', 'nsf', 'nsh', 'nsi', 'nsl', 'nso', 'nsp', 'nst', 'nsu', 'nsw', 'nt', 'nt ', 'nt!', 'nt,', 'nt.', 'nt:', 'nta', 'nte', 'nth', 'nti', 'ntl', 'ntm', 'nto', 'ntr', 'nts', 'ntu', 'nty', 'nu', 'nua', 'nue', 'nuf', 'num', 'nus', 'nut', 'nv', 'nve', 'nvi', 'nvo', 'nw', 'ny', 'ny ', 'ny,', 'ny.', 'nym', 'nyo', 'nyt', 'nyw', 'o ', 'o \"', 'o a', 'o b', 'o c', 'o d', 'o e', 'o f', 'o g', 'o h', 'o i', 'o j', 'o k', 'o l', 'o m', 'o n', 'o o', 'o p', 'o q', 'o r', 'o s', 'o t', 'o u', 'o v', 'o w', 'o y', 'o!', \"o'\", \"o's\", 'o)', 'o,', 'o, ', 'o-', 'o.', 'o. ', 'o..', 'o:', 'o: ', 'oa', 'oac', 'oad', 'oar', 'oas', 'oat', 'ob', 'ob ', 'oba', 'obb', 'obe', 'obl', 'obo', 'obs', 'obv', 'oc', 'oca', 'occ', 'oce', 'oci', 'ock', 'oco', 'ocr', 'oct', 'ocu', 'od', 'od ', 'od,', 'od.', 'od:', 'oda', 'odd', 'ode', 'odi', 'odo', 'ods', 'odu', 'ody', 'oe', 'oes', 'oet', 'of', 'of ', 'ofe', 'off', 'oft', 'og', 'og ', 'oga', 'oge', 'ogi', 'ogn', 'ogr', 'ogu', 'ogy', 'oh', 'oh ', 'ohn', 'oi', 'oic', 'oid', 'oil', 'oin', 'ois', 'oj', 'oje', 'ok', 'ok ', 'ok!', 'ok,', 'ok.', 'ok:', 'oka', 'oke', 'oki', 'oks', 'ol', 'ol ', 'ol,', 'ol.', 'ola', 'old', 'ole', 'oli', 'olk', 'oll', 'olo', 'ols', 'olt', 'olu', 'olv', 'om', 'om ', 'om.', 'oma', 'omb', 'ome', 'omf', 'omi', 'omm', 'omo', 'omp', 'oms', 'on', 'on ', 'on!', 'on\"', \"on'\", 'on)', 'on,', 'on-', 'on.', 'on:', 'ona', 'onc', 'ond', 'one', 'onf', 'ong', 'oni', 'onl', 'onn', 'ono', 'ons', 'ont', 'onu', 'onv', 'ony', 'oo', 'oo ', 'oo.', 'ood', 'oof', 'ook', 'ool', 'oom', 'oon', 'ooo', 'oop', 'oor', 'oos', 'oot', 'op', 'op ', 'op.', 'ope', 'oph', 'opi', 'opl', 'opm', 'opp', 'opr', 'ops', 'opt', 'opu', 'opy', 'or', 'or ', \"or'\", 'or,', 'or.', 'or:', 'ora', 'orb', 'orc', 'ord', 'ore', 'org', 'ori', 'ork', 'orl', 'orm', 'orn', 'oro', 'orp', 'orr', 'ors', 'ort', 'orw', 'ory', 'os', 'os ', 'osc', 'ose', 'osi', 'oso', 'osp', 'oss', 'ost', 'ot', 'ot ', 'ot,', 'ot.', 'ota', 'ote', 'oth', 'oti', 'otl', 'oto', 'ots', 'ott', 'ou', 'ou ', \"ou'\", 'ou,', 'ou.', 'oub', 'ouc', 'oud', 'oug', 'oul', 'oun', 'oup', 'our', 'ous', 'out', 'ov', 'ov ', 'ova', 'ove', 'ovi', 'ovo', 'ow', 'ow ', 'ow!', 'ow,', 'ow-', 'ow.', 'owa', 'owe', 'owi', 'owl', 'own', 'ows', 'ox', 'ox ', 'ox.', 'oxi', 'oy', 'oy ', 'oy,', 'oy.', 'oya', 'oyc', 'oye', 'oyi', 'oys', 'oz', 'oze', 'p ', 'p a', 'p b', 'p c', 'p d', 'p e', 'p f', 'p g', 'p h', 'p i', 'p l', 'p m', 'p o', 'p p', 'p r', 'p s', 'p t', 'p u', 'p w', 'p y', 'p!', 'p,', 'p, ', 'p-', 'p.', 'p. ', 'p3', 'p3 ', 'p:', 'p: ', 'pa', 'pac', 'pad', 'pag', 'pai', 'pal', 'pan', 'pap', 'par', 'pas', 'pat', 'pay', 'pc', 'pd', 'pda', 'pe', 'pe ', 'pe.', 'pea', 'pec', 'ped', 'pee', 'pef', 'pel', 'pen', 'peo', 'per', 'pes', 'pet', 'pf', 'pfu', 'pg', 'ph', 'pha', 'phe', 'phi', 'pho', 'phr', 'phy', 'pi', 'pia', 'pic', 'pid', 'pie', 'pil', 'pin', 'pir', 'pis', 'pit', 'pl', 'pla', 'ple', 'pli', 'plo', 'plu', 'ply', 'pm', 'pme', 'po', 'poc', 'pod', 'poe', 'poi', 'pol', 'pon', 'poo', 'pop', 'por', 'pos', 'pot', 'pou', 'pow', 'pp', 'ppa', 'ppe', 'ppi', 'ppl', 'ppo', 'ppr', 'ppy', 'pr', 'pra', 'pre', 'pri', 'pro', 'ps', 'ps ', 'ps,', 'ps.', 'pse', 'psy', 'pt', 'pt ', 'pta', 'pte', 'pth', 'pti', 'pto', 'pts', 'ptu', 'pu', 'pub', 'pul', 'pum', 'pun', 'pur', 'pus', 'put', 'puz', 'py', 'py ', 'py.', 'qu', 'qua', 'que', 'qui', 'quo', 'r ', 'r \"', 'r $', 'r (', 'r -', 'r 1', 'r 2', 'r 3', 'r 4', 'r 5', 'r a', 'r b', 'r c', 'r d', 'r e', 'r f', 'r g', 'r h', 'r i', 'r j', 'r k', 'r l', 'r m', 'r n', 'r o', 'r p', 'r q', 'r r', 'r s', 'r t', 'r u', 'r v', 'r w', 'r y', 'r!', 'r! ', 'r!:', 'r\"', 'r\" ', \"r'\", \"r's\", 'r)', 'r) ', 'r,', 'r, ', 'r-', 'r.', 'r. ', 'r..', 'r.i', 'r.t', 'r:', 'r: ', 'r?', 'ra', 'ra ', 'ra,', 'ra.', 'rab', 'rac', 'rad', 'raf', 'rag', 'rah', 'rai', 'ral', 'ram', 'ran', 'rap', 'rar', 'ras', 'rat', 'rav', 'raw', 'ray', 'raz', 'rb', 'rb ', 'rba', 'rbe', 'rbi', 'rbo', 'rc', 'rce', 'rch', 'rci', 'rco', 'rcu', 'rd', 'rd ', 'rd,', 'rd.', 'rda', 'rde', 'rdi', 'rdl', 'rdo', 'rds', 'rdy', 're', 're ', 're!', 're\"', \"re'\", 're,', 're-', 're.', 're:', 'rea', 'reb', 'rec', 'red', 'ree', 'ref', 'reg', 'reh', 'rei', 'rel', 'rem', 'ren', 'reo', 'rep', 'req', 'rer', 'res', 'ret', 'rev', 'rew', 'rey', 'rf', 'rfa', 'rfe', 'rfo', 'rfu', 'rg', 'rga', 'rge', 'rgi', 'rgo', 'rgu', 'rgy', 'rh', 'rha', 'rhy', 'ri', 'ria', 'rib', 'ric', 'rid', 'rie', 'rif', 'rig', 'ril', 'rim', 'rin', 'rio', 'rip', 'ris', 'rit', 'riv', 'riz', 'rk', 'rk ', 'rk,', 'rk.', 'rke', 'rki', 'rks', 'rl', 'rl ', 'rld', 'rle', 'rli', 'rlo', 'rls', 'rly', 'rm', 'rm ', 'rm.', 'rma', 'rme', 'rmi', 'rmo', 'rms', 'rn', 'rn ', 'rn.', 'rna', 'rne', 'rni', 'rnm', 'rns', 'ro', 'ro ', 'roa', 'rob', 'roc', 'rod', 'rof', 'rog', 'roi', 'roj', 'rok', 'rol', 'rom', 'ron', 'roo', 'rop', 'ror', 'ros', 'rot', 'rou', 'rov', 'row', 'roy', 'rp', 'rpe', 'rpi', 'rpo', 'rpr', 'rq', 'rqu', 'rr', 'rra', 'rre', 'rri', 'rro', 'rry', 'rs', 'rs ', 'rs!', 'rs\"', 'rs,', 'rs.', 'rs:', 'rsa', 'rse', 'rsh', 'rsi', 'rso', 'rsp', 'rst', 'rt', 'rt ', 'rt,', 'rt.', 'rta', 'rte', 'rth', 'rti', 'rtl', 'rtm', 'rto', 'rtr', 'rts', 'rtu', 'rty', 'ru', 'rub', 'ruc', 'rud', 'rue', 'rug', 'rui', 'rul', 'rum', 'run', 'rup', 'rus', 'rut', 'rv', 'rva', 'rve', 'rvi', 'rw', 'rwa', 'rwe', 'rwi', 'ry', 'ry ', 'ry!', \"ry'\", 'ry,', 'ry.', 'ry:', 'ryi', 'ryl', 'ryo', 'ryt', 's ', 's \"', 's (', 's -', 's 1', 's 2', 's 3', 's a', 's b', 's c', 's d', 's e', 's f', 's g', 's h', 's i', 's j', 's k', 's l', 's m', 's n', 's o', 's p', 's q', 's r', 's s', 's t', 's u', 's v', 's w', 's y', 's!', 's! ', 's!!', 's!:', 's\"', 's\" ', 's\".', \"s'\", \"s' \", 's)', 's) ', 's).', 's,', 's, ', 's-', 's.', 's. ', 's..', 's.:', 's.i', 's.t', 's/', 's:', 's: ', 's;', 's; ', 's?', 's? ', 'sa', 'sa ', 'sab', 'sac', 'sad', 'saf', 'sag', 'sai', 'sal', 'sam', 'san', 'sap', 'sar', 'sas', 'sat', 'sav', 'saw', 'say', 'sb', 'sb ', 'sba', 'sc', 'sc ', 'sca', 'sce', 'sch', 'sci', 'sco', 'scr', 'scu', 'sd', 'se', 'se ', 'se!', 'se,', 'se.', 'se:', 'sea', 'sec', 'sed', 'see', 'sef', 'sel', 'sem', 'sen', 'sep', 'seq', 'ser', 'ses', 'set', 'seu', 'sev', 'sew', 'sex', 'sey', 'sf', 'sfe', 'sfi', 'sfo', 'sfu', 'sg', 'sh', 'sh ', 'sh,', 'sh.', 'sha', 'she', 'shi', 'sho', 'shu', 'si', 'si ', 'sia', 'sib', 'sic', 'sid', 'sie', 'sig', 'sil', 'sim', 'sin', 'sio', 'sir', 'sis', 'sit', 'siv', 'six', 'siz', 'sk', 'sk ', 'ske', 'ski', 'sl', 'sla', 'sle', 'sli', 'slo', 'sly', 'sm', 'sm ', 'sm.', 'sma', 'sme', 'smi', 'smo', 'sn', \"sn'\", 'sna', 'sne', 'sno', 'snt', 'so', 'so ', 'so,', 'so.', 'soc', 'sod', 'sof', 'sol', 'som', 'son', 'soo', 'sop', 'sor', 'sou', 'sp', 'spa', 'spe', 'spi', 'spl', 'spo', 'spr', 'sq', 'squ', 'sr', 'ss', 'ss ', 'ss,', 'ss.', 'ss:', 'ssa', 'sse', 'ssf', 'ssi', 'ssl', 'sso', 'ssu', 'st', 'st ', 'st!', 'st,', 'st-', 'st.', 'st:', 'sta', 'ste', 'sti', 'stl', 'stm', 'sto', 'str', 'sts', 'stu', 'sty', 'su', 'sua', 'sub', 'suc', 'sud', 'sue', 'suf', 'sug', 'sui', 'sul', 'sum', 'sun', 'sup', 'sur', 'sus', 'sw', 'swe', 'swi', 'sy', 'sy ', 'sy,', 'sy.', 'syc', 'sym', 'syn', 'sys', 't ', 't \"', 't $', 't (', 't -', 't 1', 't 2', 't 3', 't 4', 't 5', 't a', 't b', 't c', 't d', 't e', 't f', 't g', 't h', 't i', 't j', 't k', 't l', 't m', 't n', 't o', 't p', 't q', 't r', 't s', 't t', 't u', 't v', 't w', 't y', 't!', 't! ', 't!!', 't!:', 't\"', 't\" ', \"t'\", \"t's\", 't)', 't) ', 't).', 't,', 't, ', 't-', 't.', 't. ', 't..', 't.:', 't.i', 't.t', 't:', 't: ', 't;', 't; ', 't?', 't? ', 'ta', 'ta ', 'tab', 'tac', 'tag', 'tai', 'tak', 'tal', 'tam', 'tan', 'tap', 'tar', 'tas', 'tat', 'tau', 'tay', 'tb', 'tbo', 'tc', 'tc.', 'tch', 'td', 'te', 'te ', 'te,', 'te.', 'te:', 'tea', 'tec', 'ted', 'tee', 'teg', 'tei', 'tel', 'tem', 'ten', 'tep', 'ter', 'tes', 'tev', 'tex', 'tf', 'tfu', 'th', 'th ', 'th,', 'th.', 'tha', 'thd', 'the', 'thi', 'thl', 'thm', 'tho', 'thr', 'ths', 'thu', 'thy', 'ti', 'ti ', 'tia', 'tib', 'tic', 'tie', 'tif', 'tig', 'til', 'tim', 'tin', 'tio', 'tip', 'tir', 'tis', 'tit', 'tiv', 'tl', 'tle', 'tli', 'tly', 'tm', 'tma', 'tme', 'tn', 'tne', 'to', 'to ', 'to,', 'to.', 'toc', 'tod', 'tog', 'tol', 'tom', 'ton', 'too', 'top', 'tor', 'tos', 'tot', 'tou', 'tow', 'toy', 'tr', 'tra', 'tre', 'tri', 'tro', 'tru', 'try', 'ts', 'ts ', 'ts\"', 'ts,', 'ts.', 'ts:', 'tse', 'tsi', 'tst', 'tt', 'tt ', 'tta', 'tte', 'tti', 'ttl', 'tto', 'ttr', 'tty', 'tu', 'tua', 'tub', 'tuc', 'tud', 'tuf', 'tum', 'tun', 'tup', 'tur', 'tus', 'tut', 'tv', 'tv ', 'tw', 'twa', 'twe', 'twi', 'two', 'ty', 'ty ', 'ty,', 'ty.', 'ty:', 'tyl', 'typ', 'tz', 'u ', 'u a', 'u b', 'u c', 'u d', 'u e', 'u f', 'u g', 'u h', 'u i', 'u k', 'u l', 'u m', 'u n', 'u o', 'u p', 'u r', 'u s', 'u t', 'u u', 'u w', \"u'\", \"u'l\", \"u'r\", \"u'v\", 'u,', 'u, ', 'u-', 'u-r', 'u.', 'u. ', 'ua', 'uag', 'ual', 'uar', 'uat', 'ub', 'ub ', 'ubb', 'ube', 'ubj', 'ubl', 'ubs', 'ubt', 'uc', 'uca', 'ucc', 'uce', 'uch', 'uci', 'uck', 'uct', 'ud', 'ud ', 'udd', 'ude', 'udg', 'udi', 'udy', 'ue', 'ue ', 'ue,', 'ue.', 'ued', 'uee', 'uel', 'uen', 'ues', 'uet', 'uez', 'uf', 'ufa', 'uff', 'ug', 'ug ', 'uge', 'ugg', 'ugh', 'ugl', 'ugs', 'uh', 'ui', 'uic', 'uid', 'uil', 'uin', 'uir', 'uis', 'uit', 'uk', 'ul', 'ul ', 'ul,', 'ul.', 'ul:', 'ula', 'uld', 'ule', 'ulg', 'uli', 'ull', 'ulo', 'ult', 'uly', 'um', 'um ', 'um,', 'um.', 'uma', 'umb', 'ume', 'umi', 'umm', 'umo', 'ump', 'ums', 'un', 'un ', 'un,', 'un.', 'una', 'unb', 'unc', 'und', 'une', 'unf', 'ung', 'uni', 'unk', 'unl', 'unn', 'unp', 'unr', 'uns', 'unt', 'unu', 'uo', 'up', 'up ', 'up,', 'up.', 'upd', 'upe', 'upi', 'upl', 'upo', 'upp', 'ups', 'ur', 'ur ', 'ura', 'urb', 'urc', 'urd', 'ure', 'urf', 'urg', 'uri', 'urn', 'uro', 'urp', 'urr', 'urs', 'urt', 'urv', 'ury', 'us', 'us ', 'us,', 'us.', 'usa', 'usb', 'usc', 'use', 'ush', 'usi', 'usl', 'usp', 'uss', 'ust', 'usu', 'ut', 'ut ', 'ut,', 'ut.', 'uta', 'utc', 'utd', 'ute', 'uth', 'uti', 'utl', 'uto', 'uts', 'utt', 'utu', 'uty', 'uu', 'uv', 'ux', 'uy', 'uy ', 'uy.', 'uyi', 'uys', 'uz', 'uzz', 'v ', 'v.', 'va', 'va ', 'vab', 'vac', 'vai', 'val', 'vam', 'van', 'var', 'vas', 'vat', 'vd', 'vd ', 'vd.', 'vds', 've', 've ', 've,', 've.', 've:', 'vea', 'ved', 'vel', 'vem', 'ven', 'ver', 'ves', 'vet', 'vh', 'vhs', 'vi', 'via', 'vib', 'vic', 'vid', 'vie', 'vil', 'vin', 'vio', 'vir', 'vis', 'vit', 'viv', 'vo', 'voc', 'voi', 'vok', 'vol', 'vor', 'vou', 'vy', 'vy ', 'w ', 'w a', 'w b', 'w c', 'w d', 'w e', 'w f', 'w g', 'w h', 'w i', 'w l', 'w m', 'w n', 'w o', 'w p', 'w r', 'w s', 'w t', 'w u', 'w w', 'w y', 'w!', 'w,', 'w, ', 'w-', 'w.', 'w. ', 'w:', 'w: ', 'wa', 'wai', 'wak', 'wal', 'wan', 'war', 'was', 'wat', 'way', 'wb', 'wbo', 'we', 'we ', \"we'\", 'wea', 'web', 'wed', 'wee', 'wei', 'wel', 'wen', 'wer', 'wes', 'wev', 'wf', 'wfu', 'wh', 'wha', 'whe', 'whi', 'who', 'why', 'wi', 'wic', 'wid', 'wif', 'wil', 'win', 'wir', 'wis', 'wit', 'wl', 'wle', 'wn', 'wn ', 'wn,', 'wn.', 'wne', 'wnl', 'wo', 'wo ', 'wom', 'won', 'woo', 'wor', 'wou', 'wow', 'wr', 'wre', 'wri', 'wro', 'ws', 'ws ', 'ws,', 'ws.', 'wt', 'wth', 'ww', 'x ', 'x a', 'x i', 'x o', 'x s', 'x t', 'x,', 'x, ', 'x.', 'x. ', 'xa', 'xac', 'xam', 'xc', 'xce', 'xci', 'xe', 'xed', 'xer', 'xi', 'xis', 'xp', 'xpe', 'xpl', 'xpo', 'xpr', 'xt', 'xt ', 'xt.', 'xte', 'xtr', 'xu', 'xua', 'xy', 'y ', 'y \"', 'y (', 'y -', 'y 1', 'y 2', 'y 3', 'y 4', 'y a', 'y b', 'y c', 'y d', 'y e', 'y f', 'y g', 'y h', 'y i', 'y j', 'y k', 'y l', 'y m', 'y n', 'y o', 'y p', 'y q', 'y r', 'y s', 'y t', 'y u', 'y v', 'y w', 'y y', 'y!', 'y! ', 'y!!', 'y!:', 'y\"', 'y\" ', \"y'\", \"y'r\", \"y's\", 'y)', 'y) ', 'y,', 'y, ', 'y-', 'y.', 'y. ', 'y..', 'y.i', 'y:', 'y: ', 'y?', 'y? ', 'ya', 'yab', 'yal', 'yan', 'yb', 'ybe', 'ybo', 'yc', 'yce', 'ych', 'ycl', 'yd', 'yda', 'ye', 'ye ', 'yea', 'yed', 'yel', 'yer', 'yes', 'yet', 'yi', 'yin', 'yl', 'yla', 'yle', 'yli', 'ym', 'ymb', 'ymo', 'ymp', 'yn', 'yo', 'yon', 'you', 'yp', 'ype', 'ypi', 'ypo', 'yr', 'yri', 'ys', 'ys ', 'ys,', 'ys.', 'yse', 'ysi', 'yss', 'yst', 'yt', 'yte', 'yth', 'yw', 'ywa', 'ywh', 'ywo', 'z ', 'za', 'zar', 'zat', 'ze', 'ze ', 'ze.', 'zed', 'zen', 'zer', 'zes', 'zi', 'zin', 'zl', 'zle', 'zo', 'zon', 'zy', 'zy ', 'zz', 'zz ', 'zzl', 'zzz']\n"
     ]
    }
   ],
   "source": [
    "print(tfidf_vect_ngram_chars.get_feature_names())"
   ]
  },
  {
   "cell_type": "markdown",
   "metadata": {
    "colab_type": "text",
    "id": "_Pck1cuvLtDH"
   },
   "source": [
    "### Text / NLP based features\n",
    "\n",
    "Create some other features.\n",
    "\n",
    "Char_Count = Number of Characters in Text\n",
    "\n",
    "Word Count = Number of Words in Text\n",
    "\n",
    "Word Density = Average Number of Char in Words\n",
    "\n",
    "Punctuation Count = Number of Punctuation in Text\n",
    "\n",
    "Title Word Count = Number of Words in Title\n",
    "\n",
    "Uppercase Word Count = Number of Upperwords in Text"
   ]
  },
  {
   "cell_type": "code",
   "execution_count": 33,
   "metadata": {
    "ExecuteTime": {
     "end_time": "2019-06-17T01:43:52.813132Z",
     "start_time": "2019-06-17T01:43:52.806150Z"
    },
    "colab": {},
    "colab_type": "code",
    "id": "4jebGm1gLtDH",
    "outputId": "124d1ac4-9b64-414d-e973-9ded78662e18"
   },
   "outputs": [
    {
     "name": "stdout",
     "output_type": "stream",
     "text": [
      "Wall time: 908 ms\n"
     ]
    }
   ],
   "source": [
    "%%time\n",
    "trainDF['char_count'] = trainDF['text'].apply(len)\n",
    "trainDF['word_count'] = trainDF['text'].apply(lambda x: len(x.split()))\n",
    "trainDF['word_density'] = trainDF['char_count'] / (trainDF['word_count'] + 1)\n",
    "trainDF['punctuation_count'] = trainDF['text'].apply(lambda x: len(''.join(_ for _ in x if _ in string.punctuation)))\n",
    "trainDF['title_word_count'] = trainDF['text'].apply(lambda x: len([w for w in x.split() if w.istitle()]))\n",
    "trainDF['uppercase_word_count'] = trainDF['text'].apply(lambda x: len([w for w in x.split() if w.isupper()]))"
   ]
  },
  {
   "cell_type": "code",
   "execution_count": 34,
   "metadata": {},
   "outputs": [
    {
     "data": {
      "text/html": [
       "<div>\n",
       "<style scoped>\n",
       "    .dataframe tbody tr th:only-of-type {\n",
       "        vertical-align: middle;\n",
       "    }\n",
       "\n",
       "    .dataframe tbody tr th {\n",
       "        vertical-align: top;\n",
       "    }\n",
       "\n",
       "    .dataframe thead th {\n",
       "        text-align: right;\n",
       "    }\n",
       "</style>\n",
       "<table border=\"1\" class=\"dataframe\">\n",
       "  <thead>\n",
       "    <tr style=\"text-align: right;\">\n",
       "      <th></th>\n",
       "      <th>label</th>\n",
       "      <th>text</th>\n",
       "      <th>adj_count</th>\n",
       "      <th>adv_count</th>\n",
       "      <th>noun_count</th>\n",
       "      <th>num_count</th>\n",
       "      <th>pron_count</th>\n",
       "      <th>propn_count</th>\n",
       "      <th>verb_count</th>\n",
       "      <th>char-count</th>\n",
       "      <th>word_count</th>\n",
       "      <th>char_count</th>\n",
       "      <th>word_density</th>\n",
       "      <th>punctuation_count</th>\n",
       "      <th>title_word_count</th>\n",
       "      <th>uppercase_word_count</th>\n",
       "    </tr>\n",
       "  </thead>\n",
       "  <tbody>\n",
       "    <tr>\n",
       "      <th>7362</th>\n",
       "      <td>0</td>\n",
       "      <td>451 review by Jessica C.: when i read Farenhei...</td>\n",
       "      <td>0</td>\n",
       "      <td>0</td>\n",
       "      <td>0</td>\n",
       "      <td>0</td>\n",
       "      <td>0</td>\n",
       "      <td>0</td>\n",
       "      <td>0</td>\n",
       "      <td>679</td>\n",
       "      <td>135</td>\n",
       "      <td>679</td>\n",
       "      <td>4.992647</td>\n",
       "      <td>21</td>\n",
       "      <td>7</td>\n",
       "      <td>2</td>\n",
       "    </tr>\n",
       "    <tr>\n",
       "      <th>2959</th>\n",
       "      <td>0</td>\n",
       "      <td>The graphics were good, that's about it.: I am...</td>\n",
       "      <td>0</td>\n",
       "      <td>0</td>\n",
       "      <td>0</td>\n",
       "      <td>0</td>\n",
       "      <td>0</td>\n",
       "      <td>0</td>\n",
       "      <td>0</td>\n",
       "      <td>482</td>\n",
       "      <td>91</td>\n",
       "      <td>482</td>\n",
       "      <td>5.239130</td>\n",
       "      <td>14</td>\n",
       "      <td>11</td>\n",
       "      <td>5</td>\n",
       "    </tr>\n",
       "    <tr>\n",
       "      <th>1299</th>\n",
       "      <td>0</td>\n",
       "      <td>Blurred Audio: Audio is technically flawed. Th...</td>\n",
       "      <td>0</td>\n",
       "      <td>0</td>\n",
       "      <td>0</td>\n",
       "      <td>0</td>\n",
       "      <td>0</td>\n",
       "      <td>0</td>\n",
       "      <td>0</td>\n",
       "      <td>341</td>\n",
       "      <td>50</td>\n",
       "      <td>341</td>\n",
       "      <td>6.686275</td>\n",
       "      <td>7</td>\n",
       "      <td>12</td>\n",
       "      <td>1</td>\n",
       "    </tr>\n",
       "    <tr>\n",
       "      <th>4489</th>\n",
       "      <td>0</td>\n",
       "      <td>I don't believe Manson had anything to do with...</td>\n",
       "      <td>0</td>\n",
       "      <td>0</td>\n",
       "      <td>0</td>\n",
       "      <td>0</td>\n",
       "      <td>0</td>\n",
       "      <td>0</td>\n",
       "      <td>0</td>\n",
       "      <td>271</td>\n",
       "      <td>52</td>\n",
       "      <td>271</td>\n",
       "      <td>5.113208</td>\n",
       "      <td>10</td>\n",
       "      <td>7</td>\n",
       "      <td>1</td>\n",
       "    </tr>\n",
       "    <tr>\n",
       "      <th>2734</th>\n",
       "      <td>1</td>\n",
       "      <td>Threesome with tanks: Supposed being victimize...</td>\n",
       "      <td>0</td>\n",
       "      <td>0</td>\n",
       "      <td>0</td>\n",
       "      <td>0</td>\n",
       "      <td>0</td>\n",
       "      <td>0</td>\n",
       "      <td>0</td>\n",
       "      <td>779</td>\n",
       "      <td>116</td>\n",
       "      <td>779</td>\n",
       "      <td>6.658120</td>\n",
       "      <td>26</td>\n",
       "      <td>11</td>\n",
       "      <td>1</td>\n",
       "    </tr>\n",
       "    <tr>\n",
       "      <th>824</th>\n",
       "      <td>0</td>\n",
       "      <td>Far too little crime and fist fights: So I hea...</td>\n",
       "      <td>0</td>\n",
       "      <td>0</td>\n",
       "      <td>0</td>\n",
       "      <td>0</td>\n",
       "      <td>0</td>\n",
       "      <td>0</td>\n",
       "      <td>0</td>\n",
       "      <td>915</td>\n",
       "      <td>173</td>\n",
       "      <td>915</td>\n",
       "      <td>5.258621</td>\n",
       "      <td>36</td>\n",
       "      <td>27</td>\n",
       "      <td>11</td>\n",
       "    </tr>\n",
       "    <tr>\n",
       "      <th>3796</th>\n",
       "      <td>0</td>\n",
       "      <td>weak advice: The best thing I found in this bo...</td>\n",
       "      <td>0</td>\n",
       "      <td>0</td>\n",
       "      <td>0</td>\n",
       "      <td>0</td>\n",
       "      <td>0</td>\n",
       "      <td>0</td>\n",
       "      <td>0</td>\n",
       "      <td>458</td>\n",
       "      <td>78</td>\n",
       "      <td>458</td>\n",
       "      <td>5.797468</td>\n",
       "      <td>10</td>\n",
       "      <td>6</td>\n",
       "      <td>3</td>\n",
       "    </tr>\n",
       "    <tr>\n",
       "      <th>4783</th>\n",
       "      <td>0</td>\n",
       "      <td>If you want to know about New Orleans Voodoo, ...</td>\n",
       "      <td>0</td>\n",
       "      <td>0</td>\n",
       "      <td>0</td>\n",
       "      <td>0</td>\n",
       "      <td>0</td>\n",
       "      <td>0</td>\n",
       "      <td>0</td>\n",
       "      <td>442</td>\n",
       "      <td>77</td>\n",
       "      <td>442</td>\n",
       "      <td>5.666667</td>\n",
       "      <td>11</td>\n",
       "      <td>21</td>\n",
       "      <td>0</td>\n",
       "    </tr>\n",
       "    <tr>\n",
       "      <th>9852</th>\n",
       "      <td>0</td>\n",
       "      <td>Not Worth My Time: I was hoping to find anothe...</td>\n",
       "      <td>0</td>\n",
       "      <td>0</td>\n",
       "      <td>0</td>\n",
       "      <td>0</td>\n",
       "      <td>0</td>\n",
       "      <td>0</td>\n",
       "      <td>0</td>\n",
       "      <td>874</td>\n",
       "      <td>164</td>\n",
       "      <td>874</td>\n",
       "      <td>5.296970</td>\n",
       "      <td>20</td>\n",
       "      <td>27</td>\n",
       "      <td>11</td>\n",
       "    </tr>\n",
       "    <tr>\n",
       "      <th>3451</th>\n",
       "      <td>1</td>\n",
       "      <td>An excellent collection.: This CD is a wonderf...</td>\n",
       "      <td>0</td>\n",
       "      <td>0</td>\n",
       "      <td>0</td>\n",
       "      <td>0</td>\n",
       "      <td>0</td>\n",
       "      <td>0</td>\n",
       "      <td>0</td>\n",
       "      <td>277</td>\n",
       "      <td>48</td>\n",
       "      <td>277</td>\n",
       "      <td>5.653061</td>\n",
       "      <td>8</td>\n",
       "      <td>12</td>\n",
       "      <td>3</td>\n",
       "    </tr>\n",
       "  </tbody>\n",
       "</table>\n",
       "</div>"
      ],
      "text/plain": [
       "      label                                               text  adj_count  \\\n",
       "7362      0  451 review by Jessica C.: when i read Farenhei...          0   \n",
       "2959      0  The graphics were good, that's about it.: I am...          0   \n",
       "1299      0  Blurred Audio: Audio is technically flawed. Th...          0   \n",
       "4489      0  I don't believe Manson had anything to do with...          0   \n",
       "2734      1  Threesome with tanks: Supposed being victimize...          0   \n",
       "824       0  Far too little crime and fist fights: So I hea...          0   \n",
       "3796      0  weak advice: The best thing I found in this bo...          0   \n",
       "4783      0  If you want to know about New Orleans Voodoo, ...          0   \n",
       "9852      0  Not Worth My Time: I was hoping to find anothe...          0   \n",
       "3451      1  An excellent collection.: This CD is a wonderf...          0   \n",
       "\n",
       "      adv_count  noun_count  num_count  pron_count  propn_count  verb_count  \\\n",
       "7362          0           0          0           0            0           0   \n",
       "2959          0           0          0           0            0           0   \n",
       "1299          0           0          0           0            0           0   \n",
       "4489          0           0          0           0            0           0   \n",
       "2734          0           0          0           0            0           0   \n",
       "824           0           0          0           0            0           0   \n",
       "3796          0           0          0           0            0           0   \n",
       "4783          0           0          0           0            0           0   \n",
       "9852          0           0          0           0            0           0   \n",
       "3451          0           0          0           0            0           0   \n",
       "\n",
       "      char-count  word_count  char_count  word_density  punctuation_count  \\\n",
       "7362         679         135         679      4.992647                 21   \n",
       "2959         482          91         482      5.239130                 14   \n",
       "1299         341          50         341      6.686275                  7   \n",
       "4489         271          52         271      5.113208                 10   \n",
       "2734         779         116         779      6.658120                 26   \n",
       "824          915         173         915      5.258621                 36   \n",
       "3796         458          78         458      5.797468                 10   \n",
       "4783         442          77         442      5.666667                 11   \n",
       "9852         874         164         874      5.296970                 20   \n",
       "3451         277          48         277      5.653061                  8   \n",
       "\n",
       "      title_word_count  uppercase_word_count  \n",
       "7362                 7                     2  \n",
       "2959                11                     5  \n",
       "1299                12                     1  \n",
       "4489                 7                     1  \n",
       "2734                11                     1  \n",
       "824                 27                    11  \n",
       "3796                 6                     3  \n",
       "4783                21                     0  \n",
       "9852                27                    11  \n",
       "3451                12                     3  "
      ]
     },
     "execution_count": 34,
     "metadata": {},
     "output_type": "execute_result"
    }
   ],
   "source": [
    "trainDF.sample(10)"
   ]
  },
  {
   "cell_type": "code",
   "execution_count": 35,
   "metadata": {
    "ExecuteTime": {
     "end_time": "2019-06-17T01:44:03.442730Z",
     "start_time": "2019-06-17T01:44:02.298791Z"
    },
    "colab": {},
    "colab_type": "code",
    "id": "Z-l2iZcLLtDO",
    "scrolled": false
   },
   "outputs": [],
   "source": [
    "## load spaCy\n",
    "nlp = spacy.load('en_core_web_sm')"
   ]
  },
  {
   "cell_type": "markdown",
   "metadata": {
    "colab_type": "text",
    "id": "p-9d0G59LtDR"
   },
   "source": [
    "Part of Speech in **SpaCy**\n",
    "\n",
    "    POS   DESCRIPTION               EXAMPLES\n",
    "    ----- ------------------------- ---------------------------------------------\n",
    "    ADJ   adjective                 big, old, green, incomprehensible, first\n",
    "    ADP   adposition                in, to, during\n",
    "    ADV   adverb                    very, tomorrow, down, where, there\n",
    "    AUX   auxiliary                 is, has (done), will (do), should (do)\n",
    "    CONJ  conjunction               and, or, but\n",
    "    CCONJ coordinating conjunction  and, or, but\n",
    "    DET   determiner                a, an, the\n",
    "    INTJ  interjection              psst, ouch, bravo, hello\n",
    "    NOUN  noun                      girl, cat, tree, air, beauty\n",
    "    NUM   numeral                   1, 2017, one, seventy-seven, IV, MMXIV\n",
    "    PART  particle                  's, not,\n",
    "    PRON  pronoun                   I, you, he, she, myself, themselves, somebody\n",
    "    PROPN proper noun               Mary, John, London, NATO, HBO\n",
    "    PUNCT punctuation               ., (, ), ?\n",
    "    SCONJ subordinating conjunction if, while, that\n",
    "    SYM   symbol                    $, %, §, ©, +, −, ×, ÷, =, :), 😝\n",
    "    VERB  verb                      run, runs, running, eat, ate, eating\n",
    "    X     other                     sfpksdpsxmsa\n",
    "    SPACE space\n",
    "    \n",
    "Find out number of Adjective, Adverb, Noun, Numeric, Pronoun, Proposition, Verb.\n",
    "\n",
    "    Hint:\n",
    "    1. Convert text to spacy document\n",
    "    2. Use pos_\n",
    "    3. Use Counter "
   ]
  },
  {
   "cell_type": "code",
   "execution_count": 36,
   "metadata": {
    "ExecuteTime": {
     "end_time": "2019-06-17T01:50:15.900377Z",
     "start_time": "2019-06-17T01:50:15.889406Z"
    },
    "colab": {},
    "colab_type": "code",
    "id": "NcxmvIOGLtDS"
   },
   "outputs": [],
   "source": [
    "# Initialise some columns for feature's counts\n",
    "trainDF['adj_count'] = 0\n",
    "trainDF['adv_count'] = 0\n",
    "trainDF['noun_count'] = 0\n",
    "trainDF['num_count'] = 0\n",
    "trainDF['pron_count'] = 0\n",
    "trainDF['propn_count'] = 0\n",
    "trainDF['verb_count'] = 0"
   ]
  },
  {
   "cell_type": "code",
   "execution_count": 37,
   "metadata": {
    "ExecuteTime": {
     "end_time": "2019-06-17T01:52:39.611809Z",
     "start_time": "2019-06-17T01:52:39.608818Z"
    },
    "colab": {},
    "colab_type": "code",
    "id": "1KfFtu1HcPwA"
   },
   "outputs": [
    {
     "data": {
      "text/html": [
       "<div>\n",
       "<style scoped>\n",
       "    .dataframe tbody tr th:only-of-type {\n",
       "        vertical-align: middle;\n",
       "    }\n",
       "\n",
       "    .dataframe tbody tr th {\n",
       "        vertical-align: top;\n",
       "    }\n",
       "\n",
       "    .dataframe thead th {\n",
       "        text-align: right;\n",
       "    }\n",
       "</style>\n",
       "<table border=\"1\" class=\"dataframe\">\n",
       "  <thead>\n",
       "    <tr style=\"text-align: right;\">\n",
       "      <th></th>\n",
       "      <th>label</th>\n",
       "      <th>text</th>\n",
       "      <th>adj_count</th>\n",
       "      <th>adv_count</th>\n",
       "      <th>noun_count</th>\n",
       "      <th>num_count</th>\n",
       "      <th>pron_count</th>\n",
       "      <th>propn_count</th>\n",
       "      <th>verb_count</th>\n",
       "      <th>char-count</th>\n",
       "      <th>word_count</th>\n",
       "      <th>char_count</th>\n",
       "      <th>word_density</th>\n",
       "      <th>punctuation_count</th>\n",
       "      <th>title_word_count</th>\n",
       "      <th>uppercase_word_count</th>\n",
       "    </tr>\n",
       "  </thead>\n",
       "  <tbody>\n",
       "    <tr>\n",
       "      <th>0</th>\n",
       "      <td>1</td>\n",
       "      <td>The best soundtrack ever to anything.: I'm rea...</td>\n",
       "      <td>0</td>\n",
       "      <td>0</td>\n",
       "      <td>0</td>\n",
       "      <td>0</td>\n",
       "      <td>0</td>\n",
       "      <td>0</td>\n",
       "      <td>0</td>\n",
       "      <td>509</td>\n",
       "      <td>97</td>\n",
       "      <td>509</td>\n",
       "      <td>5.193878</td>\n",
       "      <td>14</td>\n",
       "      <td>7</td>\n",
       "      <td>3</td>\n",
       "    </tr>\n",
       "    <tr>\n",
       "      <th>1</th>\n",
       "      <td>1</td>\n",
       "      <td>Amazing!: This soundtrack is my favorite music...</td>\n",
       "      <td>0</td>\n",
       "      <td>0</td>\n",
       "      <td>0</td>\n",
       "      <td>0</td>\n",
       "      <td>0</td>\n",
       "      <td>0</td>\n",
       "      <td>0</td>\n",
       "      <td>760</td>\n",
       "      <td>129</td>\n",
       "      <td>760</td>\n",
       "      <td>5.846154</td>\n",
       "      <td>40</td>\n",
       "      <td>24</td>\n",
       "      <td>4</td>\n",
       "    </tr>\n",
       "    <tr>\n",
       "      <th>2</th>\n",
       "      <td>1</td>\n",
       "      <td>Excellent Soundtrack: I truly like this soundt...</td>\n",
       "      <td>0</td>\n",
       "      <td>0</td>\n",
       "      <td>0</td>\n",
       "      <td>0</td>\n",
       "      <td>0</td>\n",
       "      <td>0</td>\n",
       "      <td>0</td>\n",
       "      <td>743</td>\n",
       "      <td>118</td>\n",
       "      <td>743</td>\n",
       "      <td>6.243697</td>\n",
       "      <td>33</td>\n",
       "      <td>52</td>\n",
       "      <td>4</td>\n",
       "    </tr>\n",
       "    <tr>\n",
       "      <th>3</th>\n",
       "      <td>1</td>\n",
       "      <td>Remember, Pull Your Jaw Off The Floor After He...</td>\n",
       "      <td>0</td>\n",
       "      <td>0</td>\n",
       "      <td>0</td>\n",
       "      <td>0</td>\n",
       "      <td>0</td>\n",
       "      <td>0</td>\n",
       "      <td>0</td>\n",
       "      <td>481</td>\n",
       "      <td>87</td>\n",
       "      <td>481</td>\n",
       "      <td>5.465909</td>\n",
       "      <td>22</td>\n",
       "      <td>30</td>\n",
       "      <td>0</td>\n",
       "    </tr>\n",
       "    <tr>\n",
       "      <th>4</th>\n",
       "      <td>1</td>\n",
       "      <td>an absolute masterpiece: I am quite sure any o...</td>\n",
       "      <td>0</td>\n",
       "      <td>0</td>\n",
       "      <td>0</td>\n",
       "      <td>0</td>\n",
       "      <td>0</td>\n",
       "      <td>0</td>\n",
       "      <td>0</td>\n",
       "      <td>825</td>\n",
       "      <td>142</td>\n",
       "      <td>825</td>\n",
       "      <td>5.769231</td>\n",
       "      <td>35</td>\n",
       "      <td>14</td>\n",
       "      <td>3</td>\n",
       "    </tr>\n",
       "    <tr>\n",
       "      <th>...</th>\n",
       "      <td>...</td>\n",
       "      <td>...</td>\n",
       "      <td>...</td>\n",
       "      <td>...</td>\n",
       "      <td>...</td>\n",
       "      <td>...</td>\n",
       "      <td>...</td>\n",
       "      <td>...</td>\n",
       "      <td>...</td>\n",
       "      <td>...</td>\n",
       "      <td>...</td>\n",
       "      <td>...</td>\n",
       "      <td>...</td>\n",
       "      <td>...</td>\n",
       "      <td>...</td>\n",
       "      <td>...</td>\n",
       "    </tr>\n",
       "    <tr>\n",
       "      <th>9994</th>\n",
       "      <td>1</td>\n",
       "      <td>A revelation of life in small town America in ...</td>\n",
       "      <td>0</td>\n",
       "      <td>0</td>\n",
       "      <td>0</td>\n",
       "      <td>0</td>\n",
       "      <td>0</td>\n",
       "      <td>0</td>\n",
       "      <td>0</td>\n",
       "      <td>867</td>\n",
       "      <td>152</td>\n",
       "      <td>867</td>\n",
       "      <td>5.666667</td>\n",
       "      <td>25</td>\n",
       "      <td>14</td>\n",
       "      <td>3</td>\n",
       "    </tr>\n",
       "    <tr>\n",
       "      <th>9995</th>\n",
       "      <td>1</td>\n",
       "      <td>Great biography of a very interesting journali...</td>\n",
       "      <td>0</td>\n",
       "      <td>0</td>\n",
       "      <td>0</td>\n",
       "      <td>0</td>\n",
       "      <td>0</td>\n",
       "      <td>0</td>\n",
       "      <td>0</td>\n",
       "      <td>861</td>\n",
       "      <td>141</td>\n",
       "      <td>861</td>\n",
       "      <td>6.063380</td>\n",
       "      <td>14</td>\n",
       "      <td>16</td>\n",
       "      <td>0</td>\n",
       "    </tr>\n",
       "    <tr>\n",
       "      <th>9996</th>\n",
       "      <td>0</td>\n",
       "      <td>Interesting Subject; Poor Presentation: You'd ...</td>\n",
       "      <td>0</td>\n",
       "      <td>0</td>\n",
       "      <td>0</td>\n",
       "      <td>0</td>\n",
       "      <td>0</td>\n",
       "      <td>0</td>\n",
       "      <td>0</td>\n",
       "      <td>650</td>\n",
       "      <td>108</td>\n",
       "      <td>650</td>\n",
       "      <td>5.963303</td>\n",
       "      <td>17</td>\n",
       "      <td>11</td>\n",
       "      <td>0</td>\n",
       "    </tr>\n",
       "    <tr>\n",
       "      <th>9997</th>\n",
       "      <td>0</td>\n",
       "      <td>Don't buy: The box looked used and it is obvio...</td>\n",
       "      <td>0</td>\n",
       "      <td>0</td>\n",
       "      <td>0</td>\n",
       "      <td>0</td>\n",
       "      <td>0</td>\n",
       "      <td>0</td>\n",
       "      <td>0</td>\n",
       "      <td>135</td>\n",
       "      <td>27</td>\n",
       "      <td>135</td>\n",
       "      <td>4.821429</td>\n",
       "      <td>6</td>\n",
       "      <td>2</td>\n",
       "      <td>1</td>\n",
       "    </tr>\n",
       "    <tr>\n",
       "      <th>9998</th>\n",
       "      <td>1</td>\n",
       "      <td>Beautiful Pen and Fast Delivery.: The pen was ...</td>\n",
       "      <td>0</td>\n",
       "      <td>0</td>\n",
       "      <td>0</td>\n",
       "      <td>0</td>\n",
       "      <td>0</td>\n",
       "      <td>0</td>\n",
       "      <td>0</td>\n",
       "      <td>536</td>\n",
       "      <td>103</td>\n",
       "      <td>536</td>\n",
       "      <td>5.153846</td>\n",
       "      <td>13</td>\n",
       "      <td>23</td>\n",
       "      <td>4</td>\n",
       "    </tr>\n",
       "  </tbody>\n",
       "</table>\n",
       "<p>9999 rows × 16 columns</p>\n",
       "</div>"
      ],
      "text/plain": [
       "      label                                               text  adj_count  \\\n",
       "0         1  The best soundtrack ever to anything.: I'm rea...          0   \n",
       "1         1  Amazing!: This soundtrack is my favorite music...          0   \n",
       "2         1  Excellent Soundtrack: I truly like this soundt...          0   \n",
       "3         1  Remember, Pull Your Jaw Off The Floor After He...          0   \n",
       "4         1  an absolute masterpiece: I am quite sure any o...          0   \n",
       "...     ...                                                ...        ...   \n",
       "9994      1  A revelation of life in small town America in ...          0   \n",
       "9995      1  Great biography of a very interesting journali...          0   \n",
       "9996      0  Interesting Subject; Poor Presentation: You'd ...          0   \n",
       "9997      0  Don't buy: The box looked used and it is obvio...          0   \n",
       "9998      1  Beautiful Pen and Fast Delivery.: The pen was ...          0   \n",
       "\n",
       "      adv_count  noun_count  num_count  pron_count  propn_count  verb_count  \\\n",
       "0             0           0          0           0            0           0   \n",
       "1             0           0          0           0            0           0   \n",
       "2             0           0          0           0            0           0   \n",
       "3             0           0          0           0            0           0   \n",
       "4             0           0          0           0            0           0   \n",
       "...         ...         ...        ...         ...          ...         ...   \n",
       "9994          0           0          0           0            0           0   \n",
       "9995          0           0          0           0            0           0   \n",
       "9996          0           0          0           0            0           0   \n",
       "9997          0           0          0           0            0           0   \n",
       "9998          0           0          0           0            0           0   \n",
       "\n",
       "      char-count  word_count  char_count  word_density  punctuation_count  \\\n",
       "0            509          97         509      5.193878                 14   \n",
       "1            760         129         760      5.846154                 40   \n",
       "2            743         118         743      6.243697                 33   \n",
       "3            481          87         481      5.465909                 22   \n",
       "4            825         142         825      5.769231                 35   \n",
       "...          ...         ...         ...           ...                ...   \n",
       "9994         867         152         867      5.666667                 25   \n",
       "9995         861         141         861      6.063380                 14   \n",
       "9996         650         108         650      5.963303                 17   \n",
       "9997         135          27         135      4.821429                  6   \n",
       "9998         536         103         536      5.153846                 13   \n",
       "\n",
       "      title_word_count  uppercase_word_count  \n",
       "0                    7                     3  \n",
       "1                   24                     4  \n",
       "2                   52                     4  \n",
       "3                   30                     0  \n",
       "4                   14                     3  \n",
       "...                ...                   ...  \n",
       "9994                14                     3  \n",
       "9995                16                     0  \n",
       "9996                11                     0  \n",
       "9997                 2                     1  \n",
       "9998                23                     4  \n",
       "\n",
       "[9999 rows x 16 columns]"
      ]
     },
     "execution_count": 37,
     "metadata": {},
     "output_type": "execute_result"
    }
   ],
   "source": [
    "trainDF"
   ]
  },
  {
   "cell_type": "code",
   "execution_count": 38,
   "metadata": {
    "ExecuteTime": {
     "end_time": "2019-06-17T01:59:42.424828Z",
     "start_time": "2019-06-17T01:59:42.390920Z"
    },
    "colab": {},
    "colab_type": "code",
    "id": "DW1_LKP2LtDX",
    "outputId": "7a5eb5fd-cae1-4e76-f95f-e0fe9f1780d8",
    "scrolled": false
   },
   "outputs": [
    {
     "data": {
      "text/html": [
       "<div>\n",
       "<style scoped>\n",
       "    .dataframe tbody tr th:only-of-type {\n",
       "        vertical-align: middle;\n",
       "    }\n",
       "\n",
       "    .dataframe tbody tr th {\n",
       "        vertical-align: top;\n",
       "    }\n",
       "\n",
       "    .dataframe thead th {\n",
       "        text-align: right;\n",
       "    }\n",
       "</style>\n",
       "<table border=\"1\" class=\"dataframe\">\n",
       "  <thead>\n",
       "    <tr style=\"text-align: right;\">\n",
       "      <th></th>\n",
       "      <th>char_count</th>\n",
       "      <th>word_count</th>\n",
       "      <th>word_density</th>\n",
       "      <th>punctuation_count</th>\n",
       "      <th>title_word_count</th>\n",
       "      <th>uppercase_word_count</th>\n",
       "      <th>adj_count</th>\n",
       "      <th>adv_count</th>\n",
       "      <th>noun_count</th>\n",
       "      <th>num_count</th>\n",
       "      <th>pron_count</th>\n",
       "      <th>propn_count</th>\n",
       "      <th>verb_count</th>\n",
       "    </tr>\n",
       "  </thead>\n",
       "  <tbody>\n",
       "    <tr>\n",
       "      <th>8742</th>\n",
       "      <td>655</td>\n",
       "      <td>112</td>\n",
       "      <td>5.796460</td>\n",
       "      <td>31</td>\n",
       "      <td>18</td>\n",
       "      <td>3</td>\n",
       "      <td>0</td>\n",
       "      <td>0</td>\n",
       "      <td>0</td>\n",
       "      <td>0</td>\n",
       "      <td>0</td>\n",
       "      <td>0</td>\n",
       "      <td>0</td>\n",
       "    </tr>\n",
       "    <tr>\n",
       "      <th>8615</th>\n",
       "      <td>679</td>\n",
       "      <td>108</td>\n",
       "      <td>6.229358</td>\n",
       "      <td>9</td>\n",
       "      <td>6</td>\n",
       "      <td>0</td>\n",
       "      <td>0</td>\n",
       "      <td>0</td>\n",
       "      <td>0</td>\n",
       "      <td>0</td>\n",
       "      <td>0</td>\n",
       "      <td>0</td>\n",
       "      <td>0</td>\n",
       "    </tr>\n",
       "    <tr>\n",
       "      <th>9385</th>\n",
       "      <td>286</td>\n",
       "      <td>55</td>\n",
       "      <td>5.107143</td>\n",
       "      <td>17</td>\n",
       "      <td>6</td>\n",
       "      <td>1</td>\n",
       "      <td>0</td>\n",
       "      <td>0</td>\n",
       "      <td>0</td>\n",
       "      <td>0</td>\n",
       "      <td>0</td>\n",
       "      <td>0</td>\n",
       "      <td>0</td>\n",
       "    </tr>\n",
       "    <tr>\n",
       "      <th>3687</th>\n",
       "      <td>565</td>\n",
       "      <td>95</td>\n",
       "      <td>5.885417</td>\n",
       "      <td>35</td>\n",
       "      <td>20</td>\n",
       "      <td>6</td>\n",
       "      <td>0</td>\n",
       "      <td>0</td>\n",
       "      <td>0</td>\n",
       "      <td>0</td>\n",
       "      <td>0</td>\n",
       "      <td>0</td>\n",
       "      <td>0</td>\n",
       "    </tr>\n",
       "    <tr>\n",
       "      <th>8064</th>\n",
       "      <td>281</td>\n",
       "      <td>50</td>\n",
       "      <td>5.509804</td>\n",
       "      <td>10</td>\n",
       "      <td>4</td>\n",
       "      <td>1</td>\n",
       "      <td>0</td>\n",
       "      <td>0</td>\n",
       "      <td>0</td>\n",
       "      <td>0</td>\n",
       "      <td>0</td>\n",
       "      <td>0</td>\n",
       "      <td>0</td>\n",
       "    </tr>\n",
       "  </tbody>\n",
       "</table>\n",
       "</div>"
      ],
      "text/plain": [
       "      char_count  word_count  word_density  punctuation_count  \\\n",
       "8742         655         112      5.796460                 31   \n",
       "8615         679         108      6.229358                  9   \n",
       "9385         286          55      5.107143                 17   \n",
       "3687         565          95      5.885417                 35   \n",
       "8064         281          50      5.509804                 10   \n",
       "\n",
       "      title_word_count  uppercase_word_count  adj_count  adv_count  \\\n",
       "8742                18                     3          0          0   \n",
       "8615                 6                     0          0          0   \n",
       "9385                 6                     1          0          0   \n",
       "3687                20                     6          0          0   \n",
       "8064                 4                     1          0          0   \n",
       "\n",
       "      noun_count  num_count  pron_count  propn_count  verb_count  \n",
       "8742           0          0           0            0           0  \n",
       "8615           0          0           0            0           0  \n",
       "9385           0          0           0            0           0  \n",
       "3687           0          0           0            0           0  \n",
       "8064           0          0           0            0           0  "
      ]
     },
     "execution_count": 38,
     "metadata": {},
     "output_type": "execute_result"
    }
   ],
   "source": [
    "cols = [\n",
    "    'char_count', 'word_count', 'word_density',\n",
    "    'punctuation_count', 'title_word_count',\n",
    "    'uppercase_word_count', 'adj_count',\n",
    "    'adv_count', 'noun_count', 'num_count',\n",
    "    'pron_count', 'propn_count', 'verb_count']\n",
    "\n",
    "trainDF[cols].sample(5)"
   ]
  },
  {
   "cell_type": "markdown",
   "metadata": {
    "colab_type": "text",
    "id": "mQCAUFWYLtDb"
   },
   "source": [
    "### Topic Models as features"
   ]
  },
  {
   "cell_type": "code",
   "execution_count": 39,
   "metadata": {
    "ExecuteTime": {
     "end_time": "2019-06-17T02:27:09.442903Z",
     "start_time": "2019-06-17T02:24:45.531924Z"
    },
    "colab": {},
    "colab_type": "code",
    "id": "wg2mAlkRLtDb",
    "outputId": "323bfce4-9263-403a-9214-e9e206d5755f"
   },
   "outputs": [
    {
     "name": "stdout",
     "output_type": "stream",
     "text": [
      "Wall time: 1min 33s\n"
     ]
    }
   ],
   "source": [
    "%%time\n",
    "# train a LDA Model\n",
    "lda_model = LatentDirichletAllocation(n_components = 20, learning_method = 'online', max_iter = 20)\n",
    "\n",
    "X_topics = lda_model.fit_transform(X_train_count)\n",
    "topic_word = lda_model.components_ \n",
    "vocab = count_vect.get_feature_names()"
   ]
  },
  {
   "cell_type": "code",
   "execution_count": 40,
   "metadata": {
    "ExecuteTime": {
     "end_time": "2019-06-17T02:28:11.804475Z",
     "start_time": "2019-06-17T02:28:10.978502Z"
    },
    "colab": {},
    "colab_type": "code",
    "id": "_8dIDyHjLtDf",
    "outputId": "ea0614e2-66f1-4ddd-bff0-142cfd4fd78a"
   },
   "outputs": [
    {
     "name": "stdout",
     "output_type": "stream",
     "text": [
      "Group Top Words\n",
      "----- --------------------------------------------------------------------------------\n",
      "    0 his romantic social novel tales anti history blues shakespeare figures\n",
      "    1 descent apparently gifted intense meet gore hey hilarious chocolate creatures\n",
      "    2 the i and a to it of this is in\n",
      "    3 christmas kindle edition manson jazz missing charlie brown range fully\n",
      "    4 favor ashamed crawford pins joan wicca punch gas plans preparation\n",
      "    5 software answer scanner error engaging scan upgrade incorrect errors simpletech\n",
      "    6 u 5 1 pros cons bd tango video ads 2\n",
      "    7 bay compatible generated 2011 topper ton duran 2010 7i surround\n",
      "    8 his orwell 1984 world government brother george future run musical\n",
      "    9 product for battery amazon charger text ordered adapter apple price\n",
      "   10 horse billy puzzles anderson granddaughter hence jay tender vibrant birds\n",
      "   11 sides finishing revealed gillian behavior sean consistently legal dillon makeup\n",
      "   12 bed air science fiction fit foundation fi mattress comfortable sci\n",
      "   13 kerouac christian jesus dharma hatebreed depends kay alive bums resolution\n",
      "   14 xmas aussie tim cowboy tha kino lily spiegelman gnostic stones\n",
      "   15 fourth cancer serum 2007 stink alaska agrees drumming sho bong\n",
      "   16 de la y con en que un el del sources\n",
      "   17 game games graphics fun stick played mode mouth ears teeth\n",
      "   18 the of is and cd music album a on s\n",
      "   19 gang wing complaining carrot modest guards postcards regularly chestnut tags\n"
     ]
    }
   ],
   "source": [
    "# view the topic models\n",
    "n_top_words = 10\n",
    "topic_summaries = []\n",
    "print('Group Top Words')\n",
    "print('-----', '-'*80)\n",
    "for i, topic_dist in enumerate(topic_word):\n",
    "    topic_words = np.array(vocab)[np.argsort(topic_dist)][:-(n_top_words+1):-1]\n",
    "    top_words = ' '.join(topic_words)\n",
    "    topic_summaries.append(top_words)\n",
    "    print('  %3d %s' % (i, top_words))"
   ]
  },
  {
   "cell_type": "markdown",
   "metadata": {
    "colab_type": "text",
    "id": "TtfnK1jeLtDl"
   },
   "source": [
    "## Modelling"
   ]
  },
  {
   "cell_type": "code",
   "execution_count": 41,
   "metadata": {
    "ExecuteTime": {
     "end_time": "2019-06-17T02:34:12.273365Z",
     "start_time": "2019-06-17T02:34:12.263393Z"
    },
    "colab": {},
    "colab_type": "code",
    "id": "uwVaWSyTLtDm"
   },
   "outputs": [],
   "source": [
    "## helper function\n",
    "\n",
    "def train_model(classifier, feature_vector_train, label, feature_vector_valid):\n",
    "    # fit the training dataset on the classifier\n",
    "    classifier.fit(feature_vector_train, label)\n",
    "\n",
    "    # predict the labels on validation dataset\n",
    "    predictions = classifier.predict(feature_vector_valid)\n",
    "\n",
    "    return accuracy_score(predictions, y_test)"
   ]
  },
  {
   "cell_type": "code",
   "execution_count": 42,
   "metadata": {
    "ExecuteTime": {
     "end_time": "2019-06-17T02:34:14.900001Z",
     "start_time": "2019-06-17T02:34:14.894016Z"
    },
    "colab": {},
    "colab_type": "code",
    "id": "f_onpqUkLtDo"
   },
   "outputs": [],
   "source": [
    "# Keep the results in a dataframe\n",
    "results = pd.DataFrame(columns = ['Count Vectors',\n",
    "                                  'WordLevel TF-IDF',\n",
    "                                  'N-Gram Vectors',\n",
    "                                  'CharLevel Vectors'])"
   ]
  },
  {
   "cell_type": "markdown",
   "metadata": {
    "colab_type": "text",
    "id": "OXwLriDpLtDq"
   },
   "source": [
    "### Naive Bayes Classifier"
   ]
  },
  {
   "cell_type": "code",
   "execution_count": 43,
   "metadata": {
    "ExecuteTime": {
     "end_time": "2019-06-17T02:34:34.147043Z",
     "start_time": "2019-06-17T02:34:34.123096Z"
    },
    "colab": {},
    "colab_type": "code",
    "id": "ZcU6IKyNLtDs",
    "outputId": "d2defcfb-2046-47e1-b3b6-08d6edca94f8"
   },
   "outputs": [
    {
     "name": "stdout",
     "output_type": "stream",
     "text": [
      "NB, Count Vectors    : 0.8475\n",
      "\n",
      "Wall time: 9.98 ms\n"
     ]
    }
   ],
   "source": [
    "%%time\n",
    "# Naive Bayes on Count Vectors\n",
    "accuracy1 = train_model(MultinomialNB(), X_train_count, y_train, X_test_count)\n",
    "print('NB, Count Vectors    : %.4f\\n' % accuracy1)"
   ]
  },
  {
   "cell_type": "code",
   "execution_count": 44,
   "metadata": {
    "ExecuteTime": {
     "end_time": "2019-06-17T02:34:36.399812Z",
     "start_time": "2019-06-17T02:34:36.381861Z"
    },
    "colab": {},
    "colab_type": "code",
    "id": "zqEG_ByTLtDv",
    "outputId": "0ba74f49-a71c-4d59-f57b-f39f546241ce"
   },
   "outputs": [
    {
     "name": "stdout",
     "output_type": "stream",
     "text": [
      "NB, WordLevel TF-IDF : 0.8475\n",
      "\n",
      "Wall time: 7.98 ms\n"
     ]
    }
   ],
   "source": [
    "%%time\n",
    "# Naive Bayes on Word Level TF IDF Vectors\n",
    "accuracy2 = train_model(MultinomialNB(), X_train_tfidf, y_train, X_test_tfidf)\n",
    "print('NB, WordLevel TF-IDF : %.4f\\n' % accuracy2)"
   ]
  },
  {
   "cell_type": "code",
   "execution_count": 45,
   "metadata": {
    "ExecuteTime": {
     "end_time": "2019-06-17T02:34:39.076000Z",
     "start_time": "2019-06-17T02:34:39.059047Z"
    },
    "colab": {},
    "colab_type": "code",
    "id": "uKEEPNi8LtDy",
    "outputId": "c00cf532-c914-4670-cde5-69bf54bf7201"
   },
   "outputs": [
    {
     "name": "stdout",
     "output_type": "stream",
     "text": [
      "NB, N-Gram Vectors   : 0.8450\n",
      "\n",
      "Wall time: 6.98 ms\n"
     ]
    }
   ],
   "source": [
    "%%time\n",
    "# Naive Bayes on Ngram Level TF IDF Vectors\n",
    "accuracy3 = train_model(MultinomialNB(), X_train_tfidf_ngram, y_train, X_test_tfidf_ngram)\n",
    "print('NB, N-Gram Vectors   : %.4f\\n' % accuracy3)"
   ]
  },
  {
   "cell_type": "code",
   "execution_count": 46,
   "metadata": {
    "ExecuteTime": {
     "end_time": "2019-06-17T02:34:42.057019Z",
     "start_time": "2019-06-17T02:34:42.009151Z"
    },
    "colab": {},
    "colab_type": "code",
    "id": "M9aIibkBLtD0",
    "outputId": "1f52c1f4-150d-4195-f927-cb66ec41baba"
   },
   "outputs": [
    {
     "name": "stdout",
     "output_type": "stream",
     "text": [
      "NB, CharLevel Vectors: 0.8305\n",
      "\n",
      "Wall time: 36.9 ms\n"
     ]
    }
   ],
   "source": [
    "%%time\n",
    "# # Naive Bayes on Character Level TF IDF Vectors\n",
    "accuracy4 = train_model(MultinomialNB(), X_train_tfidf_ngram_chars, y_train, X_test_tfidf_ngram_chars)\n",
    "print('NB, CharLevel Vectors: %.4f\\n' % accuracy4)"
   ]
  },
  {
   "cell_type": "code",
   "execution_count": 47,
   "metadata": {
    "ExecuteTime": {
     "end_time": "2019-06-17T02:34:46.265712Z",
     "start_time": "2019-06-17T02:34:46.258734Z"
    },
    "colab": {},
    "colab_type": "code",
    "id": "kkrodUzCLtD3"
   },
   "outputs": [],
   "source": [
    "results.loc['Naïve Bayes'] = {\n",
    "    'Count Vectors': accuracy1,\n",
    "    'WordLevel TF-IDF': accuracy2,\n",
    "    'N-Gram Vectors': accuracy3,\n",
    "    'CharLevel Vectors': accuracy4}"
   ]
  },
  {
   "cell_type": "code",
   "execution_count": 48,
   "metadata": {},
   "outputs": [
    {
     "data": {
      "text/html": [
       "<div>\n",
       "<style scoped>\n",
       "    .dataframe tbody tr th:only-of-type {\n",
       "        vertical-align: middle;\n",
       "    }\n",
       "\n",
       "    .dataframe tbody tr th {\n",
       "        vertical-align: top;\n",
       "    }\n",
       "\n",
       "    .dataframe thead th {\n",
       "        text-align: right;\n",
       "    }\n",
       "</style>\n",
       "<table border=\"1\" class=\"dataframe\">\n",
       "  <thead>\n",
       "    <tr style=\"text-align: right;\">\n",
       "      <th></th>\n",
       "      <th>Count Vectors</th>\n",
       "      <th>WordLevel TF-IDF</th>\n",
       "      <th>N-Gram Vectors</th>\n",
       "      <th>CharLevel Vectors</th>\n",
       "    </tr>\n",
       "  </thead>\n",
       "  <tbody>\n",
       "    <tr>\n",
       "      <th>Naïve Bayes</th>\n",
       "      <td>0.8475</td>\n",
       "      <td>0.8475</td>\n",
       "      <td>0.845</td>\n",
       "      <td>0.8305</td>\n",
       "    </tr>\n",
       "  </tbody>\n",
       "</table>\n",
       "</div>"
      ],
      "text/plain": [
       "             Count Vectors  WordLevel TF-IDF  N-Gram Vectors  \\\n",
       "Naïve Bayes         0.8475            0.8475           0.845   \n",
       "\n",
       "             CharLevel Vectors  \n",
       "Naïve Bayes             0.8305  "
      ]
     },
     "execution_count": 48,
     "metadata": {},
     "output_type": "execute_result"
    }
   ],
   "source": [
    "results"
   ]
  },
  {
   "cell_type": "markdown",
   "metadata": {
    "colab_type": "text",
    "id": "-2oNfajULtD4"
   },
   "source": [
    "### Linear Classifier"
   ]
  },
  {
   "cell_type": "code",
   "execution_count": 49,
   "metadata": {
    "ExecuteTime": {
     "end_time": "2019-06-17T02:34:50.841687Z",
     "start_time": "2019-06-17T02:34:48.637032Z"
    },
    "colab": {},
    "colab_type": "code",
    "id": "OFBhhPZ6LtD4",
    "outputId": "cb5a2b19-dfc1-4b11-e698-0488ba4eae53"
   },
   "outputs": [
    {
     "name": "stdout",
     "output_type": "stream",
     "text": [
      "LR, Count Vectors    : 0.8675\n",
      "\n",
      "Wall time: 2.47 s\n"
     ]
    }
   ],
   "source": [
    "%%time\n",
    "# Linear Classifier on Count Vectors\n",
    "accuracy1 = train_model(LogisticRegression(solver = 'lbfgs', max_iter = 350), X_train_count, y_train, X_test_count)\n",
    "print('LR, Count Vectors    : %.4f\\n' % accuracy1)"
   ]
  },
  {
   "cell_type": "code",
   "execution_count": 50,
   "metadata": {
    "ExecuteTime": {
     "end_time": "2019-06-17T02:34:51.310433Z",
     "start_time": "2019-06-17T02:34:51.214690Z"
    },
    "colab": {},
    "colab_type": "code",
    "id": "C89hRhDiLtD6",
    "outputId": "023669b1-788f-4a1b-d282-99464e26312c"
   },
   "outputs": [
    {
     "name": "stdout",
     "output_type": "stream",
     "text": [
      "LR, WordLevel TF-IDF : 0.8750\n",
      "\n",
      "Wall time: 317 ms\n"
     ]
    }
   ],
   "source": [
    "%%time\n",
    "# Linear Classifier on Word Level TF IDF Vectors\n",
    "accuracy2 = train_model(LogisticRegression(solver = 'lbfgs', max_iter = 100), X_train_tfidf, y_train, X_test_tfidf)\n",
    "print('LR, WordLevel TF-IDF : %.4f\\n' % accuracy2)"
   ]
  },
  {
   "cell_type": "code",
   "execution_count": 51,
   "metadata": {
    "ExecuteTime": {
     "end_time": "2019-06-17T02:34:51.749258Z",
     "start_time": "2019-06-17T02:34:51.683435Z"
    },
    "colab": {},
    "colab_type": "code",
    "id": "MvhV1jC6LtD9",
    "outputId": "9bef9b1d-2dc3-4300-c4ff-831957aadee4"
   },
   "outputs": [
    {
     "name": "stdout",
     "output_type": "stream",
     "text": [
      "LR, N-Gram Vectors   : 0.8430\n",
      "\n",
      "Wall time: 102 ms\n"
     ]
    }
   ],
   "source": [
    "%%time\n",
    "# Linear Classifier on Ngram Level TF IDF Vectors\n",
    "accuracy3 = train_model(LogisticRegression(solver = 'lbfgs', max_iter = 100), X_train_tfidf_ngram, y_train, X_test_tfidf_ngram)\n",
    "print('LR, N-Gram Vectors   : %.4f\\n' % accuracy3)"
   ]
  },
  {
   "cell_type": "code",
   "execution_count": 52,
   "metadata": {
    "ExecuteTime": {
     "end_time": "2019-06-17T02:34:52.635899Z",
     "start_time": "2019-06-17T02:34:52.175122Z"
    },
    "colab": {},
    "colab_type": "code",
    "id": "XPjIxmtKLtEA",
    "outputId": "58f4b0e9-e786-45a1-830e-5945129792d4"
   },
   "outputs": [
    {
     "name": "stdout",
     "output_type": "stream",
     "text": [
      "LR, CharLevel Vectors: 0.8545\n",
      "\n",
      "Wall time: 833 ms\n"
     ]
    }
   ],
   "source": [
    "%%time\n",
    "# Linear Classifier on Character Level TF IDF Vectors\n",
    "accuracy4 = train_model(LogisticRegression(solver = 'lbfgs', max_iter = 100), X_train_tfidf_ngram_chars, y_train, X_test_tfidf_ngram_chars)\n",
    "print('LR, CharLevel Vectors: %.4f\\n' % accuracy4)"
   ]
  },
  {
   "cell_type": "code",
   "execution_count": 53,
   "metadata": {
    "ExecuteTime": {
     "end_time": "2019-06-17T02:34:53.029844Z",
     "start_time": "2019-06-17T02:34:53.018872Z"
    },
    "colab": {},
    "colab_type": "code",
    "id": "ZFK_LWTcLtED"
   },
   "outputs": [],
   "source": [
    "results.loc['Logistic Regression'] = {\n",
    "    'Count Vectors': accuracy1,\n",
    "    'WordLevel TF-IDF': accuracy2,\n",
    "    'N-Gram Vectors': accuracy3,\n",
    "    'CharLevel Vectors': accuracy4}"
   ]
  },
  {
   "cell_type": "code",
   "execution_count": 54,
   "metadata": {},
   "outputs": [
    {
     "data": {
      "text/html": [
       "<div>\n",
       "<style scoped>\n",
       "    .dataframe tbody tr th:only-of-type {\n",
       "        vertical-align: middle;\n",
       "    }\n",
       "\n",
       "    .dataframe tbody tr th {\n",
       "        vertical-align: top;\n",
       "    }\n",
       "\n",
       "    .dataframe thead th {\n",
       "        text-align: right;\n",
       "    }\n",
       "</style>\n",
       "<table border=\"1\" class=\"dataframe\">\n",
       "  <thead>\n",
       "    <tr style=\"text-align: right;\">\n",
       "      <th></th>\n",
       "      <th>Count Vectors</th>\n",
       "      <th>WordLevel TF-IDF</th>\n",
       "      <th>N-Gram Vectors</th>\n",
       "      <th>CharLevel Vectors</th>\n",
       "    </tr>\n",
       "  </thead>\n",
       "  <tbody>\n",
       "    <tr>\n",
       "      <th>Naïve Bayes</th>\n",
       "      <td>0.8475</td>\n",
       "      <td>0.8475</td>\n",
       "      <td>0.845</td>\n",
       "      <td>0.8305</td>\n",
       "    </tr>\n",
       "    <tr>\n",
       "      <th>Logistic Regression</th>\n",
       "      <td>0.8675</td>\n",
       "      <td>0.8750</td>\n",
       "      <td>0.843</td>\n",
       "      <td>0.8545</td>\n",
       "    </tr>\n",
       "  </tbody>\n",
       "</table>\n",
       "</div>"
      ],
      "text/plain": [
       "                     Count Vectors  WordLevel TF-IDF  N-Gram Vectors  \\\n",
       "Naïve Bayes                 0.8475            0.8475           0.845   \n",
       "Logistic Regression         0.8675            0.8750           0.843   \n",
       "\n",
       "                     CharLevel Vectors  \n",
       "Naïve Bayes                     0.8305  \n",
       "Logistic Regression             0.8545  "
      ]
     },
     "execution_count": 54,
     "metadata": {},
     "output_type": "execute_result"
    }
   ],
   "source": [
    "results"
   ]
  },
  {
   "cell_type": "markdown",
   "metadata": {
    "colab_type": "text",
    "id": "q1wYto68LtEE"
   },
   "source": [
    "### Support Vector Machine"
   ]
  },
  {
   "cell_type": "code",
   "execution_count": 55,
   "metadata": {
    "ExecuteTime": {
     "end_time": "2019-06-17T02:34:54.237613Z",
     "start_time": "2019-06-17T02:34:53.406835Z"
    },
    "colab": {},
    "colab_type": "code",
    "id": "yYGz8he5LtEE",
    "outputId": "546b1ea8-27c9-45bb-fd91-da08244d6796"
   },
   "outputs": [
    {
     "name": "stdout",
     "output_type": "stream",
     "text": [
      "SVM, Count Vectors    : 0.8470\n",
      "\n",
      "Wall time: 900 ms\n"
     ]
    }
   ],
   "source": [
    "%%time\n",
    "# Support Vector Machine on Count Vectors\n",
    "accuracy1 = train_model(LinearSVC(), X_train_count, y_train, X_test_count)\n",
    "print('SVM, Count Vectors    : %.4f\\n' % accuracy1)"
   ]
  },
  {
   "cell_type": "code",
   "execution_count": 56,
   "metadata": {
    "ExecuteTime": {
     "end_time": "2019-06-17T02:34:54.743263Z",
     "start_time": "2019-06-17T02:34:54.606629Z"
    },
    "colab": {},
    "colab_type": "code",
    "id": "wMt26K0cLtEG",
    "outputId": "406cf62d-c09d-4f9b-c298-eabce0b69238"
   },
   "outputs": [
    {
     "name": "stdout",
     "output_type": "stream",
     "text": [
      "SVM, WordLevel TF-IDF : 0.8675\n",
      "\n",
      "Wall time: 90.8 ms\n"
     ]
    }
   ],
   "source": [
    "%%time\n",
    "# Support Vector Machine on Word Level TF IDF Vectors\n",
    "accuracy2 = train_model(LinearSVC(), X_train_tfidf, y_train, X_test_tfidf)\n",
    "print('SVM, WordLevel TF-IDF : %.4f\\n' % accuracy2)"
   ]
  },
  {
   "cell_type": "code",
   "execution_count": 57,
   "metadata": {
    "ExecuteTime": {
     "end_time": "2019-06-17T02:34:55.220003Z",
     "start_time": "2019-06-17T02:34:55.119256Z"
    },
    "colab": {},
    "colab_type": "code",
    "id": "eFt6Y1VvLtEI",
    "outputId": "628299db-8bca-4698-c64e-5b291bd248e1"
   },
   "outputs": [
    {
     "name": "stdout",
     "output_type": "stream",
     "text": [
      "SVM, N-Gram Vectors   : 0.8300\n",
      "\n",
      "Wall time: 71.8 ms\n"
     ]
    }
   ],
   "source": [
    "%%time\n",
    "# Support Vector Machine on Ngram Level TF IDF Vectors\n",
    "accuracy3 = train_model(LinearSVC(), X_train_tfidf_ngram, y_train, X_test_tfidf_ngram)\n",
    "print('SVM, N-Gram Vectors   : %.4f\\n' % accuracy3)"
   ]
  },
  {
   "cell_type": "code",
   "execution_count": 58,
   "metadata": {
    "ExecuteTime": {
     "end_time": "2019-06-17T02:34:56.139528Z",
     "start_time": "2019-06-17T02:34:55.585010Z"
    },
    "colab": {},
    "colab_type": "code",
    "id": "iqhsS579LtEL",
    "outputId": "7cc3d723-9858-43a8-dcdf-37fcbef9456e"
   },
   "outputs": [
    {
     "name": "stdout",
     "output_type": "stream",
     "text": [
      "SVM, CharLevel Vectors: 0.8520\n",
      "\n",
      "Wall time: 542 ms\n"
     ]
    }
   ],
   "source": [
    "%%time\n",
    "# Support Vector Machine on Character Level TF IDF Vectors\n",
    "accuracy4 = train_model(LinearSVC(), X_train_tfidf_ngram_chars, y_train, X_test_tfidf_ngram_chars)\n",
    "print('SVM, CharLevel Vectors: %.4f\\n' % accuracy4)"
   ]
  },
  {
   "cell_type": "code",
   "execution_count": 59,
   "metadata": {
    "ExecuteTime": {
     "end_time": "2019-06-17T02:34:56.501558Z",
     "start_time": "2019-06-17T02:34:56.492592Z"
    },
    "colab": {},
    "colab_type": "code",
    "id": "go0bcKeILtEN"
   },
   "outputs": [],
   "source": [
    "results.loc['Support Vector Machine'] = {\n",
    "    'Count Vectors': accuracy1,\n",
    "    'WordLevel TF-IDF': accuracy2,\n",
    "    'N-Gram Vectors': accuracy3,\n",
    "    'CharLevel Vectors': accuracy4}"
   ]
  },
  {
   "cell_type": "code",
   "execution_count": 60,
   "metadata": {},
   "outputs": [
    {
     "data": {
      "text/html": [
       "<div>\n",
       "<style scoped>\n",
       "    .dataframe tbody tr th:only-of-type {\n",
       "        vertical-align: middle;\n",
       "    }\n",
       "\n",
       "    .dataframe tbody tr th {\n",
       "        vertical-align: top;\n",
       "    }\n",
       "\n",
       "    .dataframe thead th {\n",
       "        text-align: right;\n",
       "    }\n",
       "</style>\n",
       "<table border=\"1\" class=\"dataframe\">\n",
       "  <thead>\n",
       "    <tr style=\"text-align: right;\">\n",
       "      <th></th>\n",
       "      <th>Count Vectors</th>\n",
       "      <th>WordLevel TF-IDF</th>\n",
       "      <th>N-Gram Vectors</th>\n",
       "      <th>CharLevel Vectors</th>\n",
       "    </tr>\n",
       "  </thead>\n",
       "  <tbody>\n",
       "    <tr>\n",
       "      <th>Naïve Bayes</th>\n",
       "      <td>0.8475</td>\n",
       "      <td>0.8475</td>\n",
       "      <td>0.845</td>\n",
       "      <td>0.8305</td>\n",
       "    </tr>\n",
       "    <tr>\n",
       "      <th>Logistic Regression</th>\n",
       "      <td>0.8675</td>\n",
       "      <td>0.8750</td>\n",
       "      <td>0.843</td>\n",
       "      <td>0.8545</td>\n",
       "    </tr>\n",
       "    <tr>\n",
       "      <th>Support Vector Machine</th>\n",
       "      <td>0.8470</td>\n",
       "      <td>0.8675</td>\n",
       "      <td>0.830</td>\n",
       "      <td>0.8520</td>\n",
       "    </tr>\n",
       "  </tbody>\n",
       "</table>\n",
       "</div>"
      ],
      "text/plain": [
       "                        Count Vectors  WordLevel TF-IDF  N-Gram Vectors  \\\n",
       "Naïve Bayes                    0.8475            0.8475           0.845   \n",
       "Logistic Regression            0.8675            0.8750           0.843   \n",
       "Support Vector Machine         0.8470            0.8675           0.830   \n",
       "\n",
       "                        CharLevel Vectors  \n",
       "Naïve Bayes                        0.8305  \n",
       "Logistic Regression                0.8545  \n",
       "Support Vector Machine             0.8520  "
      ]
     },
     "execution_count": 60,
     "metadata": {},
     "output_type": "execute_result"
    }
   ],
   "source": [
    "results"
   ]
  },
  {
   "cell_type": "markdown",
   "metadata": {
    "colab_type": "text",
    "id": "gLGxWK0yLtEO"
   },
   "source": [
    "### Bagging Models"
   ]
  },
  {
   "cell_type": "code",
   "execution_count": 61,
   "metadata": {
    "ExecuteTime": {
     "end_time": "2019-06-17T02:35:20.807157Z",
     "start_time": "2019-06-17T02:34:56.823697Z"
    },
    "colab": {},
    "colab_type": "code",
    "id": "HR8aOytWLtEO",
    "outputId": "961d5bca-c1fe-46be-ba8c-2f6325d85901"
   },
   "outputs": [
    {
     "name": "stdout",
     "output_type": "stream",
     "text": [
      "RF, Count Vectors    : 0.8375\n",
      "\n",
      "Wall time: 21 s\n"
     ]
    }
   ],
   "source": [
    "%%time\n",
    "# Bagging (Random Forest) on Count Vectors\n",
    "accuracy1 = train_model(RandomForestClassifier(n_estimators = 100), X_train_count, y_train, X_test_count)\n",
    "print('RF, Count Vectors    : %.4f\\n' % accuracy1)"
   ]
  },
  {
   "cell_type": "code",
   "execution_count": 62,
   "metadata": {
    "ExecuteTime": {
     "end_time": "2019-06-17T02:35:30.127233Z",
     "start_time": "2019-06-17T02:35:21.198110Z"
    },
    "colab": {},
    "colab_type": "code",
    "id": "zXcTCTEGLtET",
    "outputId": "e4336045-c508-4372-e102-35c559f9a195"
   },
   "outputs": [
    {
     "name": "stdout",
     "output_type": "stream",
     "text": [
      "RF, WordLevel TF-IDF : 0.8395\n",
      "\n",
      "Wall time: 9.46 s\n"
     ]
    }
   ],
   "source": [
    "%%time\n",
    "# Bagging (Random Forest) on Word Level TF IDF Vectors\n",
    "accuracy2 = train_model(RandomForestClassifier(n_estimators = 100), X_train_tfidf, y_train, X_test_tfidf)\n",
    "print('RF, WordLevel TF-IDF : %.4f\\n' % accuracy2)"
   ]
  },
  {
   "cell_type": "code",
   "execution_count": 63,
   "metadata": {
    "ExecuteTime": {
     "end_time": "2019-06-17T02:35:40.162390Z",
     "start_time": "2019-06-17T02:35:30.607944Z"
    },
    "colab": {},
    "colab_type": "code",
    "id": "EnvT8qvSLtEW",
    "outputId": "0c3a8fa0-7ee7-40ad-dc0e-85a8c3995733"
   },
   "outputs": [
    {
     "name": "stdout",
     "output_type": "stream",
     "text": [
      "RF, N-Gram Vectors   : 0.7905\n",
      "\n",
      "Wall time: 9 s\n"
     ]
    }
   ],
   "source": [
    "%%time\n",
    "# Bagging (Random Forest) on Ngram Level TF IDF Vectors\n",
    "accuracy3 = train_model(RandomForestClassifier(n_estimators = 100), X_train_tfidf_ngram, y_train, X_test_tfidf_ngram)\n",
    "print('RF, N-Gram Vectors   : %.4f\\n' % accuracy3)"
   ]
  },
  {
   "cell_type": "code",
   "execution_count": 64,
   "metadata": {
    "ExecuteTime": {
     "end_time": "2019-06-17T02:36:07.640904Z",
     "start_time": "2019-06-17T02:35:40.542371Z"
    },
    "colab": {},
    "colab_type": "code",
    "id": "8jt-dTVELtEX",
    "outputId": "dc1113c9-b3f2-4d2e-f4d7-a5bcc98a020c"
   },
   "outputs": [
    {
     "name": "stdout",
     "output_type": "stream",
     "text": [
      "RF, CharLevel Vectors: 0.7965\n",
      "\n",
      "Wall time: 33.2 s\n"
     ]
    }
   ],
   "source": [
    "%%time\n",
    "# Bagging (Random Forest) on Character Level TF IDF Vectors\n",
    "accuracy4 = train_model(RandomForestClassifier(n_estimators = 100), X_train_tfidf_ngram_chars, y_train, X_test_tfidf_ngram_chars)\n",
    "print('RF, CharLevel Vectors: %.4f\\n' % accuracy4)"
   ]
  },
  {
   "cell_type": "code",
   "execution_count": 65,
   "metadata": {
    "ExecuteTime": {
     "end_time": "2019-06-17T02:36:08.104108Z",
     "start_time": "2019-06-17T02:36:08.097127Z"
    },
    "colab": {},
    "colab_type": "code",
    "id": "fVKeCH_VLtEZ"
   },
   "outputs": [
    {
     "data": {
      "text/html": [
       "<div>\n",
       "<style scoped>\n",
       "    .dataframe tbody tr th:only-of-type {\n",
       "        vertical-align: middle;\n",
       "    }\n",
       "\n",
       "    .dataframe tbody tr th {\n",
       "        vertical-align: top;\n",
       "    }\n",
       "\n",
       "    .dataframe thead th {\n",
       "        text-align: right;\n",
       "    }\n",
       "</style>\n",
       "<table border=\"1\" class=\"dataframe\">\n",
       "  <thead>\n",
       "    <tr style=\"text-align: right;\">\n",
       "      <th></th>\n",
       "      <th>Count Vectors</th>\n",
       "      <th>WordLevel TF-IDF</th>\n",
       "      <th>N-Gram Vectors</th>\n",
       "      <th>CharLevel Vectors</th>\n",
       "    </tr>\n",
       "  </thead>\n",
       "  <tbody>\n",
       "    <tr>\n",
       "      <th>Naïve Bayes</th>\n",
       "      <td>0.8475</td>\n",
       "      <td>0.8475</td>\n",
       "      <td>0.8450</td>\n",
       "      <td>0.8305</td>\n",
       "    </tr>\n",
       "    <tr>\n",
       "      <th>Logistic Regression</th>\n",
       "      <td>0.8675</td>\n",
       "      <td>0.8750</td>\n",
       "      <td>0.8430</td>\n",
       "      <td>0.8545</td>\n",
       "    </tr>\n",
       "    <tr>\n",
       "      <th>Support Vector Machine</th>\n",
       "      <td>0.8470</td>\n",
       "      <td>0.8675</td>\n",
       "      <td>0.8300</td>\n",
       "      <td>0.8520</td>\n",
       "    </tr>\n",
       "    <tr>\n",
       "      <th>Random Forest</th>\n",
       "      <td>0.8375</td>\n",
       "      <td>0.8395</td>\n",
       "      <td>0.7905</td>\n",
       "      <td>0.7965</td>\n",
       "    </tr>\n",
       "  </tbody>\n",
       "</table>\n",
       "</div>"
      ],
      "text/plain": [
       "                        Count Vectors  WordLevel TF-IDF  N-Gram Vectors  \\\n",
       "Naïve Bayes                    0.8475            0.8475          0.8450   \n",
       "Logistic Regression            0.8675            0.8750          0.8430   \n",
       "Support Vector Machine         0.8470            0.8675          0.8300   \n",
       "Random Forest                  0.8375            0.8395          0.7905   \n",
       "\n",
       "                        CharLevel Vectors  \n",
       "Naïve Bayes                        0.8305  \n",
       "Logistic Regression                0.8545  \n",
       "Support Vector Machine             0.8520  \n",
       "Random Forest                      0.7965  "
      ]
     },
     "execution_count": 65,
     "metadata": {},
     "output_type": "execute_result"
    }
   ],
   "source": [
    "results.loc['Random Forest'] = {\n",
    "    'Count Vectors': accuracy1,\n",
    "    'WordLevel TF-IDF': accuracy2,\n",
    "    'N-Gram Vectors': accuracy3,\n",
    "    'CharLevel Vectors': accuracy4}\n",
    "results"
   ]
  },
  {
   "cell_type": "markdown",
   "metadata": {
    "colab_type": "text",
    "id": "oyVz4Q6ILtEa"
   },
   "source": [
    "### Boosting Models"
   ]
  },
  {
   "cell_type": "code",
   "execution_count": 66,
   "metadata": {
    "ExecuteTime": {
     "end_time": "2019-06-17T02:36:37.197296Z",
     "start_time": "2019-06-17T02:36:08.451184Z"
    },
    "colab": {},
    "colab_type": "code",
    "id": "8wGvHTg-LtEb",
    "outputId": "dcc31f90-b0f8-4f5d-c835-25be80638e70"
   },
   "outputs": [
    {
     "name": "stdout",
     "output_type": "stream",
     "text": [
      "GB, Count Vectors    : 0.8140\n",
      "\n",
      "Wall time: 36.7 s\n"
     ]
    }
   ],
   "source": [
    "%%time\n",
    "# Gradient Boosting on Count Vectors\n",
    "accuracy1 = train_model(GradientBoostingClassifier(), X_train_count, y_train, X_test_count)\n",
    "print('GB, Count Vectors    : %.4f\\n' % accuracy1)"
   ]
  },
  {
   "cell_type": "code",
   "execution_count": 67,
   "metadata": {
    "ExecuteTime": {
     "end_time": "2019-06-17T02:36:52.852454Z",
     "start_time": "2019-06-17T02:36:37.714920Z"
    },
    "colab": {},
    "colab_type": "code",
    "id": "HJNwQf57LtEd",
    "outputId": "686abbc5-8745-4dca-c2e2-b665b9d19901"
   },
   "outputs": [
    {
     "name": "stdout",
     "output_type": "stream",
     "text": [
      "GB, WordLevel TF-IDF : 0.8055\n",
      "\n",
      "Wall time: 16.5 s\n"
     ]
    }
   ],
   "source": [
    "%%time\n",
    "# Gradient Boosting on Word Level TF IDF Vectors\n",
    "accuracy2 = train_model(GradientBoostingClassifier(), X_train_tfidf, y_train, X_test_tfidf)\n",
    "print('GB, WordLevel TF-IDF : %.4f\\n' % accuracy2)"
   ]
  },
  {
   "cell_type": "code",
   "execution_count": 68,
   "metadata": {
    "ExecuteTime": {
     "end_time": "2019-06-17T02:37:02.608379Z",
     "start_time": "2019-06-17T02:36:53.252355Z"
    },
    "colab": {},
    "colab_type": "code",
    "id": "iyPqLMgkLtEe",
    "outputId": "b7c87e04-f724-4ccf-e02e-28beb7e40654"
   },
   "outputs": [
    {
     "name": "stdout",
     "output_type": "stream",
     "text": [
      "GB, N-Gram Vectors   : 0.7305\n",
      "\n",
      "Wall time: 9.7 s\n"
     ]
    }
   ],
   "source": [
    "%%time\n",
    "# Gradient Boosting on Ngram Level TF IDF Vectors\n",
    "accuracy3 = train_model(GradientBoostingClassifier(), X_train_tfidf_ngram, y_train, X_test_tfidf_ngram)\n",
    "print('GB, N-Gram Vectors   : %.4f\\n' % accuracy3)"
   ]
  },
  {
   "cell_type": "code",
   "execution_count": 69,
   "metadata": {
    "ExecuteTime": {
     "end_time": "2019-06-17T02:39:14.314194Z",
     "start_time": "2019-06-17T02:37:03.039224Z"
    },
    "colab": {},
    "colab_type": "code",
    "id": "1KYdyatTLtEg",
    "outputId": "aa4f303e-76ff-47e6-a04f-7e311e1848ad"
   },
   "outputs": [
    {
     "name": "stdout",
     "output_type": "stream",
     "text": [
      "GB, CharLevel Vectors: 0.8120\n",
      "\n",
      "Wall time: 2min 35s\n"
     ]
    }
   ],
   "source": [
    "%%time\n",
    "# Gradient Boosting on Character Level TF IDF Vectors\n",
    "accuracy4 = train_model(GradientBoostingClassifier(), X_train_tfidf_ngram_chars, y_train, X_test_tfidf_ngram_chars)\n",
    "print('GB, CharLevel Vectors: %.4f\\n' % accuracy4)"
   ]
  },
  {
   "cell_type": "code",
   "execution_count": 70,
   "metadata": {
    "ExecuteTime": {
     "end_time": "2019-06-17T02:39:14.683222Z",
     "start_time": "2019-06-17T02:39:14.675213Z"
    },
    "colab": {},
    "colab_type": "code",
    "id": "AC0hWO59LtEj",
    "scrolled": true
   },
   "outputs": [],
   "source": [
    "results.loc['Gradient Boosting'] = {\n",
    "    'Count Vectors': accuracy1,\n",
    "    'WordLevel TF-IDF': accuracy2,\n",
    "    'N-Gram Vectors': accuracy3,\n",
    "    'CharLevel Vectors': accuracy4}"
   ]
  },
  {
   "cell_type": "code",
   "execution_count": 71,
   "metadata": {
    "ExecuteTime": {
     "end_time": "2019-06-17T02:39:15.024279Z",
     "start_time": "2019-06-17T02:39:15.010319Z"
    },
    "colab": {},
    "colab_type": "code",
    "id": "b9fY4J7XLtEk",
    "outputId": "ea4a8ddf-5b37-4cb9-da79-1920e1967b03"
   },
   "outputs": [
    {
     "data": {
      "text/html": [
       "<div>\n",
       "<style scoped>\n",
       "    .dataframe tbody tr th:only-of-type {\n",
       "        vertical-align: middle;\n",
       "    }\n",
       "\n",
       "    .dataframe tbody tr th {\n",
       "        vertical-align: top;\n",
       "    }\n",
       "\n",
       "    .dataframe thead th {\n",
       "        text-align: right;\n",
       "    }\n",
       "</style>\n",
       "<table border=\"1\" class=\"dataframe\">\n",
       "  <thead>\n",
       "    <tr style=\"text-align: right;\">\n",
       "      <th></th>\n",
       "      <th>Count Vectors</th>\n",
       "      <th>WordLevel TF-IDF</th>\n",
       "      <th>N-Gram Vectors</th>\n",
       "      <th>CharLevel Vectors</th>\n",
       "    </tr>\n",
       "  </thead>\n",
       "  <tbody>\n",
       "    <tr>\n",
       "      <th>Naïve Bayes</th>\n",
       "      <td>0.8475</td>\n",
       "      <td>0.8475</td>\n",
       "      <td>0.8450</td>\n",
       "      <td>0.8305</td>\n",
       "    </tr>\n",
       "    <tr>\n",
       "      <th>Logistic Regression</th>\n",
       "      <td>0.8675</td>\n",
       "      <td>0.8750</td>\n",
       "      <td>0.8430</td>\n",
       "      <td>0.8545</td>\n",
       "    </tr>\n",
       "    <tr>\n",
       "      <th>Support Vector Machine</th>\n",
       "      <td>0.8470</td>\n",
       "      <td>0.8675</td>\n",
       "      <td>0.8300</td>\n",
       "      <td>0.8520</td>\n",
       "    </tr>\n",
       "    <tr>\n",
       "      <th>Random Forest</th>\n",
       "      <td>0.8375</td>\n",
       "      <td>0.8395</td>\n",
       "      <td>0.7905</td>\n",
       "      <td>0.7965</td>\n",
       "    </tr>\n",
       "    <tr>\n",
       "      <th>Gradient Boosting</th>\n",
       "      <td>0.8140</td>\n",
       "      <td>0.8055</td>\n",
       "      <td>0.7305</td>\n",
       "      <td>0.8120</td>\n",
       "    </tr>\n",
       "  </tbody>\n",
       "</table>\n",
       "</div>"
      ],
      "text/plain": [
       "                        Count Vectors  WordLevel TF-IDF  N-Gram Vectors  \\\n",
       "Naïve Bayes                    0.8475            0.8475          0.8450   \n",
       "Logistic Regression            0.8675            0.8750          0.8430   \n",
       "Support Vector Machine         0.8470            0.8675          0.8300   \n",
       "Random Forest                  0.8375            0.8395          0.7905   \n",
       "Gradient Boosting              0.8140            0.8055          0.7305   \n",
       "\n",
       "                        CharLevel Vectors  \n",
       "Naïve Bayes                        0.8305  \n",
       "Logistic Regression                0.8545  \n",
       "Support Vector Machine             0.8520  \n",
       "Random Forest                      0.7965  \n",
       "Gradient Boosting                  0.8120  "
      ]
     },
     "execution_count": 71,
     "metadata": {},
     "output_type": "execute_result"
    }
   ],
   "source": [
    "results"
   ]
  },
  {
   "cell_type": "markdown",
   "metadata": {
    "colab_type": "text",
    "id": "RERADKgNFq9T"
   },
   "source": [
    "\n",
    "\n",
    "---\n",
    "\n",
    "\n",
    "\n",
    "---\n",
    "\n",
    "\n",
    "\n",
    "> > > > > > > > > © 2021 Institute of Data\n",
    "\n",
    "\n",
    "---\n",
    "\n",
    "\n",
    "\n",
    "---\n",
    "\n",
    "\n",
    "\n"
   ]
  }
 ],
 "metadata": {
  "colab": {
   "collapsed_sections": [
    "_Pck1cuvLtDH",
    "mQCAUFWYLtDb",
    "OXwLriDpLtDq",
    "-2oNfajULtD4",
    "q1wYto68LtEE",
    "gLGxWK0yLtEO"
   ],
   "name": "IOD_Lab-9_7.ipynb",
   "provenance": []
  },
  "kernelspec": {
   "display_name": "Python 3",
   "language": "python",
   "name": "python3"
  },
  "language_info": {
   "codemirror_mode": {
    "name": "ipython",
    "version": 3
   },
   "file_extension": ".py",
   "mimetype": "text/x-python",
   "name": "python",
   "nbconvert_exporter": "python",
   "pygments_lexer": "ipython3",
   "version": "3.8.5"
  },
  "varInspector": {
   "cols": {
    "lenName": 16,
    "lenType": 16,
    "lenVar": 40
   },
   "kernels_config": {
    "python": {
     "delete_cmd_postfix": "",
     "delete_cmd_prefix": "del ",
     "library": "var_list.py",
     "varRefreshCmd": "print(var_dic_list())"
    },
    "r": {
     "delete_cmd_postfix": ") ",
     "delete_cmd_prefix": "rm(",
     "library": "var_list.r",
     "varRefreshCmd": "cat(var_dic_list()) "
    }
   },
   "types_to_exclude": [
    "module",
    "function",
    "builtin_function_or_method",
    "instance",
    "_Feature"
   ],
   "window_display": false
  }
 },
 "nbformat": 4,
 "nbformat_minor": 1
}
